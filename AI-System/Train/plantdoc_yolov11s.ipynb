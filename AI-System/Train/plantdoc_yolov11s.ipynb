{
 "cells": [
  {
   "cell_type": "code",
   "execution_count": 1,
   "metadata": {},
   "outputs": [],
   "source": [
    "from ultralytics import YOLO"
   ]
  },
  {
   "cell_type": "code",
   "execution_count": 2,
   "metadata": {},
   "outputs": [
    {
     "name": "stdout",
     "output_type": "stream",
     "text": [
      "New https://pypi.org/project/ultralytics/8.3.44 available 😃 Update with 'pip install -U ultralytics'\n",
      "Ultralytics 8.3.23 🚀 Python-3.10.10 torch-2.2.1+cu121 CUDA:0 (NVIDIA L40S, 45596MiB)\n",
      "\u001b[34m\u001b[1mengine/trainer: \u001b[0mtask=detect, mode=train, model=yolo11n.yaml, data=/teamspace/studios/this_studio/Cleaned_without_cucumber/data.yaml, epochs=120, time=None, patience=100, batch=32, imgsz=640, save=True, save_period=30, cache=False, device=None, workers=8, project=None, name=train9, exist_ok=False, pretrained=True, optimizer=auto, verbose=True, seed=0, deterministic=True, single_cls=False, rect=False, cos_lr=False, close_mosaic=10, resume=False, amp=True, fraction=1.0, profile=False, freeze=None, multi_scale=False, overlap_mask=True, mask_ratio=4, dropout=0.2, val=True, split=val, save_json=False, save_hybrid=False, conf=None, iou=0.7, max_det=300, half=False, dnn=False, plots=True, source=None, vid_stride=1, stream_buffer=False, visualize=False, augment=False, agnostic_nms=False, classes=None, retina_masks=False, embed=None, show=False, save_frames=False, save_txt=False, save_conf=False, save_crop=False, show_labels=True, show_conf=True, show_boxes=True, line_width=None, format=torchscript, keras=False, optimize=False, int8=False, dynamic=False, simplify=True, opset=None, workspace=4, nms=False, lr0=0.01, lrf=0.01, momentum=0.937, weight_decay=0.0005, warmup_epochs=3.0, warmup_momentum=0.8, warmup_bias_lr=0.1, box=7.5, cls=0.5, dfl=1.5, pose=12.0, kobj=1.0, label_smoothing=0.0, nbs=64, hsv_h=0.015, hsv_s=0.7, hsv_v=0.4, degrees=0.0, translate=0.1, scale=0.5, shear=0.0, perspective=0.0, flipud=0.0, fliplr=0.5, bgr=0.0, mosaic=1.0, mixup=0.0, copy_paste=0.0, copy_paste_mode=flip, auto_augment=randaugment, erasing=0.4, crop_fraction=1.0, cfg=None, tracker=botsort.yaml, save_dir=runs/detect/train9\n",
      "Overriding model.yaml nc=80 with nc=12\n",
      "\n",
      "                   from  n    params  module                                       arguments                     \n",
      "  0                  -1  1       464  ultralytics.nn.modules.conv.Conv             [3, 16, 3, 2]                 \n",
      "  1                  -1  1      4672  ultralytics.nn.modules.conv.Conv             [16, 32, 3, 2]                \n",
      "  2                  -1  1      6640  ultralytics.nn.modules.block.C3k2            [32, 64, 1, False, 0.25]      \n",
      "  3                  -1  1     36992  ultralytics.nn.modules.conv.Conv             [64, 64, 3, 2]                \n",
      "  4                  -1  1     26080  ultralytics.nn.modules.block.C3k2            [64, 128, 1, False, 0.25]     \n",
      "  5                  -1  1    147712  ultralytics.nn.modules.conv.Conv             [128, 128, 3, 2]              \n",
      "  6                  -1  1     87040  ultralytics.nn.modules.block.C3k2            [128, 128, 1, True]           \n",
      "  7                  -1  1    295424  ultralytics.nn.modules.conv.Conv             [128, 256, 3, 2]              \n",
      "  8                  -1  1    346112  ultralytics.nn.modules.block.C3k2            [256, 256, 1, True]           \n",
      "  9                  -1  1    164608  ultralytics.nn.modules.block.SPPF            [256, 256, 5]                 \n",
      " 10                  -1  1    249728  ultralytics.nn.modules.block.C2PSA           [256, 256, 1]                 \n",
      " 11                  -1  1         0  torch.nn.modules.upsampling.Upsample         [None, 2, 'nearest']          \n",
      " 12             [-1, 6]  1         0  ultralytics.nn.modules.conv.Concat           [1]                           \n",
      " 13                  -1  1    111296  ultralytics.nn.modules.block.C3k2            [384, 128, 1, False]          \n",
      " 14                  -1  1         0  torch.nn.modules.upsampling.Upsample         [None, 2, 'nearest']          \n",
      " 15             [-1, 4]  1         0  ultralytics.nn.modules.conv.Concat           [1]                           \n",
      " 16                  -1  1     32096  ultralytics.nn.modules.block.C3k2            [256, 64, 1, False]           \n",
      " 17                  -1  1     36992  ultralytics.nn.modules.conv.Conv             [64, 64, 3, 2]                \n",
      " 18            [-1, 13]  1         0  ultralytics.nn.modules.conv.Concat           [1]                           \n",
      " 19                  -1  1     86720  ultralytics.nn.modules.block.C3k2            [192, 128, 1, False]          \n",
      " 20                  -1  1    147712  ultralytics.nn.modules.conv.Conv             [128, 128, 3, 2]              \n",
      " 21            [-1, 10]  1         0  ultralytics.nn.modules.conv.Concat           [1]                           \n",
      " 22                  -1  1    378880  ultralytics.nn.modules.block.C3k2            [384, 256, 1, True]           \n",
      " 23        [16, 19, 22]  1    433012  ultralytics.nn.modules.head.Detect           [12, [64, 128, 256]]          \n",
      "YOLO11n summary: 319 layers, 2,592,180 parameters, 2,592,164 gradients, 6.5 GFLOPs\n",
      "\n",
      "\u001b[34m\u001b[1mTensorBoard: \u001b[0mStart with 'tensorboard --logdir runs/detect/train9', view at http://localhost:6006/\n",
      "Freezing layer 'model.23.dfl.conv.weight'\n",
      "\u001b[34m\u001b[1mAMP: \u001b[0mrunning Automatic Mixed Precision (AMP) checks...\n",
      "\u001b[34m\u001b[1mAMP: \u001b[0mchecks passed ✅\n"
     ]
    },
    {
     "name": "stderr",
     "output_type": "stream",
     "text": [
      "\u001b[34m\u001b[1mtrain: \u001b[0mScanning /teamspace/studios/this_studio/Cleaned_without_cucumber/train/labels... 5998 images, 0 backgrounds, 0 corrupt: 100%|██████████| 5998/5998 [01:32<00:00, 64.75it/s] \n"
     ]
    },
    {
     "name": "stdout",
     "output_type": "stream",
     "text": [
      "\u001b[34m\u001b[1mtrain: \u001b[0mNew cache created: /teamspace/studios/this_studio/Cleaned_without_cucumber/train/labels.cache\n"
     ]
    },
    {
     "name": "stderr",
     "output_type": "stream",
     "text": [
      "\u001b[34m\u001b[1mval: \u001b[0mScanning /teamspace/studios/this_studio/Cleaned_without_cucumber/valid/labels... 923 images, 0 backgrounds, 0 corrupt: 100%|██████████| 923/923 [00:00<00:00, 1269.64it/s]"
     ]
    },
    {
     "name": "stdout",
     "output_type": "stream",
     "text": [
      "\u001b[34m\u001b[1mval: \u001b[0mNew cache created: /teamspace/studios/this_studio/Cleaned_without_cucumber/valid/labels.cache\n"
     ]
    },
    {
     "name": "stderr",
     "output_type": "stream",
     "text": [
      "\n"
     ]
    },
    {
     "name": "stdout",
     "output_type": "stream",
     "text": [
      "Plotting labels to runs/detect/train9/labels.jpg... \n",
      "\u001b[34m\u001b[1moptimizer:\u001b[0m 'optimizer=auto' found, ignoring 'lr0=0.01' and 'momentum=0.937' and determining best 'optimizer', 'lr0' and 'momentum' automatically... \n",
      "\u001b[34m\u001b[1moptimizer:\u001b[0m SGD(lr=0.01, momentum=0.9) with parameter groups 81 weight(decay=0.0), 88 weight(decay=0.0005), 87 bias(decay=0.0)\n",
      "\u001b[34m\u001b[1mTensorBoard: \u001b[0mmodel graph visualization added ✅\n",
      "Image sizes 640 train, 640 val\n",
      "Using 8 dataloader workers\n",
      "Logging results to \u001b[1mruns/detect/train9\u001b[0m\n",
      "Starting training for 120 epochs...\n",
      "\n",
      "      Epoch    GPU_mem   box_loss   cls_loss   dfl_loss  Instances       Size\n"
     ]
    },
    {
     "name": "stderr",
     "output_type": "stream",
     "text": [
      "      1/120      5.18G      2.987      4.308      4.176         47        640: 100%|██████████| 188/188 [00:21<00:00,  8.68it/s]\n",
      "                 Class     Images  Instances      Box(P          R      mAP50  mAP50-95): 100%|██████████| 15/15 [00:03<00:00,  4.66it/s]"
     ]
    },
    {
     "name": "stdout",
     "output_type": "stream",
     "text": [
      "                   all        923        923    0.00297      0.625    0.00358   0.000609\n"
     ]
    },
    {
     "name": "stderr",
     "output_type": "stream",
     "text": [
      "\n"
     ]
    },
    {
     "name": "stdout",
     "output_type": "stream",
     "text": [
      "\n",
      "      Epoch    GPU_mem   box_loss   cls_loss   dfl_loss  Instances       Size\n"
     ]
    },
    {
     "name": "stderr",
     "output_type": "stream",
     "text": [
      "      2/120      5.01G      2.042      3.625       2.88         47        640: 100%|██████████| 188/188 [00:19<00:00,  9.72it/s]\n",
      "                 Class     Images  Instances      Box(P          R      mAP50  mAP50-95): 100%|██████████| 15/15 [00:02<00:00,  5.89it/s]"
     ]
    },
    {
     "name": "stdout",
     "output_type": "stream",
     "text": [
      "                   all        923        923      0.205      0.292     0.0427     0.0188\n"
     ]
    },
    {
     "name": "stderr",
     "output_type": "stream",
     "text": [
      "\n"
     ]
    },
    {
     "name": "stdout",
     "output_type": "stream",
     "text": [
      "\n",
      "      Epoch    GPU_mem   box_loss   cls_loss   dfl_loss  Instances       Size\n"
     ]
    },
    {
     "name": "stderr",
     "output_type": "stream",
     "text": [
      "      3/120      5.01G     0.8773      2.541      1.551         50        640: 100%|██████████| 188/188 [00:18<00:00, 10.19it/s]\n",
      "                 Class     Images  Instances      Box(P          R      mAP50  mAP50-95): 100%|██████████| 15/15 [00:02<00:00,  6.11it/s]"
     ]
    },
    {
     "name": "stdout",
     "output_type": "stream",
     "text": [
      "                   all        923        923      0.278      0.482      0.113      0.108\n"
     ]
    },
    {
     "name": "stderr",
     "output_type": "stream",
     "text": [
      "\n"
     ]
    },
    {
     "name": "stdout",
     "output_type": "stream",
     "text": [
      "\n",
      "      Epoch    GPU_mem   box_loss   cls_loss   dfl_loss  Instances       Size\n"
     ]
    },
    {
     "name": "stderr",
     "output_type": "stream",
     "text": [
      "      4/120         5G      0.447       2.07      1.087         44        640: 100%|██████████| 188/188 [00:18<00:00, 10.16it/s]\n",
      "                 Class     Images  Instances      Box(P          R      mAP50  mAP50-95): 100%|██████████| 15/15 [00:02<00:00,  6.14it/s]"
     ]
    },
    {
     "name": "stdout",
     "output_type": "stream",
     "text": [
      "                   all        923        923      0.197       0.58      0.184      0.183\n"
     ]
    },
    {
     "name": "stderr",
     "output_type": "stream",
     "text": [
      "\n"
     ]
    },
    {
     "name": "stdout",
     "output_type": "stream",
     "text": [
      "\n",
      "      Epoch    GPU_mem   box_loss   cls_loss   dfl_loss  Instances       Size\n"
     ]
    },
    {
     "name": "stderr",
     "output_type": "stream",
     "text": [
      "      5/120         5G     0.3186      1.791      0.995         36        640: 100%|██████████| 188/188 [00:18<00:00, 10.14it/s]\n",
      "                 Class     Images  Instances      Box(P          R      mAP50  mAP50-95): 100%|██████████| 15/15 [00:02<00:00,  6.07it/s]"
     ]
    },
    {
     "name": "stdout",
     "output_type": "stream",
     "text": [
      "                   all        923        923      0.304      0.604      0.262      0.261\n"
     ]
    },
    {
     "name": "stderr",
     "output_type": "stream",
     "text": [
      "\n"
     ]
    },
    {
     "name": "stdout",
     "output_type": "stream",
     "text": [
      "\n",
      "      Epoch    GPU_mem   box_loss   cls_loss   dfl_loss  Instances       Size\n"
     ]
    },
    {
     "name": "stderr",
     "output_type": "stream",
     "text": [
      "      6/120         5G      0.263      1.645     0.9635         38        640: 100%|██████████| 188/188 [00:18<00:00, 10.10it/s]\n",
      "                 Class     Images  Instances      Box(P          R      mAP50  mAP50-95): 100%|██████████| 15/15 [00:02<00:00,  5.98it/s]"
     ]
    },
    {
     "name": "stdout",
     "output_type": "stream",
     "text": [
      "                   all        923        923      0.235      0.599      0.225       0.22\n"
     ]
    },
    {
     "name": "stderr",
     "output_type": "stream",
     "text": [
      "\n"
     ]
    },
    {
     "name": "stdout",
     "output_type": "stream",
     "text": [
      "\n",
      "      Epoch    GPU_mem   box_loss   cls_loss   dfl_loss  Instances       Size\n"
     ]
    },
    {
     "name": "stderr",
     "output_type": "stream",
     "text": [
      "      7/120         5G     0.2423      1.504     0.9488         40        640: 100%|██████████| 188/188 [00:18<00:00, 10.08it/s]\n",
      "                 Class     Images  Instances      Box(P          R      mAP50  mAP50-95): 100%|██████████| 15/15 [00:02<00:00,  6.12it/s]"
     ]
    },
    {
     "name": "stdout",
     "output_type": "stream",
     "text": [
      "                   all        923        923      0.403      0.527      0.464      0.463\n"
     ]
    },
    {
     "name": "stderr",
     "output_type": "stream",
     "text": [
      "\n"
     ]
    },
    {
     "name": "stdout",
     "output_type": "stream",
     "text": [
      "\n",
      "      Epoch    GPU_mem   box_loss   cls_loss   dfl_loss  Instances       Size\n"
     ]
    },
    {
     "name": "stderr",
     "output_type": "stream",
     "text": [
      "      8/120         5G     0.2237      1.292     0.9374         50        640: 100%|██████████| 188/188 [00:18<00:00, 10.05it/s]\n",
      "                 Class     Images  Instances      Box(P          R      mAP50  mAP50-95): 100%|██████████| 15/15 [00:02<00:00,  6.11it/s]"
     ]
    },
    {
     "name": "stdout",
     "output_type": "stream",
     "text": [
      "                   all        923        923      0.454      0.574      0.509      0.496\n"
     ]
    },
    {
     "name": "stderr",
     "output_type": "stream",
     "text": [
      "\n"
     ]
    },
    {
     "name": "stdout",
     "output_type": "stream",
     "text": [
      "\n",
      "      Epoch    GPU_mem   box_loss   cls_loss   dfl_loss  Instances       Size\n"
     ]
    },
    {
     "name": "stderr",
     "output_type": "stream",
     "text": [
      "      9/120         5G     0.2116      1.145     0.9317         45        640: 100%|██████████| 188/188 [00:18<00:00, 10.21it/s]\n",
      "                 Class     Images  Instances      Box(P          R      mAP50  mAP50-95): 100%|██████████| 15/15 [00:02<00:00,  6.22it/s]"
     ]
    },
    {
     "name": "stdout",
     "output_type": "stream",
     "text": [
      "                   all        923        923       0.55      0.623      0.608      0.597\n"
     ]
    },
    {
     "name": "stderr",
     "output_type": "stream",
     "text": [
      "\n"
     ]
    },
    {
     "name": "stdout",
     "output_type": "stream",
     "text": [
      "\n",
      "      Epoch    GPU_mem   box_loss   cls_loss   dfl_loss  Instances       Size\n"
     ]
    },
    {
     "name": "stderr",
     "output_type": "stream",
     "text": [
      "     10/120         5G     0.1968      1.009     0.9254         45        640: 100%|██████████| 188/188 [00:18<00:00, 10.20it/s]\n",
      "                 Class     Images  Instances      Box(P          R      mAP50  mAP50-95): 100%|██████████| 15/15 [00:02<00:00,  6.08it/s]"
     ]
    },
    {
     "name": "stdout",
     "output_type": "stream",
     "text": [
      "                   all        923        923      0.695      0.654      0.665      0.648\n"
     ]
    },
    {
     "name": "stderr",
     "output_type": "stream",
     "text": [
      "\n"
     ]
    },
    {
     "name": "stdout",
     "output_type": "stream",
     "text": [
      "\n",
      "      Epoch    GPU_mem   box_loss   cls_loss   dfl_loss  Instances       Size\n"
     ]
    },
    {
     "name": "stderr",
     "output_type": "stream",
     "text": [
      "     11/120         5G     0.1881     0.9082     0.9198         42        640: 100%|██████████| 188/188 [00:18<00:00, 10.20it/s]\n",
      "                 Class     Images  Instances      Box(P          R      mAP50  mAP50-95): 100%|██████████| 15/15 [00:02<00:00,  6.26it/s]"
     ]
    },
    {
     "name": "stdout",
     "output_type": "stream",
     "text": [
      "                   all        923        923       0.67      0.615      0.677      0.663\n"
     ]
    },
    {
     "name": "stderr",
     "output_type": "stream",
     "text": [
      "\n"
     ]
    },
    {
     "name": "stdout",
     "output_type": "stream",
     "text": [
      "\n",
      "      Epoch    GPU_mem   box_loss   cls_loss   dfl_loss  Instances       Size\n"
     ]
    },
    {
     "name": "stderr",
     "output_type": "stream",
     "text": [
      "     12/120         5G     0.1781     0.8391     0.9191         37        640: 100%|██████████| 188/188 [00:18<00:00, 10.16it/s]\n",
      "                 Class     Images  Instances      Box(P          R      mAP50  mAP50-95): 100%|██████████| 15/15 [00:02<00:00,  6.33it/s]"
     ]
    },
    {
     "name": "stdout",
     "output_type": "stream",
     "text": [
      "                   all        923        923       0.75      0.647      0.726      0.708\n"
     ]
    },
    {
     "name": "stderr",
     "output_type": "stream",
     "text": [
      "\n"
     ]
    },
    {
     "name": "stdout",
     "output_type": "stream",
     "text": [
      "\n",
      "      Epoch    GPU_mem   box_loss   cls_loss   dfl_loss  Instances       Size\n"
     ]
    },
    {
     "name": "stderr",
     "output_type": "stream",
     "text": [
      "     13/120         5G     0.1762     0.7862     0.9179         46        640: 100%|██████████| 188/188 [00:18<00:00, 10.14it/s]\n",
      "                 Class     Images  Instances      Box(P          R      mAP50  mAP50-95): 100%|██████████| 15/15 [00:02<00:00,  6.21it/s]"
     ]
    },
    {
     "name": "stdout",
     "output_type": "stream",
     "text": [
      "                   all        923        923      0.721      0.647      0.739      0.737\n"
     ]
    },
    {
     "name": "stderr",
     "output_type": "stream",
     "text": [
      "\n"
     ]
    },
    {
     "name": "stdout",
     "output_type": "stream",
     "text": [
      "\n",
      "      Epoch    GPU_mem   box_loss   cls_loss   dfl_loss  Instances       Size\n"
     ]
    },
    {
     "name": "stderr",
     "output_type": "stream",
     "text": [
      "     14/120         5G     0.1654     0.7292     0.9147         48        640: 100%|██████████| 188/188 [00:18<00:00, 10.22it/s]\n",
      "                 Class     Images  Instances      Box(P          R      mAP50  mAP50-95): 100%|██████████| 15/15 [00:02<00:00,  6.24it/s]"
     ]
    },
    {
     "name": "stdout",
     "output_type": "stream",
     "text": [
      "                   all        923        923      0.727      0.675      0.745      0.741\n"
     ]
    },
    {
     "name": "stderr",
     "output_type": "stream",
     "text": [
      "\n"
     ]
    },
    {
     "name": "stdout",
     "output_type": "stream",
     "text": [
      "\n",
      "      Epoch    GPU_mem   box_loss   cls_loss   dfl_loss  Instances       Size\n"
     ]
    },
    {
     "name": "stderr",
     "output_type": "stream",
     "text": [
      "     15/120         5G      0.158     0.7022     0.9091         44        640: 100%|██████████| 188/188 [00:18<00:00, 10.20it/s]\n",
      "                 Class     Images  Instances      Box(P          R      mAP50  mAP50-95): 100%|██████████| 15/15 [00:02<00:00,  6.22it/s]"
     ]
    },
    {
     "name": "stdout",
     "output_type": "stream",
     "text": [
      "                   all        923        923      0.771      0.739       0.83       0.83\n"
     ]
    },
    {
     "name": "stderr",
     "output_type": "stream",
     "text": [
      "\n"
     ]
    },
    {
     "name": "stdout",
     "output_type": "stream",
     "text": [
      "\n",
      "      Epoch    GPU_mem   box_loss   cls_loss   dfl_loss  Instances       Size\n"
     ]
    },
    {
     "name": "stderr",
     "output_type": "stream",
     "text": [
      "     16/120         5G     0.1542     0.6707     0.9107         38        640: 100%|██████████| 188/188 [00:18<00:00, 10.19it/s]\n",
      "                 Class     Images  Instances      Box(P          R      mAP50  mAP50-95): 100%|██████████| 15/15 [00:02<00:00,  6.35it/s]"
     ]
    },
    {
     "name": "stdout",
     "output_type": "stream",
     "text": [
      "                   all        923        923      0.779       0.74        0.8      0.799\n"
     ]
    },
    {
     "name": "stderr",
     "output_type": "stream",
     "text": [
      "\n"
     ]
    },
    {
     "name": "stdout",
     "output_type": "stream",
     "text": [
      "\n",
      "      Epoch    GPU_mem   box_loss   cls_loss   dfl_loss  Instances       Size\n"
     ]
    },
    {
     "name": "stderr",
     "output_type": "stream",
     "text": [
      "     17/120         5G     0.1495      0.642     0.9092         38        640: 100%|██████████| 188/188 [00:18<00:00, 10.13it/s]\n",
      "                 Class     Images  Instances      Box(P          R      mAP50  mAP50-95): 100%|██████████| 15/15 [00:02<00:00,  6.02it/s]"
     ]
    },
    {
     "name": "stdout",
     "output_type": "stream",
     "text": [
      "                   all        923        923      0.802      0.755      0.839      0.838\n"
     ]
    },
    {
     "name": "stderr",
     "output_type": "stream",
     "text": [
      "\n"
     ]
    },
    {
     "name": "stdout",
     "output_type": "stream",
     "text": [
      "\n",
      "      Epoch    GPU_mem   box_loss   cls_loss   dfl_loss  Instances       Size\n"
     ]
    },
    {
     "name": "stderr",
     "output_type": "stream",
     "text": [
      "     18/120         5G     0.1439      0.621     0.9112         47        640: 100%|██████████| 188/188 [00:18<00:00, 10.18it/s]\n",
      "                 Class     Images  Instances      Box(P          R      mAP50  mAP50-95): 100%|██████████| 15/15 [00:02<00:00,  6.31it/s]"
     ]
    },
    {
     "name": "stdout",
     "output_type": "stream",
     "text": [
      "                   all        923        923      0.743      0.836      0.863      0.863\n"
     ]
    },
    {
     "name": "stderr",
     "output_type": "stream",
     "text": [
      "\n"
     ]
    },
    {
     "name": "stdout",
     "output_type": "stream",
     "text": [
      "\n",
      "      Epoch    GPU_mem   box_loss   cls_loss   dfl_loss  Instances       Size\n"
     ]
    },
    {
     "name": "stderr",
     "output_type": "stream",
     "text": [
      "     19/120         5G     0.1429     0.5992     0.9096         41        640: 100%|██████████| 188/188 [00:19<00:00,  9.78it/s]\n",
      "                 Class     Images  Instances      Box(P          R      mAP50  mAP50-95): 100%|██████████| 15/15 [00:02<00:00,  6.18it/s]"
     ]
    },
    {
     "name": "stdout",
     "output_type": "stream",
     "text": [
      "                   all        923        923      0.811      0.787      0.853       0.85\n"
     ]
    },
    {
     "name": "stderr",
     "output_type": "stream",
     "text": [
      "\n"
     ]
    },
    {
     "name": "stdout",
     "output_type": "stream",
     "text": [
      "\n",
      "      Epoch    GPU_mem   box_loss   cls_loss   dfl_loss  Instances       Size\n"
     ]
    },
    {
     "name": "stderr",
     "output_type": "stream",
     "text": [
      "     20/120         5G     0.1375     0.5842     0.9058         40        640: 100%|██████████| 188/188 [00:19<00:00,  9.67it/s]\n",
      "                 Class     Images  Instances      Box(P          R      mAP50  mAP50-95): 100%|██████████| 15/15 [00:02<00:00,  6.03it/s]"
     ]
    },
    {
     "name": "stdout",
     "output_type": "stream",
     "text": [
      "                   all        923        923      0.726      0.823      0.838      0.836\n"
     ]
    },
    {
     "name": "stderr",
     "output_type": "stream",
     "text": [
      "\n"
     ]
    },
    {
     "name": "stdout",
     "output_type": "stream",
     "text": [
      "\n",
      "      Epoch    GPU_mem   box_loss   cls_loss   dfl_loss  Instances       Size\n"
     ]
    },
    {
     "name": "stderr",
     "output_type": "stream",
     "text": [
      "     21/120         5G     0.1339     0.5718     0.9049         39        640: 100%|██████████| 188/188 [00:18<00:00,  9.92it/s]\n",
      "                 Class     Images  Instances      Box(P          R      mAP50  mAP50-95): 100%|██████████| 15/15 [00:02<00:00,  6.08it/s]"
     ]
    },
    {
     "name": "stdout",
     "output_type": "stream",
     "text": [
      "                   all        923        923      0.796      0.842       0.87      0.868\n"
     ]
    },
    {
     "name": "stderr",
     "output_type": "stream",
     "text": [
      "\n"
     ]
    },
    {
     "name": "stdout",
     "output_type": "stream",
     "text": [
      "\n",
      "      Epoch    GPU_mem   box_loss   cls_loss   dfl_loss  Instances       Size\n"
     ]
    },
    {
     "name": "stderr",
     "output_type": "stream",
     "text": [
      "     22/120         5G     0.1288     0.5547     0.9044         43        640: 100%|██████████| 188/188 [00:18<00:00,  9.92it/s]\n",
      "                 Class     Images  Instances      Box(P          R      mAP50  mAP50-95): 100%|██████████| 15/15 [00:02<00:00,  6.37it/s]"
     ]
    },
    {
     "name": "stdout",
     "output_type": "stream",
     "text": [
      "                   all        923        923      0.822       0.82      0.863      0.863\n"
     ]
    },
    {
     "name": "stderr",
     "output_type": "stream",
     "text": [
      "\n"
     ]
    },
    {
     "name": "stdout",
     "output_type": "stream",
     "text": [
      "\n",
      "      Epoch    GPU_mem   box_loss   cls_loss   dfl_loss  Instances       Size\n"
     ]
    },
    {
     "name": "stderr",
     "output_type": "stream",
     "text": [
      "     23/120         5G     0.1276     0.5321     0.9036         47        640: 100%|██████████| 188/188 [00:19<00:00,  9.86it/s]\n",
      "                 Class     Images  Instances      Box(P          R      mAP50  mAP50-95): 100%|██████████| 15/15 [00:02<00:00,  6.10it/s]"
     ]
    },
    {
     "name": "stdout",
     "output_type": "stream",
     "text": [
      "                   all        923        923       0.73      0.729      0.812      0.812\n"
     ]
    },
    {
     "name": "stderr",
     "output_type": "stream",
     "text": [
      "\n"
     ]
    },
    {
     "name": "stdout",
     "output_type": "stream",
     "text": [
      "\n",
      "      Epoch    GPU_mem   box_loss   cls_loss   dfl_loss  Instances       Size\n"
     ]
    },
    {
     "name": "stderr",
     "output_type": "stream",
     "text": [
      "     24/120         5G     0.1243     0.5262     0.9068         36        640: 100%|██████████| 188/188 [00:18<00:00,  9.97it/s]\n",
      "                 Class     Images  Instances      Box(P          R      mAP50  mAP50-95): 100%|██████████| 15/15 [00:02<00:00,  6.04it/s]"
     ]
    },
    {
     "name": "stdout",
     "output_type": "stream",
     "text": [
      "                   all        923        923      0.737      0.787       0.85      0.849\n"
     ]
    },
    {
     "name": "stderr",
     "output_type": "stream",
     "text": [
      "\n"
     ]
    },
    {
     "name": "stdout",
     "output_type": "stream",
     "text": [
      "\n",
      "      Epoch    GPU_mem   box_loss   cls_loss   dfl_loss  Instances       Size\n"
     ]
    },
    {
     "name": "stderr",
     "output_type": "stream",
     "text": [
      "     25/120         5G     0.1216     0.5162     0.9021         50        640: 100%|██████████| 188/188 [00:19<00:00,  9.86it/s]\n",
      "                 Class     Images  Instances      Box(P          R      mAP50  mAP50-95): 100%|██████████| 15/15 [00:02<00:00,  6.53it/s]"
     ]
    },
    {
     "name": "stdout",
     "output_type": "stream",
     "text": [
      "                   all        923        923      0.759      0.807      0.851      0.851\n"
     ]
    },
    {
     "name": "stderr",
     "output_type": "stream",
     "text": [
      "\n"
     ]
    },
    {
     "name": "stdout",
     "output_type": "stream",
     "text": [
      "\n",
      "      Epoch    GPU_mem   box_loss   cls_loss   dfl_loss  Instances       Size\n"
     ]
    },
    {
     "name": "stderr",
     "output_type": "stream",
     "text": [
      "     26/120         5G     0.1197     0.5206     0.9022         43        640: 100%|██████████| 188/188 [00:18<00:00,  9.96it/s]\n",
      "                 Class     Images  Instances      Box(P          R      mAP50  mAP50-95): 100%|██████████| 15/15 [00:02<00:00,  6.16it/s]"
     ]
    },
    {
     "name": "stdout",
     "output_type": "stream",
     "text": [
      "                   all        923        923       0.77      0.826      0.867      0.867\n"
     ]
    },
    {
     "name": "stderr",
     "output_type": "stream",
     "text": [
      "\n"
     ]
    },
    {
     "name": "stdout",
     "output_type": "stream",
     "text": [
      "\n",
      "      Epoch    GPU_mem   box_loss   cls_loss   dfl_loss  Instances       Size\n"
     ]
    },
    {
     "name": "stderr",
     "output_type": "stream",
     "text": [
      "     27/120         5G     0.1165     0.4887     0.8995         41        640: 100%|██████████| 188/188 [00:18<00:00,  9.99it/s]\n",
      "                 Class     Images  Instances      Box(P          R      mAP50  mAP50-95): 100%|██████████| 15/15 [00:02<00:00,  6.03it/s]"
     ]
    },
    {
     "name": "stdout",
     "output_type": "stream",
     "text": [
      "                   all        923        923      0.829      0.821      0.875       0.87\n"
     ]
    },
    {
     "name": "stderr",
     "output_type": "stream",
     "text": [
      "\n"
     ]
    },
    {
     "name": "stdout",
     "output_type": "stream",
     "text": [
      "\n",
      "      Epoch    GPU_mem   box_loss   cls_loss   dfl_loss  Instances       Size\n"
     ]
    },
    {
     "name": "stderr",
     "output_type": "stream",
     "text": [
      "     28/120         5G     0.1151     0.4878     0.9002         50        640: 100%|██████████| 188/188 [00:18<00:00,  9.95it/s]\n",
      "                 Class     Images  Instances      Box(P          R      mAP50  mAP50-95): 100%|██████████| 15/15 [00:02<00:00,  6.15it/s]"
     ]
    },
    {
     "name": "stdout",
     "output_type": "stream",
     "text": [
      "                   all        923        923      0.836      0.839      0.879       0.87\n"
     ]
    },
    {
     "name": "stderr",
     "output_type": "stream",
     "text": [
      "\n"
     ]
    },
    {
     "name": "stdout",
     "output_type": "stream",
     "text": [
      "\n",
      "      Epoch    GPU_mem   box_loss   cls_loss   dfl_loss  Instances       Size\n"
     ]
    },
    {
     "name": "stderr",
     "output_type": "stream",
     "text": [
      "     29/120         5G     0.1116     0.4842      0.903         43        640: 100%|██████████| 188/188 [00:18<00:00, 10.04it/s]\n",
      "                 Class     Images  Instances      Box(P          R      mAP50  mAP50-95): 100%|██████████| 15/15 [00:02<00:00,  6.28it/s]"
     ]
    },
    {
     "name": "stdout",
     "output_type": "stream",
     "text": [
      "                   all        923        923      0.757      0.819      0.863      0.862\n"
     ]
    },
    {
     "name": "stderr",
     "output_type": "stream",
     "text": [
      "\n"
     ]
    },
    {
     "name": "stdout",
     "output_type": "stream",
     "text": [
      "\n",
      "      Epoch    GPU_mem   box_loss   cls_loss   dfl_loss  Instances       Size\n"
     ]
    },
    {
     "name": "stderr",
     "output_type": "stream",
     "text": [
      "     30/120         5G       0.11     0.4587     0.9001         43        640: 100%|██████████| 188/188 [00:19<00:00,  9.87it/s]\n",
      "                 Class     Images  Instances      Box(P          R      mAP50  mAP50-95): 100%|██████████| 15/15 [00:02<00:00,  5.98it/s]"
     ]
    },
    {
     "name": "stdout",
     "output_type": "stream",
     "text": [
      "                   all        923        923      0.832      0.824      0.871       0.87\n"
     ]
    },
    {
     "name": "stderr",
     "output_type": "stream",
     "text": [
      "\n"
     ]
    },
    {
     "name": "stdout",
     "output_type": "stream",
     "text": [
      "\n",
      "      Epoch    GPU_mem   box_loss   cls_loss   dfl_loss  Instances       Size\n"
     ]
    },
    {
     "name": "stderr",
     "output_type": "stream",
     "text": [
      "     31/120         5G     0.1086     0.4655     0.9011         42        640: 100%|██████████| 188/188 [00:18<00:00,  9.93it/s]\n",
      "                 Class     Images  Instances      Box(P          R      mAP50  mAP50-95): 100%|██████████| 15/15 [00:02<00:00,  6.19it/s]"
     ]
    },
    {
     "name": "stdout",
     "output_type": "stream",
     "text": [
      "                   all        923        923      0.834      0.821      0.881      0.881\n"
     ]
    },
    {
     "name": "stderr",
     "output_type": "stream",
     "text": [
      "\n"
     ]
    },
    {
     "name": "stdout",
     "output_type": "stream",
     "text": [
      "\n",
      "      Epoch    GPU_mem   box_loss   cls_loss   dfl_loss  Instances       Size\n"
     ]
    },
    {
     "name": "stderr",
     "output_type": "stream",
     "text": [
      "     32/120         5G     0.1048     0.4548     0.9015         36        640: 100%|██████████| 188/188 [00:19<00:00,  9.84it/s]\n",
      "                 Class     Images  Instances      Box(P          R      mAP50  mAP50-95): 100%|██████████| 15/15 [00:02<00:00,  6.33it/s]"
     ]
    },
    {
     "name": "stdout",
     "output_type": "stream",
     "text": [
      "                   all        923        923       0.85      0.859      0.892      0.892\n"
     ]
    },
    {
     "name": "stderr",
     "output_type": "stream",
     "text": [
      "\n"
     ]
    },
    {
     "name": "stdout",
     "output_type": "stream",
     "text": [
      "\n",
      "      Epoch    GPU_mem   box_loss   cls_loss   dfl_loss  Instances       Size\n"
     ]
    },
    {
     "name": "stderr",
     "output_type": "stream",
     "text": [
      "     33/120         5G     0.1043     0.4468     0.8992         46        640: 100%|██████████| 188/188 [00:18<00:00,  9.95it/s]\n",
      "                 Class     Images  Instances      Box(P          R      mAP50  mAP50-95): 100%|██████████| 15/15 [00:02<00:00,  6.26it/s]"
     ]
    },
    {
     "name": "stdout",
     "output_type": "stream",
     "text": [
      "                   all        923        923      0.832      0.843      0.884      0.883\n"
     ]
    },
    {
     "name": "stderr",
     "output_type": "stream",
     "text": [
      "\n"
     ]
    },
    {
     "name": "stdout",
     "output_type": "stream",
     "text": [
      "\n",
      "      Epoch    GPU_mem   box_loss   cls_loss   dfl_loss  Instances       Size\n"
     ]
    },
    {
     "name": "stderr",
     "output_type": "stream",
     "text": [
      "     34/120         5G      0.103     0.4457     0.8986         48        640: 100%|██████████| 188/188 [00:18<00:00,  9.99it/s]\n",
      "                 Class     Images  Instances      Box(P          R      mAP50  mAP50-95): 100%|██████████| 15/15 [00:02<00:00,  6.12it/s]"
     ]
    },
    {
     "name": "stdout",
     "output_type": "stream",
     "text": [
      "                   all        923        923      0.862      0.856      0.896      0.896\n"
     ]
    },
    {
     "name": "stderr",
     "output_type": "stream",
     "text": [
      "\n"
     ]
    },
    {
     "name": "stdout",
     "output_type": "stream",
     "text": [
      "\n",
      "      Epoch    GPU_mem   box_loss   cls_loss   dfl_loss  Instances       Size\n"
     ]
    },
    {
     "name": "stderr",
     "output_type": "stream",
     "text": [
      "     35/120         5G        inf     0.4422     0.8967         44        640: 100%|██████████| 188/188 [00:19<00:00,  9.83it/s]\n",
      "                 Class     Images  Instances      Box(P          R      mAP50  mAP50-95): 100%|██████████| 15/15 [00:02<00:00,  6.31it/s]"
     ]
    },
    {
     "name": "stdout",
     "output_type": "stream",
     "text": [
      "                   all        923        923      0.846      0.875      0.896      0.896\n"
     ]
    },
    {
     "name": "stderr",
     "output_type": "stream",
     "text": [
      "\n"
     ]
    },
    {
     "name": "stdout",
     "output_type": "stream",
     "text": [
      "\n",
      "      Epoch    GPU_mem   box_loss   cls_loss   dfl_loss  Instances       Size\n"
     ]
    },
    {
     "name": "stderr",
     "output_type": "stream",
     "text": [
      "     36/120         5G    0.09928     0.4194     0.8978         47        640: 100%|██████████| 188/188 [00:19<00:00,  9.86it/s]\n",
      "                 Class     Images  Instances      Box(P          R      mAP50  mAP50-95): 100%|██████████| 15/15 [00:02<00:00,  6.23it/s]"
     ]
    },
    {
     "name": "stdout",
     "output_type": "stream",
     "text": [
      "                   all        923        923      0.864      0.842      0.889      0.889\n"
     ]
    },
    {
     "name": "stderr",
     "output_type": "stream",
     "text": [
      "\n"
     ]
    },
    {
     "name": "stdout",
     "output_type": "stream",
     "text": [
      "\n",
      "      Epoch    GPU_mem   box_loss   cls_loss   dfl_loss  Instances       Size\n"
     ]
    },
    {
     "name": "stderr",
     "output_type": "stream",
     "text": [
      "     37/120         5G    0.09917     0.4183     0.8945         41        640: 100%|██████████| 188/188 [00:18<00:00,  9.95it/s]\n",
      "                 Class     Images  Instances      Box(P          R      mAP50  mAP50-95): 100%|██████████| 15/15 [00:02<00:00,  6.22it/s]"
     ]
    },
    {
     "name": "stdout",
     "output_type": "stream",
     "text": [
      "                   all        923        923      0.807      0.854      0.878      0.878\n"
     ]
    },
    {
     "name": "stderr",
     "output_type": "stream",
     "text": [
      "\n"
     ]
    },
    {
     "name": "stdout",
     "output_type": "stream",
     "text": [
      "\n",
      "      Epoch    GPU_mem   box_loss   cls_loss   dfl_loss  Instances       Size\n"
     ]
    },
    {
     "name": "stderr",
     "output_type": "stream",
     "text": [
      "     38/120         5G    0.09738     0.4124     0.8951         41        640: 100%|██████████| 188/188 [00:18<00:00,  9.93it/s]\n",
      "                 Class     Images  Instances      Box(P          R      mAP50  mAP50-95): 100%|██████████| 15/15 [00:02<00:00,  6.05it/s]"
     ]
    },
    {
     "name": "stdout",
     "output_type": "stream",
     "text": [
      "                   all        923        923      0.816      0.851      0.894      0.893\n"
     ]
    },
    {
     "name": "stderr",
     "output_type": "stream",
     "text": [
      "\n"
     ]
    },
    {
     "name": "stdout",
     "output_type": "stream",
     "text": [
      "\n",
      "      Epoch    GPU_mem   box_loss   cls_loss   dfl_loss  Instances       Size\n"
     ]
    },
    {
     "name": "stderr",
     "output_type": "stream",
     "text": [
      "     39/120         5G    0.09441     0.4111     0.8989         40        640: 100%|██████████| 188/188 [00:18<00:00,  9.92it/s]\n",
      "                 Class     Images  Instances      Box(P          R      mAP50  mAP50-95): 100%|██████████| 15/15 [00:02<00:00,  6.31it/s]"
     ]
    },
    {
     "name": "stdout",
     "output_type": "stream",
     "text": [
      "                   all        923        923      0.856      0.865      0.895      0.895\n"
     ]
    },
    {
     "name": "stderr",
     "output_type": "stream",
     "text": [
      "\n"
     ]
    },
    {
     "name": "stdout",
     "output_type": "stream",
     "text": [
      "\n",
      "      Epoch    GPU_mem   box_loss   cls_loss   dfl_loss  Instances       Size\n"
     ]
    },
    {
     "name": "stderr",
     "output_type": "stream",
     "text": [
      "     40/120         5G    0.09348     0.4102     0.8953         45        640: 100%|██████████| 188/188 [00:18<00:00,  9.95it/s]\n",
      "                 Class     Images  Instances      Box(P          R      mAP50  mAP50-95): 100%|██████████| 15/15 [00:02<00:00,  6.21it/s]"
     ]
    },
    {
     "name": "stdout",
     "output_type": "stream",
     "text": [
      "                   all        923        923      0.867      0.847      0.895      0.895\n"
     ]
    },
    {
     "name": "stderr",
     "output_type": "stream",
     "text": [
      "\n"
     ]
    },
    {
     "name": "stdout",
     "output_type": "stream",
     "text": [
      "\n",
      "      Epoch    GPU_mem   box_loss   cls_loss   dfl_loss  Instances       Size\n"
     ]
    },
    {
     "name": "stderr",
     "output_type": "stream",
     "text": [
      "     41/120         5G    0.09453     0.4061     0.8967         43        640: 100%|██████████| 188/188 [00:19<00:00,  9.87it/s]\n",
      "                 Class     Images  Instances      Box(P          R      mAP50  mAP50-95): 100%|██████████| 15/15 [00:02<00:00,  6.22it/s]"
     ]
    },
    {
     "name": "stdout",
     "output_type": "stream",
     "text": [
      "                   all        923        923      0.835      0.841      0.885      0.885\n"
     ]
    },
    {
     "name": "stderr",
     "output_type": "stream",
     "text": [
      "\n"
     ]
    },
    {
     "name": "stdout",
     "output_type": "stream",
     "text": [
      "\n",
      "      Epoch    GPU_mem   box_loss   cls_loss   dfl_loss  Instances       Size\n"
     ]
    },
    {
     "name": "stderr",
     "output_type": "stream",
     "text": [
      "     42/120         5G     0.0918     0.4026     0.8958         45        640: 100%|██████████| 188/188 [00:19<00:00,  9.84it/s]\n",
      "                 Class     Images  Instances      Box(P          R      mAP50  mAP50-95): 100%|██████████| 15/15 [00:02<00:00,  6.49it/s]"
     ]
    },
    {
     "name": "stdout",
     "output_type": "stream",
     "text": [
      "                   all        923        923      0.798      0.842      0.882      0.874\n"
     ]
    },
    {
     "name": "stderr",
     "output_type": "stream",
     "text": [
      "\n"
     ]
    },
    {
     "name": "stdout",
     "output_type": "stream",
     "text": [
      "\n",
      "      Epoch    GPU_mem   box_loss   cls_loss   dfl_loss  Instances       Size\n"
     ]
    },
    {
     "name": "stderr",
     "output_type": "stream",
     "text": [
      "     43/120         5G    0.09073     0.3969     0.8932         43        640: 100%|██████████| 188/188 [00:19<00:00,  9.84it/s]\n",
      "                 Class     Images  Instances      Box(P          R      mAP50  mAP50-95): 100%|██████████| 15/15 [00:02<00:00,  6.11it/s]"
     ]
    },
    {
     "name": "stdout",
     "output_type": "stream",
     "text": [
      "                   all        923        923      0.863      0.861      0.899      0.898\n"
     ]
    },
    {
     "name": "stderr",
     "output_type": "stream",
     "text": [
      "\n"
     ]
    },
    {
     "name": "stdout",
     "output_type": "stream",
     "text": [
      "\n",
      "      Epoch    GPU_mem   box_loss   cls_loss   dfl_loss  Instances       Size\n"
     ]
    },
    {
     "name": "stderr",
     "output_type": "stream",
     "text": [
      "     44/120         5G    0.08991     0.3982     0.8934         46        640: 100%|██████████| 188/188 [00:18<00:00,  9.90it/s]\n",
      "                 Class     Images  Instances      Box(P          R      mAP50  mAP50-95): 100%|██████████| 15/15 [00:02<00:00,  6.37it/s]"
     ]
    },
    {
     "name": "stdout",
     "output_type": "stream",
     "text": [
      "                   all        923        923      0.859      0.863      0.897      0.897\n"
     ]
    },
    {
     "name": "stderr",
     "output_type": "stream",
     "text": [
      "\n"
     ]
    },
    {
     "name": "stdout",
     "output_type": "stream",
     "text": [
      "\n",
      "      Epoch    GPU_mem   box_loss   cls_loss   dfl_loss  Instances       Size\n"
     ]
    },
    {
     "name": "stderr",
     "output_type": "stream",
     "text": [
      "     45/120         5G    0.09028     0.3738      0.897         46        640: 100%|██████████| 188/188 [00:18<00:00,  9.90it/s]\n",
      "                 Class     Images  Instances      Box(P          R      mAP50  mAP50-95): 100%|██████████| 15/15 [00:02<00:00,  6.16it/s]"
     ]
    },
    {
     "name": "stdout",
     "output_type": "stream",
     "text": [
      "                   all        923        923      0.873       0.87      0.901        0.9\n"
     ]
    },
    {
     "name": "stderr",
     "output_type": "stream",
     "text": [
      "\n"
     ]
    },
    {
     "name": "stdout",
     "output_type": "stream",
     "text": [
      "\n",
      "      Epoch    GPU_mem   box_loss   cls_loss   dfl_loss  Instances       Size\n"
     ]
    },
    {
     "name": "stderr",
     "output_type": "stream",
     "text": [
      "     46/120         5G    0.08728     0.3773     0.8974         47        640: 100%|██████████| 188/188 [00:18<00:00,  9.92it/s]\n",
      "                 Class     Images  Instances      Box(P          R      mAP50  mAP50-95): 100%|██████████| 15/15 [00:02<00:00,  6.04it/s]"
     ]
    },
    {
     "name": "stdout",
     "output_type": "stream",
     "text": [
      "                   all        923        923      0.873      0.867      0.901      0.901\n"
     ]
    },
    {
     "name": "stderr",
     "output_type": "stream",
     "text": [
      "\n"
     ]
    },
    {
     "name": "stdout",
     "output_type": "stream",
     "text": [
      "\n",
      "      Epoch    GPU_mem   box_loss   cls_loss   dfl_loss  Instances       Size\n"
     ]
    },
    {
     "name": "stderr",
     "output_type": "stream",
     "text": [
      "     47/120         5G        inf      0.364     0.8946         45        640: 100%|██████████| 188/188 [00:18<00:00,  9.91it/s]\n",
      "                 Class     Images  Instances      Box(P          R      mAP50  mAP50-95): 100%|██████████| 15/15 [00:02<00:00,  6.24it/s]"
     ]
    },
    {
     "name": "stdout",
     "output_type": "stream",
     "text": [
      "                   all        923        923      0.882      0.866      0.903      0.903\n"
     ]
    },
    {
     "name": "stderr",
     "output_type": "stream",
     "text": [
      "\n"
     ]
    },
    {
     "name": "stdout",
     "output_type": "stream",
     "text": [
      "\n",
      "      Epoch    GPU_mem   box_loss   cls_loss   dfl_loss  Instances       Size\n"
     ]
    },
    {
     "name": "stderr",
     "output_type": "stream",
     "text": [
      "     48/120         5G    0.08267     0.3714     0.8923         38        640: 100%|██████████| 188/188 [00:19<00:00,  9.89it/s]\n",
      "                 Class     Images  Instances      Box(P          R      mAP50  mAP50-95): 100%|██████████| 15/15 [00:02<00:00,  6.22it/s]"
     ]
    },
    {
     "name": "stdout",
     "output_type": "stream",
     "text": [
      "                   all        923        923      0.864      0.884      0.904      0.904\n"
     ]
    },
    {
     "name": "stderr",
     "output_type": "stream",
     "text": [
      "\n"
     ]
    },
    {
     "name": "stdout",
     "output_type": "stream",
     "text": [
      "\n",
      "      Epoch    GPU_mem   box_loss   cls_loss   dfl_loss  Instances       Size\n"
     ]
    },
    {
     "name": "stderr",
     "output_type": "stream",
     "text": [
      "     49/120         5G    0.08294     0.3622      0.893         48        640: 100%|██████████| 188/188 [00:18<00:00,  9.98it/s]\n",
      "                 Class     Images  Instances      Box(P          R      mAP50  mAP50-95): 100%|██████████| 15/15 [00:02<00:00,  6.30it/s]"
     ]
    },
    {
     "name": "stdout",
     "output_type": "stream",
     "text": [
      "                   all        923        923      0.869      0.874      0.902      0.901\n"
     ]
    },
    {
     "name": "stderr",
     "output_type": "stream",
     "text": [
      "\n"
     ]
    },
    {
     "name": "stdout",
     "output_type": "stream",
     "text": [
      "\n",
      "      Epoch    GPU_mem   box_loss   cls_loss   dfl_loss  Instances       Size\n"
     ]
    },
    {
     "name": "stderr",
     "output_type": "stream",
     "text": [
      "     50/120         5G    0.08526     0.3585     0.8938         45        640: 100%|██████████| 188/188 [00:18<00:00,  9.92it/s]\n",
      "                 Class     Images  Instances      Box(P          R      mAP50  mAP50-95): 100%|██████████| 15/15 [00:02<00:00,  6.27it/s]"
     ]
    },
    {
     "name": "stdout",
     "output_type": "stream",
     "text": [
      "                   all        923        923      0.857      0.881      0.899      0.899\n"
     ]
    },
    {
     "name": "stderr",
     "output_type": "stream",
     "text": [
      "\n"
     ]
    },
    {
     "name": "stdout",
     "output_type": "stream",
     "text": [
      "\n",
      "      Epoch    GPU_mem   box_loss   cls_loss   dfl_loss  Instances       Size\n"
     ]
    },
    {
     "name": "stderr",
     "output_type": "stream",
     "text": [
      "     51/120         5G    0.08334     0.3572     0.8939         47        640: 100%|██████████| 188/188 [00:19<00:00,  9.85it/s]\n",
      "                 Class     Images  Instances      Box(P          R      mAP50  mAP50-95): 100%|██████████| 15/15 [00:02<00:00,  6.19it/s]"
     ]
    },
    {
     "name": "stdout",
     "output_type": "stream",
     "text": [
      "                   all        923        923      0.851      0.879      0.899      0.899\n"
     ]
    },
    {
     "name": "stderr",
     "output_type": "stream",
     "text": [
      "\n"
     ]
    },
    {
     "name": "stdout",
     "output_type": "stream",
     "text": [
      "\n",
      "      Epoch    GPU_mem   box_loss   cls_loss   dfl_loss  Instances       Size\n"
     ]
    },
    {
     "name": "stderr",
     "output_type": "stream",
     "text": [
      "     52/120         5G    0.08048     0.3513     0.8918         41        640: 100%|██████████| 188/188 [00:19<00:00,  9.88it/s]\n",
      "                 Class     Images  Instances      Box(P          R      mAP50  mAP50-95): 100%|██████████| 15/15 [00:02<00:00,  6.20it/s]"
     ]
    },
    {
     "name": "stdout",
     "output_type": "stream",
     "text": [
      "                   all        923        923      0.863      0.873        0.9        0.9\n"
     ]
    },
    {
     "name": "stderr",
     "output_type": "stream",
     "text": [
      "\n"
     ]
    },
    {
     "name": "stdout",
     "output_type": "stream",
     "text": [
      "\n",
      "      Epoch    GPU_mem   box_loss   cls_loss   dfl_loss  Instances       Size\n"
     ]
    },
    {
     "name": "stderr",
     "output_type": "stream",
     "text": [
      "     53/120         5G    0.07988     0.3431     0.8944         46        640: 100%|██████████| 188/188 [00:18<00:00,  9.96it/s]\n",
      "                 Class     Images  Instances      Box(P          R      mAP50  mAP50-95): 100%|██████████| 15/15 [00:02<00:00,  6.21it/s]"
     ]
    },
    {
     "name": "stdout",
     "output_type": "stream",
     "text": [
      "                   all        923        923      0.872      0.872        0.9        0.9\n"
     ]
    },
    {
     "name": "stderr",
     "output_type": "stream",
     "text": [
      "\n"
     ]
    },
    {
     "name": "stdout",
     "output_type": "stream",
     "text": [
      "\n",
      "      Epoch    GPU_mem   box_loss   cls_loss   dfl_loss  Instances       Size\n"
     ]
    },
    {
     "name": "stderr",
     "output_type": "stream",
     "text": [
      "     54/120         5G        inf     0.3432     0.8921         49        640: 100%|██████████| 188/188 [00:19<00:00,  9.79it/s]\n",
      "                 Class     Images  Instances      Box(P          R      mAP50  mAP50-95): 100%|██████████| 15/15 [00:02<00:00,  6.34it/s]"
     ]
    },
    {
     "name": "stdout",
     "output_type": "stream",
     "text": [
      "                   all        923        923      0.861      0.857      0.895      0.895\n"
     ]
    },
    {
     "name": "stderr",
     "output_type": "stream",
     "text": [
      "\n"
     ]
    },
    {
     "name": "stdout",
     "output_type": "stream",
     "text": [
      "\n",
      "      Epoch    GPU_mem   box_loss   cls_loss   dfl_loss  Instances       Size\n"
     ]
    },
    {
     "name": "stderr",
     "output_type": "stream",
     "text": [
      "     55/120         5G    0.07769     0.3412     0.8925         45        640: 100%|██████████| 188/188 [00:19<00:00,  9.85it/s]\n",
      "                 Class     Images  Instances      Box(P          R      mAP50  mAP50-95): 100%|██████████| 15/15 [00:02<00:00,  6.12it/s]"
     ]
    },
    {
     "name": "stdout",
     "output_type": "stream",
     "text": [
      "                   all        923        923      0.876      0.888      0.905      0.905\n"
     ]
    },
    {
     "name": "stderr",
     "output_type": "stream",
     "text": [
      "\n"
     ]
    },
    {
     "name": "stdout",
     "output_type": "stream",
     "text": [
      "\n",
      "      Epoch    GPU_mem   box_loss   cls_loss   dfl_loss  Instances       Size\n"
     ]
    },
    {
     "name": "stderr",
     "output_type": "stream",
     "text": [
      "     56/120         5G     0.0763      0.339     0.8931         44        640: 100%|██████████| 188/188 [00:18<00:00,  9.97it/s]\n",
      "                 Class     Images  Instances      Box(P          R      mAP50  mAP50-95): 100%|██████████| 15/15 [00:02<00:00,  6.04it/s]"
     ]
    },
    {
     "name": "stdout",
     "output_type": "stream",
     "text": [
      "                   all        923        923      0.893      0.863      0.904      0.904\n"
     ]
    },
    {
     "name": "stderr",
     "output_type": "stream",
     "text": [
      "\n"
     ]
    },
    {
     "name": "stdout",
     "output_type": "stream",
     "text": [
      "\n",
      "      Epoch    GPU_mem   box_loss   cls_loss   dfl_loss  Instances       Size\n"
     ]
    },
    {
     "name": "stderr",
     "output_type": "stream",
     "text": [
      "     57/120         5G    0.07642     0.3421     0.8949         44        640: 100%|██████████| 188/188 [00:18<00:00,  9.94it/s]\n",
      "                 Class     Images  Instances      Box(P          R      mAP50  mAP50-95): 100%|██████████| 15/15 [00:02<00:00,  6.36it/s]"
     ]
    },
    {
     "name": "stdout",
     "output_type": "stream",
     "text": [
      "                   all        923        923      0.888      0.874      0.905      0.905\n"
     ]
    },
    {
     "name": "stderr",
     "output_type": "stream",
     "text": [
      "\n"
     ]
    },
    {
     "name": "stdout",
     "output_type": "stream",
     "text": [
      "\n",
      "      Epoch    GPU_mem   box_loss   cls_loss   dfl_loss  Instances       Size\n"
     ]
    },
    {
     "name": "stderr",
     "output_type": "stream",
     "text": [
      "     58/120         5G    0.07455     0.3322     0.8924         42        640: 100%|██████████| 188/188 [00:19<00:00,  9.88it/s]\n",
      "                 Class     Images  Instances      Box(P          R      mAP50  mAP50-95): 100%|██████████| 15/15 [00:02<00:00,  6.24it/s]"
     ]
    },
    {
     "name": "stdout",
     "output_type": "stream",
     "text": [
      "                   all        923        923      0.877      0.867      0.905      0.904\n"
     ]
    },
    {
     "name": "stderr",
     "output_type": "stream",
     "text": [
      "\n"
     ]
    },
    {
     "name": "stdout",
     "output_type": "stream",
     "text": [
      "\n",
      "      Epoch    GPU_mem   box_loss   cls_loss   dfl_loss  Instances       Size\n"
     ]
    },
    {
     "name": "stderr",
     "output_type": "stream",
     "text": [
      "     59/120         5G    0.07364     0.3227     0.8924         46        640: 100%|██████████| 188/188 [00:18<00:00,  9.92it/s]\n",
      "                 Class     Images  Instances      Box(P          R      mAP50  mAP50-95): 100%|██████████| 15/15 [00:02<00:00,  6.34it/s]"
     ]
    },
    {
     "name": "stdout",
     "output_type": "stream",
     "text": [
      "                   all        923        923      0.863      0.883      0.905      0.905\n"
     ]
    },
    {
     "name": "stderr",
     "output_type": "stream",
     "text": [
      "\n"
     ]
    },
    {
     "name": "stdout",
     "output_type": "stream",
     "text": [
      "\n",
      "      Epoch    GPU_mem   box_loss   cls_loss   dfl_loss  Instances       Size\n"
     ]
    },
    {
     "name": "stderr",
     "output_type": "stream",
     "text": [
      "     60/120         5G    0.07318     0.3278     0.8912         39        640: 100%|██████████| 188/188 [00:19<00:00,  9.87it/s]\n",
      "                 Class     Images  Instances      Box(P          R      mAP50  mAP50-95): 100%|██████████| 15/15 [00:02<00:00,  6.21it/s]"
     ]
    },
    {
     "name": "stdout",
     "output_type": "stream",
     "text": [
      "                   all        923        923      0.878      0.881      0.904      0.904\n"
     ]
    },
    {
     "name": "stderr",
     "output_type": "stream",
     "text": [
      "\n"
     ]
    },
    {
     "name": "stdout",
     "output_type": "stream",
     "text": [
      "\n",
      "      Epoch    GPU_mem   box_loss   cls_loss   dfl_loss  Instances       Size\n"
     ]
    },
    {
     "name": "stderr",
     "output_type": "stream",
     "text": [
      "     61/120         5G     0.0712     0.3205     0.8916         46        640: 100%|██████████| 188/188 [00:18<00:00,  9.98it/s]\n",
      "                 Class     Images  Instances      Box(P          R      mAP50  mAP50-95): 100%|██████████| 15/15 [00:02<00:00,  6.27it/s]"
     ]
    },
    {
     "name": "stdout",
     "output_type": "stream",
     "text": [
      "                   all        923        923       0.87      0.884      0.906      0.906\n"
     ]
    },
    {
     "name": "stderr",
     "output_type": "stream",
     "text": [
      "\n"
     ]
    },
    {
     "name": "stdout",
     "output_type": "stream",
     "text": [
      "\n",
      "      Epoch    GPU_mem   box_loss   cls_loss   dfl_loss  Instances       Size\n"
     ]
    },
    {
     "name": "stderr",
     "output_type": "stream",
     "text": [
      "     62/120         5G    0.07134     0.3202     0.8922         45        640: 100%|██████████| 188/188 [00:19<00:00,  9.84it/s]\n",
      "                 Class     Images  Instances      Box(P          R      mAP50  mAP50-95): 100%|██████████| 15/15 [00:02<00:00,  5.96it/s]"
     ]
    },
    {
     "name": "stdout",
     "output_type": "stream",
     "text": [
      "                   all        923        923       0.89      0.887      0.908      0.908\n"
     ]
    },
    {
     "name": "stderr",
     "output_type": "stream",
     "text": [
      "\n"
     ]
    },
    {
     "name": "stdout",
     "output_type": "stream",
     "text": [
      "\n",
      "      Epoch    GPU_mem   box_loss   cls_loss   dfl_loss  Instances       Size\n"
     ]
    },
    {
     "name": "stderr",
     "output_type": "stream",
     "text": [
      "     63/120         5G    0.07024     0.3221      0.891         39        640: 100%|██████████| 188/188 [00:18<00:00,  9.91it/s]\n",
      "                 Class     Images  Instances      Box(P          R      mAP50  mAP50-95): 100%|██████████| 15/15 [00:02<00:00,  6.04it/s]"
     ]
    },
    {
     "name": "stdout",
     "output_type": "stream",
     "text": [
      "                   all        923        923      0.877      0.878      0.907      0.907\n"
     ]
    },
    {
     "name": "stderr",
     "output_type": "stream",
     "text": [
      "\n"
     ]
    },
    {
     "name": "stdout",
     "output_type": "stream",
     "text": [
      "\n",
      "      Epoch    GPU_mem   box_loss   cls_loss   dfl_loss  Instances       Size\n"
     ]
    },
    {
     "name": "stderr",
     "output_type": "stream",
     "text": [
      "     64/120         5G    0.07173     0.3173     0.8906         47        640: 100%|██████████| 188/188 [00:19<00:00,  9.85it/s]\n",
      "                 Class     Images  Instances      Box(P          R      mAP50  mAP50-95): 100%|██████████| 15/15 [00:02<00:00,  6.63it/s]"
     ]
    },
    {
     "name": "stdout",
     "output_type": "stream",
     "text": [
      "                   all        923        923      0.885      0.886      0.906      0.906\n"
     ]
    },
    {
     "name": "stderr",
     "output_type": "stream",
     "text": [
      "\n"
     ]
    },
    {
     "name": "stdout",
     "output_type": "stream",
     "text": [
      "\n",
      "      Epoch    GPU_mem   box_loss   cls_loss   dfl_loss  Instances       Size\n"
     ]
    },
    {
     "name": "stderr",
     "output_type": "stream",
     "text": [
      "     65/120         5G    0.06976     0.3135     0.8914         41        640: 100%|██████████| 188/188 [00:18<00:00,  9.96it/s]\n",
      "                 Class     Images  Instances      Box(P          R      mAP50  mAP50-95): 100%|██████████| 15/15 [00:02<00:00,  6.20it/s]"
     ]
    },
    {
     "name": "stdout",
     "output_type": "stream",
     "text": [
      "                   all        923        923      0.879      0.874      0.904      0.904\n"
     ]
    },
    {
     "name": "stderr",
     "output_type": "stream",
     "text": [
      "\n"
     ]
    },
    {
     "name": "stdout",
     "output_type": "stream",
     "text": [
      "\n",
      "      Epoch    GPU_mem   box_loss   cls_loss   dfl_loss  Instances       Size\n"
     ]
    },
    {
     "name": "stderr",
     "output_type": "stream",
     "text": [
      "     66/120         5G     0.0707     0.2996     0.8924         48        640: 100%|██████████| 188/188 [00:18<00:00,  9.94it/s]\n",
      "                 Class     Images  Instances      Box(P          R      mAP50  mAP50-95): 100%|██████████| 15/15 [00:02<00:00,  6.37it/s]"
     ]
    },
    {
     "name": "stdout",
     "output_type": "stream",
     "text": [
      "                   all        923        923      0.886      0.883      0.902      0.902\n"
     ]
    },
    {
     "name": "stderr",
     "output_type": "stream",
     "text": [
      "\n"
     ]
    },
    {
     "name": "stdout",
     "output_type": "stream",
     "text": [
      "\n",
      "      Epoch    GPU_mem   box_loss   cls_loss   dfl_loss  Instances       Size\n"
     ]
    },
    {
     "name": "stderr",
     "output_type": "stream",
     "text": [
      "     67/120         5G    0.06826     0.2973     0.8894         41        640: 100%|██████████| 188/188 [00:19<00:00,  9.86it/s]\n",
      "                 Class     Images  Instances      Box(P          R      mAP50  mAP50-95): 100%|██████████| 15/15 [00:02<00:00,  6.15it/s]"
     ]
    },
    {
     "name": "stdout",
     "output_type": "stream",
     "text": [
      "                   all        923        923      0.886      0.891      0.908      0.908\n"
     ]
    },
    {
     "name": "stderr",
     "output_type": "stream",
     "text": [
      "\n"
     ]
    },
    {
     "name": "stdout",
     "output_type": "stream",
     "text": [
      "\n",
      "      Epoch    GPU_mem   box_loss   cls_loss   dfl_loss  Instances       Size\n"
     ]
    },
    {
     "name": "stderr",
     "output_type": "stream",
     "text": [
      "     68/120         5G    0.06686     0.3002     0.8911         47        640: 100%|██████████| 188/188 [00:18<00:00,  9.92it/s]\n",
      "                 Class     Images  Instances      Box(P          R      mAP50  mAP50-95): 100%|██████████| 15/15 [00:02<00:00,  6.38it/s]"
     ]
    },
    {
     "name": "stdout",
     "output_type": "stream",
     "text": [
      "                   all        923        923      0.881      0.879      0.906      0.906\n"
     ]
    },
    {
     "name": "stderr",
     "output_type": "stream",
     "text": [
      "\n"
     ]
    },
    {
     "name": "stdout",
     "output_type": "stream",
     "text": [
      "\n",
      "      Epoch    GPU_mem   box_loss   cls_loss   dfl_loss  Instances       Size\n"
     ]
    },
    {
     "name": "stderr",
     "output_type": "stream",
     "text": [
      "     69/120         5G    0.06678     0.2995     0.8919         46        640: 100%|██████████| 188/188 [00:18<00:00,  9.91it/s]\n",
      "                 Class     Images  Instances      Box(P          R      mAP50  mAP50-95): 100%|██████████| 15/15 [00:02<00:00,  6.36it/s]"
     ]
    },
    {
     "name": "stdout",
     "output_type": "stream",
     "text": [
      "                   all        923        923      0.886      0.889      0.907      0.907\n"
     ]
    },
    {
     "name": "stderr",
     "output_type": "stream",
     "text": [
      "\n"
     ]
    },
    {
     "name": "stdout",
     "output_type": "stream",
     "text": [
      "\n",
      "      Epoch    GPU_mem   box_loss   cls_loss   dfl_loss  Instances       Size\n"
     ]
    },
    {
     "name": "stderr",
     "output_type": "stream",
     "text": [
      "     70/120         5G    0.06571     0.2943     0.8878         42        640: 100%|██████████| 188/188 [00:18<00:00,  9.98it/s]\n",
      "                 Class     Images  Instances      Box(P          R      mAP50  mAP50-95): 100%|██████████| 15/15 [00:02<00:00,  6.15it/s]"
     ]
    },
    {
     "name": "stdout",
     "output_type": "stream",
     "text": [
      "                   all        923        923      0.884      0.885      0.906      0.906\n"
     ]
    },
    {
     "name": "stderr",
     "output_type": "stream",
     "text": [
      "\n"
     ]
    },
    {
     "name": "stdout",
     "output_type": "stream",
     "text": [
      "\n",
      "      Epoch    GPU_mem   box_loss   cls_loss   dfl_loss  Instances       Size\n"
     ]
    },
    {
     "name": "stderr",
     "output_type": "stream",
     "text": [
      "     71/120         5G    0.06386     0.3009     0.8908         42        640: 100%|██████████| 188/188 [00:18<00:00, 10.00it/s]\n",
      "                 Class     Images  Instances      Box(P          R      mAP50  mAP50-95): 100%|██████████| 15/15 [00:02<00:00,  6.42it/s]"
     ]
    },
    {
     "name": "stdout",
     "output_type": "stream",
     "text": [
      "                   all        923        923      0.884      0.881      0.907      0.907\n"
     ]
    },
    {
     "name": "stderr",
     "output_type": "stream",
     "text": [
      "\n"
     ]
    },
    {
     "name": "stdout",
     "output_type": "stream",
     "text": [
      "\n",
      "      Epoch    GPU_mem   box_loss   cls_loss   dfl_loss  Instances       Size\n"
     ]
    },
    {
     "name": "stderr",
     "output_type": "stream",
     "text": [
      "     72/120         5G    0.06321     0.2858      0.887         36        640: 100%|██████████| 188/188 [00:19<00:00,  9.79it/s]\n",
      "                 Class     Images  Instances      Box(P          R      mAP50  mAP50-95): 100%|██████████| 15/15 [00:02<00:00,  6.16it/s]"
     ]
    },
    {
     "name": "stdout",
     "output_type": "stream",
     "text": [
      "                   all        923        923      0.891      0.882      0.907      0.907\n"
     ]
    },
    {
     "name": "stderr",
     "output_type": "stream",
     "text": [
      "\n"
     ]
    },
    {
     "name": "stdout",
     "output_type": "stream",
     "text": [
      "\n",
      "      Epoch    GPU_mem   box_loss   cls_loss   dfl_loss  Instances       Size\n"
     ]
    },
    {
     "name": "stderr",
     "output_type": "stream",
     "text": [
      "     73/120         5G    0.06262      0.288       0.89         45        640: 100%|██████████| 188/188 [00:19<00:00,  9.89it/s]\n",
      "                 Class     Images  Instances      Box(P          R      mAP50  mAP50-95): 100%|██████████| 15/15 [00:02<00:00,  6.31it/s]"
     ]
    },
    {
     "name": "stdout",
     "output_type": "stream",
     "text": [
      "                   all        923        923       0.89       0.88      0.907      0.906\n"
     ]
    },
    {
     "name": "stderr",
     "output_type": "stream",
     "text": [
      "\n"
     ]
    },
    {
     "name": "stdout",
     "output_type": "stream",
     "text": [
      "\n",
      "      Epoch    GPU_mem   box_loss   cls_loss   dfl_loss  Instances       Size\n"
     ]
    },
    {
     "name": "stderr",
     "output_type": "stream",
     "text": [
      "     74/120         5G    0.06186     0.2844     0.8898         42        640: 100%|██████████| 188/188 [00:18<00:00, 10.00it/s]\n",
      "                 Class     Images  Instances      Box(P          R      mAP50  mAP50-95): 100%|██████████| 15/15 [00:02<00:00,  6.13it/s]"
     ]
    },
    {
     "name": "stdout",
     "output_type": "stream",
     "text": [
      "                   all        923        923      0.877      0.885      0.907      0.907\n"
     ]
    },
    {
     "name": "stderr",
     "output_type": "stream",
     "text": [
      "\n"
     ]
    },
    {
     "name": "stdout",
     "output_type": "stream",
     "text": [
      "\n",
      "      Epoch    GPU_mem   box_loss   cls_loss   dfl_loss  Instances       Size\n"
     ]
    },
    {
     "name": "stderr",
     "output_type": "stream",
     "text": [
      "     75/120         5G    0.06207     0.2742     0.8921         42        640: 100%|██████████| 188/188 [00:18<00:00,  9.93it/s]\n",
      "                 Class     Images  Instances      Box(P          R      mAP50  mAP50-95): 100%|██████████| 15/15 [00:02<00:00,  6.47it/s]"
     ]
    },
    {
     "name": "stdout",
     "output_type": "stream",
     "text": [
      "                   all        923        923      0.889      0.891      0.908      0.908\n"
     ]
    },
    {
     "name": "stderr",
     "output_type": "stream",
     "text": [
      "\n"
     ]
    },
    {
     "name": "stdout",
     "output_type": "stream",
     "text": [
      "\n",
      "      Epoch    GPU_mem   box_loss   cls_loss   dfl_loss  Instances       Size\n"
     ]
    },
    {
     "name": "stderr",
     "output_type": "stream",
     "text": [
      "     76/120         5G    0.06183     0.2781     0.8917         49        640: 100%|██████████| 188/188 [00:18<00:00,  9.90it/s]\n",
      "                 Class     Images  Instances      Box(P          R      mAP50  mAP50-95): 100%|██████████| 15/15 [00:02<00:00,  6.15it/s]"
     ]
    },
    {
     "name": "stdout",
     "output_type": "stream",
     "text": [
      "                   all        923        923      0.886      0.899      0.909      0.909\n"
     ]
    },
    {
     "name": "stderr",
     "output_type": "stream",
     "text": [
      "\n"
     ]
    },
    {
     "name": "stdout",
     "output_type": "stream",
     "text": [
      "\n",
      "      Epoch    GPU_mem   box_loss   cls_loss   dfl_loss  Instances       Size\n"
     ]
    },
    {
     "name": "stderr",
     "output_type": "stream",
     "text": [
      "     77/120         5G      0.059     0.2783      0.888         46        640: 100%|██████████| 188/188 [00:19<00:00,  9.86it/s]\n",
      "                 Class     Images  Instances      Box(P          R      mAP50  mAP50-95): 100%|██████████| 15/15 [00:02<00:00,  6.17it/s]"
     ]
    },
    {
     "name": "stdout",
     "output_type": "stream",
     "text": [
      "                   all        923        923      0.889      0.896      0.909      0.909\n"
     ]
    },
    {
     "name": "stderr",
     "output_type": "stream",
     "text": [
      "\n"
     ]
    },
    {
     "name": "stdout",
     "output_type": "stream",
     "text": [
      "\n",
      "      Epoch    GPU_mem   box_loss   cls_loss   dfl_loss  Instances       Size\n"
     ]
    },
    {
     "name": "stderr",
     "output_type": "stream",
     "text": [
      "     78/120         5G    0.05705     0.2835     0.8909         35        640: 100%|██████████| 188/188 [00:19<00:00,  9.86it/s]\n",
      "                 Class     Images  Instances      Box(P          R      mAP50  mAP50-95): 100%|██████████| 15/15 [00:02<00:00,  6.52it/s]"
     ]
    },
    {
     "name": "stdout",
     "output_type": "stream",
     "text": [
      "                   all        923        923      0.882      0.893      0.909      0.909\n"
     ]
    },
    {
     "name": "stderr",
     "output_type": "stream",
     "text": [
      "\n"
     ]
    },
    {
     "name": "stdout",
     "output_type": "stream",
     "text": [
      "\n",
      "      Epoch    GPU_mem   box_loss   cls_loss   dfl_loss  Instances       Size\n"
     ]
    },
    {
     "name": "stderr",
     "output_type": "stream",
     "text": [
      "     79/120         5G     0.0576     0.2689      0.891         43        640: 100%|██████████| 188/188 [00:19<00:00,  9.87it/s]\n",
      "                 Class     Images  Instances      Box(P          R      mAP50  mAP50-95): 100%|██████████| 15/15 [00:02<00:00,  6.31it/s]"
     ]
    },
    {
     "name": "stdout",
     "output_type": "stream",
     "text": [
      "                   all        923        923      0.881      0.896      0.908      0.908\n"
     ]
    },
    {
     "name": "stderr",
     "output_type": "stream",
     "text": [
      "\n"
     ]
    },
    {
     "name": "stdout",
     "output_type": "stream",
     "text": [
      "\n",
      "      Epoch    GPU_mem   box_loss   cls_loss   dfl_loss  Instances       Size\n"
     ]
    },
    {
     "name": "stderr",
     "output_type": "stream",
     "text": [
      "     80/120         5G    0.05677     0.2689     0.8854         44        640: 100%|██████████| 188/188 [00:18<00:00,  9.92it/s]\n",
      "                 Class     Images  Instances      Box(P          R      mAP50  mAP50-95): 100%|██████████| 15/15 [00:02<00:00,  6.47it/s]"
     ]
    },
    {
     "name": "stdout",
     "output_type": "stream",
     "text": [
      "                   all        923        923      0.889      0.892      0.908      0.908\n"
     ]
    },
    {
     "name": "stderr",
     "output_type": "stream",
     "text": [
      "\n"
     ]
    },
    {
     "name": "stdout",
     "output_type": "stream",
     "text": [
      "\n",
      "      Epoch    GPU_mem   box_loss   cls_loss   dfl_loss  Instances       Size\n"
     ]
    },
    {
     "name": "stderr",
     "output_type": "stream",
     "text": [
      "     81/120         5G    0.05606     0.2644      0.889         41        640: 100%|██████████| 188/188 [00:19<00:00,  9.88it/s]\n",
      "                 Class     Images  Instances      Box(P          R      mAP50  mAP50-95): 100%|██████████| 15/15 [00:02<00:00,  6.06it/s]"
     ]
    },
    {
     "name": "stdout",
     "output_type": "stream",
     "text": [
      "                   all        923        923      0.889      0.888      0.908      0.908\n"
     ]
    },
    {
     "name": "stderr",
     "output_type": "stream",
     "text": [
      "\n"
     ]
    },
    {
     "name": "stdout",
     "output_type": "stream",
     "text": [
      "\n",
      "      Epoch    GPU_mem   box_loss   cls_loss   dfl_loss  Instances       Size\n"
     ]
    },
    {
     "name": "stderr",
     "output_type": "stream",
     "text": [
      "     82/120         5G     0.0553      0.256     0.8893         41        640: 100%|██████████| 188/188 [00:18<00:00,  9.93it/s]\n",
      "                 Class     Images  Instances      Box(P          R      mAP50  mAP50-95): 100%|██████████| 15/15 [00:02<00:00,  6.12it/s]"
     ]
    },
    {
     "name": "stdout",
     "output_type": "stream",
     "text": [
      "                   all        923        923      0.898      0.886      0.908      0.908\n"
     ]
    },
    {
     "name": "stderr",
     "output_type": "stream",
     "text": [
      "\n"
     ]
    },
    {
     "name": "stdout",
     "output_type": "stream",
     "text": [
      "\n",
      "      Epoch    GPU_mem   box_loss   cls_loss   dfl_loss  Instances       Size\n"
     ]
    },
    {
     "name": "stderr",
     "output_type": "stream",
     "text": [
      "     83/120         5G     0.0547     0.2598     0.8854         47        640: 100%|██████████| 188/188 [00:19<00:00,  9.76it/s]\n",
      "                 Class     Images  Instances      Box(P          R      mAP50  mAP50-95): 100%|██████████| 15/15 [00:02<00:00,  6.51it/s]"
     ]
    },
    {
     "name": "stdout",
     "output_type": "stream",
     "text": [
      "                   all        923        923      0.888      0.902      0.908      0.908\n"
     ]
    },
    {
     "name": "stderr",
     "output_type": "stream",
     "text": [
      "\n"
     ]
    },
    {
     "name": "stdout",
     "output_type": "stream",
     "text": [
      "\n",
      "      Epoch    GPU_mem   box_loss   cls_loss   dfl_loss  Instances       Size\n"
     ]
    },
    {
     "name": "stderr",
     "output_type": "stream",
     "text": [
      "     84/120         5G    0.05441     0.2638     0.8876         33        640: 100%|██████████| 188/188 [00:19<00:00,  9.88it/s]\n",
      "                 Class     Images  Instances      Box(P          R      mAP50  mAP50-95): 100%|██████████| 15/15 [00:02<00:00,  6.13it/s]"
     ]
    },
    {
     "name": "stdout",
     "output_type": "stream",
     "text": [
      "                   all        923        923      0.893      0.899      0.908      0.908\n"
     ]
    },
    {
     "name": "stderr",
     "output_type": "stream",
     "text": [
      "\n"
     ]
    },
    {
     "name": "stdout",
     "output_type": "stream",
     "text": [
      "\n",
      "      Epoch    GPU_mem   box_loss   cls_loss   dfl_loss  Instances       Size\n"
     ]
    },
    {
     "name": "stderr",
     "output_type": "stream",
     "text": [
      "     85/120         5G    0.05247     0.2559     0.8862         48        640: 100%|██████████| 188/188 [00:18<00:00,  9.91it/s]\n",
      "                 Class     Images  Instances      Box(P          R      mAP50  mAP50-95): 100%|██████████| 15/15 [00:02<00:00,  6.39it/s]"
     ]
    },
    {
     "name": "stdout",
     "output_type": "stream",
     "text": [
      "                   all        923        923      0.887      0.901      0.909      0.909\n"
     ]
    },
    {
     "name": "stderr",
     "output_type": "stream",
     "text": [
      "\n"
     ]
    },
    {
     "name": "stdout",
     "output_type": "stream",
     "text": [
      "\n",
      "      Epoch    GPU_mem   box_loss   cls_loss   dfl_loss  Instances       Size\n"
     ]
    },
    {
     "name": "stderr",
     "output_type": "stream",
     "text": [
      "     86/120         5G    0.05267     0.2559     0.8896         46        640: 100%|██████████| 188/188 [00:19<00:00,  9.84it/s]\n",
      "                 Class     Images  Instances      Box(P          R      mAP50  mAP50-95): 100%|██████████| 15/15 [00:02<00:00,  6.27it/s]"
     ]
    },
    {
     "name": "stdout",
     "output_type": "stream",
     "text": [
      "                   all        923        923      0.885        0.9      0.908      0.908\n"
     ]
    },
    {
     "name": "stderr",
     "output_type": "stream",
     "text": [
      "\n"
     ]
    },
    {
     "name": "stdout",
     "output_type": "stream",
     "text": [
      "\n",
      "      Epoch    GPU_mem   box_loss   cls_loss   dfl_loss  Instances       Size\n"
     ]
    },
    {
     "name": "stderr",
     "output_type": "stream",
     "text": [
      "     87/120         5G    0.05289     0.2517     0.8868         48        640: 100%|██████████| 188/188 [00:19<00:00,  9.87it/s]\n",
      "                 Class     Images  Instances      Box(P          R      mAP50  mAP50-95): 100%|██████████| 15/15 [00:02<00:00,  6.29it/s]"
     ]
    },
    {
     "name": "stdout",
     "output_type": "stream",
     "text": [
      "                   all        923        923       0.89        0.9      0.909      0.909\n"
     ]
    },
    {
     "name": "stderr",
     "output_type": "stream",
     "text": [
      "\n"
     ]
    },
    {
     "name": "stdout",
     "output_type": "stream",
     "text": [
      "\n",
      "      Epoch    GPU_mem   box_loss   cls_loss   dfl_loss  Instances       Size\n"
     ]
    },
    {
     "name": "stderr",
     "output_type": "stream",
     "text": [
      "     88/120         5G    0.05234     0.2507     0.8853         45        640: 100%|██████████| 188/188 [00:19<00:00,  9.87it/s]\n",
      "                 Class     Images  Instances      Box(P          R      mAP50  mAP50-95): 100%|██████████| 15/15 [00:02<00:00,  6.27it/s]"
     ]
    },
    {
     "name": "stdout",
     "output_type": "stream",
     "text": [
      "                   all        923        923      0.894      0.896      0.909      0.909\n"
     ]
    },
    {
     "name": "stderr",
     "output_type": "stream",
     "text": [
      "\n"
     ]
    },
    {
     "name": "stdout",
     "output_type": "stream",
     "text": [
      "\n",
      "      Epoch    GPU_mem   box_loss   cls_loss   dfl_loss  Instances       Size\n"
     ]
    },
    {
     "name": "stderr",
     "output_type": "stream",
     "text": [
      "     89/120         5G    0.05234     0.2468      0.884         41        640: 100%|██████████| 188/188 [00:18<00:00,  9.92it/s]\n",
      "                 Class     Images  Instances      Box(P          R      mAP50  mAP50-95): 100%|██████████| 15/15 [00:02<00:00,  6.33it/s]"
     ]
    },
    {
     "name": "stdout",
     "output_type": "stream",
     "text": [
      "                   all        923        923      0.893      0.891      0.909      0.909\n"
     ]
    },
    {
     "name": "stderr",
     "output_type": "stream",
     "text": [
      "\n"
     ]
    },
    {
     "name": "stdout",
     "output_type": "stream",
     "text": [
      "\n",
      "      Epoch    GPU_mem   box_loss   cls_loss   dfl_loss  Instances       Size\n"
     ]
    },
    {
     "name": "stderr",
     "output_type": "stream",
     "text": [
      "     90/120         5G    0.04996     0.2479     0.8873         43        640: 100%|██████████| 188/188 [00:18<00:00,  9.92it/s]\n",
      "                 Class     Images  Instances      Box(P          R      mAP50  mAP50-95): 100%|██████████| 15/15 [00:02<00:00,  6.31it/s]"
     ]
    },
    {
     "name": "stdout",
     "output_type": "stream",
     "text": [
      "                   all        923        923       0.89      0.903      0.909      0.909\n"
     ]
    },
    {
     "name": "stderr",
     "output_type": "stream",
     "text": [
      "\n"
     ]
    },
    {
     "name": "stdout",
     "output_type": "stream",
     "text": [
      "\n",
      "      Epoch    GPU_mem   box_loss   cls_loss   dfl_loss  Instances       Size\n"
     ]
    },
    {
     "name": "stderr",
     "output_type": "stream",
     "text": [
      "     91/120         5G        inf     0.2462     0.8913         47        640: 100%|██████████| 188/188 [00:18<00:00,  9.92it/s]\n",
      "                 Class     Images  Instances      Box(P          R      mAP50  mAP50-95): 100%|██████████| 15/15 [00:02<00:00,  6.20it/s]"
     ]
    },
    {
     "name": "stdout",
     "output_type": "stream",
     "text": [
      "                   all        923        923      0.892      0.899       0.91       0.91\n"
     ]
    },
    {
     "name": "stderr",
     "output_type": "stream",
     "text": [
      "\n"
     ]
    },
    {
     "name": "stdout",
     "output_type": "stream",
     "text": [
      "\n",
      "      Epoch    GPU_mem   box_loss   cls_loss   dfl_loss  Instances       Size\n"
     ]
    },
    {
     "name": "stderr",
     "output_type": "stream",
     "text": [
      "     92/120         5G     0.0504     0.2394     0.8878         44        640: 100%|██████████| 188/188 [00:18<00:00,  9.95it/s]\n",
      "                 Class     Images  Instances      Box(P          R      mAP50  mAP50-95): 100%|██████████| 15/15 [00:02<00:00,  6.37it/s]"
     ]
    },
    {
     "name": "stdout",
     "output_type": "stream",
     "text": [
      "                   all        923        923      0.894      0.898       0.91       0.91\n"
     ]
    },
    {
     "name": "stderr",
     "output_type": "stream",
     "text": [
      "\n"
     ]
    },
    {
     "name": "stdout",
     "output_type": "stream",
     "text": [
      "\n",
      "      Epoch    GPU_mem   box_loss   cls_loss   dfl_loss  Instances       Size\n"
     ]
    },
    {
     "name": "stderr",
     "output_type": "stream",
     "text": [
      "     93/120         5G    0.05002       0.24     0.8862         48        640: 100%|██████████| 188/188 [00:18<00:00,  9.95it/s]\n",
      "                 Class     Images  Instances      Box(P          R      mAP50  mAP50-95): 100%|██████████| 15/15 [00:02<00:00,  6.16it/s]"
     ]
    },
    {
     "name": "stdout",
     "output_type": "stream",
     "text": [
      "                   all        923        923      0.888      0.902      0.909      0.909\n"
     ]
    },
    {
     "name": "stderr",
     "output_type": "stream",
     "text": [
      "\n"
     ]
    },
    {
     "name": "stdout",
     "output_type": "stream",
     "text": [
      "\n",
      "      Epoch    GPU_mem   box_loss   cls_loss   dfl_loss  Instances       Size\n"
     ]
    },
    {
     "name": "stderr",
     "output_type": "stream",
     "text": [
      "     94/120         5G    0.04842     0.2367     0.8885         44        640: 100%|██████████| 188/188 [00:19<00:00,  9.86it/s]\n",
      "                 Class     Images  Instances      Box(P          R      mAP50  mAP50-95): 100%|██████████| 15/15 [00:02<00:00,  6.11it/s]"
     ]
    },
    {
     "name": "stdout",
     "output_type": "stream",
     "text": [
      "                   all        923        923      0.893      0.897      0.909      0.909\n"
     ]
    },
    {
     "name": "stderr",
     "output_type": "stream",
     "text": [
      "\n"
     ]
    },
    {
     "name": "stdout",
     "output_type": "stream",
     "text": [
      "\n",
      "      Epoch    GPU_mem   box_loss   cls_loss   dfl_loss  Instances       Size\n"
     ]
    },
    {
     "name": "stderr",
     "output_type": "stream",
     "text": [
      "     95/120         5G    0.04713     0.2276     0.8897         45        640: 100%|██████████| 188/188 [00:18<00:00,  9.90it/s]\n",
      "                 Class     Images  Instances      Box(P          R      mAP50  mAP50-95): 100%|██████████| 15/15 [00:02<00:00,  6.06it/s]"
     ]
    },
    {
     "name": "stdout",
     "output_type": "stream",
     "text": [
      "                   all        923        923      0.885      0.902      0.909      0.909\n"
     ]
    },
    {
     "name": "stderr",
     "output_type": "stream",
     "text": [
      "\n"
     ]
    },
    {
     "name": "stdout",
     "output_type": "stream",
     "text": [
      "\n",
      "      Epoch    GPU_mem   box_loss   cls_loss   dfl_loss  Instances       Size\n"
     ]
    },
    {
     "name": "stderr",
     "output_type": "stream",
     "text": [
      "     96/120         5G    0.04613     0.2256     0.8879         40        640: 100%|██████████| 188/188 [00:18<00:00,  9.92it/s]\n",
      "                 Class     Images  Instances      Box(P          R      mAP50  mAP50-95): 100%|██████████| 15/15 [00:02<00:00,  6.10it/s]"
     ]
    },
    {
     "name": "stdout",
     "output_type": "stream",
     "text": [
      "                   all        923        923      0.884      0.903       0.91       0.91\n"
     ]
    },
    {
     "name": "stderr",
     "output_type": "stream",
     "text": [
      "\n"
     ]
    },
    {
     "name": "stdout",
     "output_type": "stream",
     "text": [
      "\n",
      "      Epoch    GPU_mem   box_loss   cls_loss   dfl_loss  Instances       Size\n"
     ]
    },
    {
     "name": "stderr",
     "output_type": "stream",
     "text": [
      "     97/120         5G    0.04674     0.2317     0.8862         38        640: 100%|██████████| 188/188 [00:18<00:00,  9.89it/s]\n",
      "                 Class     Images  Instances      Box(P          R      mAP50  mAP50-95): 100%|██████████| 15/15 [00:02<00:00,  6.32it/s]"
     ]
    },
    {
     "name": "stdout",
     "output_type": "stream",
     "text": [
      "                   all        923        923      0.892      0.901      0.909      0.909\n"
     ]
    },
    {
     "name": "stderr",
     "output_type": "stream",
     "text": [
      "\n"
     ]
    },
    {
     "name": "stdout",
     "output_type": "stream",
     "text": [
      "\n",
      "      Epoch    GPU_mem   box_loss   cls_loss   dfl_loss  Instances       Size\n"
     ]
    },
    {
     "name": "stderr",
     "output_type": "stream",
     "text": [
      "     98/120         5G    0.04471     0.2283      0.886         46        640: 100%|██████████| 188/188 [00:18<00:00,  9.96it/s]\n",
      "                 Class     Images  Instances      Box(P          R      mAP50  mAP50-95): 100%|██████████| 15/15 [00:02<00:00,  6.14it/s]"
     ]
    },
    {
     "name": "stdout",
     "output_type": "stream",
     "text": [
      "                   all        923        923      0.895      0.897      0.909      0.909\n"
     ]
    },
    {
     "name": "stderr",
     "output_type": "stream",
     "text": [
      "\n"
     ]
    },
    {
     "name": "stdout",
     "output_type": "stream",
     "text": [
      "\n",
      "      Epoch    GPU_mem   box_loss   cls_loss   dfl_loss  Instances       Size\n"
     ]
    },
    {
     "name": "stderr",
     "output_type": "stream",
     "text": [
      "     99/120         5G    0.04499      0.228     0.8892         42        640: 100%|██████████| 188/188 [00:18<00:00,  9.93it/s]\n",
      "                 Class     Images  Instances      Box(P          R      mAP50  mAP50-95): 100%|██████████| 15/15 [00:02<00:00,  6.24it/s]"
     ]
    },
    {
     "name": "stdout",
     "output_type": "stream",
     "text": [
      "                   all        923        923      0.895        0.9      0.909      0.909\n"
     ]
    },
    {
     "name": "stderr",
     "output_type": "stream",
     "text": [
      "\n"
     ]
    },
    {
     "name": "stdout",
     "output_type": "stream",
     "text": [
      "\n",
      "      Epoch    GPU_mem   box_loss   cls_loss   dfl_loss  Instances       Size\n"
     ]
    },
    {
     "name": "stderr",
     "output_type": "stream",
     "text": [
      "    100/120         5G    0.04254     0.2288      0.887         41        640: 100%|██████████| 188/188 [00:19<00:00,  9.89it/s]\n",
      "                 Class     Images  Instances      Box(P          R      mAP50  mAP50-95): 100%|██████████| 15/15 [00:02<00:00,  6.30it/s]"
     ]
    },
    {
     "name": "stdout",
     "output_type": "stream",
     "text": [
      "                   all        923        923      0.899      0.899       0.91       0.91\n"
     ]
    },
    {
     "name": "stderr",
     "output_type": "stream",
     "text": [
      "\n"
     ]
    },
    {
     "name": "stdout",
     "output_type": "stream",
     "text": [
      "\n",
      "      Epoch    GPU_mem   box_loss   cls_loss   dfl_loss  Instances       Size\n"
     ]
    },
    {
     "name": "stderr",
     "output_type": "stream",
     "text": [
      "    101/120         5G    0.04413     0.2198     0.8878         43        640: 100%|██████████| 188/188 [00:18<00:00, 10.02it/s]\n",
      "                 Class     Images  Instances      Box(P          R      mAP50  mAP50-95): 100%|██████████| 15/15 [00:02<00:00,  6.23it/s]"
     ]
    },
    {
     "name": "stdout",
     "output_type": "stream",
     "text": [
      "                   all        923        923      0.897        0.9       0.91       0.91\n"
     ]
    },
    {
     "name": "stderr",
     "output_type": "stream",
     "text": [
      "\n"
     ]
    },
    {
     "name": "stdout",
     "output_type": "stream",
     "text": [
      "\n",
      "      Epoch    GPU_mem   box_loss   cls_loss   dfl_loss  Instances       Size\n"
     ]
    },
    {
     "name": "stderr",
     "output_type": "stream",
     "text": [
      "    102/120         5G    0.04223     0.2198     0.8884         40        640: 100%|██████████| 188/188 [00:18<00:00,  9.90it/s]\n",
      "                 Class     Images  Instances      Box(P          R      mAP50  mAP50-95): 100%|██████████| 15/15 [00:02<00:00,  6.21it/s]"
     ]
    },
    {
     "name": "stdout",
     "output_type": "stream",
     "text": [
      "                   all        923        923      0.894      0.899      0.909      0.909\n"
     ]
    },
    {
     "name": "stderr",
     "output_type": "stream",
     "text": [
      "\n"
     ]
    },
    {
     "name": "stdout",
     "output_type": "stream",
     "text": [
      "\n",
      "      Epoch    GPU_mem   box_loss   cls_loss   dfl_loss  Instances       Size\n"
     ]
    },
    {
     "name": "stderr",
     "output_type": "stream",
     "text": [
      "    103/120         5G    0.04195     0.2148     0.8867         50        640: 100%|██████████| 188/188 [00:19<00:00,  9.87it/s]\n",
      "                 Class     Images  Instances      Box(P          R      mAP50  mAP50-95): 100%|██████████| 15/15 [00:02<00:00,  6.05it/s]"
     ]
    },
    {
     "name": "stdout",
     "output_type": "stream",
     "text": [
      "                   all        923        923      0.892      0.899      0.909      0.909\n"
     ]
    },
    {
     "name": "stderr",
     "output_type": "stream",
     "text": [
      "\n"
     ]
    },
    {
     "name": "stdout",
     "output_type": "stream",
     "text": [
      "\n",
      "      Epoch    GPU_mem   box_loss   cls_loss   dfl_loss  Instances       Size\n"
     ]
    },
    {
     "name": "stderr",
     "output_type": "stream",
     "text": [
      "    104/120         5G    0.04128      0.212     0.8875         43        640: 100%|██████████| 188/188 [00:19<00:00,  9.88it/s]\n",
      "                 Class     Images  Instances      Box(P          R      mAP50  mAP50-95): 100%|██████████| 15/15 [00:02<00:00,  6.37it/s]"
     ]
    },
    {
     "name": "stdout",
     "output_type": "stream",
     "text": [
      "                   all        923        923      0.895      0.897      0.909      0.909\n"
     ]
    },
    {
     "name": "stderr",
     "output_type": "stream",
     "text": [
      "\n"
     ]
    },
    {
     "name": "stdout",
     "output_type": "stream",
     "text": [
      "\n",
      "      Epoch    GPU_mem   box_loss   cls_loss   dfl_loss  Instances       Size\n"
     ]
    },
    {
     "name": "stderr",
     "output_type": "stream",
     "text": [
      "    105/120         5G    0.04016     0.2023     0.8875         46        640: 100%|██████████| 188/188 [00:19<00:00,  9.87it/s]\n",
      "                 Class     Images  Instances      Box(P          R      mAP50  mAP50-95): 100%|██████████| 15/15 [00:02<00:00,  6.08it/s]"
     ]
    },
    {
     "name": "stdout",
     "output_type": "stream",
     "text": [
      "                   all        923        923      0.896      0.896      0.909      0.909\n"
     ]
    },
    {
     "name": "stderr",
     "output_type": "stream",
     "text": [
      "\n"
     ]
    },
    {
     "name": "stdout",
     "output_type": "stream",
     "text": [
      "\n",
      "      Epoch    GPU_mem   box_loss   cls_loss   dfl_loss  Instances       Size\n"
     ]
    },
    {
     "name": "stderr",
     "output_type": "stream",
     "text": [
      "    106/120         5G     0.0398     0.2055     0.8877         46        640: 100%|██████████| 188/188 [00:18<00:00,  9.97it/s]\n",
      "                 Class     Images  Instances      Box(P          R      mAP50  mAP50-95): 100%|██████████| 15/15 [00:02<00:00,  6.29it/s]"
     ]
    },
    {
     "name": "stdout",
     "output_type": "stream",
     "text": [
      "                   all        923        923      0.895      0.896      0.909      0.909\n"
     ]
    },
    {
     "name": "stderr",
     "output_type": "stream",
     "text": [
      "\n"
     ]
    },
    {
     "name": "stdout",
     "output_type": "stream",
     "text": [
      "\n",
      "      Epoch    GPU_mem   box_loss   cls_loss   dfl_loss  Instances       Size\n"
     ]
    },
    {
     "name": "stderr",
     "output_type": "stream",
     "text": [
      "    107/120         5G    0.04029     0.2095     0.8873         40        640: 100%|██████████| 188/188 [00:18<00:00,  9.93it/s]\n",
      "                 Class     Images  Instances      Box(P          R      mAP50  mAP50-95): 100%|██████████| 15/15 [00:02<00:00,  6.52it/s]"
     ]
    },
    {
     "name": "stdout",
     "output_type": "stream",
     "text": [
      "                   all        923        923      0.885      0.908       0.91       0.91\n"
     ]
    },
    {
     "name": "stderr",
     "output_type": "stream",
     "text": [
      "\n"
     ]
    },
    {
     "name": "stdout",
     "output_type": "stream",
     "text": [
      "\n",
      "      Epoch    GPU_mem   box_loss   cls_loss   dfl_loss  Instances       Size\n"
     ]
    },
    {
     "name": "stderr",
     "output_type": "stream",
     "text": [
      "    108/120         5G    0.03913     0.1994     0.8855         47        640: 100%|██████████| 188/188 [00:18<00:00,  9.94it/s]\n",
      "                 Class     Images  Instances      Box(P          R      mAP50  mAP50-95): 100%|██████████| 15/15 [00:02<00:00,  6.20it/s]"
     ]
    },
    {
     "name": "stdout",
     "output_type": "stream",
     "text": [
      "                   all        923        923      0.891      0.899       0.91       0.91\n"
     ]
    },
    {
     "name": "stderr",
     "output_type": "stream",
     "text": [
      "\n"
     ]
    },
    {
     "name": "stdout",
     "output_type": "stream",
     "text": [
      "\n",
      "      Epoch    GPU_mem   box_loss   cls_loss   dfl_loss  Instances       Size\n"
     ]
    },
    {
     "name": "stderr",
     "output_type": "stream",
     "text": [
      "    109/120         5G    0.03828      0.199     0.8869         42        640: 100%|██████████| 188/188 [00:19<00:00,  9.86it/s]\n",
      "                 Class     Images  Instances      Box(P          R      mAP50  mAP50-95): 100%|██████████| 15/15 [00:02<00:00,  6.55it/s]"
     ]
    },
    {
     "name": "stdout",
     "output_type": "stream",
     "text": [
      "                   all        923        923      0.887        0.9      0.909      0.909\n"
     ]
    },
    {
     "name": "stderr",
     "output_type": "stream",
     "text": [
      "\n"
     ]
    },
    {
     "name": "stdout",
     "output_type": "stream",
     "text": [
      "\n",
      "      Epoch    GPU_mem   box_loss   cls_loss   dfl_loss  Instances       Size\n"
     ]
    },
    {
     "name": "stderr",
     "output_type": "stream",
     "text": [
      "    110/120         5G    0.03721     0.1991     0.8862         45        640: 100%|██████████| 188/188 [00:19<00:00,  9.86it/s]\n",
      "                 Class     Images  Instances      Box(P          R      mAP50  mAP50-95): 100%|██████████| 15/15 [00:02<00:00,  6.21it/s]"
     ]
    },
    {
     "name": "stdout",
     "output_type": "stream",
     "text": [
      "                   all        923        923      0.885      0.901      0.909      0.909\n"
     ]
    },
    {
     "name": "stderr",
     "output_type": "stream",
     "text": [
      "\n"
     ]
    },
    {
     "name": "stdout",
     "output_type": "stream",
     "text": [
      "Closing dataloader mosaic\n",
      "\n",
      "      Epoch    GPU_mem   box_loss   cls_loss   dfl_loss  Instances       Size\n"
     ]
    },
    {
     "name": "stderr",
     "output_type": "stream",
     "text": [
      "    111/120      5.34G    0.03021     0.1027     0.8993         14        640: 100%|██████████| 188/188 [00:19<00:00,  9.71it/s]\n",
      "                 Class     Images  Instances      Box(P          R      mAP50  mAP50-95): 100%|██████████| 15/15 [00:02<00:00,  6.19it/s]"
     ]
    },
    {
     "name": "stdout",
     "output_type": "stream",
     "text": [
      "                   all        923        923      0.896      0.891      0.909      0.909\n"
     ]
    },
    {
     "name": "stderr",
     "output_type": "stream",
     "text": [
      "\n"
     ]
    },
    {
     "name": "stdout",
     "output_type": "stream",
     "text": [
      "\n",
      "      Epoch    GPU_mem   box_loss   cls_loss   dfl_loss  Instances       Size\n"
     ]
    },
    {
     "name": "stderr",
     "output_type": "stream",
     "text": [
      "    112/120         5G    0.02604    0.05928     0.8995         14        640: 100%|██████████| 188/188 [00:18<00:00, 10.26it/s]\n",
      "                 Class     Images  Instances      Box(P          R      mAP50  mAP50-95): 100%|██████████| 15/15 [00:02<00:00,  6.54it/s]"
     ]
    },
    {
     "name": "stdout",
     "output_type": "stream",
     "text": [
      "                   all        923        923      0.884      0.905       0.91       0.91\n"
     ]
    },
    {
     "name": "stderr",
     "output_type": "stream",
     "text": [
      "\n"
     ]
    },
    {
     "name": "stdout",
     "output_type": "stream",
     "text": [
      "\n",
      "      Epoch    GPU_mem   box_loss   cls_loss   dfl_loss  Instances       Size\n"
     ]
    },
    {
     "name": "stderr",
     "output_type": "stream",
     "text": [
      "    113/120         5G    0.02589    0.05502     0.8976         14        640: 100%|██████████| 188/188 [00:18<00:00, 10.18it/s]\n",
      "                 Class     Images  Instances      Box(P          R      mAP50  mAP50-95): 100%|██████████| 15/15 [00:02<00:00,  6.18it/s]"
     ]
    },
    {
     "name": "stdout",
     "output_type": "stream",
     "text": [
      "                   all        923        923      0.887      0.904       0.91       0.91\n"
     ]
    },
    {
     "name": "stderr",
     "output_type": "stream",
     "text": [
      "\n"
     ]
    },
    {
     "name": "stdout",
     "output_type": "stream",
     "text": [
      "\n",
      "      Epoch    GPU_mem   box_loss   cls_loss   dfl_loss  Instances       Size\n"
     ]
    },
    {
     "name": "stderr",
     "output_type": "stream",
     "text": [
      "    114/120         5G    0.02384    0.04969     0.9021         14        640: 100%|██████████| 188/188 [00:18<00:00, 10.15it/s]\n",
      "                 Class     Images  Instances      Box(P          R      mAP50  mAP50-95): 100%|██████████| 15/15 [00:02<00:00,  6.43it/s]"
     ]
    },
    {
     "name": "stdout",
     "output_type": "stream",
     "text": [
      "                   all        923        923      0.885      0.904       0.91       0.91\n"
     ]
    },
    {
     "name": "stderr",
     "output_type": "stream",
     "text": [
      "\n"
     ]
    },
    {
     "name": "stdout",
     "output_type": "stream",
     "text": [
      "\n",
      "      Epoch    GPU_mem   box_loss   cls_loss   dfl_loss  Instances       Size\n"
     ]
    },
    {
     "name": "stderr",
     "output_type": "stream",
     "text": [
      "    115/120         5G     0.0221     0.0475      0.901         14        640: 100%|██████████| 188/188 [00:18<00:00, 10.14it/s]\n",
      "                 Class     Images  Instances      Box(P          R      mAP50  mAP50-95): 100%|██████████| 15/15 [00:02<00:00,  6.12it/s]"
     ]
    },
    {
     "name": "stdout",
     "output_type": "stream",
     "text": [
      "                   all        923        923      0.885      0.904      0.909      0.909\n"
     ]
    },
    {
     "name": "stderr",
     "output_type": "stream",
     "text": [
      "\n"
     ]
    },
    {
     "name": "stdout",
     "output_type": "stream",
     "text": [
      "\n",
      "      Epoch    GPU_mem   box_loss   cls_loss   dfl_loss  Instances       Size\n"
     ]
    },
    {
     "name": "stderr",
     "output_type": "stream",
     "text": [
      "    116/120         5G        inf    0.04676     0.8973         14        640: 100%|██████████| 188/188 [00:18<00:00, 10.12it/s]\n",
      "                 Class     Images  Instances      Box(P          R      mAP50  mAP50-95): 100%|██████████| 15/15 [00:02<00:00,  6.59it/s]"
     ]
    },
    {
     "name": "stdout",
     "output_type": "stream",
     "text": [
      "                   all        923        923      0.883      0.907      0.909      0.909\n"
     ]
    },
    {
     "name": "stderr",
     "output_type": "stream",
     "text": [
      "\n"
     ]
    },
    {
     "name": "stdout",
     "output_type": "stream",
     "text": [
      "\n",
      "      Epoch    GPU_mem   box_loss   cls_loss   dfl_loss  Instances       Size\n"
     ]
    },
    {
     "name": "stderr",
     "output_type": "stream",
     "text": [
      "    117/120         5G    0.02043    0.04132     0.8989         14        640: 100%|██████████| 188/188 [00:18<00:00, 10.12it/s]\n",
      "                 Class     Images  Instances      Box(P          R      mAP50  mAP50-95): 100%|██████████| 15/15 [00:02<00:00,  6.22it/s]"
     ]
    },
    {
     "name": "stdout",
     "output_type": "stream",
     "text": [
      "                   all        923        923      0.892      0.898      0.909      0.909\n"
     ]
    },
    {
     "name": "stderr",
     "output_type": "stream",
     "text": [
      "\n"
     ]
    },
    {
     "name": "stdout",
     "output_type": "stream",
     "text": [
      "\n",
      "      Epoch    GPU_mem   box_loss   cls_loss   dfl_loss  Instances       Size\n"
     ]
    },
    {
     "name": "stderr",
     "output_type": "stream",
     "text": [
      "    118/120         5G    0.01968    0.03907     0.8998         14        640: 100%|██████████| 188/188 [00:18<00:00, 10.15it/s]\n",
      "                 Class     Images  Instances      Box(P          R      mAP50  mAP50-95): 100%|██████████| 15/15 [00:02<00:00,  6.10it/s]"
     ]
    },
    {
     "name": "stdout",
     "output_type": "stream",
     "text": [
      "                   all        923        923      0.889      0.902      0.909      0.909\n"
     ]
    },
    {
     "name": "stderr",
     "output_type": "stream",
     "text": [
      "\n"
     ]
    },
    {
     "name": "stdout",
     "output_type": "stream",
     "text": [
      "\n",
      "      Epoch    GPU_mem   box_loss   cls_loss   dfl_loss  Instances       Size\n"
     ]
    },
    {
     "name": "stderr",
     "output_type": "stream",
     "text": [
      "    119/120         5G    0.01851    0.03801      0.901         14        640: 100%|██████████| 188/188 [00:18<00:00, 10.17it/s]\n",
      "                 Class     Images  Instances      Box(P          R      mAP50  mAP50-95): 100%|██████████| 15/15 [00:02<00:00,  6.29it/s]"
     ]
    },
    {
     "name": "stdout",
     "output_type": "stream",
     "text": [
      "                   all        923        923      0.887      0.902      0.909      0.909\n"
     ]
    },
    {
     "name": "stderr",
     "output_type": "stream",
     "text": [
      "\n"
     ]
    },
    {
     "name": "stdout",
     "output_type": "stream",
     "text": [
      "\n",
      "      Epoch    GPU_mem   box_loss   cls_loss   dfl_loss  Instances       Size\n"
     ]
    },
    {
     "name": "stderr",
     "output_type": "stream",
     "text": [
      "    120/120         5G    0.01839    0.03599     0.8981         14        640: 100%|██████████| 188/188 [00:18<00:00, 10.16it/s]\n",
      "                 Class     Images  Instances      Box(P          R      mAP50  mAP50-95): 100%|██████████| 15/15 [00:02<00:00,  6.15it/s]"
     ]
    },
    {
     "name": "stdout",
     "output_type": "stream",
     "text": [
      "                   all        923        923      0.889      0.901      0.909      0.909\n"
     ]
    },
    {
     "name": "stderr",
     "output_type": "stream",
     "text": [
      "\n"
     ]
    },
    {
     "name": "stdout",
     "output_type": "stream",
     "text": [
      "\n",
      "120 epochs completed in 0.728 hours.\n",
      "Optimizer stripped from runs/detect/train9/weights/last.pt, 5.5MB\n",
      "Optimizer stripped from runs/detect/train9/weights/best.pt, 5.5MB\n",
      "\n",
      "Validating runs/detect/train9/weights/best.pt...\n",
      "WARNING ⚠️ validating an untrained model YAML will result in 0 mAP.\n",
      "Ultralytics 8.3.23 🚀 Python-3.10.10 torch-2.2.1+cu121 CUDA:0 (NVIDIA L40S, 45596MiB)\n",
      "YOLO11n summary (fused): 238 layers, 2,584,492 parameters, 0 gradients, 6.3 GFLOPs\n"
     ]
    },
    {
     "name": "stderr",
     "output_type": "stream",
     "text": [
      "                 Class     Images  Instances      Box(P          R      mAP50  mAP50-95): 100%|██████████| 15/15 [00:03<00:00,  4.53it/s]\n"
     ]
    },
    {
     "name": "stdout",
     "output_type": "stream",
     "text": [
      "                   all        923        923      0.897        0.9       0.91       0.91\n",
      "  TomatoeBacterialSpot         95         95      0.989      0.965      0.994      0.994\n",
      "    TomatoeEarlyblight         47         47      0.996      0.894       0.98       0.98\n",
      "        TomatoeHealthy         85         85      0.989          1      0.995      0.995\n",
      "     TomatoeLateBlight         87         87      0.969          1      0.991      0.991\n",
      "       TomatoeLeafMold         43         43          1      0.983      0.995      0.995\n",
      "TomatoeSeptoriaLeafSpot         14         14          0          0          0          0\n",
      "    TomatoeSpiderMites         68         68      0.965          1      0.995      0.995\n",
      "     TomatoeTargetSpot         82         82      0.885          1      0.991      0.991\n",
      "    TomatoeMosaicVirus         72         72      0.971      0.986      0.991      0.991\n",
      "TomatoeYellowLeafCurlVirus        110        110          1      0.986      0.995      0.995\n",
      "PepperBellBacterialSpot        110        110          1      0.995      0.995      0.995\n",
      "     PepperBellHealthy        110        110          1      0.997      0.995      0.995\n",
      "Speed: 0.1ms preprocess, 0.4ms inference, 0.0ms loss, 0.7ms postprocess per image\n",
      "Results saved to \u001b[1mruns/detect/train9\u001b[0m\n"
     ]
    }
   ],
   "source": [
    "\n",
    "# Load a COCO-pretrained YOLO11n model\n",
    "#model = YOLO(\"yolo11l.pt\")\n",
    "model = YOLO(\"yolo11s.pt\") \n",
    "results = model.train(data=\"/teamspace/studios/this_studio/Cleaned_without_cucumber/data.yaml\", epochs=120, imgsz=640,batch=32,dropout=0.2,)\n",
    "\n"
   ]
  },
  {
   "cell_type": "code",
   "execution_count": 3,
   "metadata": {},
   "outputs": [
    {
     "name": "stdout",
     "output_type": "stream",
     "text": [
      "WARNING ⚠️ validating an untrained model YAML will result in 0 mAP.\n",
      "Ultralytics 8.3.23 🚀 Python-3.10.10 torch-2.2.1+cu121 CUDA:0 (NVIDIA L40S, 45596MiB)\n",
      "YOLO11n summary (fused): 238 layers, 2,584,492 parameters, 0 gradients, 6.3 GFLOPs\n"
     ]
    },
    {
     "name": "stderr",
     "output_type": "stream",
     "text": [
      "\u001b[34m\u001b[1mval: \u001b[0mScanning /teamspace/studios/this_studio/Cleaned_without_cucumber/valid/labels.cache... 923 images, 0 backgrounds, 0 corrupt: 100%|██████████| 923/923 [00:00<?, ?it/s]\n",
      "                 Class     Images  Instances      Box(P          R      mAP50  mAP50-95): 100%|██████████| 29/29 [00:04<00:00,  6.36it/s]\n"
     ]
    },
    {
     "name": "stdout",
     "output_type": "stream",
     "text": [
      "                   all        923        923      0.897        0.9       0.91       0.91\n",
      "  TomatoeBacterialSpot         95         95      0.989      0.965      0.994      0.994\n",
      "    TomatoeEarlyblight         47         47      0.996      0.894       0.98       0.98\n",
      "        TomatoeHealthy         85         85      0.989          1      0.995      0.995\n",
      "     TomatoeLateBlight         87         87       0.97          1      0.992      0.992\n",
      "       TomatoeLeafMold         43         43          1      0.982      0.995      0.995\n",
      "TomatoeSeptoriaLeafSpot         14         14          0          0          0          0\n",
      "    TomatoeSpiderMites         68         68      0.965          1      0.995      0.995\n",
      "     TomatoeTargetSpot         82         82      0.885          1      0.991      0.991\n",
      "    TomatoeMosaicVirus         72         72      0.971      0.986      0.991      0.991\n",
      "TomatoeYellowLeafCurlVirus        110        110          1      0.986      0.995      0.995\n",
      "PepperBellBacterialSpot        110        110          1      0.995      0.995      0.995\n",
      "     PepperBellHealthy        110        110          1      0.997      0.995      0.995\n",
      "Speed: 0.2ms preprocess, 1.4ms inference, 0.0ms loss, 0.9ms postprocess per image\n",
      "Results saved to \u001b[1mruns/detect/train92\u001b[0m\n"
     ]
    },
    {
     "data": {
      "text/plain": [
       "ultralytics.utils.metrics.DetMetrics object with attributes:\n",
       "\n",
       "ap_class_index: array([ 0,  1,  2,  3,  4,  5,  6,  7,  8,  9, 10, 11])\n",
       "box: ultralytics.utils.metrics.Metric object\n",
       "confusion_matrix: <ultralytics.utils.metrics.ConfusionMatrix object at 0x7f4e73b1e020>\n",
       "curves: ['Precision-Recall(B)', 'F1-Confidence(B)', 'Precision-Confidence(B)', 'Recall-Confidence(B)']\n",
       "curves_results: [[array([          0,    0.001001,    0.002002,    0.003003,    0.004004,    0.005005,    0.006006,    0.007007,    0.008008,    0.009009,     0.01001,    0.011011,    0.012012,    0.013013,    0.014014,    0.015015,    0.016016,    0.017017,    0.018018,    0.019019,     0.02002,    0.021021,    0.022022,    0.023023,\n",
       "          0.024024,    0.025025,    0.026026,    0.027027,    0.028028,    0.029029,     0.03003,    0.031031,    0.032032,    0.033033,    0.034034,    0.035035,    0.036036,    0.037037,    0.038038,    0.039039,     0.04004,    0.041041,    0.042042,    0.043043,    0.044044,    0.045045,    0.046046,    0.047047,\n",
       "          0.048048,    0.049049,     0.05005,    0.051051,    0.052052,    0.053053,    0.054054,    0.055055,    0.056056,    0.057057,    0.058058,    0.059059,     0.06006,    0.061061,    0.062062,    0.063063,    0.064064,    0.065065,    0.066066,    0.067067,    0.068068,    0.069069,     0.07007,    0.071071,\n",
       "          0.072072,    0.073073,    0.074074,    0.075075,    0.076076,    0.077077,    0.078078,    0.079079,     0.08008,    0.081081,    0.082082,    0.083083,    0.084084,    0.085085,    0.086086,    0.087087,    0.088088,    0.089089,     0.09009,    0.091091,    0.092092,    0.093093,    0.094094,    0.095095,\n",
       "          0.096096,    0.097097,    0.098098,    0.099099,      0.1001,      0.1011,      0.1021,      0.1031,      0.1041,     0.10511,     0.10611,     0.10711,     0.10811,     0.10911,     0.11011,     0.11111,     0.11211,     0.11311,     0.11411,     0.11512,     0.11612,     0.11712,     0.11812,     0.11912,\n",
       "           0.12012,     0.12112,     0.12212,     0.12312,     0.12412,     0.12513,     0.12613,     0.12713,     0.12813,     0.12913,     0.13013,     0.13113,     0.13213,     0.13313,     0.13413,     0.13514,     0.13614,     0.13714,     0.13814,     0.13914,     0.14014,     0.14114,     0.14214,     0.14314,\n",
       "           0.14414,     0.14515,     0.14615,     0.14715,     0.14815,     0.14915,     0.15015,     0.15115,     0.15215,     0.15315,     0.15415,     0.15516,     0.15616,     0.15716,     0.15816,     0.15916,     0.16016,     0.16116,     0.16216,     0.16316,     0.16416,     0.16517,     0.16617,     0.16717,\n",
       "           0.16817,     0.16917,     0.17017,     0.17117,     0.17217,     0.17317,     0.17417,     0.17518,     0.17618,     0.17718,     0.17818,     0.17918,     0.18018,     0.18118,     0.18218,     0.18318,     0.18418,     0.18519,     0.18619,     0.18719,     0.18819,     0.18919,     0.19019,     0.19119,\n",
       "           0.19219,     0.19319,     0.19419,      0.1952,      0.1962,      0.1972,      0.1982,      0.1992,      0.2002,      0.2012,      0.2022,      0.2032,      0.2042,     0.20521,     0.20621,     0.20721,     0.20821,     0.20921,     0.21021,     0.21121,     0.21221,     0.21321,     0.21421,     0.21522,\n",
       "           0.21622,     0.21722,     0.21822,     0.21922,     0.22022,     0.22122,     0.22222,     0.22322,     0.22422,     0.22523,     0.22623,     0.22723,     0.22823,     0.22923,     0.23023,     0.23123,     0.23223,     0.23323,     0.23423,     0.23524,     0.23624,     0.23724,     0.23824,     0.23924,\n",
       "           0.24024,     0.24124,     0.24224,     0.24324,     0.24424,     0.24525,     0.24625,     0.24725,     0.24825,     0.24925,     0.25025,     0.25125,     0.25225,     0.25325,     0.25425,     0.25526,     0.25626,     0.25726,     0.25826,     0.25926,     0.26026,     0.26126,     0.26226,     0.26326,\n",
       "           0.26426,     0.26527,     0.26627,     0.26727,     0.26827,     0.26927,     0.27027,     0.27127,     0.27227,     0.27327,     0.27427,     0.27528,     0.27628,     0.27728,     0.27828,     0.27928,     0.28028,     0.28128,     0.28228,     0.28328,     0.28428,     0.28529,     0.28629,     0.28729,\n",
       "           0.28829,     0.28929,     0.29029,     0.29129,     0.29229,     0.29329,     0.29429,      0.2953,      0.2963,      0.2973,      0.2983,      0.2993,      0.3003,      0.3013,      0.3023,      0.3033,      0.3043,     0.30531,     0.30631,     0.30731,     0.30831,     0.30931,     0.31031,     0.31131,\n",
       "           0.31231,     0.31331,     0.31431,     0.31532,     0.31632,     0.31732,     0.31832,     0.31932,     0.32032,     0.32132,     0.32232,     0.32332,     0.32432,     0.32533,     0.32633,     0.32733,     0.32833,     0.32933,     0.33033,     0.33133,     0.33233,     0.33333,     0.33433,     0.33534,\n",
       "           0.33634,     0.33734,     0.33834,     0.33934,     0.34034,     0.34134,     0.34234,     0.34334,     0.34434,     0.34535,     0.34635,     0.34735,     0.34835,     0.34935,     0.35035,     0.35135,     0.35235,     0.35335,     0.35435,     0.35536,     0.35636,     0.35736,     0.35836,     0.35936,\n",
       "           0.36036,     0.36136,     0.36236,     0.36336,     0.36436,     0.36537,     0.36637,     0.36737,     0.36837,     0.36937,     0.37037,     0.37137,     0.37237,     0.37337,     0.37437,     0.37538,     0.37638,     0.37738,     0.37838,     0.37938,     0.38038,     0.38138,     0.38238,     0.38338,\n",
       "           0.38438,     0.38539,     0.38639,     0.38739,     0.38839,     0.38939,     0.39039,     0.39139,     0.39239,     0.39339,     0.39439,      0.3954,      0.3964,      0.3974,      0.3984,      0.3994,      0.4004,      0.4014,      0.4024,      0.4034,      0.4044,     0.40541,     0.40641,     0.40741,\n",
       "           0.40841,     0.40941,     0.41041,     0.41141,     0.41241,     0.41341,     0.41441,     0.41542,     0.41642,     0.41742,     0.41842,     0.41942,     0.42042,     0.42142,     0.42242,     0.42342,     0.42442,     0.42543,     0.42643,     0.42743,     0.42843,     0.42943,     0.43043,     0.43143,\n",
       "           0.43243,     0.43343,     0.43443,     0.43544,     0.43644,     0.43744,     0.43844,     0.43944,     0.44044,     0.44144,     0.44244,     0.44344,     0.44444,     0.44545,     0.44645,     0.44745,     0.44845,     0.44945,     0.45045,     0.45145,     0.45245,     0.45345,     0.45445,     0.45546,\n",
       "           0.45646,     0.45746,     0.45846,     0.45946,     0.46046,     0.46146,     0.46246,     0.46346,     0.46446,     0.46547,     0.46647,     0.46747,     0.46847,     0.46947,     0.47047,     0.47147,     0.47247,     0.47347,     0.47447,     0.47548,     0.47648,     0.47748,     0.47848,     0.47948,\n",
       "           0.48048,     0.48148,     0.48248,     0.48348,     0.48448,     0.48549,     0.48649,     0.48749,     0.48849,     0.48949,     0.49049,     0.49149,     0.49249,     0.49349,     0.49449,      0.4955,      0.4965,      0.4975,      0.4985,      0.4995,      0.5005,      0.5015,      0.5025,      0.5035,\n",
       "            0.5045,     0.50551,     0.50651,     0.50751,     0.50851,     0.50951,     0.51051,     0.51151,     0.51251,     0.51351,     0.51451,     0.51552,     0.51652,     0.51752,     0.51852,     0.51952,     0.52052,     0.52152,     0.52252,     0.52352,     0.52452,     0.52553,     0.52653,     0.52753,\n",
       "           0.52853,     0.52953,     0.53053,     0.53153,     0.53253,     0.53353,     0.53453,     0.53554,     0.53654,     0.53754,     0.53854,     0.53954,     0.54054,     0.54154,     0.54254,     0.54354,     0.54454,     0.54555,     0.54655,     0.54755,     0.54855,     0.54955,     0.55055,     0.55155,\n",
       "           0.55255,     0.55355,     0.55455,     0.55556,     0.55656,     0.55756,     0.55856,     0.55956,     0.56056,     0.56156,     0.56256,     0.56356,     0.56456,     0.56557,     0.56657,     0.56757,     0.56857,     0.56957,     0.57057,     0.57157,     0.57257,     0.57357,     0.57457,     0.57558,\n",
       "           0.57658,     0.57758,     0.57858,     0.57958,     0.58058,     0.58158,     0.58258,     0.58358,     0.58458,     0.58559,     0.58659,     0.58759,     0.58859,     0.58959,     0.59059,     0.59159,     0.59259,     0.59359,     0.59459,      0.5956,      0.5966,      0.5976,      0.5986,      0.5996,\n",
       "            0.6006,      0.6016,      0.6026,      0.6036,      0.6046,     0.60561,     0.60661,     0.60761,     0.60861,     0.60961,     0.61061,     0.61161,     0.61261,     0.61361,     0.61461,     0.61562,     0.61662,     0.61762,     0.61862,     0.61962,     0.62062,     0.62162,     0.62262,     0.62362,\n",
       "           0.62462,     0.62563,     0.62663,     0.62763,     0.62863,     0.62963,     0.63063,     0.63163,     0.63263,     0.63363,     0.63463,     0.63564,     0.63664,     0.63764,     0.63864,     0.63964,     0.64064,     0.64164,     0.64264,     0.64364,     0.64464,     0.64565,     0.64665,     0.64765,\n",
       "           0.64865,     0.64965,     0.65065,     0.65165,     0.65265,     0.65365,     0.65465,     0.65566,     0.65666,     0.65766,     0.65866,     0.65966,     0.66066,     0.66166,     0.66266,     0.66366,     0.66466,     0.66567,     0.66667,     0.66767,     0.66867,     0.66967,     0.67067,     0.67167,\n",
       "           0.67267,     0.67367,     0.67467,     0.67568,     0.67668,     0.67768,     0.67868,     0.67968,     0.68068,     0.68168,     0.68268,     0.68368,     0.68468,     0.68569,     0.68669,     0.68769,     0.68869,     0.68969,     0.69069,     0.69169,     0.69269,     0.69369,     0.69469,      0.6957,\n",
       "            0.6967,      0.6977,      0.6987,      0.6997,      0.7007,      0.7017,      0.7027,      0.7037,      0.7047,     0.70571,     0.70671,     0.70771,     0.70871,     0.70971,     0.71071,     0.71171,     0.71271,     0.71371,     0.71471,     0.71572,     0.71672,     0.71772,     0.71872,     0.71972,\n",
       "           0.72072,     0.72172,     0.72272,     0.72372,     0.72472,     0.72573,     0.72673,     0.72773,     0.72873,     0.72973,     0.73073,     0.73173,     0.73273,     0.73373,     0.73473,     0.73574,     0.73674,     0.73774,     0.73874,     0.73974,     0.74074,     0.74174,     0.74274,     0.74374,\n",
       "           0.74474,     0.74575,     0.74675,     0.74775,     0.74875,     0.74975,     0.75075,     0.75175,     0.75275,     0.75375,     0.75475,     0.75576,     0.75676,     0.75776,     0.75876,     0.75976,     0.76076,     0.76176,     0.76276,     0.76376,     0.76476,     0.76577,     0.76677,     0.76777,\n",
       "           0.76877,     0.76977,     0.77077,     0.77177,     0.77277,     0.77377,     0.77477,     0.77578,     0.77678,     0.77778,     0.77878,     0.77978,     0.78078,     0.78178,     0.78278,     0.78378,     0.78478,     0.78579,     0.78679,     0.78779,     0.78879,     0.78979,     0.79079,     0.79179,\n",
       "           0.79279,     0.79379,     0.79479,      0.7958,      0.7968,      0.7978,      0.7988,      0.7998,      0.8008,      0.8018,      0.8028,      0.8038,      0.8048,     0.80581,     0.80681,     0.80781,     0.80881,     0.80981,     0.81081,     0.81181,     0.81281,     0.81381,     0.81481,     0.81582,\n",
       "           0.81682,     0.81782,     0.81882,     0.81982,     0.82082,     0.82182,     0.82282,     0.82382,     0.82482,     0.82583,     0.82683,     0.82783,     0.82883,     0.82983,     0.83083,     0.83183,     0.83283,     0.83383,     0.83483,     0.83584,     0.83684,     0.83784,     0.83884,     0.83984,\n",
       "           0.84084,     0.84184,     0.84284,     0.84384,     0.84484,     0.84585,     0.84685,     0.84785,     0.84885,     0.84985,     0.85085,     0.85185,     0.85285,     0.85385,     0.85485,     0.85586,     0.85686,     0.85786,     0.85886,     0.85986,     0.86086,     0.86186,     0.86286,     0.86386,\n",
       "           0.86486,     0.86587,     0.86687,     0.86787,     0.86887,     0.86987,     0.87087,     0.87187,     0.87287,     0.87387,     0.87487,     0.87588,     0.87688,     0.87788,     0.87888,     0.87988,     0.88088,     0.88188,     0.88288,     0.88388,     0.88488,     0.88589,     0.88689,     0.88789,\n",
       "           0.88889,     0.88989,     0.89089,     0.89189,     0.89289,     0.89389,     0.89489,      0.8959,      0.8969,      0.8979,      0.8989,      0.8999,      0.9009,      0.9019,      0.9029,      0.9039,      0.9049,     0.90591,     0.90691,     0.90791,     0.90891,     0.90991,     0.91091,     0.91191,\n",
       "           0.91291,     0.91391,     0.91491,     0.91592,     0.91692,     0.91792,     0.91892,     0.91992,     0.92092,     0.92192,     0.92292,     0.92392,     0.92492,     0.92593,     0.92693,     0.92793,     0.92893,     0.92993,     0.93093,     0.93193,     0.93293,     0.93393,     0.93493,     0.93594,\n",
       "           0.93694,     0.93794,     0.93894,     0.93994,     0.94094,     0.94194,     0.94294,     0.94394,     0.94494,     0.94595,     0.94695,     0.94795,     0.94895,     0.94995,     0.95095,     0.95195,     0.95295,     0.95395,     0.95495,     0.95596,     0.95696,     0.95796,     0.95896,     0.95996,\n",
       "           0.96096,     0.96196,     0.96296,     0.96396,     0.96496,     0.96597,     0.96697,     0.96797,     0.96897,     0.96997,     0.97097,     0.97197,     0.97297,     0.97397,     0.97497,     0.97598,     0.97698,     0.97798,     0.97898,     0.97998,     0.98098,     0.98198,     0.98298,     0.98398,\n",
       "           0.98498,     0.98599,     0.98699,     0.98799,     0.98899,     0.98999,     0.99099,     0.99199,     0.99299,     0.99399,     0.99499,       0.996,       0.997,       0.998,       0.999,           1]), array([[          1,           1,           1, ...,        0.95,        0.95,           0],\n",
       "       [          1,           1,           1, ...,     0.41593,     0.41593,           0],\n",
       "       [          1,           1,           1, ...,           1,           1,           0],\n",
       "       ...,\n",
       "       [          1,           1,           1, ...,     0.99099,     0.99099,           0],\n",
       "       [          1,           1,           1, ...,           1,           1,           0],\n",
       "       [          1,           1,           1, ...,           1,           1,           0]]), 'Recall', 'Precision'], [array([          0,    0.001001,    0.002002,    0.003003,    0.004004,    0.005005,    0.006006,    0.007007,    0.008008,    0.009009,     0.01001,    0.011011,    0.012012,    0.013013,    0.014014,    0.015015,    0.016016,    0.017017,    0.018018,    0.019019,     0.02002,    0.021021,    0.022022,    0.023023,\n",
       "          0.024024,    0.025025,    0.026026,    0.027027,    0.028028,    0.029029,     0.03003,    0.031031,    0.032032,    0.033033,    0.034034,    0.035035,    0.036036,    0.037037,    0.038038,    0.039039,     0.04004,    0.041041,    0.042042,    0.043043,    0.044044,    0.045045,    0.046046,    0.047047,\n",
       "          0.048048,    0.049049,     0.05005,    0.051051,    0.052052,    0.053053,    0.054054,    0.055055,    0.056056,    0.057057,    0.058058,    0.059059,     0.06006,    0.061061,    0.062062,    0.063063,    0.064064,    0.065065,    0.066066,    0.067067,    0.068068,    0.069069,     0.07007,    0.071071,\n",
       "          0.072072,    0.073073,    0.074074,    0.075075,    0.076076,    0.077077,    0.078078,    0.079079,     0.08008,    0.081081,    0.082082,    0.083083,    0.084084,    0.085085,    0.086086,    0.087087,    0.088088,    0.089089,     0.09009,    0.091091,    0.092092,    0.093093,    0.094094,    0.095095,\n",
       "          0.096096,    0.097097,    0.098098,    0.099099,      0.1001,      0.1011,      0.1021,      0.1031,      0.1041,     0.10511,     0.10611,     0.10711,     0.10811,     0.10911,     0.11011,     0.11111,     0.11211,     0.11311,     0.11411,     0.11512,     0.11612,     0.11712,     0.11812,     0.11912,\n",
       "           0.12012,     0.12112,     0.12212,     0.12312,     0.12412,     0.12513,     0.12613,     0.12713,     0.12813,     0.12913,     0.13013,     0.13113,     0.13213,     0.13313,     0.13413,     0.13514,     0.13614,     0.13714,     0.13814,     0.13914,     0.14014,     0.14114,     0.14214,     0.14314,\n",
       "           0.14414,     0.14515,     0.14615,     0.14715,     0.14815,     0.14915,     0.15015,     0.15115,     0.15215,     0.15315,     0.15415,     0.15516,     0.15616,     0.15716,     0.15816,     0.15916,     0.16016,     0.16116,     0.16216,     0.16316,     0.16416,     0.16517,     0.16617,     0.16717,\n",
       "           0.16817,     0.16917,     0.17017,     0.17117,     0.17217,     0.17317,     0.17417,     0.17518,     0.17618,     0.17718,     0.17818,     0.17918,     0.18018,     0.18118,     0.18218,     0.18318,     0.18418,     0.18519,     0.18619,     0.18719,     0.18819,     0.18919,     0.19019,     0.19119,\n",
       "           0.19219,     0.19319,     0.19419,      0.1952,      0.1962,      0.1972,      0.1982,      0.1992,      0.2002,      0.2012,      0.2022,      0.2032,      0.2042,     0.20521,     0.20621,     0.20721,     0.20821,     0.20921,     0.21021,     0.21121,     0.21221,     0.21321,     0.21421,     0.21522,\n",
       "           0.21622,     0.21722,     0.21822,     0.21922,     0.22022,     0.22122,     0.22222,     0.22322,     0.22422,     0.22523,     0.22623,     0.22723,     0.22823,     0.22923,     0.23023,     0.23123,     0.23223,     0.23323,     0.23423,     0.23524,     0.23624,     0.23724,     0.23824,     0.23924,\n",
       "           0.24024,     0.24124,     0.24224,     0.24324,     0.24424,     0.24525,     0.24625,     0.24725,     0.24825,     0.24925,     0.25025,     0.25125,     0.25225,     0.25325,     0.25425,     0.25526,     0.25626,     0.25726,     0.25826,     0.25926,     0.26026,     0.26126,     0.26226,     0.26326,\n",
       "           0.26426,     0.26527,     0.26627,     0.26727,     0.26827,     0.26927,     0.27027,     0.27127,     0.27227,     0.27327,     0.27427,     0.27528,     0.27628,     0.27728,     0.27828,     0.27928,     0.28028,     0.28128,     0.28228,     0.28328,     0.28428,     0.28529,     0.28629,     0.28729,\n",
       "           0.28829,     0.28929,     0.29029,     0.29129,     0.29229,     0.29329,     0.29429,      0.2953,      0.2963,      0.2973,      0.2983,      0.2993,      0.3003,      0.3013,      0.3023,      0.3033,      0.3043,     0.30531,     0.30631,     0.30731,     0.30831,     0.30931,     0.31031,     0.31131,\n",
       "           0.31231,     0.31331,     0.31431,     0.31532,     0.31632,     0.31732,     0.31832,     0.31932,     0.32032,     0.32132,     0.32232,     0.32332,     0.32432,     0.32533,     0.32633,     0.32733,     0.32833,     0.32933,     0.33033,     0.33133,     0.33233,     0.33333,     0.33433,     0.33534,\n",
       "           0.33634,     0.33734,     0.33834,     0.33934,     0.34034,     0.34134,     0.34234,     0.34334,     0.34434,     0.34535,     0.34635,     0.34735,     0.34835,     0.34935,     0.35035,     0.35135,     0.35235,     0.35335,     0.35435,     0.35536,     0.35636,     0.35736,     0.35836,     0.35936,\n",
       "           0.36036,     0.36136,     0.36236,     0.36336,     0.36436,     0.36537,     0.36637,     0.36737,     0.36837,     0.36937,     0.37037,     0.37137,     0.37237,     0.37337,     0.37437,     0.37538,     0.37638,     0.37738,     0.37838,     0.37938,     0.38038,     0.38138,     0.38238,     0.38338,\n",
       "           0.38438,     0.38539,     0.38639,     0.38739,     0.38839,     0.38939,     0.39039,     0.39139,     0.39239,     0.39339,     0.39439,      0.3954,      0.3964,      0.3974,      0.3984,      0.3994,      0.4004,      0.4014,      0.4024,      0.4034,      0.4044,     0.40541,     0.40641,     0.40741,\n",
       "           0.40841,     0.40941,     0.41041,     0.41141,     0.41241,     0.41341,     0.41441,     0.41542,     0.41642,     0.41742,     0.41842,     0.41942,     0.42042,     0.42142,     0.42242,     0.42342,     0.42442,     0.42543,     0.42643,     0.42743,     0.42843,     0.42943,     0.43043,     0.43143,\n",
       "           0.43243,     0.43343,     0.43443,     0.43544,     0.43644,     0.43744,     0.43844,     0.43944,     0.44044,     0.44144,     0.44244,     0.44344,     0.44444,     0.44545,     0.44645,     0.44745,     0.44845,     0.44945,     0.45045,     0.45145,     0.45245,     0.45345,     0.45445,     0.45546,\n",
       "           0.45646,     0.45746,     0.45846,     0.45946,     0.46046,     0.46146,     0.46246,     0.46346,     0.46446,     0.46547,     0.46647,     0.46747,     0.46847,     0.46947,     0.47047,     0.47147,     0.47247,     0.47347,     0.47447,     0.47548,     0.47648,     0.47748,     0.47848,     0.47948,\n",
       "           0.48048,     0.48148,     0.48248,     0.48348,     0.48448,     0.48549,     0.48649,     0.48749,     0.48849,     0.48949,     0.49049,     0.49149,     0.49249,     0.49349,     0.49449,      0.4955,      0.4965,      0.4975,      0.4985,      0.4995,      0.5005,      0.5015,      0.5025,      0.5035,\n",
       "            0.5045,     0.50551,     0.50651,     0.50751,     0.50851,     0.50951,     0.51051,     0.51151,     0.51251,     0.51351,     0.51451,     0.51552,     0.51652,     0.51752,     0.51852,     0.51952,     0.52052,     0.52152,     0.52252,     0.52352,     0.52452,     0.52553,     0.52653,     0.52753,\n",
       "           0.52853,     0.52953,     0.53053,     0.53153,     0.53253,     0.53353,     0.53453,     0.53554,     0.53654,     0.53754,     0.53854,     0.53954,     0.54054,     0.54154,     0.54254,     0.54354,     0.54454,     0.54555,     0.54655,     0.54755,     0.54855,     0.54955,     0.55055,     0.55155,\n",
       "           0.55255,     0.55355,     0.55455,     0.55556,     0.55656,     0.55756,     0.55856,     0.55956,     0.56056,     0.56156,     0.56256,     0.56356,     0.56456,     0.56557,     0.56657,     0.56757,     0.56857,     0.56957,     0.57057,     0.57157,     0.57257,     0.57357,     0.57457,     0.57558,\n",
       "           0.57658,     0.57758,     0.57858,     0.57958,     0.58058,     0.58158,     0.58258,     0.58358,     0.58458,     0.58559,     0.58659,     0.58759,     0.58859,     0.58959,     0.59059,     0.59159,     0.59259,     0.59359,     0.59459,      0.5956,      0.5966,      0.5976,      0.5986,      0.5996,\n",
       "            0.6006,      0.6016,      0.6026,      0.6036,      0.6046,     0.60561,     0.60661,     0.60761,     0.60861,     0.60961,     0.61061,     0.61161,     0.61261,     0.61361,     0.61461,     0.61562,     0.61662,     0.61762,     0.61862,     0.61962,     0.62062,     0.62162,     0.62262,     0.62362,\n",
       "           0.62462,     0.62563,     0.62663,     0.62763,     0.62863,     0.62963,     0.63063,     0.63163,     0.63263,     0.63363,     0.63463,     0.63564,     0.63664,     0.63764,     0.63864,     0.63964,     0.64064,     0.64164,     0.64264,     0.64364,     0.64464,     0.64565,     0.64665,     0.64765,\n",
       "           0.64865,     0.64965,     0.65065,     0.65165,     0.65265,     0.65365,     0.65465,     0.65566,     0.65666,     0.65766,     0.65866,     0.65966,     0.66066,     0.66166,     0.66266,     0.66366,     0.66466,     0.66567,     0.66667,     0.66767,     0.66867,     0.66967,     0.67067,     0.67167,\n",
       "           0.67267,     0.67367,     0.67467,     0.67568,     0.67668,     0.67768,     0.67868,     0.67968,     0.68068,     0.68168,     0.68268,     0.68368,     0.68468,     0.68569,     0.68669,     0.68769,     0.68869,     0.68969,     0.69069,     0.69169,     0.69269,     0.69369,     0.69469,      0.6957,\n",
       "            0.6967,      0.6977,      0.6987,      0.6997,      0.7007,      0.7017,      0.7027,      0.7037,      0.7047,     0.70571,     0.70671,     0.70771,     0.70871,     0.70971,     0.71071,     0.71171,     0.71271,     0.71371,     0.71471,     0.71572,     0.71672,     0.71772,     0.71872,     0.71972,\n",
       "           0.72072,     0.72172,     0.72272,     0.72372,     0.72472,     0.72573,     0.72673,     0.72773,     0.72873,     0.72973,     0.73073,     0.73173,     0.73273,     0.73373,     0.73473,     0.73574,     0.73674,     0.73774,     0.73874,     0.73974,     0.74074,     0.74174,     0.74274,     0.74374,\n",
       "           0.74474,     0.74575,     0.74675,     0.74775,     0.74875,     0.74975,     0.75075,     0.75175,     0.75275,     0.75375,     0.75475,     0.75576,     0.75676,     0.75776,     0.75876,     0.75976,     0.76076,     0.76176,     0.76276,     0.76376,     0.76476,     0.76577,     0.76677,     0.76777,\n",
       "           0.76877,     0.76977,     0.77077,     0.77177,     0.77277,     0.77377,     0.77477,     0.77578,     0.77678,     0.77778,     0.77878,     0.77978,     0.78078,     0.78178,     0.78278,     0.78378,     0.78478,     0.78579,     0.78679,     0.78779,     0.78879,     0.78979,     0.79079,     0.79179,\n",
       "           0.79279,     0.79379,     0.79479,      0.7958,      0.7968,      0.7978,      0.7988,      0.7998,      0.8008,      0.8018,      0.8028,      0.8038,      0.8048,     0.80581,     0.80681,     0.80781,     0.80881,     0.80981,     0.81081,     0.81181,     0.81281,     0.81381,     0.81481,     0.81582,\n",
       "           0.81682,     0.81782,     0.81882,     0.81982,     0.82082,     0.82182,     0.82282,     0.82382,     0.82482,     0.82583,     0.82683,     0.82783,     0.82883,     0.82983,     0.83083,     0.83183,     0.83283,     0.83383,     0.83483,     0.83584,     0.83684,     0.83784,     0.83884,     0.83984,\n",
       "           0.84084,     0.84184,     0.84284,     0.84384,     0.84484,     0.84585,     0.84685,     0.84785,     0.84885,     0.84985,     0.85085,     0.85185,     0.85285,     0.85385,     0.85485,     0.85586,     0.85686,     0.85786,     0.85886,     0.85986,     0.86086,     0.86186,     0.86286,     0.86386,\n",
       "           0.86486,     0.86587,     0.86687,     0.86787,     0.86887,     0.86987,     0.87087,     0.87187,     0.87287,     0.87387,     0.87487,     0.87588,     0.87688,     0.87788,     0.87888,     0.87988,     0.88088,     0.88188,     0.88288,     0.88388,     0.88488,     0.88589,     0.88689,     0.88789,\n",
       "           0.88889,     0.88989,     0.89089,     0.89189,     0.89289,     0.89389,     0.89489,      0.8959,      0.8969,      0.8979,      0.8989,      0.8999,      0.9009,      0.9019,      0.9029,      0.9039,      0.9049,     0.90591,     0.90691,     0.90791,     0.90891,     0.90991,     0.91091,     0.91191,\n",
       "           0.91291,     0.91391,     0.91491,     0.91592,     0.91692,     0.91792,     0.91892,     0.91992,     0.92092,     0.92192,     0.92292,     0.92392,     0.92492,     0.92593,     0.92693,     0.92793,     0.92893,     0.92993,     0.93093,     0.93193,     0.93293,     0.93393,     0.93493,     0.93594,\n",
       "           0.93694,     0.93794,     0.93894,     0.93994,     0.94094,     0.94194,     0.94294,     0.94394,     0.94494,     0.94595,     0.94695,     0.94795,     0.94895,     0.94995,     0.95095,     0.95195,     0.95295,     0.95395,     0.95495,     0.95596,     0.95696,     0.95796,     0.95896,     0.95996,\n",
       "           0.96096,     0.96196,     0.96296,     0.96396,     0.96496,     0.96597,     0.96697,     0.96797,     0.96897,     0.96997,     0.97097,     0.97197,     0.97297,     0.97397,     0.97497,     0.97598,     0.97698,     0.97798,     0.97898,     0.97998,     0.98098,     0.98198,     0.98298,     0.98398,\n",
       "           0.98498,     0.98599,     0.98699,     0.98799,     0.98899,     0.98999,     0.99099,     0.99199,     0.99299,     0.99399,     0.99499,       0.996,       0.997,       0.998,       0.999,           1]), array([[    0.81897,     0.81897,     0.89942, ...,           0,           0,           0],\n",
       "       [    0.49735,     0.49735,     0.62768, ...,     0.10093,     0.04377,           0],\n",
       "       [    0.69388,     0.69388,     0.76939, ...,           0,           0,           0],\n",
       "       ...,\n",
       "       [    0.84942,     0.84942,     0.92668, ...,           0,           0,           0],\n",
       "       [    0.83969,     0.83969,     0.91574, ...,           0,           0,           0],\n",
       "       [     0.8209,      0.8209,     0.89745, ...,           0,           0,           0]]), 'Confidence', 'F1'], [array([          0,    0.001001,    0.002002,    0.003003,    0.004004,    0.005005,    0.006006,    0.007007,    0.008008,    0.009009,     0.01001,    0.011011,    0.012012,    0.013013,    0.014014,    0.015015,    0.016016,    0.017017,    0.018018,    0.019019,     0.02002,    0.021021,    0.022022,    0.023023,\n",
       "          0.024024,    0.025025,    0.026026,    0.027027,    0.028028,    0.029029,     0.03003,    0.031031,    0.032032,    0.033033,    0.034034,    0.035035,    0.036036,    0.037037,    0.038038,    0.039039,     0.04004,    0.041041,    0.042042,    0.043043,    0.044044,    0.045045,    0.046046,    0.047047,\n",
       "          0.048048,    0.049049,     0.05005,    0.051051,    0.052052,    0.053053,    0.054054,    0.055055,    0.056056,    0.057057,    0.058058,    0.059059,     0.06006,    0.061061,    0.062062,    0.063063,    0.064064,    0.065065,    0.066066,    0.067067,    0.068068,    0.069069,     0.07007,    0.071071,\n",
       "          0.072072,    0.073073,    0.074074,    0.075075,    0.076076,    0.077077,    0.078078,    0.079079,     0.08008,    0.081081,    0.082082,    0.083083,    0.084084,    0.085085,    0.086086,    0.087087,    0.088088,    0.089089,     0.09009,    0.091091,    0.092092,    0.093093,    0.094094,    0.095095,\n",
       "          0.096096,    0.097097,    0.098098,    0.099099,      0.1001,      0.1011,      0.1021,      0.1031,      0.1041,     0.10511,     0.10611,     0.10711,     0.10811,     0.10911,     0.11011,     0.11111,     0.11211,     0.11311,     0.11411,     0.11512,     0.11612,     0.11712,     0.11812,     0.11912,\n",
       "           0.12012,     0.12112,     0.12212,     0.12312,     0.12412,     0.12513,     0.12613,     0.12713,     0.12813,     0.12913,     0.13013,     0.13113,     0.13213,     0.13313,     0.13413,     0.13514,     0.13614,     0.13714,     0.13814,     0.13914,     0.14014,     0.14114,     0.14214,     0.14314,\n",
       "           0.14414,     0.14515,     0.14615,     0.14715,     0.14815,     0.14915,     0.15015,     0.15115,     0.15215,     0.15315,     0.15415,     0.15516,     0.15616,     0.15716,     0.15816,     0.15916,     0.16016,     0.16116,     0.16216,     0.16316,     0.16416,     0.16517,     0.16617,     0.16717,\n",
       "           0.16817,     0.16917,     0.17017,     0.17117,     0.17217,     0.17317,     0.17417,     0.17518,     0.17618,     0.17718,     0.17818,     0.17918,     0.18018,     0.18118,     0.18218,     0.18318,     0.18418,     0.18519,     0.18619,     0.18719,     0.18819,     0.18919,     0.19019,     0.19119,\n",
       "           0.19219,     0.19319,     0.19419,      0.1952,      0.1962,      0.1972,      0.1982,      0.1992,      0.2002,      0.2012,      0.2022,      0.2032,      0.2042,     0.20521,     0.20621,     0.20721,     0.20821,     0.20921,     0.21021,     0.21121,     0.21221,     0.21321,     0.21421,     0.21522,\n",
       "           0.21622,     0.21722,     0.21822,     0.21922,     0.22022,     0.22122,     0.22222,     0.22322,     0.22422,     0.22523,     0.22623,     0.22723,     0.22823,     0.22923,     0.23023,     0.23123,     0.23223,     0.23323,     0.23423,     0.23524,     0.23624,     0.23724,     0.23824,     0.23924,\n",
       "           0.24024,     0.24124,     0.24224,     0.24324,     0.24424,     0.24525,     0.24625,     0.24725,     0.24825,     0.24925,     0.25025,     0.25125,     0.25225,     0.25325,     0.25425,     0.25526,     0.25626,     0.25726,     0.25826,     0.25926,     0.26026,     0.26126,     0.26226,     0.26326,\n",
       "           0.26426,     0.26527,     0.26627,     0.26727,     0.26827,     0.26927,     0.27027,     0.27127,     0.27227,     0.27327,     0.27427,     0.27528,     0.27628,     0.27728,     0.27828,     0.27928,     0.28028,     0.28128,     0.28228,     0.28328,     0.28428,     0.28529,     0.28629,     0.28729,\n",
       "           0.28829,     0.28929,     0.29029,     0.29129,     0.29229,     0.29329,     0.29429,      0.2953,      0.2963,      0.2973,      0.2983,      0.2993,      0.3003,      0.3013,      0.3023,      0.3033,      0.3043,     0.30531,     0.30631,     0.30731,     0.30831,     0.30931,     0.31031,     0.31131,\n",
       "           0.31231,     0.31331,     0.31431,     0.31532,     0.31632,     0.31732,     0.31832,     0.31932,     0.32032,     0.32132,     0.32232,     0.32332,     0.32432,     0.32533,     0.32633,     0.32733,     0.32833,     0.32933,     0.33033,     0.33133,     0.33233,     0.33333,     0.33433,     0.33534,\n",
       "           0.33634,     0.33734,     0.33834,     0.33934,     0.34034,     0.34134,     0.34234,     0.34334,     0.34434,     0.34535,     0.34635,     0.34735,     0.34835,     0.34935,     0.35035,     0.35135,     0.35235,     0.35335,     0.35435,     0.35536,     0.35636,     0.35736,     0.35836,     0.35936,\n",
       "           0.36036,     0.36136,     0.36236,     0.36336,     0.36436,     0.36537,     0.36637,     0.36737,     0.36837,     0.36937,     0.37037,     0.37137,     0.37237,     0.37337,     0.37437,     0.37538,     0.37638,     0.37738,     0.37838,     0.37938,     0.38038,     0.38138,     0.38238,     0.38338,\n",
       "           0.38438,     0.38539,     0.38639,     0.38739,     0.38839,     0.38939,     0.39039,     0.39139,     0.39239,     0.39339,     0.39439,      0.3954,      0.3964,      0.3974,      0.3984,      0.3994,      0.4004,      0.4014,      0.4024,      0.4034,      0.4044,     0.40541,     0.40641,     0.40741,\n",
       "           0.40841,     0.40941,     0.41041,     0.41141,     0.41241,     0.41341,     0.41441,     0.41542,     0.41642,     0.41742,     0.41842,     0.41942,     0.42042,     0.42142,     0.42242,     0.42342,     0.42442,     0.42543,     0.42643,     0.42743,     0.42843,     0.42943,     0.43043,     0.43143,\n",
       "           0.43243,     0.43343,     0.43443,     0.43544,     0.43644,     0.43744,     0.43844,     0.43944,     0.44044,     0.44144,     0.44244,     0.44344,     0.44444,     0.44545,     0.44645,     0.44745,     0.44845,     0.44945,     0.45045,     0.45145,     0.45245,     0.45345,     0.45445,     0.45546,\n",
       "           0.45646,     0.45746,     0.45846,     0.45946,     0.46046,     0.46146,     0.46246,     0.46346,     0.46446,     0.46547,     0.46647,     0.46747,     0.46847,     0.46947,     0.47047,     0.47147,     0.47247,     0.47347,     0.47447,     0.47548,     0.47648,     0.47748,     0.47848,     0.47948,\n",
       "           0.48048,     0.48148,     0.48248,     0.48348,     0.48448,     0.48549,     0.48649,     0.48749,     0.48849,     0.48949,     0.49049,     0.49149,     0.49249,     0.49349,     0.49449,      0.4955,      0.4965,      0.4975,      0.4985,      0.4995,      0.5005,      0.5015,      0.5025,      0.5035,\n",
       "            0.5045,     0.50551,     0.50651,     0.50751,     0.50851,     0.50951,     0.51051,     0.51151,     0.51251,     0.51351,     0.51451,     0.51552,     0.51652,     0.51752,     0.51852,     0.51952,     0.52052,     0.52152,     0.52252,     0.52352,     0.52452,     0.52553,     0.52653,     0.52753,\n",
       "           0.52853,     0.52953,     0.53053,     0.53153,     0.53253,     0.53353,     0.53453,     0.53554,     0.53654,     0.53754,     0.53854,     0.53954,     0.54054,     0.54154,     0.54254,     0.54354,     0.54454,     0.54555,     0.54655,     0.54755,     0.54855,     0.54955,     0.55055,     0.55155,\n",
       "           0.55255,     0.55355,     0.55455,     0.55556,     0.55656,     0.55756,     0.55856,     0.55956,     0.56056,     0.56156,     0.56256,     0.56356,     0.56456,     0.56557,     0.56657,     0.56757,     0.56857,     0.56957,     0.57057,     0.57157,     0.57257,     0.57357,     0.57457,     0.57558,\n",
       "           0.57658,     0.57758,     0.57858,     0.57958,     0.58058,     0.58158,     0.58258,     0.58358,     0.58458,     0.58559,     0.58659,     0.58759,     0.58859,     0.58959,     0.59059,     0.59159,     0.59259,     0.59359,     0.59459,      0.5956,      0.5966,      0.5976,      0.5986,      0.5996,\n",
       "            0.6006,      0.6016,      0.6026,      0.6036,      0.6046,     0.60561,     0.60661,     0.60761,     0.60861,     0.60961,     0.61061,     0.61161,     0.61261,     0.61361,     0.61461,     0.61562,     0.61662,     0.61762,     0.61862,     0.61962,     0.62062,     0.62162,     0.62262,     0.62362,\n",
       "           0.62462,     0.62563,     0.62663,     0.62763,     0.62863,     0.62963,     0.63063,     0.63163,     0.63263,     0.63363,     0.63463,     0.63564,     0.63664,     0.63764,     0.63864,     0.63964,     0.64064,     0.64164,     0.64264,     0.64364,     0.64464,     0.64565,     0.64665,     0.64765,\n",
       "           0.64865,     0.64965,     0.65065,     0.65165,     0.65265,     0.65365,     0.65465,     0.65566,     0.65666,     0.65766,     0.65866,     0.65966,     0.66066,     0.66166,     0.66266,     0.66366,     0.66466,     0.66567,     0.66667,     0.66767,     0.66867,     0.66967,     0.67067,     0.67167,\n",
       "           0.67267,     0.67367,     0.67467,     0.67568,     0.67668,     0.67768,     0.67868,     0.67968,     0.68068,     0.68168,     0.68268,     0.68368,     0.68468,     0.68569,     0.68669,     0.68769,     0.68869,     0.68969,     0.69069,     0.69169,     0.69269,     0.69369,     0.69469,      0.6957,\n",
       "            0.6967,      0.6977,      0.6987,      0.6997,      0.7007,      0.7017,      0.7027,      0.7037,      0.7047,     0.70571,     0.70671,     0.70771,     0.70871,     0.70971,     0.71071,     0.71171,     0.71271,     0.71371,     0.71471,     0.71572,     0.71672,     0.71772,     0.71872,     0.71972,\n",
       "           0.72072,     0.72172,     0.72272,     0.72372,     0.72472,     0.72573,     0.72673,     0.72773,     0.72873,     0.72973,     0.73073,     0.73173,     0.73273,     0.73373,     0.73473,     0.73574,     0.73674,     0.73774,     0.73874,     0.73974,     0.74074,     0.74174,     0.74274,     0.74374,\n",
       "           0.74474,     0.74575,     0.74675,     0.74775,     0.74875,     0.74975,     0.75075,     0.75175,     0.75275,     0.75375,     0.75475,     0.75576,     0.75676,     0.75776,     0.75876,     0.75976,     0.76076,     0.76176,     0.76276,     0.76376,     0.76476,     0.76577,     0.76677,     0.76777,\n",
       "           0.76877,     0.76977,     0.77077,     0.77177,     0.77277,     0.77377,     0.77477,     0.77578,     0.77678,     0.77778,     0.77878,     0.77978,     0.78078,     0.78178,     0.78278,     0.78378,     0.78478,     0.78579,     0.78679,     0.78779,     0.78879,     0.78979,     0.79079,     0.79179,\n",
       "           0.79279,     0.79379,     0.79479,      0.7958,      0.7968,      0.7978,      0.7988,      0.7998,      0.8008,      0.8018,      0.8028,      0.8038,      0.8048,     0.80581,     0.80681,     0.80781,     0.80881,     0.80981,     0.81081,     0.81181,     0.81281,     0.81381,     0.81481,     0.81582,\n",
       "           0.81682,     0.81782,     0.81882,     0.81982,     0.82082,     0.82182,     0.82282,     0.82382,     0.82482,     0.82583,     0.82683,     0.82783,     0.82883,     0.82983,     0.83083,     0.83183,     0.83283,     0.83383,     0.83483,     0.83584,     0.83684,     0.83784,     0.83884,     0.83984,\n",
       "           0.84084,     0.84184,     0.84284,     0.84384,     0.84484,     0.84585,     0.84685,     0.84785,     0.84885,     0.84985,     0.85085,     0.85185,     0.85285,     0.85385,     0.85485,     0.85586,     0.85686,     0.85786,     0.85886,     0.85986,     0.86086,     0.86186,     0.86286,     0.86386,\n",
       "           0.86486,     0.86587,     0.86687,     0.86787,     0.86887,     0.86987,     0.87087,     0.87187,     0.87287,     0.87387,     0.87487,     0.87588,     0.87688,     0.87788,     0.87888,     0.87988,     0.88088,     0.88188,     0.88288,     0.88388,     0.88488,     0.88589,     0.88689,     0.88789,\n",
       "           0.88889,     0.88989,     0.89089,     0.89189,     0.89289,     0.89389,     0.89489,      0.8959,      0.8969,      0.8979,      0.8989,      0.8999,      0.9009,      0.9019,      0.9029,      0.9039,      0.9049,     0.90591,     0.90691,     0.90791,     0.90891,     0.90991,     0.91091,     0.91191,\n",
       "           0.91291,     0.91391,     0.91491,     0.91592,     0.91692,     0.91792,     0.91892,     0.91992,     0.92092,     0.92192,     0.92292,     0.92392,     0.92492,     0.92593,     0.92693,     0.92793,     0.92893,     0.92993,     0.93093,     0.93193,     0.93293,     0.93393,     0.93493,     0.93594,\n",
       "           0.93694,     0.93794,     0.93894,     0.93994,     0.94094,     0.94194,     0.94294,     0.94394,     0.94494,     0.94595,     0.94695,     0.94795,     0.94895,     0.94995,     0.95095,     0.95195,     0.95295,     0.95395,     0.95495,     0.95596,     0.95696,     0.95796,     0.95896,     0.95996,\n",
       "           0.96096,     0.96196,     0.96296,     0.96396,     0.96496,     0.96597,     0.96697,     0.96797,     0.96897,     0.96997,     0.97097,     0.97197,     0.97297,     0.97397,     0.97497,     0.97598,     0.97698,     0.97798,     0.97898,     0.97998,     0.98098,     0.98198,     0.98298,     0.98398,\n",
       "           0.98498,     0.98599,     0.98699,     0.98799,     0.98899,     0.98999,     0.99099,     0.99199,     0.99299,     0.99399,     0.99499,       0.996,       0.997,       0.998,       0.999,           1]), array([[    0.69343,     0.69343,     0.81723, ...,           1,           1,           1],\n",
       "       [    0.33099,     0.33099,     0.46198, ...,           1,           1,           1],\n",
       "       [    0.53125,     0.53125,     0.62521, ...,           1,           1,           1],\n",
       "       ...,\n",
       "       [    0.73826,     0.73826,     0.86337, ...,           1,           1,           1],\n",
       "       [    0.72368,     0.72368,     0.84458, ...,           1,           1,           1],\n",
       "       [     0.6962,      0.6962,     0.81397, ...,           1,           1,           1]]), 'Confidence', 'Precision'], [array([          0,    0.001001,    0.002002,    0.003003,    0.004004,    0.005005,    0.006006,    0.007007,    0.008008,    0.009009,     0.01001,    0.011011,    0.012012,    0.013013,    0.014014,    0.015015,    0.016016,    0.017017,    0.018018,    0.019019,     0.02002,    0.021021,    0.022022,    0.023023,\n",
       "          0.024024,    0.025025,    0.026026,    0.027027,    0.028028,    0.029029,     0.03003,    0.031031,    0.032032,    0.033033,    0.034034,    0.035035,    0.036036,    0.037037,    0.038038,    0.039039,     0.04004,    0.041041,    0.042042,    0.043043,    0.044044,    0.045045,    0.046046,    0.047047,\n",
       "          0.048048,    0.049049,     0.05005,    0.051051,    0.052052,    0.053053,    0.054054,    0.055055,    0.056056,    0.057057,    0.058058,    0.059059,     0.06006,    0.061061,    0.062062,    0.063063,    0.064064,    0.065065,    0.066066,    0.067067,    0.068068,    0.069069,     0.07007,    0.071071,\n",
       "          0.072072,    0.073073,    0.074074,    0.075075,    0.076076,    0.077077,    0.078078,    0.079079,     0.08008,    0.081081,    0.082082,    0.083083,    0.084084,    0.085085,    0.086086,    0.087087,    0.088088,    0.089089,     0.09009,    0.091091,    0.092092,    0.093093,    0.094094,    0.095095,\n",
       "          0.096096,    0.097097,    0.098098,    0.099099,      0.1001,      0.1011,      0.1021,      0.1031,      0.1041,     0.10511,     0.10611,     0.10711,     0.10811,     0.10911,     0.11011,     0.11111,     0.11211,     0.11311,     0.11411,     0.11512,     0.11612,     0.11712,     0.11812,     0.11912,\n",
       "           0.12012,     0.12112,     0.12212,     0.12312,     0.12412,     0.12513,     0.12613,     0.12713,     0.12813,     0.12913,     0.13013,     0.13113,     0.13213,     0.13313,     0.13413,     0.13514,     0.13614,     0.13714,     0.13814,     0.13914,     0.14014,     0.14114,     0.14214,     0.14314,\n",
       "           0.14414,     0.14515,     0.14615,     0.14715,     0.14815,     0.14915,     0.15015,     0.15115,     0.15215,     0.15315,     0.15415,     0.15516,     0.15616,     0.15716,     0.15816,     0.15916,     0.16016,     0.16116,     0.16216,     0.16316,     0.16416,     0.16517,     0.16617,     0.16717,\n",
       "           0.16817,     0.16917,     0.17017,     0.17117,     0.17217,     0.17317,     0.17417,     0.17518,     0.17618,     0.17718,     0.17818,     0.17918,     0.18018,     0.18118,     0.18218,     0.18318,     0.18418,     0.18519,     0.18619,     0.18719,     0.18819,     0.18919,     0.19019,     0.19119,\n",
       "           0.19219,     0.19319,     0.19419,      0.1952,      0.1962,      0.1972,      0.1982,      0.1992,      0.2002,      0.2012,      0.2022,      0.2032,      0.2042,     0.20521,     0.20621,     0.20721,     0.20821,     0.20921,     0.21021,     0.21121,     0.21221,     0.21321,     0.21421,     0.21522,\n",
       "           0.21622,     0.21722,     0.21822,     0.21922,     0.22022,     0.22122,     0.22222,     0.22322,     0.22422,     0.22523,     0.22623,     0.22723,     0.22823,     0.22923,     0.23023,     0.23123,     0.23223,     0.23323,     0.23423,     0.23524,     0.23624,     0.23724,     0.23824,     0.23924,\n",
       "           0.24024,     0.24124,     0.24224,     0.24324,     0.24424,     0.24525,     0.24625,     0.24725,     0.24825,     0.24925,     0.25025,     0.25125,     0.25225,     0.25325,     0.25425,     0.25526,     0.25626,     0.25726,     0.25826,     0.25926,     0.26026,     0.26126,     0.26226,     0.26326,\n",
       "           0.26426,     0.26527,     0.26627,     0.26727,     0.26827,     0.26927,     0.27027,     0.27127,     0.27227,     0.27327,     0.27427,     0.27528,     0.27628,     0.27728,     0.27828,     0.27928,     0.28028,     0.28128,     0.28228,     0.28328,     0.28428,     0.28529,     0.28629,     0.28729,\n",
       "           0.28829,     0.28929,     0.29029,     0.29129,     0.29229,     0.29329,     0.29429,      0.2953,      0.2963,      0.2973,      0.2983,      0.2993,      0.3003,      0.3013,      0.3023,      0.3033,      0.3043,     0.30531,     0.30631,     0.30731,     0.30831,     0.30931,     0.31031,     0.31131,\n",
       "           0.31231,     0.31331,     0.31431,     0.31532,     0.31632,     0.31732,     0.31832,     0.31932,     0.32032,     0.32132,     0.32232,     0.32332,     0.32432,     0.32533,     0.32633,     0.32733,     0.32833,     0.32933,     0.33033,     0.33133,     0.33233,     0.33333,     0.33433,     0.33534,\n",
       "           0.33634,     0.33734,     0.33834,     0.33934,     0.34034,     0.34134,     0.34234,     0.34334,     0.34434,     0.34535,     0.34635,     0.34735,     0.34835,     0.34935,     0.35035,     0.35135,     0.35235,     0.35335,     0.35435,     0.35536,     0.35636,     0.35736,     0.35836,     0.35936,\n",
       "           0.36036,     0.36136,     0.36236,     0.36336,     0.36436,     0.36537,     0.36637,     0.36737,     0.36837,     0.36937,     0.37037,     0.37137,     0.37237,     0.37337,     0.37437,     0.37538,     0.37638,     0.37738,     0.37838,     0.37938,     0.38038,     0.38138,     0.38238,     0.38338,\n",
       "           0.38438,     0.38539,     0.38639,     0.38739,     0.38839,     0.38939,     0.39039,     0.39139,     0.39239,     0.39339,     0.39439,      0.3954,      0.3964,      0.3974,      0.3984,      0.3994,      0.4004,      0.4014,      0.4024,      0.4034,      0.4044,     0.40541,     0.40641,     0.40741,\n",
       "           0.40841,     0.40941,     0.41041,     0.41141,     0.41241,     0.41341,     0.41441,     0.41542,     0.41642,     0.41742,     0.41842,     0.41942,     0.42042,     0.42142,     0.42242,     0.42342,     0.42442,     0.42543,     0.42643,     0.42743,     0.42843,     0.42943,     0.43043,     0.43143,\n",
       "           0.43243,     0.43343,     0.43443,     0.43544,     0.43644,     0.43744,     0.43844,     0.43944,     0.44044,     0.44144,     0.44244,     0.44344,     0.44444,     0.44545,     0.44645,     0.44745,     0.44845,     0.44945,     0.45045,     0.45145,     0.45245,     0.45345,     0.45445,     0.45546,\n",
       "           0.45646,     0.45746,     0.45846,     0.45946,     0.46046,     0.46146,     0.46246,     0.46346,     0.46446,     0.46547,     0.46647,     0.46747,     0.46847,     0.46947,     0.47047,     0.47147,     0.47247,     0.47347,     0.47447,     0.47548,     0.47648,     0.47748,     0.47848,     0.47948,\n",
       "           0.48048,     0.48148,     0.48248,     0.48348,     0.48448,     0.48549,     0.48649,     0.48749,     0.48849,     0.48949,     0.49049,     0.49149,     0.49249,     0.49349,     0.49449,      0.4955,      0.4965,      0.4975,      0.4985,      0.4995,      0.5005,      0.5015,      0.5025,      0.5035,\n",
       "            0.5045,     0.50551,     0.50651,     0.50751,     0.50851,     0.50951,     0.51051,     0.51151,     0.51251,     0.51351,     0.51451,     0.51552,     0.51652,     0.51752,     0.51852,     0.51952,     0.52052,     0.52152,     0.52252,     0.52352,     0.52452,     0.52553,     0.52653,     0.52753,\n",
       "           0.52853,     0.52953,     0.53053,     0.53153,     0.53253,     0.53353,     0.53453,     0.53554,     0.53654,     0.53754,     0.53854,     0.53954,     0.54054,     0.54154,     0.54254,     0.54354,     0.54454,     0.54555,     0.54655,     0.54755,     0.54855,     0.54955,     0.55055,     0.55155,\n",
       "           0.55255,     0.55355,     0.55455,     0.55556,     0.55656,     0.55756,     0.55856,     0.55956,     0.56056,     0.56156,     0.56256,     0.56356,     0.56456,     0.56557,     0.56657,     0.56757,     0.56857,     0.56957,     0.57057,     0.57157,     0.57257,     0.57357,     0.57457,     0.57558,\n",
       "           0.57658,     0.57758,     0.57858,     0.57958,     0.58058,     0.58158,     0.58258,     0.58358,     0.58458,     0.58559,     0.58659,     0.58759,     0.58859,     0.58959,     0.59059,     0.59159,     0.59259,     0.59359,     0.59459,      0.5956,      0.5966,      0.5976,      0.5986,      0.5996,\n",
       "            0.6006,      0.6016,      0.6026,      0.6036,      0.6046,     0.60561,     0.60661,     0.60761,     0.60861,     0.60961,     0.61061,     0.61161,     0.61261,     0.61361,     0.61461,     0.61562,     0.61662,     0.61762,     0.61862,     0.61962,     0.62062,     0.62162,     0.62262,     0.62362,\n",
       "           0.62462,     0.62563,     0.62663,     0.62763,     0.62863,     0.62963,     0.63063,     0.63163,     0.63263,     0.63363,     0.63463,     0.63564,     0.63664,     0.63764,     0.63864,     0.63964,     0.64064,     0.64164,     0.64264,     0.64364,     0.64464,     0.64565,     0.64665,     0.64765,\n",
       "           0.64865,     0.64965,     0.65065,     0.65165,     0.65265,     0.65365,     0.65465,     0.65566,     0.65666,     0.65766,     0.65866,     0.65966,     0.66066,     0.66166,     0.66266,     0.66366,     0.66466,     0.66567,     0.66667,     0.66767,     0.66867,     0.66967,     0.67067,     0.67167,\n",
       "           0.67267,     0.67367,     0.67467,     0.67568,     0.67668,     0.67768,     0.67868,     0.67968,     0.68068,     0.68168,     0.68268,     0.68368,     0.68468,     0.68569,     0.68669,     0.68769,     0.68869,     0.68969,     0.69069,     0.69169,     0.69269,     0.69369,     0.69469,      0.6957,\n",
       "            0.6967,      0.6977,      0.6987,      0.6997,      0.7007,      0.7017,      0.7027,      0.7037,      0.7047,     0.70571,     0.70671,     0.70771,     0.70871,     0.70971,     0.71071,     0.71171,     0.71271,     0.71371,     0.71471,     0.71572,     0.71672,     0.71772,     0.71872,     0.71972,\n",
       "           0.72072,     0.72172,     0.72272,     0.72372,     0.72472,     0.72573,     0.72673,     0.72773,     0.72873,     0.72973,     0.73073,     0.73173,     0.73273,     0.73373,     0.73473,     0.73574,     0.73674,     0.73774,     0.73874,     0.73974,     0.74074,     0.74174,     0.74274,     0.74374,\n",
       "           0.74474,     0.74575,     0.74675,     0.74775,     0.74875,     0.74975,     0.75075,     0.75175,     0.75275,     0.75375,     0.75475,     0.75576,     0.75676,     0.75776,     0.75876,     0.75976,     0.76076,     0.76176,     0.76276,     0.76376,     0.76476,     0.76577,     0.76677,     0.76777,\n",
       "           0.76877,     0.76977,     0.77077,     0.77177,     0.77277,     0.77377,     0.77477,     0.77578,     0.77678,     0.77778,     0.77878,     0.77978,     0.78078,     0.78178,     0.78278,     0.78378,     0.78478,     0.78579,     0.78679,     0.78779,     0.78879,     0.78979,     0.79079,     0.79179,\n",
       "           0.79279,     0.79379,     0.79479,      0.7958,      0.7968,      0.7978,      0.7988,      0.7998,      0.8008,      0.8018,      0.8028,      0.8038,      0.8048,     0.80581,     0.80681,     0.80781,     0.80881,     0.80981,     0.81081,     0.81181,     0.81281,     0.81381,     0.81481,     0.81582,\n",
       "           0.81682,     0.81782,     0.81882,     0.81982,     0.82082,     0.82182,     0.82282,     0.82382,     0.82482,     0.82583,     0.82683,     0.82783,     0.82883,     0.82983,     0.83083,     0.83183,     0.83283,     0.83383,     0.83483,     0.83584,     0.83684,     0.83784,     0.83884,     0.83984,\n",
       "           0.84084,     0.84184,     0.84284,     0.84384,     0.84484,     0.84585,     0.84685,     0.84785,     0.84885,     0.84985,     0.85085,     0.85185,     0.85285,     0.85385,     0.85485,     0.85586,     0.85686,     0.85786,     0.85886,     0.85986,     0.86086,     0.86186,     0.86286,     0.86386,\n",
       "           0.86486,     0.86587,     0.86687,     0.86787,     0.86887,     0.86987,     0.87087,     0.87187,     0.87287,     0.87387,     0.87487,     0.87588,     0.87688,     0.87788,     0.87888,     0.87988,     0.88088,     0.88188,     0.88288,     0.88388,     0.88488,     0.88589,     0.88689,     0.88789,\n",
       "           0.88889,     0.88989,     0.89089,     0.89189,     0.89289,     0.89389,     0.89489,      0.8959,      0.8969,      0.8979,      0.8989,      0.8999,      0.9009,      0.9019,      0.9029,      0.9039,      0.9049,     0.90591,     0.90691,     0.90791,     0.90891,     0.90991,     0.91091,     0.91191,\n",
       "           0.91291,     0.91391,     0.91491,     0.91592,     0.91692,     0.91792,     0.91892,     0.91992,     0.92092,     0.92192,     0.92292,     0.92392,     0.92492,     0.92593,     0.92693,     0.92793,     0.92893,     0.92993,     0.93093,     0.93193,     0.93293,     0.93393,     0.93493,     0.93594,\n",
       "           0.93694,     0.93794,     0.93894,     0.93994,     0.94094,     0.94194,     0.94294,     0.94394,     0.94494,     0.94595,     0.94695,     0.94795,     0.94895,     0.94995,     0.95095,     0.95195,     0.95295,     0.95395,     0.95495,     0.95596,     0.95696,     0.95796,     0.95896,     0.95996,\n",
       "           0.96096,     0.96196,     0.96296,     0.96396,     0.96496,     0.96597,     0.96697,     0.96797,     0.96897,     0.96997,     0.97097,     0.97197,     0.97297,     0.97397,     0.97497,     0.97598,     0.97698,     0.97798,     0.97898,     0.97998,     0.98098,     0.98198,     0.98298,     0.98398,\n",
       "           0.98498,     0.98599,     0.98699,     0.98799,     0.98899,     0.98999,     0.99099,     0.99199,     0.99299,     0.99399,     0.99499,       0.996,       0.997,       0.998,       0.999,           1]), array([[          1,           1,           1, ...,           0,           0,           0],\n",
       "       [          1,           1,     0.97872, ...,    0.053145,    0.022375,           0],\n",
       "       [          1,           1,           1, ...,           0,           0,           0],\n",
       "       ...,\n",
       "       [          1,           1,           1, ...,           0,           0,           0],\n",
       "       [          1,           1,           1, ...,           0,           0,           0],\n",
       "       [          1,           1,           1, ...,           0,           0,           0]]), 'Confidence', 'Recall']]\n",
       "fitness: 0.9098036919610843\n",
       "keys: ['metrics/precision(B)', 'metrics/recall(B)', 'metrics/mAP50(B)', 'metrics/mAP50-95(B)']\n",
       "maps: array([    0.99367,     0.97998,       0.995,     0.99156,       0.995,           0,     0.99486,     0.99129,      0.9913,       0.995,       0.995,       0.995])\n",
       "names: {0: 'TomatoeBacterialSpot', 1: 'TomatoeEarlyblight', 2: 'TomatoeHealthy', 3: 'TomatoeLateBlight', 4: 'TomatoeLeafMold', 5: 'TomatoeSeptoriaLeafSpot', 6: 'TomatoeSpiderMites', 7: 'TomatoeTargetSpot', 8: 'TomatoeMosaicVirus', 9: 'TomatoeYellowLeafCurlVirus', 10: 'PepperBellBacterialSpot', 11: 'PepperBellHealthy'}\n",
       "plot: True\n",
       "results_dict: {'metrics/precision(B)': 0.897059975473255, 'metrics/recall(B)': 0.9003182832733524, 'metrics/mAP50(B)': 0.9098036919610845, 'metrics/mAP50-95(B)': 0.9098036919610843, 'fitness': 0.9098036919610843}\n",
       "save_dir: PosixPath('runs/detect/train92')\n",
       "speed: {'preprocess': 0.18308377085114352, 'inference': 1.3809162772231345, 'loss': 0.0004014111288448842, 'postprocess': 0.8690602601155687}\n",
       "task: 'detect'"
      ]
     },
     "execution_count": 3,
     "metadata": {},
     "output_type": "execute_result"
    }
   ],
   "source": [
    "val_result=model.val()\n",
    "val_result"
   ]
  },
  {
   "cell_type": "code",
   "execution_count": 4,
   "metadata": {},
   "outputs": [
    {
     "name": "stdout",
     "output_type": "stream",
     "text": [
      "Ultralytics 8.3.23 🚀 Python-3.10.10 torch-2.2.1+cu121 CUDA:0 (NVIDIA L40S, 45596MiB)\n",
      "YOLO11n summary (fused): 238 layers, 2,584,492 parameters, 0 gradients, 6.3 GFLOPs\n"
     ]
    },
    {
     "name": "stderr",
     "output_type": "stream",
     "text": [
      "\u001b[34m\u001b[1mval: \u001b[0mScanning /teamspace/studios/this_studio/Cleaned_without_cucumber/valid/labels.cache... 923 images, 0 backgrounds, 0 corrupt: 100%|██████████| 923/923 [00:00<?, ?it/s]\n",
      "                 Class     Images  Instances      Box(P          R      mAP50  mAP50-95): 100%|██████████| 58/58 [00:04<00:00, 13.68it/s]\n"
     ]
    },
    {
     "name": "stdout",
     "output_type": "stream",
     "text": [
      "                   all        923        923      0.897        0.9       0.91       0.91\n",
      "  TomatoeBacterialSpot         95         95      0.989      0.965      0.994      0.994\n",
      "    TomatoeEarlyblight         47         47      0.996      0.894       0.98       0.98\n",
      "        TomatoeHealthy         85         85      0.989          1      0.995      0.995\n",
      "     TomatoeLateBlight         87         87      0.969          1      0.992      0.992\n",
      "       TomatoeLeafMold         43         43          1      0.983      0.995      0.995\n",
      "TomatoeSeptoriaLeafSpot         14         14          0          0          0          0\n",
      "    TomatoeSpiderMites         68         68      0.965          1      0.995      0.995\n",
      "     TomatoeTargetSpot         82         82      0.885          1      0.991      0.991\n",
      "    TomatoeMosaicVirus         72         72      0.971      0.986      0.991      0.991\n",
      "TomatoeYellowLeafCurlVirus        110        110          1      0.986      0.995      0.995\n",
      "PepperBellBacterialSpot        110        110          1      0.995      0.995      0.995\n",
      "     PepperBellHealthy        110        110          1      0.997      0.995      0.995\n",
      "Speed: 0.1ms preprocess, 1.2ms inference, 0.0ms loss, 0.6ms postprocess per image\n",
      "Results saved to \u001b[1mruns/detect/val\u001b[0m\n"
     ]
    }
   ],
   "source": [
    "# Load the trained YOLO model\n",
    "best_model = YOLO(\"runs/detect/train9/weights/best.pt\")\n",
    "\n",
    "# Perform validation on the dataset\n",
    "val_results = best_model.val(data=\"/teamspace/studios/this_studio/Cleaned_without_cucumber/data.yaml\")"
   ]
  },
  {
   "cell_type": "code",
   "execution_count": 5,
   "metadata": {},
   "outputs": [
    {
     "name": "stdout",
     "output_type": "stream",
     "text": [
      "\n",
      "image 1/726 /teamspace/studios/this_studio/Cleaned_without_cucumber/test/images/0b78b271-70eb-478c-b6b5-c271a2dfd3e2___UF-GRC_YLCV_Lab-01380_JPG.rf.6c8120cec38be25256a2a99240832ecf.jpg: 640x640 1 TomatoeYellowLeafCurlVirus, 9.0ms\n",
      "image 2/726 /teamspace/studios/this_studio/Cleaned_without_cucumber/test/images/0be8de3c-4851-46ec-86d9-65688d4aad7f___YLCV_NREC-2410_JPG.rf.da86b7905a7519d197923155af9b684d.jpg: 640x640 1 TomatoeTargetSpot, 1 TomatoeYellowLeafCurlVirus, 9.9ms\n",
      "image 3/726 /teamspace/studios/this_studio/Cleaned_without_cucumber/test/images/0c1943b0-e26d-451b-921f-b1127fa9c56d___UF-GRC_YLCV_Lab-02523_JPG.rf.390885624d85105d9a938bb5e7d1ae0a.jpg: 640x640 1 TomatoeYellowLeafCurlVirus, 8.8ms\n",
      "image 4/726 /teamspace/studios/this_studio/Cleaned_without_cucumber/test/images/0c5284d1-6539-4f83-b48c-9c8ae8462d9b___UF-GRC_YLCV_Lab-09566_JPG.rf.5ead29e1fcef1171ca7953342768cf7a.jpg: 640x640 1 TomatoeYellowLeafCurlVirus, 9.5ms\n",
      "image 5/726 /teamspace/studios/this_studio/Cleaned_without_cucumber/test/images/0c546c5e-f03f-4012-91cb-f036b2dae385___UF-GRC_YLCV_Lab-01783_JPG.rf.40cf9acda7d8bef6d9a934d145873fb3.jpg: 640x640 1 TomatoeYellowLeafCurlVirus, 9.1ms\n",
      "image 6/726 /teamspace/studios/this_studio/Cleaned_without_cucumber/test/images/0d18695b-030f-4bf4-9153-40759c2a6110___YLCV_GCREC-2242_JPG.rf.f96ff5d5ca072f8435c97c1790b4e74a.jpg: 640x640 1 TomatoeYellowLeafCurlVirus, 9.2ms\n",
      "image 7/726 /teamspace/studios/this_studio/Cleaned_without_cucumber/test/images/0d4d2931-d063-4f29-8190-9c624e42f561___YLCV_NREC-2649_JPG.rf.0b913f4cf4742890a7d2521424c54ac9.jpg: 640x640 1 TomatoeYellowLeafCurlVirus, 10.2ms\n",
      "image 8/726 /teamspace/studios/this_studio/Cleaned_without_cucumber/test/images/0d84c5c2-beed-4122-898f-db2ca354de95___YLCV_GCREC-1914_JPG.rf.c0f3dc95acb57c32900380b361629672.jpg: 640x640 1 TomatoeYellowLeafCurlVirus, 9.5ms\n",
      "image 9/726 /teamspace/studios/this_studio/Cleaned_without_cucumber/test/images/11e02c0b-902c-4d01-879f-5fb4b71d831d___UF-GRC_YLCV_Lab-03132_JPG.rf.511f61d09e06986484f25469e5b2ec79.jpg: 640x640 1 TomatoeYellowLeafCurlVirus, 9.1ms\n",
      "image 10/726 /teamspace/studios/this_studio/Cleaned_without_cucumber/test/images/13dbd7f5-c73e-475d-8ae5-9e91d7887d37___UF-GRC_YLCV_Lab-03075_JPG.rf.442936735b4534e4042421a5a0fbe5e6.jpg: 640x640 1 TomatoeYellowLeafCurlVirus, 9.1ms\n",
      "image 11/726 /teamspace/studios/this_studio/Cleaned_without_cucumber/test/images/13dcea32-c158-4b73-aeb7-c9adf954121d___YLCV_NREC-2441_JPG.rf.61757af277177b01c33ceba110984431.jpg: 640x640 1 TomatoeYellowLeafCurlVirus, 9.9ms\n",
      "image 12/726 /teamspace/studios/this_studio/Cleaned_without_cucumber/test/images/13eb8a09-0087-4bb5-b2b8-a768b070e71c___YLCV_GCREC-2918_JPG.rf.542a6e464021c27e539241e99d29802a.jpg: 640x640 1 TomatoeYellowLeafCurlVirus, 9.0ms\n",
      "image 13/726 /teamspace/studios/this_studio/Cleaned_without_cucumber/test/images/13ece3d5-a35e-4da2-9390-e58f4aa242e3___UF-GRC_YLCV_Lab-02403_JPG.rf.7b3892e798c2558287e9c818cafdaa02.jpg: 640x640 1 TomatoeYellowLeafCurlVirus, 9.7ms\n",
      "image 14/726 /teamspace/studios/this_studio/Cleaned_without_cucumber/test/images/14bbb9b7-a9a6-493e-93f1-a56062e754d5___UF-GRC_YLCV_Lab-01392_JPG.rf.415671b49e815cde911a20539ac1f322.jpg: 640x640 1 TomatoeYellowLeafCurlVirus, 9.6ms\n",
      "image 15/726 /teamspace/studios/this_studio/Cleaned_without_cucumber/test/images/14d0e8c6-51c0-4f21-972f-0b925c56a980___UF-GRC_YLCV_Lab-01366_JPG.rf.6730c79ad1f04490afb19bdce779ae74.jpg: 640x640 1 TomatoeYellowLeafCurlVirus, 8.9ms\n",
      "image 16/726 /teamspace/studios/this_studio/Cleaned_without_cucumber/test/images/16fd1a50-5fbc-42e3-9b6c-46af87dd424c___YLCV_GCREC-2870_JPG.rf.b81d3c28c4e4eefc9dc0ddfb8ba1191a.jpg: 640x640 1 TomatoeYellowLeafCurlVirus, 9.4ms\n",
      "image 17/726 /teamspace/studios/this_studio/Cleaned_without_cucumber/test/images/182c89bc-6623-4e79-9967-b91169d65d71___UF-GRC_YLCV_Lab-03241_JPG.rf.9730986c0a15b90df702fa5d673436ff.jpg: 640x640 1 TomatoeYellowLeafCurlVirus, 9.6ms\n",
      "image 18/726 /teamspace/studios/this_studio/Cleaned_without_cucumber/test/images/18f2ca28-91b4-4475-b6b1-18cf33031f39___YLCV_GCREC-2054_JPG.rf.ff41104c7b3ec49c64e5f5e754ba7a7f.jpg: 640x640 1 TomatoeYellowLeafCurlVirus, 8.9ms\n",
      "image 19/726 /teamspace/studios/this_studio/Cleaned_without_cucumber/test/images/190e5d27-784d-4261-8704-51e4767b4835___YLCV_GCREC-2310_JPG.rf.83e53cc59bf5c1e8dcd15f77dbabf888.jpg: 640x640 1 TomatoeYellowLeafCurlVirus, 9.0ms\n",
      "image 20/726 /teamspace/studios/this_studio/Cleaned_without_cucumber/test/images/193f32a3-11a4-4d39-a88c-a1bc44e61d66___UF-GRC_YLCV_Lab-02863_JPG.rf.177b5a0f1d58a93c81863d0ab2e97ae3.jpg: 640x640 1 TomatoeYellowLeafCurlVirus, 13.8ms\n",
      "image 21/726 /teamspace/studios/this_studio/Cleaned_without_cucumber/test/images/19a06cdf-09dc-4ba8-b789-dc8c8abdc85d___UF-GRC_YLCV_Lab-02935_JPG.rf.9e372d6704d7e5ae59a6b046ea6e1966.jpg: 640x640 1 TomatoeYellowLeafCurlVirus, 14.0ms\n",
      "image 22/726 /teamspace/studios/this_studio/Cleaned_without_cucumber/test/images/1a25f86f-b8ab-49db-add0-4c0f49107080___UF-GRC_YLCV_Lab-02694_JPG.rf.eb204bc91f68543bb4c4f76c95dde551.jpg: 640x640 1 TomatoeYellowLeafCurlVirus, 13.8ms\n",
      "image 23/726 /teamspace/studios/this_studio/Cleaned_without_cucumber/test/images/1b273914-1083-497e-a4fb-4a515ea53296___UF-GRC_YLCV_Lab-08552_JPG.rf.a2d92528a17483e2006ee2d06e965aa1.jpg: 640x640 1 TomatoeYellowLeafCurlVirus, 10.6ms\n",
      "image 24/726 /teamspace/studios/this_studio/Cleaned_without_cucumber/test/images/1bef6514-c4be-4417-a390-3c506d4f1404___UF-GRC_YLCV_Lab-02020_JPG.rf.539ab23c7828eb3f4708cb15b2c55f6f.jpg: 640x640 1 TomatoeYellowLeafCurlVirus, 14.2ms\n",
      "image 25/726 /teamspace/studios/this_studio/Cleaned_without_cucumber/test/images/1c228970-4090-4dff-8f24-5d923e965e13___YLCV_GCREC-2430_JPG.rf.e6d592b0ae562f25218a9dcd31e6ae0e.jpg: 640x640 1 TomatoeYellowLeafCurlVirus, 10.0ms\n",
      "image 26/726 /teamspace/studios/this_studio/Cleaned_without_cucumber/test/images/1ca6f94a-9f5b-471c-8c72-58fab83514c7___UF-GRC_YLCV_Lab-01453_JPG.rf.88ff5d61ba72fc104d09d2047726b066.jpg: 640x640 1 TomatoeYellowLeafCurlVirus, 8.9ms\n",
      "image 27/726 /teamspace/studios/this_studio/Cleaned_without_cucumber/test/images/1dfbb58c-b33a-4b2e-a5fa-5df40246e7e8___UF-GRC_YLCV_Lab-01421_JPG.rf.287200d4560fe50f1424ba7d668a166a.jpg: 640x640 1 TomatoeYellowLeafCurlVirus, 8.8ms\n",
      "image 28/726 /teamspace/studios/this_studio/Cleaned_without_cucumber/test/images/1e02db5d-5674-4bfe-ac90-64fb69abfad1___UF-GRC_YLCV_Lab-02989_JPG.rf.ab6b9215c3d4370ed1d1aad9230125e5.jpg: 640x640 1 TomatoeYellowLeafCurlVirus, 8.5ms\n",
      "image 29/726 /teamspace/studios/this_studio/Cleaned_without_cucumber/test/images/1e903e25-34b2-4207-94ed-f862a632a88a___YLCV_NREC-2158_JPG.rf.814cccc64155c8237732d52711c027bd.jpg: 640x640 1 TomatoeYellowLeafCurlVirus, 8.5ms\n",
      "image 30/726 /teamspace/studios/this_studio/Cleaned_without_cucumber/test/images/1eeab195-9373-4dfc-b4f7-b3198c542b08___YLCV_NREC-2141_JPG.rf.7a0cb7c0dbfa792aa0fb346155aadba3.jpg: 640x640 1 TomatoeYellowLeafCurlVirus, 13.7ms\n",
      "image 31/726 /teamspace/studios/this_studio/Cleaned_without_cucumber/test/images/1f246191-b38c-466a-b8da-0bf7f73677c3___YLCV_NREC-2271_JPG.rf.763bb166edbec16bbe5e9fd2a09ac093.jpg: 640x640 1 TomatoeYellowLeafCurlVirus, 9.3ms\n",
      "image 32/726 /teamspace/studios/this_studio/Cleaned_without_cucumber/test/images/1f3cf528-4e4e-4df7-936f-10c527a549da___UF-GRC_YLCV_Lab-01559_JPG.rf.a554013a641fea98f25710cfc774f21b.jpg: 640x640 1 TomatoeYellowLeafCurlVirus, 8.6ms\n",
      "image 33/726 /teamspace/studios/this_studio/Cleaned_without_cucumber/test/images/21b0722c-abfd-4aab-88cb-646b6e284cbf___UF-GRC_BS_Lab-Leaf-8683_JPG.rf.0ae42ddfa1dbee52e422dea1cf3058e3.jpg: 640x640 1 TomatoeBacterialSpot, 8.6ms\n",
      "image 34/726 /teamspace/studios/this_studio/Cleaned_without_cucumber/test/images/21c758c3-5a41-4bdb-9785-e95a55808e20___UF-GRC_YLCV_Lab-01549_JPG.rf.f0bf2e610b22aadbbd4dcc0e4602c4ea.jpg: 640x640 1 TomatoeYellowLeafCurlVirus, 8.5ms\n",
      "image 35/726 /teamspace/studios/this_studio/Cleaned_without_cucumber/test/images/21d6c511-c51b-4680-a6f7-6781feca8e8e___GCREC_Bact-Sp-3433_JPG.rf.94630ce00555dd88f3a849f73d7bcbd2.jpg: 640x640 1 TomatoeBacterialSpot, 8.5ms\n",
      "image 36/726 /teamspace/studios/this_studio/Cleaned_without_cucumber/test/images/221a54ec-fb87-4352-a76e-bd9516106855___UF-GRC_YLCV_Lab-01436_JPG.rf.fed660718d571c1aa4e407b7d18d3a37.jpg: 640x640 1 TomatoeYellowLeafCurlVirus, 13.5ms\n",
      "image 37/726 /teamspace/studios/this_studio/Cleaned_without_cucumber/test/images/225b13bb-77a2-44bd-b745-cae8adcb834d___YLCV_GCREC-2136_JPG.rf.bcb1d2cbbf95ea4ce4928799f40695ed.jpg: 640x640 1 TomatoeYellowLeafCurlVirus, 9.8ms\n",
      "image 38/726 /teamspace/studios/this_studio/Cleaned_without_cucumber/test/images/227f113b-8511-4d2f-a591-8e5d01e896dd___GCREC_Bact-Sp-6384_JPG.rf.19e0a9dd036ece215a5e3d66e6218287.jpg: 640x640 1 TomatoeBacterialSpot, 8.9ms\n",
      "image 39/726 /teamspace/studios/this_studio/Cleaned_without_cucumber/test/images/22d2eeb1-49fe-44d5-8e21-6d181d97fdb6___UF-GRC_YLCV_Lab-09585_JPG.rf.a14b0a445452c3fbcee4f191d102d477.jpg: 640x640 1 TomatoeYellowLeafCurlVirus, 8.6ms\n",
      "image 40/726 /teamspace/studios/this_studio/Cleaned_without_cucumber/test/images/24b6bee3-4900-41cb-89e9-ed07092689f0___YLCV_NREC-0267_JPG.rf.55d3461099c641a1829b4ef0b3007d5a.jpg: 640x640 1 TomatoeYellowLeafCurlVirus, 8.5ms\n",
      "image 41/726 /teamspace/studios/this_studio/Cleaned_without_cucumber/test/images/259e3235-f6f5-4d2a-8fb6-f63f3446d2f9___GCREC_Bact-Sp-6282_JPG.rf.de7036d7cae53b0b857c1f4caaaf43f4.jpg: 640x640 1 TomatoeBacterialSpot, 9.0ms\n",
      "image 42/726 /teamspace/studios/this_studio/Cleaned_without_cucumber/test/images/25a52867-003f-4390-a80d-03c63c038e9a___UF-GRC_BS_Lab-Leaf-0341_JPG.rf.14bd75c1e1d569e6c7e12ebdfd90d792.jpg: 640x640 1 TomatoeBacterialSpot, 12.8ms\n",
      "image 43/726 /teamspace/studios/this_studio/Cleaned_without_cucumber/test/images/264428d4-7bc0-437e-b4ee-0ee67a742304___JR_HL-5890_JPG.rf.6cd4b9a488a5d140c44a80129446ff8e.jpg: 640x640 1 PepperBellHealthy, 9.3ms\n",
      "image 44/726 /teamspace/studios/this_studio/Cleaned_without_cucumber/test/images/26cabbbf-57e1-42a5-9fdc-e819b4b02d39___GCREC_Bact-Sp-3437_JPG.rf.554b077fad1609a81027e60033e5364a.jpg: 640x640 1 TomatoeBacterialSpot, 8.7ms\n",
      "image 45/726 /teamspace/studios/this_studio/Cleaned_without_cucumber/test/images/2853ccb3-5c5e-49b9-a2ff-988224505f23___JR_HL-7851_JPG.rf.81a620bf099b59ebe3abfd852e2e5d63.jpg: 640x640 1 PepperBellHealthy, 8.5ms\n",
      "image 46/726 /teamspace/studios/this_studio/Cleaned_without_cucumber/test/images/28bb4671-65da-465d-9322-3727e363f13a___JR_HL-7964_JPG.rf.0080b3b9dae69ff3223f6c185d17eb25.jpg: 640x640 1 PepperBellHealthy, 8.5ms\n",
      "image 47/726 /teamspace/studios/this_studio/Cleaned_without_cucumber/test/images/28cb8afe-1a9d-4f90-b992-24c383d0a53f___Matt-S_CG-6920_JPG.rf.2b7f712c3f8c30ea83050735caab2c84.jpg: 640x640 1 TomatoeSpiderMites, 9.2ms\n",
      "image 48/726 /teamspace/studios/this_studio/Cleaned_without_cucumber/test/images/29a61150-5453-4a76-88eb-2e97a8f4c400___GCREC_Bact-Sp-6345_JPG.rf.28dd1642e3ec38774b41271cce2ee581.jpg: 640x640 1 TomatoeBacterialSpot, 13.1ms\n",
      "image 49/726 /teamspace/studios/this_studio/Cleaned_without_cucumber/test/images/29f59b9e-c2b2-4c1e-8588-2025546f206c___GCREC_Bact-Sp-3534_JPG.rf.e684c87118a136fe73a661b2c3bbaf41.jpg: 640x640 1 TomatoeBacterialSpot, 9.5ms\n",
      "image 50/726 /teamspace/studios/this_studio/Cleaned_without_cucumber/test/images/29f85709-2e5c-41fe-a548-ca77f774a68b___Matt-S_CG-6163_JPG.rf.23512a94091889a2462effeac4d21164.jpg: 640x640 1 TomatoeSpiderMites, 8.7ms\n",
      "image 51/726 /teamspace/studios/this_studio/Cleaned_without_cucumber/test/images/2a2b0821-26eb-4322-a603-1ba569b9de98___JR_Sept-L-S-8513_JPG.rf.a3b04fbafe5032c899eae83828bf72ad.jpg: 640x640 1 TomatoeSpiderMites, 8.6ms\n",
      "image 52/726 /teamspace/studios/this_studio/Cleaned_without_cucumber/test/images/2b45f5a7-e6d1-4750-9e92-bda4c2ca8bf0___Matt-S_CG-7672_JPG.rf.a9c5bdd1c1245b1cbc7e1d9ec293d424.jpg: 640x640 1 TomatoeSpiderMites, 8.6ms\n",
      "image 53/726 /teamspace/studios/this_studio/Cleaned_without_cucumber/test/images/2b48038c-a3a2-4920-8ac8-5ff3ee3cb622___YLCV_NREC-2282_JPG.rf.d194b3a4aa5d3aebb79605c565d8b526.jpg: 640x640 1 TomatoeYellowLeafCurlVirus, 10.7ms\n",
      "image 54/726 /teamspace/studios/this_studio/Cleaned_without_cucumber/test/images/2b63b39d-7d3b-4421-9d68-b81b0862977b___Keller-St_CG-2025_JPG.rf.6e09d76b03dbedd5e66a2b34cd62b1ce.jpg: 640x640 1 TomatoeSpiderMites, 12.8ms\n",
      "image 55/726 /teamspace/studios/this_studio/Cleaned_without_cucumber/test/images/2bb3c4e6-350a-411b-a1d2-d33f6173b1b9___UF-GRC_BS_Lab-Leaf-0258_JPG.rf.e2ed9b624e16a11dce3070e88f699b9a.jpg: 640x640 1 TomatoeBacterialSpot, 9.0ms\n",
      "image 56/726 /teamspace/studios/this_studio/Cleaned_without_cucumber/test/images/2c19550b-7f01-4112-aa92-c12e601c940d___UF-GRC_YLCV_Lab-03362_JPG.rf.b7858affb3901b9143df8d91a89bd735.jpg: 640x640 1 TomatoeYellowLeafCurlVirus, 8.5ms\n",
      "image 57/726 /teamspace/studios/this_studio/Cleaned_without_cucumber/test/images/2c292d57-d2c0-4147-a551-618f1368f72e___GCREC_Bact-Sp-5903_JPG.rf.4c8d2d2defa38dc0b9611cf2fafc45e6.jpg: 640x640 1 TomatoeBacterialSpot, 8.4ms\n",
      "image 58/726 /teamspace/studios/this_studio/Cleaned_without_cucumber/test/images/2c6932ac-9d51-4af0-93a9-89b639fb9c12___Keller-St_CG-1920_JPG.rf.7b01633f79f7079da589ceb1fda08bba.jpg: 640x640 1 TomatoeSpiderMites, 8.4ms\n",
      "image 59/726 /teamspace/studios/this_studio/Cleaned_without_cucumber/test/images/2c83508f-bec1-4962-add3-f16cf5620193___Keller-St_CG-1926_JPG.rf.1939bd198e78107453fab6fcda631227.jpg: 640x640 1 TomatoeSpiderMites, 10.1ms\n",
      "image 60/726 /teamspace/studios/this_studio/Cleaned_without_cucumber/test/images/2cbfb4e3-8327-470f-91b1-4b7c3823b1f1___Keller-St_CG-1909_JPG.rf.014eb4e4613b66d4c460e21c1e018b8f.jpg: 640x640 1 TomatoeSpiderMites, 12.1ms\n",
      "image 61/726 /teamspace/studios/this_studio/Cleaned_without_cucumber/test/images/2cc29dd0-5b8b-46b2-b046-f3bbc3fc358a___YLCV_NREC-2350_JPG.rf.0258cc9b3dd7c7144ba8637e735b935f.jpg: 640x640 1 TomatoeYellowLeafCurlVirus, 9.2ms\n",
      "image 62/726 /teamspace/studios/this_studio/Cleaned_without_cucumber/test/images/2d07cd71-8088-46c5-9802-dda7a04c2350___UF-GRC_YLCV_Lab-08446_JPG.rf.c8f70fce301207374efe6f6702364b1d.jpg: 640x640 1 TomatoeBacterialSpot, 1 TomatoeYellowLeafCurlVirus, 8.6ms\n",
      "image 63/726 /teamspace/studios/this_studio/Cleaned_without_cucumber/test/images/2d5a0c64-0567-4860-9d64-be45f8ede045___YLCV_GCREC-2882_JPG.rf.895bbc9c7e0b0cddc933c33dc8c53ff8.jpg: 640x640 1 TomatoeYellowLeafCurlVirus, 8.6ms\n",
      "image 64/726 /teamspace/studios/this_studio/Cleaned_without_cucumber/test/images/2dce98fb-99da-4f38-8ade-2a9c2dfe6599___GCREC_Bact-Sp-3482_JPG.rf.75d7cbb02946682b99d73b22dcdf883a.jpg: 640x640 1 TomatoeBacterialSpot, 8.6ms\n",
      "image 65/726 /teamspace/studios/this_studio/Cleaned_without_cucumber/test/images/2e129fc6-f9d3-41d3-a562-c69e72871006___Matt-S_CG-0982_JPG.rf.87ee5c8314383af5b1f8bbdc54c41e3d.jpg: 640x640 1 TomatoeSpiderMites, 11.7ms\n",
      "image 66/726 /teamspace/studios/this_studio/Cleaned_without_cucumber/test/images/2e590d43-8682-4be3-ba68-f360d9b22825___UF-GRC_YLCV_Lab-01833_JPG.rf.df50e39a1673cda3f5d4f31de60e1a23.jpg: 640x640 1 TomatoeYellowLeafCurlVirus, 13.4ms\n",
      "image 67/726 /teamspace/studios/this_studio/Cleaned_without_cucumber/test/images/2e69e7bc-a60d-43b4-84f9-637c90eb71bb___JR_Sept-L-S-8538_JPG.rf.5e85716e7b128a29c59d4aab8795e324.jpg: 640x640 1 TomatoeSpiderMites, 9.0ms\n",
      "image 68/726 /teamspace/studios/this_studio/Cleaned_without_cucumber/test/images/2f2d8352-ad80-4799-8082-f496604c2716___UF-GRC_YLCV_Lab-01901_JPG.rf.f14a61d84672fdb75ce03895c5f2b0fe.jpg: 640x640 1 TomatoeYellowLeafCurlVirus, 8.6ms\n",
      "image 69/726 /teamspace/studios/this_studio/Cleaned_without_cucumber/test/images/2f67ac14-5f32-4325-8028-84a147feed1e___UF-GRC_YLCV_Lab-09433_JPG.rf.c5f181d96c1f3de1b1655c94c91cc140.jpg: 640x640 1 TomatoeYellowLeafCurlVirus, 8.8ms\n",
      "image 70/726 /teamspace/studios/this_studio/Cleaned_without_cucumber/test/images/2f942c02-a2ed-470c-a632-a307a3592851___YLCV_NREC-2225_JPG.rf.3cb1d7c8820ceaf3aa75d2498c56eb1b.jpg: 640x640 1 TomatoeYellowLeafCurlVirus, 8.4ms\n",
      "image 71/726 /teamspace/studios/this_studio/Cleaned_without_cucumber/test/images/2fa76dae-f2a2-4527-b7c7-3c6f5b74a8e7___JR_HL-8114_JPG.rf.b26592b4a9b39db819791d45833df9d1.jpg: 640x640 1 PepperBellHealthy, 12.0ms\n",
      "image 72/726 /teamspace/studios/this_studio/Cleaned_without_cucumber/test/images/2fb3c629-42bc-4027-8f7b-505ce5e0c211___GCREC_Bact-Sp-3460_JPG.rf.3ba16ea3f643ef0fb2f0f66b69ddf7fc.jpg: 640x640 1 TomatoeBacterialSpot, 11.0ms\n",
      "image 73/726 /teamspace/studios/this_studio/Cleaned_without_cucumber/test/images/2fb5c266-b7ec-4b31-91b4-3f2dc9b0cdcb___RS_HL-0147_JPG.rf.6d1624ce3b0f17085f78fd4b08473383.jpg: 640x640 1 TomatoeHealthy, 9.1ms\n",
      "image 74/726 /teamspace/studios/this_studio/Cleaned_without_cucumber/test/images/300ebe96-b729-4553-91b3-7955a03e3070___YLCV_GCREC-2028_JPG.rf.6ef0e675e573e3aeeea81ac146ecad7a.jpg: 640x640 1 TomatoeYellowLeafCurlVirus, 8.8ms\n",
      "image 75/726 /teamspace/studios/this_studio/Cleaned_without_cucumber/test/images/30dab838-d0e4-4028-9992-39a30009c167___GCREC_Bact-Sp-5829_JPG.rf.2dccd665a2fc64c557682d9e1b1a0400.jpg: 640x640 1 TomatoeBacterialSpot, 8.7ms\n",
      "image 76/726 /teamspace/studios/this_studio/Cleaned_without_cucumber/test/images/310d6f93-5075-44a2-80e4-57463adff105___GH_HL-Leaf-449-1_JPG.rf.90487e3dcc8fcc03689ec129eff8604b.jpg: 640x640 1 TomatoeHealthy, 8.6ms\n",
      "image 77/726 /teamspace/studios/this_studio/Cleaned_without_cucumber/test/images/313a8a67-b618-4f81-b178-97ef7b0661a2___YLCV_NREC-2556_JPG.rf.6531409b09942561d2eba347fd62f9d2.jpg: 640x640 1 TomatoeYellowLeafCurlVirus, 12.9ms\n",
      "image 78/726 /teamspace/studios/this_studio/Cleaned_without_cucumber/test/images/317f01bd-bf08-43b2-b269-48a6fa2fd480___RS_Late-B-4854_JPG.rf.580a4c6a23702229b296bba572c5c24c.jpg: 640x640 1 TomatoeLateBlight, 10.2ms\n",
      "image 79/726 /teamspace/studios/this_studio/Cleaned_without_cucumber/test/images/317f11f9-657f-43f7-943e-efb03cc62b40___Com-G_SpM_FL-1608_JPG.rf.566ebd5d6c63319d04624234055bd6c8.jpg: 640x640 1 TomatoeTargetSpot, 8.8ms\n",
      "image 80/726 /teamspace/studios/this_studio/Cleaned_without_cucumber/test/images/31b7ef25-f27b-4ad3-a2bd-07df9be2d20e___GCREC_Bact-Sp-3765_JPG.rf.92bbd8f90a37678189117ff3137a85b3.jpg: 640x640 1 TomatoeBacterialSpot, 8.9ms\n",
      "image 81/726 /teamspace/studios/this_studio/Cleaned_without_cucumber/test/images/31db3c10-db84-4e28-bc62-e929743a331f___UF-GRC_YLCV_Lab-09357_JPG.rf.af7dbb809b337bcc92aa30595d8f409b.jpg: 640x640 1 TomatoeYellowLeafCurlVirus, 8.6ms\n",
      "image 82/726 /teamspace/studios/this_studio/Cleaned_without_cucumber/test/images/31e73942-fc80-481e-b047-1b240cd44d71___UF-GRC_YLCV_Lab-02612_JPG.rf.8ba98db2abd4ad2f892c88b7f6f0e5ac.jpg: 640x640 1 TomatoeYellowLeafCurlVirus, 8.6ms\n",
      "image 83/726 /teamspace/studios/this_studio/Cleaned_without_cucumber/test/images/31f64c4e-cb26-44a6-a208-5a88d7d486e8___GHLB2-Leaf-8889_JPG.rf.991200be588e35b78f5488437a7b8ab0.jpg: 640x640 1 TomatoeLateBlight, 12.8ms\n",
      "image 84/726 /teamspace/studios/this_studio/Cleaned_without_cucumber/test/images/321df6d9-e75b-45b7-bc40-133b248c58ed___YLCV_GCREC-2803_JPG.rf.dcc91109de7c1fae7ccdb18a8cb20999.jpg: 640x640 1 TomatoeYellowLeafCurlVirus, 10.6ms\n",
      "image 85/726 /teamspace/studios/this_studio/Cleaned_without_cucumber/test/images/325d6d7f-c30b-43a3-8714-74b9cee673b0___GCREC_Bact-Sp-5984_JPG.rf.c5cd451c52be2c0d5688dfd13d69c21d.jpg: 640x640 1 TomatoeBacterialSpot, 9.0ms\n",
      "image 86/726 /teamspace/studios/this_studio/Cleaned_without_cucumber/test/images/329e5281-32c7-486b-86bc-1333ace123d0___Com-G_SpM_FL-1327_JPG.rf.1424ab2639ad9325a65a862ca9356437.jpg: 640x640 1 TomatoeTargetSpot, 8.7ms\n",
      "image 87/726 /teamspace/studios/this_studio/Cleaned_without_cucumber/test/images/32ba0937-33b8-4f11-b337-f2c31f7ead30___JR_Sept-L-S-2680_JPG.rf.9f2fc26e02b25a162512283ef833d847.jpg: 640x640 1 TomatoeSpiderMites, 8.6ms\n",
      "image 88/726 /teamspace/studios/this_studio/Cleaned_without_cucumber/test/images/332e7bf3-69c9-414a-9424-02f5c5ede706___YLCV_NREC-2323_JPG.rf.aac9a2663d396f0497cab6f751939c72.jpg: 640x640 1 TomatoeYellowLeafCurlVirus, 8.6ms\n",
      "image 89/726 /teamspace/studios/this_studio/Cleaned_without_cucumber/test/images/333d8c10-b9ba-4942-9589-a8d7f6845983___Keller-St_CG-1809_JPG.rf.c9f74aae7ec2ad8e374ff52bac3b6113.jpg: 640x640 1 TomatoeSpiderMites, 14.3ms\n",
      "image 90/726 /teamspace/studios/this_studio/Cleaned_without_cucumber/test/images/335da0b8-a52f-4a2a-8bce-cf98b53b2596___RS_Late-B-6220_JPG.rf.88dd79a1081d73c4a652635d489e0819.jpg: 640x640 1 TomatoeLateBlight, 9.9ms\n",
      "image 91/726 /teamspace/studios/this_studio/Cleaned_without_cucumber/test/images/336d5c1b-ed6b-4e9a-b40b-4e2e53aa77b5___GCREC_Bact-Sp-5857_JPG.rf.4f7e161ff128f090c835e8b5bd6846b6.jpg: 640x640 1 TomatoeBacterialSpot, 9.0ms\n",
      "image 92/726 /teamspace/studios/this_studio/Cleaned_without_cucumber/test/images/33d92d50-0cc0-431a-8a8c-a6c48cc42873___Keller-St_CG-2020_JPG.rf.9613a4476439dc1d03ff64bf25e966ba.jpg: 640x640 1 TomatoeSpiderMites, 8.7ms\n",
      "image 93/726 /teamspace/studios/this_studio/Cleaned_without_cucumber/test/images/33e011de-c050-4433-a251-aedbbf3886a1___Com-G_SpM_FL-8932_JPG.rf.4fd3ce9f5e9d3e090f6ab41c8b255977.jpg: 640x640 1 TomatoeTargetSpot, 8.9ms\n",
      "image 94/726 /teamspace/studios/this_studio/Cleaned_without_cucumber/test/images/33e05db1-0a59-49f4-b4e3-52b52ca31a14___GHLB2-Leaf-155-1_JPG.rf.8e10a3f2be92d625ca017d2244655528.jpg: 640x640 1 TomatoeLateBlight, 10.5ms\n",
      "image 95/726 /teamspace/studios/this_studio/Cleaned_without_cucumber/test/images/33e0bed5-9b9e-46ba-9f85-42f86d6f06eb___Com-G_SpM_FL-9453_JPG.rf.35d457c6ec4571198cf221fdbfe05d24.jpg: 640x640 1 TomatoeTargetSpot, 14.7ms\n",
      "image 96/726 /teamspace/studios/this_studio/Cleaned_without_cucumber/test/images/33e59828-c8c1-40f8-a684-dc16fdfcd280___Com-G_SpM_FL-9510_JPG.rf.0ec9c7b03fa94831cbe59cff5a2f4d67.jpg: 640x640 1 TomatoeTargetSpot, 9.5ms\n",
      "image 97/726 /teamspace/studios/this_studio/Cleaned_without_cucumber/test/images/33f08569-627c-40ad-b02a-f62c801ccf58___YLCV_GCREC-2367_JPG.rf.fd7114a44ef0991b783ed6ce301f10a8.jpg: 640x640 1 TomatoeYellowLeafCurlVirus, 9.6ms\n",
      "image 98/726 /teamspace/studios/this_studio/Cleaned_without_cucumber/test/images/340edb18-e35c-4827-aeba-dd38d12806f1___YLCV_GCREC-2168_JPG.rf.b8d3f6c8d80d274c6a0f979f371c2db1.jpg: 640x640 1 TomatoeYellowLeafCurlVirus, 9.5ms\n",
      "image 99/726 /teamspace/studios/this_studio/Cleaned_without_cucumber/test/images/342e5cbd-ba9f-44e9-a8d0-78c1ae469a08___YLCV_NREC-2546_JPG.rf.187afea858535ec546f25a9d297fcd46.jpg: 640x640 1 TomatoeYellowLeafCurlVirus, 13.5ms\n",
      "image 100/726 /teamspace/studios/this_studio/Cleaned_without_cucumber/test/images/349e804d-2b74-4d13-8a4f-fc433b0f7d54___GCREC_Bact-Sp-3566_JPG.rf.9fd0dcdcad3dd8ddb760aeecefd60bf5.jpg: 640x640 1 TomatoeBacterialSpot, 9.5ms\n",
      "image 101/726 /teamspace/studios/this_studio/Cleaned_without_cucumber/test/images/349f68f1-a57d-43bf-9422-3f6e905a9539___UF-GRC_BS_Lab-Leaf-8692_JPG.rf.6a390c84aaf568dc5f86ff351e3e44b3.jpg: 640x640 1 TomatoeBacterialSpot, 8.8ms\n",
      "image 102/726 /teamspace/studios/this_studio/Cleaned_without_cucumber/test/images/34bba791-1db5-40f8-b067-46518c17b75a___Matt-S_CG-2534_JPG.rf.095567dec2d726070be2f54f672c7c7d.jpg: 640x640 1 TomatoeSpiderMites, 8.5ms\n",
      "image 103/726 /teamspace/studios/this_studio/Cleaned_without_cucumber/test/images/34f24add-23dc-4ac4-8efd-5c4e065e48bc___UF-GRC_YLCV_Lab-01946_JPG.rf.255ccb4042643378c98d351fe831b2d2.jpg: 640x640 1 TomatoeYellowLeafCurlVirus, 8.8ms\n",
      "image 104/726 /teamspace/studios/this_studio/Cleaned_without_cucumber/test/images/354ec641-1c12-4440-8dd5-635d169d484e___JR_HL-8139_JPG.rf.38a1b71e5b43dd6868e5529c4a0c51d5.jpg: 640x640 1 PepperBellHealthy, 8.6ms\n",
      "image 105/726 /teamspace/studios/this_studio/Cleaned_without_cucumber/test/images/355edec8-e1bd-4f57-afa3-cbf03c2f06b1___GCREC_Bact-Sp-3353_JPG.rf.fa2b5dfbcf35ef5159355e69c20e7028.jpg: 640x640 1 TomatoeBacterialSpot, 13.3ms\n",
      "image 106/726 /teamspace/studios/this_studio/Cleaned_without_cucumber/test/images/357ac5e2-4d46-4b67-94c3-a2311ad18344___YLCV_NREC-2724_JPG.rf.c972f187081f110de05c9d84cde33f1f.jpg: 640x640 1 TomatoeYellowLeafCurlVirus, 10.6ms\n",
      "image 107/726 /teamspace/studios/this_studio/Cleaned_without_cucumber/test/images/357c7d95-3093-4cbf-abfa-c45a061db7a4___UF-GRC_YLCV_Lab-01440_JPG.rf.1b8fcbac04371ace63af9660af7c8609.jpg: 640x640 1 TomatoeYellowLeafCurlVirus, 8.9ms\n",
      "image 108/726 /teamspace/studios/this_studio/Cleaned_without_cucumber/test/images/358a14ec-de11-4183-970b-8276228fb696___YLCV_GCREC-2544_JPG.rf.32c807d72e4585515a427ea497735849.jpg: 640x640 1 TomatoeYellowLeafCurlVirus, 8.6ms\n",
      "image 109/726 /teamspace/studios/this_studio/Cleaned_without_cucumber/test/images/35a278b4-e474-4a62-99d5-80bb10639193___Com-G_SpM_FL-1368_JPG.rf.95a4a058242527d008a32099667b2813.jpg: 640x640 1 TomatoeTargetSpot, 8.6ms\n",
      "image 110/726 /teamspace/studios/this_studio/Cleaned_without_cucumber/test/images/35b75e70-ebe2-4e1c-a1fe-f6171da56aff___YLCV_NREC-0086_JPG.rf.815bf2712942d1d43ed989bb95e92f73.jpg: 640x640 1 TomatoeYellowLeafCurlVirus, 10.7ms\n",
      "image 111/726 /teamspace/studios/this_studio/Cleaned_without_cucumber/test/images/360ef8a2-719e-4a8c-8ed5-bfc1370f5b96___UF-GRC_YLCV_Lab-01519_JPG.rf.50ebc858edbfbad5a7c51f471845e4c0.jpg: 640x640 1 TomatoeYellowLeafCurlVirus, 13.1ms\n",
      "image 112/726 /teamspace/studios/this_studio/Cleaned_without_cucumber/test/images/365b9e42-fc7d-4805-8737-dd51f26a2468___GCREC_Bact-Sp-3256_JPG.rf.46ff045ad899c27a49108fb3e924907e.jpg: 640x640 1 TomatoeBacterialSpot, 9.0ms\n",
      "image 113/726 /teamspace/studios/this_studio/Cleaned_without_cucumber/test/images/37a48c05-400a-487c-a64d-d90da02d0ef8___JR_HL-7961_JPG.rf.eb8a2b4f5afa98b869c65b77239eb28f.jpg: 640x640 1 PepperBellHealthy, 8.6ms\n",
      "image 114/726 /teamspace/studios/this_studio/Cleaned_without_cucumber/test/images/37ab1070-e5a8-4145-8b30-d88961f835fd___Com-G_TgS_FL-8298_JPG.rf.4b2598f2108c4917e8b8a0aadac67c83.jpg: 640x640 1 TomatoeMosaicVirus, 8.6ms\n",
      "image 115/726 /teamspace/studios/this_studio/Cleaned_without_cucumber/test/images/382d37d7-8b5c-4e6b-9e6a-b346a0a228a3___Matt-S_CG-7859_JPG.rf.31f5cdd27e9a115a350796a704c14dab.jpg: 640x640 1 TomatoeSpiderMites, 8.5ms\n",
      "image 116/726 /teamspace/studios/this_studio/Cleaned_without_cucumber/test/images/388ce53d-1879-466f-82cd-89a8251ff1b6___UF-GRC_YLCV_Lab-09329_JPG.rf.1e6e910a1ccb433f39e9478fcd59ad68.jpg: 640x640 1 TomatoeYellowLeafCurlVirus, 11.9ms\n",
      "image 117/726 /teamspace/studios/this_studio/Cleaned_without_cucumber/test/images/38b0c6c6-0b50-491f-8889-181709be26ea___YLCV_NREC-2026_JPG.rf.17a9bc94a9d04a18992fdf4e0fee0fa3.jpg: 640x640 1 TomatoeYellowLeafCurlVirus, 13.0ms\n",
      "image 118/726 /teamspace/studios/this_studio/Cleaned_without_cucumber/test/images/38bea01f-8f19-4e3d-8022-3dbec2057ed1___Matt-S_CG-1575_JPG.rf.9ca7a3032d3cab0b56f3390843e7bef9.jpg: 640x640 1 TomatoeSpiderMites, 9.0ms\n",
      "image 119/726 /teamspace/studios/this_studio/Cleaned_without_cucumber/test/images/38de266d-bb02-4dea-b3d8-9c3dcefb44c0___GCREC_Bact-Sp-3756_JPG.rf.74b871ec569608aea9799730eb8c3a8d.jpg: 640x640 1 TomatoeBacterialSpot, 8.6ms\n",
      "image 120/726 /teamspace/studios/this_studio/Cleaned_without_cucumber/test/images/39b1d9c6-7a13-426f-9154-563e6a8d0438___RS_HL-0563_JPG.rf.79f4780c6ad20e5c472f5ea2d7f7759f.jpg: 640x640 1 TomatoeHealthy, 8.6ms\n",
      "image 121/726 /teamspace/studios/this_studio/Cleaned_without_cucumber/test/images/39cd6c3d-f927-4992-9a8c-df459752aab6___UF-GRC_YLCV_Lab-01887_JPG.rf.c85bee2e1441a32370a49e1412c8cea7.jpg: 640x640 1 TomatoeYellowLeafCurlVirus, 8.9ms\n",
      "image 122/726 /teamspace/studios/this_studio/Cleaned_without_cucumber/test/images/39ce44af-475d-45ec-be37-30ec021ba930___Com-G_TgS_FL-7967_JPG.rf.16a6230795016a64ffdf3926d6517809.jpg: 640x640 1 TomatoeMosaicVirus, 13.4ms\n",
      "image 123/726 /teamspace/studios/this_studio/Cleaned_without_cucumber/test/images/39e48a24-3108-482a-89b8-447645e2f5db___YLCV_NREC-2515_JPG.rf.1402135331e8cb6d51a60281e66ef1c1.jpg: 640x640 1 TomatoeTargetSpot, 11.1ms\n",
      "image 124/726 /teamspace/studios/this_studio/Cleaned_without_cucumber/test/images/3a12d335-da9d-454c-925d-157e5b59f3b9___Com-G_TgS_FL-8144_JPG.rf.299d837d897dafe7c1eb1f0d9ddc1f6b.jpg: 640x640 1 TomatoeMosaicVirus, 9.0ms\n",
      "image 125/726 /teamspace/studios/this_studio/Cleaned_without_cucumber/test/images/3a287000-0306-4202-8eca-41ead0c1634c___Matt-S_CG-2440_JPG.rf.6cc5f3d933be0bc7087dd159e9afc5da.jpg: 640x640 1 TomatoeSpiderMites, 8.8ms\n",
      "image 126/726 /teamspace/studios/this_studio/Cleaned_without_cucumber/test/images/3a66348b-a6b7-42ee-9411-9575a4240c6f___JR_HL-8627_JPG.rf.4dec471acce5959165a18fe63d19fbf6.jpg: 640x640 1 PepperBellHealthy, 8.8ms\n",
      "image 127/726 /teamspace/studios/this_studio/Cleaned_without_cucumber/test/images/3a6b3050-21ca-4384-808c-32358bfc8b90___UF-GRC_YLCV_Lab-01312_JPG.rf.6f0c2e0fd60dceba92c437d45cefbdfb.jpg: 640x640 1 TomatoeYellowLeafCurlVirus, 9.0ms\n",
      "image 128/726 /teamspace/studios/this_studio/Cleaned_without_cucumber/test/images/3a77e424-5be5-403d-93fa-68da3ec41eea___YLCV_NREC-2467_JPG.rf.dcdcff081947106397c9d544f3cf3926.jpg: 640x640 1 TomatoeYellowLeafCurlVirus, 13.5ms\n",
      "image 129/726 /teamspace/studios/this_studio/Cleaned_without_cucumber/test/images/3a8eb501-7b8f-458b-8c61-ae581f5a68b9___Com-G_TgS_FL-8031_JPG.rf.0e5b21550e66342e5eaecc25a4fffca8.jpg: 640x640 1 TomatoeMosaicVirus, 13.5ms\n",
      "image 130/726 /teamspace/studios/this_studio/Cleaned_without_cucumber/test/images/3ac52b85-d4a3-4958-9e68-399b919cf7b0___GHLB2-Leaf-8638_JPG.rf.172c5efae40f0385ac4837b7e25249d0.jpg: 640x640 1 TomatoeLateBlight, 11.2ms\n",
      "image 131/726 /teamspace/studios/this_studio/Cleaned_without_cucumber/test/images/3ad81dac-39c6-422a-95f9-1a7834d474ec___Com-G_SpM_FL-8913_JPG.rf.96dc16b6cc6289131980271131da0462.jpg: 640x640 1 TomatoeTargetSpot, 8.6ms\n",
      "image 132/726 /teamspace/studios/this_studio/Cleaned_without_cucumber/test/images/3b237621-09df-4dda-9a96-d37fbfee2831___UF-GRC_YLCV_Lab-02213_JPG.rf.d6eea42e96df57f769ab6cab00d01ecb.jpg: 640x640 1 TomatoeYellowLeafCurlVirus, 8.5ms\n",
      "image 133/726 /teamspace/studios/this_studio/Cleaned_without_cucumber/test/images/3b4a011c-68ae-4b84-90b5-27ef4b2d3447___GH_HL-Leaf-255_JPG.rf.94c4a49a434ef482fe969aa81762295f.jpg: 640x640 1 TomatoeHealthy, 13.1ms\n",
      "image 134/726 /teamspace/studios/this_studio/Cleaned_without_cucumber/test/images/3b5f6152-09c6-4458-8e7a-fb0b1ff43ee8___JR_HL-5851_JPG.rf.5ef4c69002951d89cc1d0c6217158a25.jpg: 640x640 1 PepperBellHealthy, 10.2ms\n",
      "image 135/726 /teamspace/studios/this_studio/Cleaned_without_cucumber/test/images/3b8c55fd-ddd6-4ab6-94e8-3be93b1728eb___JR_HL-5963_JPG.rf.6ddd8383bb67f82ee8ab53c64a2c6d63.jpg: 640x640 1 PepperBellHealthy, 8.9ms\n",
      "image 136/726 /teamspace/studios/this_studio/Cleaned_without_cucumber/test/images/3baecdfe-1140-446b-af35-7fd18205e325___UF-GRC_YLCV_Lab-01734_JPG.rf.3795d55414150fb165007ae9b7318d78.jpg: 640x640 1 TomatoeYellowLeafCurlVirus, 8.8ms\n",
      "image 137/726 /teamspace/studios/this_studio/Cleaned_without_cucumber/test/images/3bbaf1c9-cf67-44b5-95c0-486e9005b0fb___YLCV_GCREC-5182_JPG.rf.2938e2ad3b32224b47965b26a78599cd.jpg: 640x640 1 TomatoeYellowLeafCurlVirus, 8.8ms\n",
      "image 138/726 /teamspace/studios/this_studio/Cleaned_without_cucumber/test/images/3bed8328-2a32-49f3-b887-a083b1757259___GCREC_Bact-Sp-6171_JPG.rf.18af1a5a8dd5497127e79bd3a0bae3b1.jpg: 640x640 1 TomatoeBacterialSpot, 8.8ms\n",
      "image 139/726 /teamspace/studios/this_studio/Cleaned_without_cucumber/test/images/3bfcacdf-3d19-47c4-a52e-6d884dfc5e20___RS_Late-B-6651_JPG.rf.15852ab017a5cc27a15c0e82ae1163e7.jpg: 640x640 1 TomatoeLateBlight, 13.7ms\n",
      "image 140/726 /teamspace/studios/this_studio/Cleaned_without_cucumber/test/images/3c02c8e5-b648-40ad-b119-0d9f66fc2b6c___JR_HL-8146_JPG.rf.96895ef8139471d8b361183c4c339f61.jpg: 640x640 1 PepperBellHealthy, 10.2ms\n",
      "image 141/726 /teamspace/studios/this_studio/Cleaned_without_cucumber/test/images/3c0df0a9-32f7-4f30-9b50-09aac666701e___Com-G_SpM_FL-8422_JPG.rf.c56a25fc752b3ab4a27d248c69a1e34b.jpg: 640x640 1 TomatoeTargetSpot, 8.9ms\n",
      "image 142/726 /teamspace/studios/this_studio/Cleaned_without_cucumber/test/images/3c29dad4-3544-465b-b678-a78ca0ad8f58___YLCV_GCREC-2243_JPG.rf.5f4556b485be9fcfc405efba44ad1647.jpg: 640x640 1 TomatoeYellowLeafCurlVirus, 8.6ms\n",
      "image 143/726 /teamspace/studios/this_studio/Cleaned_without_cucumber/test/images/3c934127-d85d-4eef-8449-ee7ee1a8a484___UF-GRC_YLCV_Lab-01448_JPG.rf.78c41b41fb2bfa5887c5f0efaafc8151.jpg: 640x640 1 TomatoeYellowLeafCurlVirus, 8.8ms\n",
      "image 144/726 /teamspace/studios/this_studio/Cleaned_without_cucumber/test/images/3ca6e178-acee-4463-9d9f-aa1636eb9df6___RS_HL-0306_JPG.rf.8bc0d9ed7f5a65c9736c98d31550bac5.jpg: 640x640 1 TomatoeHealthy, 9.3ms\n",
      "image 145/726 /teamspace/studios/this_studio/Cleaned_without_cucumber/test/images/3cb86ee4-88dd-45e0-99cc-6dfed27919bf___UF-GRC_YLCV_Lab-01426_JPG.rf.c62bb95bf9171a03aa4a2e20d27dfb20.jpg: 640x640 1 TomatoeYellowLeafCurlVirus, 12.6ms\n",
      "image 146/726 /teamspace/studios/this_studio/Cleaned_without_cucumber/test/images/3cd9a770-3405-44a1-bf8d-9eb6d42bc0be___JR_HL-7642_JPG.rf.e9f98c43c18f90d76bcb1924ba410c12.jpg: 640x640 1 PepperBellHealthy, 9.7ms\n",
      "image 147/726 /teamspace/studios/this_studio/Cleaned_without_cucumber/test/images/3cfaf18e-515c-469c-807b-50a7aecfadca___UF-GRC_YLCV_Lab-03333_JPG.rf.13e4e12f7c38e66c24ed5f7606cc778a.jpg: 640x640 1 TomatoeYellowLeafCurlVirus, 9.0ms\n",
      "image 148/726 /teamspace/studios/this_studio/Cleaned_without_cucumber/test/images/3d38f4a9-37ac-4211-bfc3-e26c815afc23___GCREC_Bact-Sp-3781_JPG.rf.4052ba0eaf290ef08846db3892e0c027.jpg: 640x640 1 TomatoeBacterialSpot, 8.6ms\n",
      "image 149/726 /teamspace/studios/this_studio/Cleaned_without_cucumber/test/images/3d39341d-dbcb-4453-b193-c00d57af0fe9___Com-G_SpM_FL-1313_JPG.rf.3ab71853879bcf71464c55365819eb5a.jpg: 640x640 1 TomatoeTargetSpot, 8.6ms\n",
      "image 150/726 /teamspace/studios/this_studio/Cleaned_without_cucumber/test/images/3d56ef50-1028-4b69-b04c-e1800cc740aa___Com-G_SpM_FL-1440_JPG.rf.a02adb511d2b27afaec98cc75315ff09.jpg: 640x640 1 TomatoeTargetSpot, 10.3ms\n",
      "image 151/726 /teamspace/studios/this_studio/Cleaned_without_cucumber/test/images/3d73d31e-6513-4b4e-90ba-81a0648195f2___YLCV_GCREC-2695_JPG.rf.f53866e948ca4e8864c4f52a3fb1f7e2.jpg: 640x640 1 TomatoeYellowLeafCurlVirus, 12.9ms\n",
      "image 152/726 /teamspace/studios/this_studio/Cleaned_without_cucumber/test/images/3daec3cc-fd1d-495e-ac1b-8aaa30013d7b___Com-G_TgS_FL-8064_JPG.rf.9fca2be226e93c6b2db44355b6d12484.jpg: 640x640 1 TomatoeMosaicVirus, 9.3ms\n",
      "image 153/726 /teamspace/studios/this_studio/Cleaned_without_cucumber/test/images/3de056ef-8524-434c-865a-a0ebb5c9b566___Com-G_TgS_FL-8214_JPG.rf.f7bbd1c90f16ec7a6de445e020c66db8.jpg: 640x640 1 TomatoeMosaicVirus, 8.9ms\n",
      "image 154/726 /teamspace/studios/this_studio/Cleaned_without_cucumber/test/images/3de17184-cbec-4397-813e-1bbc3bc5cb6a___RS_Late-B-7050_JPG.rf.3ab6c4fdb55902e252c3aab0b62f6c03.jpg: 640x640 1 TomatoeLateBlight, 8.7ms\n",
      "image 155/726 /teamspace/studios/this_studio/Cleaned_without_cucumber/test/images/3e9a67e4-492b-4306-be1b-0a2624ea5c3e___GH_HL-Leaf-175_JPG.rf.ed568307d9c5374fcbacccc997f9b9ce.jpg: 640x640 1 TomatoeHealthy, 8.7ms\n",
      "image 156/726 /teamspace/studios/this_studio/Cleaned_without_cucumber/test/images/3ea001ac-b49b-4382-a95d-a602fba00a5a___GH_HL-Leaf-445_JPG.rf.35276847b1b2f9ac78da7e0b2c033581.jpg: 640x640 1 TomatoeHealthy, 12.4ms\n",
      "image 157/726 /teamspace/studios/this_studio/Cleaned_without_cucumber/test/images/3ed40b55-9410-41c7-91cd-1e2f771d5888___Matt-S_CG-7723_JPG.rf.057a4ab16ebab08f04928889e8e32725.jpg: 640x640 1 TomatoeSpiderMites, 12.6ms\n",
      "image 158/726 /teamspace/studios/this_studio/Cleaned_without_cucumber/test/images/3ee909e6-4de7-4120-bb0e-bd71627f8bf1___RS_HL-9782_JPG.rf.0140d58cfb19286645d6c44a357279ce.jpg: 640x640 1 TomatoeHealthy, 9.1ms\n",
      "image 159/726 /teamspace/studios/this_studio/Cleaned_without_cucumber/test/images/3f905faa-e3a5-447e-80bb-f5eb5a77afdc___YLCV_NREC-2924_JPG.rf.88f2ba0dc289ec13c75b9cbf287a95c8.jpg: 640x640 1 TomatoeYellowLeafCurlVirus, 8.9ms\n",
      "image 160/726 /teamspace/studios/this_studio/Cleaned_without_cucumber/test/images/401e43fb-f5f5-40b7-9fe8-d466ecb233c7___JR_HL-8137_JPG.rf.fb37a4fde8e84dc25ebbc5e60d72deff.jpg: 640x640 1 PepperBellHealthy, 8.8ms\n",
      "image 161/726 /teamspace/studios/this_studio/Cleaned_without_cucumber/test/images/408ab142-3395-4a81-b90a-48b610336cea___Matt-S_CG-1556_JPG.rf.38265401ad3c0312692cce08a37bc6e9.jpg: 640x640 1 TomatoeSpiderMites, 8.8ms\n",
      "image 162/726 /teamspace/studios/this_studio/Cleaned_without_cucumber/test/images/40a35c35-7e27-44bb-8a94-ce0bd642a12c___UF-GRC_YLCV_Lab-09473_JPG.rf.164e47f33fad29f3e8a4a3cf28aa9f75.jpg: 640x640 1 TomatoeYellowLeafCurlVirus, 13.6ms\n",
      "image 163/726 /teamspace/studios/this_studio/Cleaned_without_cucumber/test/images/40b05b00-37a9-42c7-b98f-39ec77a58003___JR_HL-7773_JPG.rf.22214dcfa3927e348e2257b85b2176a8.jpg: 640x640 1 PepperBellHealthy, 11.7ms\n",
      "image 164/726 /teamspace/studios/this_studio/Cleaned_without_cucumber/test/images/40ddbdb5-e7fa-4e8a-b36b-5745ab45c89c___Com-G_TgS_FL-0826_JPG.rf.0c5de0e45c5b754d8d747ce3de07d37d.jpg: 640x640 1 TomatoeMosaicVirus, 8.9ms\n",
      "image 165/726 /teamspace/studios/this_studio/Cleaned_without_cucumber/test/images/418da11b-7ab4-404a-8179-555235e3f283___Com-G_SpM_FL-1514_JPG.rf.c179dc41c029b94bb46391c8a26b4980.jpg: 640x640 1 TomatoeTargetSpot, 8.6ms\n",
      "image 166/726 /teamspace/studios/this_studio/Cleaned_without_cucumber/test/images/41b94c99-7063-42dc-9ce7-22ff087317e9___JR_HL-7696_JPG.rf.f8d057db4f449df7c819c6c7d15d3211.jpg: 640x640 1 PepperBellHealthy, 8.5ms\n",
      "image 167/726 /teamspace/studios/this_studio/Cleaned_without_cucumber/test/images/420da335-510d-4e55-ac9c-2cad3530ad68___RS_Erly-B-8442_JPG.rf.f7e4d335822add34ff6353f5101a4633.jpg: 640x640 1 TomatoeEarlyblight, 9.4ms\n",
      "image 168/726 /teamspace/studios/this_studio/Cleaned_without_cucumber/test/images/422d4da4-59d4-4aa7-a7ca-129bf5542374___YLCV_GCREC-5263_JPG.rf.18ed04f7bbc9636b3d5bbd10450ba664.jpg: 640x640 1 TomatoeYellowLeafCurlVirus, 14.4ms\n",
      "image 169/726 /teamspace/studios/this_studio/Cleaned_without_cucumber/test/images/424ae9d6-afa6-4945-9ac4-c66036c519d9___YLCV_NREC-2954_JPG.rf.b87875ab2993088c6fb7b3697f17709f.jpg: 640x640 1 TomatoeYellowLeafCurlVirus, 9.2ms\n",
      "image 170/726 /teamspace/studios/this_studio/Cleaned_without_cucumber/test/images/42e1947e-7fb4-42f3-9199-0489ce02289c___Com-G_TgS_FL-9724_JPG.rf.a40f6d5ab6070552fdfd1e2030f61d99.jpg: 640x640 1 TomatoeMosaicVirus, 8.7ms\n",
      "image 171/726 /teamspace/studios/this_studio/Cleaned_without_cucumber/test/images/42f78596-3dca-49ac-9dea-04601798ed38___UF-GRC_YLCV_Lab-02239_JPG.rf.aed4ed0b2f946e3e5b4a9602a39683d9.jpg: 640x640 1 TomatoeYellowLeafCurlVirus, 8.6ms\n",
      "image 172/726 /teamspace/studios/this_studio/Cleaned_without_cucumber/test/images/431e5099-0b4d-433c-bba9-85e6ded06f4d___RS_HL-9876_JPG.rf.14d5bf303656b78634900581553fc10d.jpg: 640x640 1 TomatoeHealthy, 8.6ms\n",
      "image 173/726 /teamspace/studios/this_studio/Cleaned_without_cucumber/test/images/434b63a0-52c5-4d9d-868e-e359c8bcc493___UF-GRC_YLCV_Lab-01301_JPG.rf.798a0cdfbc3eaa8e9ed8f92e329ef3b6.jpg: 640x640 1 TomatoeYellowLeafCurlVirus, 11.1ms\n",
      "image 174/726 /teamspace/studios/this_studio/Cleaned_without_cucumber/test/images/435e0071-a283-4462-b874-a5bf18f5ab4c___GCREC_Bact-Sp-6170_JPG.rf.746006795e4946720cc15e5ac680364e.jpg: 640x640 1 TomatoeBacterialSpot, 13.4ms\n",
      "image 175/726 /teamspace/studios/this_studio/Cleaned_without_cucumber/test/images/435fc789-e79a-477c-a5f3-a2b9a2c3d18e___YLCV_NREC-2661_JPG.rf.0635393d4c294dbe8f62efbd7cdcdfb7.jpg: 640x640 1 TomatoeYellowLeafCurlVirus, 9.6ms\n",
      "image 176/726 /teamspace/studios/this_studio/Cleaned_without_cucumber/test/images/43a474b7-83dd-48e5-962a-783727a6595a___GCREC_Bact-Sp-3255_JPG.rf.576b0a9f75660c1ec39c9a7c3320956a.jpg: 640x640 1 TomatoeBacterialSpot, 8.8ms\n",
      "image 177/726 /teamspace/studios/this_studio/Cleaned_without_cucumber/test/images/43a7a8f7-67b8-4d02-8da5-57a6b1e28b01___Com-G_TgS_FL-0920_JPG.rf.7b4ebc1a30b71e1c7f5c57b087ce1453.jpg: 640x640 1 TomatoeMosaicVirus, 8.8ms\n",
      "image 178/726 /teamspace/studios/this_studio/Cleaned_without_cucumber/test/images/43b8aec7-59df-413d-9afd-9cbf481695fd___UF-GRC_YLCV_Lab-09423_JPG.rf.bd9f52381c9955d564fca5a9361af817.jpg: 640x640 1 TomatoeYellowLeafCurlVirus, 8.8ms\n",
      "image 179/726 /teamspace/studios/this_studio/Cleaned_without_cucumber/test/images/442e4bab-52fd-4e8d-96bf-1f782facd8c6___Com-G_SpM_FL-1404_JPG.rf.d46c5aae30d66889386b265ca87fd08e.jpg: 640x640 1 TomatoeTargetSpot, 13.2ms\n",
      "image 180/726 /teamspace/studios/this_studio/Cleaned_without_cucumber/test/images/443ec2ab-57b1-4853-a779-2f020ac7d1cf___Com-G_SpM_FL-8983_JPG.rf.8216992e7654e3bd345ffcdd5f059405.jpg: 640x640 1 TomatoeTargetSpot, 11.3ms\n",
      "image 181/726 /teamspace/studios/this_studio/Cleaned_without_cucumber/test/images/44b451a2-318d-4329-a54b-fc44ea29ccfe___JR_HL-8147_JPG.rf.b45e4facb69ee728010cda2372a36f84.jpg: 640x640 1 PepperBellHealthy, 8.9ms\n",
      "image 182/726 /teamspace/studios/this_studio/Cleaned_without_cucumber/test/images/44e04c0e-4bcd-40c0-9f3c-33078bf398b0___Com-G_TgS_FL-0832_JPG.rf.5e9d76a8629746817d99cc291a68aed0.jpg: 640x640 1 TomatoeMosaicVirus, 8.9ms\n",
      "image 183/726 /teamspace/studios/this_studio/Cleaned_without_cucumber/test/images/44ec0f96-b5fa-4dda-8125-108e014d7812___UF-GRC_YLCV_Lab-01797_JPG.rf.56777ea87efb39eb9381278fccdaae8d.jpg: 640x640 1 TomatoeYellowLeafCurlVirus, 8.6ms\n",
      "image 184/726 /teamspace/studios/this_studio/Cleaned_without_cucumber/test/images/451eda81-5134-4d6c-aa4b-2d0ce9341159___Com-G_TgS_FL-7898_JPG.rf.756d98e06e186cb3b6a53e123b0e532b.jpg: 640x640 1 TomatoeMosaicVirus, 8.5ms\n",
      "image 185/726 /teamspace/studios/this_studio/Cleaned_without_cucumber/test/images/455ad7ef-7e80-469d-87c2-70e4fcf4eaa3___JR_HL-8799_JPG.rf.92494d3453820b68b6cf0bcd0f04de55.jpg: 640x640 1 PepperBellHealthy, 15.1ms\n",
      "image 186/726 /teamspace/studios/this_studio/Cleaned_without_cucumber/test/images/456afc9b-bdae-4506-a04f-aa228de3dd2b___GCREC_Bact-Sp-3548_JPG.rf.1cc3ca7553b273302f4d7538d134b071.jpg: 640x640 1 TomatoeMosaicVirus, 10.2ms\n",
      "image 187/726 /teamspace/studios/this_studio/Cleaned_without_cucumber/test/images/45d0aca4-ce49-43cb-af35-99ac8d283930___Com-G_SpM_FL-1459_JPG.rf.1f0f2602870f8e17323f6dc76896e4a9.jpg: 640x640 1 TomatoeTargetSpot, 8.9ms\n",
      "image 188/726 /teamspace/studios/this_studio/Cleaned_without_cucumber/test/images/45d34d4b-b4b2-4bfb-825a-28aa457655de___Matt-S_CG-2745_JPG.rf.8e554d65b69ab5f6259498efb147af36.jpg: 640x640 1 TomatoeSpiderMites, 8.6ms\n",
      "image 189/726 /teamspace/studios/this_studio/Cleaned_without_cucumber/test/images/464ddbcd-0c75-421d-835c-035359e464cc___UF-GRC_YLCV_Lab-02342_JPG.rf.835d990eb3a0db53a1da163f92120a8a.jpg: 640x640 1 TomatoeYellowLeafCurlVirus, 9.1ms\n",
      "image 190/726 /teamspace/studios/this_studio/Cleaned_without_cucumber/test/images/464e9931-7a53-4059-b244-0066297f0a8f___GHLB2-Leaf-8841_JPG.rf.5a4264c7611a22a2898083c5b4e32bc1.jpg: 640x640 1 TomatoeLateBlight, 8.5ms\n",
      "image 191/726 /teamspace/studios/this_studio/Cleaned_without_cucumber/test/images/468a0f48-b0c4-4969-9f21-826cb3ae3f61___RS_Erly-B-7725_JPG.rf.bdce862a389b1e3ce145f2482e2db17e.jpg: 640x640 1 TomatoeEarlyblight, 12.0ms\n",
      "image 192/726 /teamspace/studios/this_studio/Cleaned_without_cucumber/test/images/46e01033-9285-43bf-8596-2f09789c0d83___Com-G_TgS_FL-8283_JPG.rf.9391350cb8bea3b31f558e17920b68d1.jpg: 640x640 1 TomatoeMosaicVirus, 10.4ms\n",
      "image 193/726 /teamspace/studios/this_studio/Cleaned_without_cucumber/test/images/46e093ee-26f6-4069-a128-b4efff8355de___YLCV_GCREC-2902_JPG.rf.dcfa6e37e1a2cdc4ec6ef031223b86e3.jpg: 640x640 1 TomatoeYellowLeafCurlVirus, 9.0ms\n",
      "image 194/726 /teamspace/studios/this_studio/Cleaned_without_cucumber/test/images/46ff56ce-bf5d-48b9-89d8-d096a288f62b___RS_HL-9630_JPG.rf.60326f446a78d1c1137ef1372154d4e3.jpg: 640x640 1 TomatoeHealthy, 8.8ms\n",
      "image 195/726 /teamspace/studios/this_studio/Cleaned_without_cucumber/test/images/479eee9b-f4c5-45a6-90f6-6f7fbd4069eb___UF-GRC_YLCV_Lab-09470_JPG.rf.b325edac97064fc1001b6fb1f4e737db.jpg: 640x640 1 TomatoeYellowLeafCurlVirus, 8.7ms\n",
      "image 196/726 /teamspace/studios/this_studio/Cleaned_without_cucumber/test/images/47a87555-1411-43a3-85d2-5fb241ec089d___GH_HL-Leaf-177-2_JPG.rf.2451155147a2af1a1b75f2a8392d5590.jpg: 640x640 1 TomatoeHealthy, 9.5ms\n",
      "image 197/726 /teamspace/studios/this_studio/Cleaned_without_cucumber/test/images/47d90e2b-bd1b-4b84-94dd-9cdfa31ba15a___GCREC_Bact-Sp-3732_JPG.rf.b4e83aec15be6145950b2a592aec4cb1.jpg: 640x640 1 TomatoeBacterialSpot, 12.9ms\n",
      "image 198/726 /teamspace/studios/this_studio/Cleaned_without_cucumber/test/images/47fbd17d-c078-4465-8816-c675abd9c850___JR_B-Spot-3185_JPG.rf.9202d19a3ccf040056ea9e45c0ee5937.jpg: 640x640 1 PepperBellBacterialSpot, 9.1ms\n",
      "image 199/726 /teamspace/studios/this_studio/Cleaned_without_cucumber/test/images/486aa71a-ddcc-40a4-9f64-3efac8e31be0___YLCV_GCREC-2850_JPG.rf.62a14aeaa70ae151ec9295ca10831b65.jpg: 640x640 1 TomatoeYellowLeafCurlVirus, 8.6ms\n",
      "image 200/726 /teamspace/studios/this_studio/Cleaned_without_cucumber/test/images/48a7cf31-19e0-45ba-89c1-7887afa0bdd4___JR_B-Spot-9095_JPG.rf.06a983e00bb4f17c54675ff7c9ecaf3f.jpg: 640x640 1 PepperBellBacterialSpot, 8.5ms\n",
      "image 201/726 /teamspace/studios/this_studio/Cleaned_without_cucumber/test/images/48cd6d61-c283-4cd9-a9e7-1c74aa0d21bc___YLCV_NREC-2873_JPG.rf.372c78f9c31a78f71b9e48f68422ed6e.jpg: 640x640 1 TomatoeYellowLeafCurlVirus, 8.5ms\n",
      "image 202/726 /teamspace/studios/this_studio/Cleaned_without_cucumber/test/images/48ea939e-918d-4cc2-8285-267811f84914___GCREC_Bact-Sp-3634_JPG.rf.75f9a9fc1e2d7d216987495ca9e2200b.jpg: 640x640 1 TomatoeMosaicVirus, 11.2ms\n",
      "image 203/726 /teamspace/studios/this_studio/Cleaned_without_cucumber/test/images/491a9294-8f46-4563-9787-6b8b68a9c050___RS_Late-B-6591_JPG.rf.9a6994a9ed5274f2c0f263fa8c71ec1e.jpg: 640x640 1 TomatoeLateBlight, 12.5ms\n",
      "image 204/726 /teamspace/studios/this_studio/Cleaned_without_cucumber/test/images/493523c6-c658-4c8f-bc8c-0ac673d396c7___JR_HL-7662_JPG.rf.0400c3e75bfaffc6dd15a7d7e4f1042c.jpg: 640x640 1 PepperBellHealthy, 9.5ms\n",
      "image 205/726 /teamspace/studios/this_studio/Cleaned_without_cucumber/test/images/495a82d9-e4ad-41d8-8e66-00a60f44d15b___JR_HL-8276_JPG.rf.1013eaf37bd2c62d10c2c5a7a2ba03bf.jpg: 640x640 1 PepperBellHealthy, 9.0ms\n",
      "image 206/726 /teamspace/studios/this_studio/Cleaned_without_cucumber/test/images/499ed0ff-447b-4f2b-9f9d-d733202b4fcf___GCREC_Bact-Sp-3407_JPG.rf.7f003abf03c4be769a7fcc5e08384182.jpg: 640x640 1 TomatoeBacterialSpot, 9.1ms\n",
      "image 207/726 /teamspace/studios/this_studio/Cleaned_without_cucumber/test/images/49c01986-9483-4a7e-903f-d9bf612d4bf3___UF-GRC_YLCV_Lab-02605_JPG.rf.2ef8dfecaff7986b7260ba23b78841cc.jpg: 640x640 1 TomatoeYellowLeafCurlVirus, 8.9ms\n",
      "image 208/726 /teamspace/studios/this_studio/Cleaned_without_cucumber/test/images/49d0531e-3d55-47b6-a4ed-2d87bd23bbcf___RS_Late-B-5457_JPG.rf.569bb5dba5ad66181a3260a09d6af8c6.jpg: 640x640 1 TomatoeLateBlight, 12.5ms\n",
      "image 209/726 /teamspace/studios/this_studio/Cleaned_without_cucumber/test/images/4a0a9092-e70e-4a73-bb51-4d83b3c90a38___GH_HL-Leaf-195_JPG.rf.c5d4ea6037cc824db7dde784b60fa06d.jpg: 640x640 1 TomatoeHealthy, 12.0ms\n",
      "image 210/726 /teamspace/studios/this_studio/Cleaned_without_cucumber/test/images/4a0b5c52-3bd4-4f31-836d-5bf512587a3e___Matt-S_CG-6300_JPG.rf.0aae257e618635eedad3c8b05f6a95a8.jpg: 640x640 1 TomatoeSpiderMites, 9.5ms\n",
      "image 211/726 /teamspace/studios/this_studio/Cleaned_without_cucumber/test/images/4a18013a-dcd1-4974-b841-89c49b198a11___NREC_B-Spot-1984_JPG.rf.f0fef499cc06fd09b638a468388517ec.jpg: 640x640 1 PepperBellBacterialSpot, 9.3ms\n",
      "image 212/726 /teamspace/studios/this_studio/Cleaned_without_cucumber/test/images/4a1c0d21-3ba1-4c62-9e6e-f12b845d54c9___UF-GRC_YLCV_Lab-02699_JPG.rf.2b93c1248d18f43a60768d6a2710d390.jpg: 640x640 1 TomatoeYellowLeafCurlVirus, 9.1ms\n",
      "image 213/726 /teamspace/studios/this_studio/Cleaned_without_cucumber/test/images/4a1fef3f-35be-48ca-9e6c-78d5578c727a___Com-G_SpM_FL-1316_JPG.rf.037e2279b238147d1e566a46fbe2ef03.jpg: 640x640 1 TomatoeTargetSpot, 8.9ms\n",
      "image 214/726 /teamspace/studios/this_studio/Cleaned_without_cucumber/test/images/4a32a3e1-2c33-4f60-9813-e29ecfd3c546___JR_HL-8650_JPG.rf.6e124f6ff98e9eca1b7d4bd769dc5e2f.jpg: 640x640 1 PepperBellHealthy, 13.3ms\n",
      "image 215/726 /teamspace/studios/this_studio/Cleaned_without_cucumber/test/images/4ab14ef2-ad45-4df6-87ce-1ffd11ad5543___JR_HL-7899_JPG.rf.0ef92d38463b90942ddf8180c7d98a0d.jpg: 640x640 1 PepperBellHealthy, 11.5ms\n",
      "image 216/726 /teamspace/studios/this_studio/Cleaned_without_cucumber/test/images/4ac4ef34-f2c2-4e08-a0d6-ad3d225159f5___GCREC_Bact-Sp-6177_JPG.rf.946796da227b4e74574ead11e1bea44b.jpg: 640x640 1 TomatoeBacterialSpot, 9.4ms\n",
      "image 217/726 /teamspace/studios/this_studio/Cleaned_without_cucumber/test/images/4ad01f87-c626-49e6-b683-188155a87116___UF-GRC_YLCV_Lab-02238_JPG.rf.3742393227b2153a6c6dba189d443d29.jpg: 640x640 1 TomatoeYellowLeafCurlVirus, 8.6ms\n",
      "image 218/726 /teamspace/studios/this_studio/Cleaned_without_cucumber/test/images/4ae26730-1f0b-4f49-aad5-774f0ed4df35___GHLB2-Leaf-8621_JPG.rf.dd66afa5942788ae6784bacc0fa0b9fb.jpg: 640x640 1 TomatoeLateBlight, 8.6ms\n",
      "image 219/726 /teamspace/studios/this_studio/Cleaned_without_cucumber/test/images/4ae80701-db36-4003-a20c-925d66bdfb68___RS_HL-0602_JPG.rf.d6796d46e4291a494493ee16625c2e48.jpg: 640x640 1 TomatoeHealthy, 8.6ms\n",
      "image 220/726 /teamspace/studios/this_studio/Cleaned_without_cucumber/test/images/4b5b9fed-2bbc-4e9d-8268-fef031cef2db___Com-G_TgS_FL-0883_JPG.rf.c0ae972b471765896535571e6bb89de5.jpg: 640x640 1 TomatoeMosaicVirus, 12.6ms\n",
      "image 221/726 /teamspace/studios/this_studio/Cleaned_without_cucumber/test/images/4b6307a8-d60b-4e45-a8b4-5e1cd50f2a62___GHLB2-Leaf-8588_JPG.rf.b01c543656b91a73b16065443dc67543.jpg: 640x640 1 TomatoeLateBlight, 9.9ms\n",
      "image 222/726 /teamspace/studios/this_studio/Cleaned_without_cucumber/test/images/4b712088-62f3-43ff-8358-6f07279f0b8c___Keller-St_CG-1961_JPG.rf.b7c3c47597f093a62fba8590782bd590.jpg: 640x640 1 TomatoeSpiderMites, 9.0ms\n",
      "image 223/726 /teamspace/studios/this_studio/Cleaned_without_cucumber/test/images/4b7612c8-8f1c-4cdf-a4bb-2a9d266daa91___JR_HL-8852_JPG.rf.c806fd2b9edac2d16828348d8f95a035.jpg: 640x640 1 PepperBellHealthy, 8.7ms\n",
      "image 224/726 /teamspace/studios/this_studio/Cleaned_without_cucumber/test/images/4b8bc1e8-30e5-41ef-871e-0661d521418d___RS_HL-0445_JPG.rf.6b4c21322f231f7a6315700526212973.jpg: 640x640 1 TomatoeHealthy, 8.7ms\n",
      "image 225/726 /teamspace/studios/this_studio/Cleaned_without_cucumber/test/images/4b8f6f0d-ed84-49ae-a92e-6cf049a42207___RS_HL-9652_JPG.rf.a1cf1edba22b80463d7a0a1be6c6d2bd.jpg: 640x640 1 TomatoeHealthy, 9.8ms\n",
      "image 226/726 /teamspace/studios/this_studio/Cleaned_without_cucumber/test/images/4bb85b88-bc75-45f8-aa28-a6f64d168649___UF-GRC_YLCV_Lab-02149_JPG.rf.c826ae746bcb270ff561ffdf43955d3c.jpg: 640x640 1 TomatoeYellowLeafCurlVirus, 12.0ms\n",
      "image 227/726 /teamspace/studios/this_studio/Cleaned_without_cucumber/test/images/4bef8634-a0e1-47c3-8be9-52ed47b4bb22___UF-GRC_YLCV_Lab-01582_JPG.rf.b62437bdd28118b8ab0dad759efc8a7a.jpg: 640x640 1 TomatoeYellowLeafCurlVirus, 9.4ms\n",
      "image 228/726 /teamspace/studios/this_studio/Cleaned_without_cucumber/test/images/4c80744a-44c1-4f29-85d8-84fa1aa99745___UF-GRC_YLCV_Lab-02749_JPG.rf.b2460f355747db6d640c3f09dad264cd.jpg: 640x640 1 TomatoeYellowLeafCurlVirus, 9.5ms\n",
      "image 229/726 /teamspace/studios/this_studio/Cleaned_without_cucumber/test/images/4c8a4e16-7d22-4352-afa0-c5a2a4bf5983___Com-G_SpM_FL-1187_JPG.rf.f589f6f829d07b1f601052de6ac158e7.jpg: 640x640 1 TomatoeTargetSpot, 8.8ms\n",
      "image 230/726 /teamspace/studios/this_studio/Cleaned_without_cucumber/test/images/4ce3098b-aad2-4e5b-8f3b-fd827cad2c0b___RS_HL-0026_JPG.rf.3184fd10a6de1353c93afe44ec8d202f.jpg: 640x640 1 TomatoeHealthy, 8.7ms\n",
      "image 231/726 /teamspace/studios/this_studio/Cleaned_without_cucumber/test/images/4ceb4156-66d9-4405-9472-82a35f0fa245___GHLB2-Leaf-8662_JPG.rf.fa43c81ffa24c77d2b6792ea9e6d2fb0.jpg: 640x640 1 TomatoeLateBlight, 12.9ms\n",
      "image 232/726 /teamspace/studios/this_studio/Cleaned_without_cucumber/test/images/4cf0ee3d-a8b5-47f5-be25-e578d60b6cfd___Matt-S_CG-7373_JPG.rf.7237062ff044abfcbb851667cb6924ac.jpg: 640x640 1 TomatoeSpiderMites, 13.9ms\n",
      "image 233/726 /teamspace/studios/this_studio/Cleaned_without_cucumber/test/images/4cf7fd8f-f605-41c6-93ab-76da0119d40a___Com-G_TgS_FL-8162_JPG.rf.0b070575816c23414d0fb6f52803ef01.jpg: 640x640 1 TomatoeMosaicVirus, 11.9ms\n",
      "image 234/726 /teamspace/studios/this_studio/Cleaned_without_cucumber/test/images/4cff9a88-e36d-4c5a-aa11-9812ef5b063a___JR_HL-5940_JPG.rf.a8a8f44c1c68effa710715ae3f152215.jpg: 640x640 1 PepperBellHealthy, 10.6ms\n",
      "image 235/726 /teamspace/studios/this_studio/Cleaned_without_cucumber/test/images/4d02e3e4-c583-402a-adc0-b258c8a3384f___UF-GRC_BS_Lab-Leaf-0287_JPG.rf.52563babec828d819deb68a6a53b84be.jpg: 640x640 1 TomatoeBacterialSpot, 9.3ms\n",
      "image 236/726 /teamspace/studios/this_studio/Cleaned_without_cucumber/test/images/4d114914-9a79-4556-8b94-ae1a2df053cc___Matt-S_CG-0717_JPG.rf.8bacbf1a1920ee50fd09f0dbbc28599f.jpg: 640x640 1 TomatoeSpiderMites, 13.7ms\n",
      "image 237/726 /teamspace/studios/this_studio/Cleaned_without_cucumber/test/images/4d19cd34-0257-4c33-99eb-c1036c018b71___Matt-S_CG-7843_JPG.rf.74db1669e639b25fc4eee6a0d4bc21a2.jpg: 640x640 1 TomatoeSpiderMites, 10.4ms\n",
      "image 238/726 /teamspace/studios/this_studio/Cleaned_without_cucumber/test/images/4d220a58-1589-40ae-a8fc-087d77afded7___YLCV_NREC-2618_JPG.rf.9809cb7fc43275eac0aa4d985b44e0b6.jpg: 640x640 1 TomatoeYellowLeafCurlVirus, 9.1ms\n",
      "image 239/726 /teamspace/studios/this_studio/Cleaned_without_cucumber/test/images/4d4d398a-daf4-4013-9f92-f39dd34abf35___Keller-St_CG-2010_JPG.rf.dce74728b5f73864a05c55ddf4b7d552.jpg: 640x640 1 TomatoeSpiderMites, 8.9ms\n",
      "image 240/726 /teamspace/studios/this_studio/Cleaned_without_cucumber/test/images/4d8c0ff0-fc0e-4c17-8047-55843cdf22bf___Com-G_SpM_FL-1410_JPG.rf.17af6556f9c96e3e5747c6e0ee8b096c.jpg: 640x640 1 TomatoeTargetSpot, 9.3ms\n",
      "image 241/726 /teamspace/studios/this_studio/Cleaned_without_cucumber/test/images/4d8cce21-a64f-4953-8c56-218f1611ed29___RS_Erly-B-7372_JPG.rf.59159a926467d570f2214bc2144167a3.jpg: 640x640 1 TomatoeEarlyblight, 9.1ms\n",
      "image 242/726 /teamspace/studios/this_studio/Cleaned_without_cucumber/test/images/4da271e5-a4db-458a-b09c-caa83f8c6eb9___Com-G_SpM_FL-9364_JPG.rf.847b6952aec8824cf347a027b1530ff6.jpg: 640x640 1 TomatoeTargetSpot, 13.2ms\n",
      "image 243/726 /teamspace/studios/this_studio/Cleaned_without_cucumber/test/images/4db4942d-464a-462e-ba03-306587f0275f___Com-G_SpM_FL-9585_JPG.rf.2d19440314011b8ce22982556451f28f.jpg: 640x640 1 TomatoeTargetSpot, 10.0ms\n",
      "image 244/726 /teamspace/studios/this_studio/Cleaned_without_cucumber/test/images/4dbc8d8b-4d1d-410f-927b-16556e2039c5___Com-G_SpM_FL-1447_JPG.rf.d09b1ac5a7635aedd7a5ab6a43318cda.jpg: 640x640 1 TomatoeTargetSpot, 8.8ms\n",
      "image 245/726 /teamspace/studios/this_studio/Cleaned_without_cucumber/test/images/4df08bed-1278-48e5-b412-72ee13f3cc37___YLCV_NREC-2356_JPG.rf.f5369ebaf4da593818aa0509e458f134.jpg: 640x640 1 TomatoeYellowLeafCurlVirus, 8.7ms\n",
      "image 246/726 /teamspace/studios/this_studio/Cleaned_without_cucumber/test/images/4e4e685a-6f47-44df-957c-b667a1a5034e___RS_HL-9938_JPG.rf.b5019277e0ff677cc5c6477803e4cd63.jpg: 640x640 1 TomatoeHealthy, 8.9ms\n",
      "image 247/726 /teamspace/studios/this_studio/Cleaned_without_cucumber/test/images/4e567e3a-d2fe-4eb2-be86-daa1e4a95052___Com-G_SpM_FL-8608_JPG.rf.1b76092c878a9fdffc9149a62968af04.jpg: 640x640 1 TomatoeTargetSpot, 11.3ms\n",
      "image 248/726 /teamspace/studios/this_studio/Cleaned_without_cucumber/test/images/4e8ddcc2-a380-4f86-bd46-9a3fbf41c608___UF-GRC_YLCV_Lab-01437_JPG.rf.429fb715e66f5df5afee11caba5df8bd.jpg: 640x640 1 TomatoeYellowLeafCurlVirus, 10.5ms\n",
      "image 249/726 /teamspace/studios/this_studio/Cleaned_without_cucumber/test/images/4eb820b8-435d-45c4-a23b-29a375d58bea___Com-G_SpM_FL-8971_JPG.rf.04549f280a2a5023c0eafd0cf1091ac0.jpg: 640x640 1 TomatoeTargetSpot, 14.7ms\n",
      "image 250/726 /teamspace/studios/this_studio/Cleaned_without_cucumber/test/images/4ec05191-b512-43a4-91bb-1b4a28d12207___Com-G_SpM_FL-9434_JPG.rf.95805ec277817cdafcf5e4abfea7b6ee.jpg: 640x640 1 TomatoeTargetSpot, 9.8ms\n",
      "image 251/726 /teamspace/studios/this_studio/Cleaned_without_cucumber/test/images/4ec2fa28-9621-4a7b-96c4-25df7208f684___UF-GRC_YLCV_Lab-03166_JPG.rf.8af9844b85f0ec1ee791e94a509d156d.jpg: 640x640 1 TomatoeYellowLeafCurlVirus, 8.8ms\n",
      "image 252/726 /teamspace/studios/this_studio/Cleaned_without_cucumber/test/images/4ee0ffd9-54fa-41d8-bbde-2a3e4fde35bb___UF-GRC_BS_Lab-Leaf-9024_JPG.rf.d7c468c733f8b0ed6bbde50fdac6c4bc.jpg: 640x640 1 TomatoeBacterialSpot, 8.6ms\n",
      "image 253/726 /teamspace/studios/this_studio/Cleaned_without_cucumber/test/images/4f06a857-13bc-44c1-87fb-c3ccdaeeaacb___GCREC_Bact-Sp-5965_JPG.rf.c9716a9c8ccc624508d511512b792b21.jpg: 640x640 1 TomatoeBacterialSpot, 10.3ms\n",
      "image 254/726 /teamspace/studios/this_studio/Cleaned_without_cucumber/test/images/4f09b157-f5d2-4f99-ac0a-1be52cc7a27d___RS_HL-0402_JPG.rf.048775f795d1523dd4ac6a37caae673c.jpg: 640x640 1 TomatoeHealthy, 11.4ms\n",
      "image 255/726 /teamspace/studios/this_studio/Cleaned_without_cucumber/test/images/4f37d25f-75f6-4f6a-9a0d-74c5ca36be06___YLCV_NREC-2196_JPG.rf.813a3c174f5f1d8a61460024a9f53ac1.jpg: 640x640 1 TomatoeYellowLeafCurlVirus, 9.4ms\n",
      "image 256/726 /teamspace/studios/this_studio/Cleaned_without_cucumber/test/images/4f5dde42-a6ac-4886-8b9e-a944568ace95___RS_HL-0080_JPG.rf.ae391a006f42b86eeae4cfca041f0344.jpg: 640x640 1 TomatoeHealthy, 8.6ms\n",
      "image 257/726 /teamspace/studios/this_studio/Cleaned_without_cucumber/test/images/4f5f7643-a0aa-4dc4-ae00-a17097e949e9___UF-GRC_YLCV_Lab-03387_JPG.rf.5d7e1682c87b2928a772493471a2fa52.jpg: 640x640 1 TomatoeYellowLeafCurlVirus, 8.6ms\n",
      "image 258/726 /teamspace/studios/this_studio/Cleaned_without_cucumber/test/images/4f6876e9-7226-49d5-aef8-cec3d8e6fbc9___RS_Erly-B-9452_JPG.rf.07d3a7b3794f3fb95e7019da6ac71967.jpg: 640x640 1 TomatoeEarlyblight, 9.5ms\n",
      "image 259/726 /teamspace/studios/this_studio/Cleaned_without_cucumber/test/images/4f8ac9da-206a-40e3-b647-f691dcda931e___RS_HL-9819_JPG.rf.28acf4a4e4834244b2a4dfb5061dd4ea.jpg: 640x640 1 TomatoeHealthy, 12.9ms\n",
      "image 260/726 /teamspace/studios/this_studio/Cleaned_without_cucumber/test/images/4fa3fe36-2c59-4860-be94-508954283149___RS_Late-B-5495_JPG.rf.b6a3fb360faa7a7bb4d6c79a49909f62.jpg: 640x640 1 TomatoeLateBlight, 9.2ms\n",
      "image 261/726 /teamspace/studios/this_studio/Cleaned_without_cucumber/test/images/4fab9a36-3bef-470a-8322-d207646128e2___UF-GRC_YLCV_Lab-03082_JPG.rf.afc5f6cda4bdbd3197c940229f61034f.jpg: 640x640 1 TomatoeYellowLeafCurlVirus, 8.7ms\n",
      "image 262/726 /teamspace/studios/this_studio/Cleaned_without_cucumber/test/images/4fe8c520-7d2b-437e-a082-a7e84fc48b04___YLCV_GCREC-5332_JPG.rf.55b8df5cc6879754d9cd52512e4deaf8.jpg: 640x640 1 TomatoeYellowLeafCurlVirus, 8.7ms\n",
      "image 263/726 /teamspace/studios/this_studio/Cleaned_without_cucumber/test/images/507a8f21-31bb-4b3a-b158-baa2831bed28___JR_HL-8152_JPG.rf.454062a47a48b68b87e4ab522961e3c2.jpg: 640x640 1 PepperBellHealthy, 8.6ms\n",
      "image 264/726 /teamspace/studios/this_studio/Cleaned_without_cucumber/test/images/507ffea4-183f-48c4-af97-d1201c99da5f___GHLB2-Leaf-8895_JPG.rf.bbacafe170bd8e084a9af9c5f9149835.jpg: 640x640 1 TomatoeLateBlight, 9.5ms\n",
      "image 265/726 /teamspace/studios/this_studio/Cleaned_without_cucumber/test/images/50a1376a-3a56-40b5-9f95-614689509505___GH_HL-Leaf-413_JPG.rf.6a2cab56991e764dcf11d5242a791583.jpg: 640x640 1 TomatoeHealthy, 13.7ms\n",
      "image 266/726 /teamspace/studios/this_studio/Cleaned_without_cucumber/test/images/50a5fe07-466c-47a6-b9a9-565a9b070fe2___Com-G_SpM_FL-8664_JPG.rf.85bae7004216961dd568feafb66a248f.jpg: 640x640 1 TomatoeTargetSpot, 9.5ms\n",
      "image 267/726 /teamspace/studios/this_studio/Cleaned_without_cucumber/test/images/50cb3118-d96b-4805-b975-99a443575a64___Matt-S_CG-7409_JPG.rf.6eb4522734d7e51003c2eb5d7f5f1e19.jpg: 640x640 1 TomatoeSpiderMites, 8.8ms\n",
      "image 268/726 /teamspace/studios/this_studio/Cleaned_without_cucumber/test/images/50d0c9c6-94ad-46aa-a94f-5a595eb65998___NREC_B-Spot-1946_JPG.rf.dd8851af57d4646fb62d9061f818d900.jpg: 640x640 1 PepperBellBacterialSpot, 8.7ms\n",
      "image 269/726 /teamspace/studios/this_studio/Cleaned_without_cucumber/test/images/50d3806b-90a3-4d5e-8fd7-9dc443939279___UF-GRC_BS_Lab-Leaf-1187_JPG.rf.deb3c25e3130d7300bc1b306218f6f19.jpg: 640x640 1 TomatoeBacterialSpot, 8.6ms\n",
      "image 270/726 /teamspace/studios/this_studio/Cleaned_without_cucumber/test/images/50e33883-ec87-44a7-9c92-7a1c14e10465___Matt-S_CG-1440_JPG.rf.fd77093eea61d440c2755e05714bc4ee.jpg: 640x640 1 TomatoeSpiderMites, 11.0ms\n",
      "image 271/726 /teamspace/studios/this_studio/Cleaned_without_cucumber/test/images/50e6a99b-97a6-4f91-bb0d-b82e11e3f482___NREC_B-Spot-9195_JPG.rf.a5ea6c692158ddc17394ba9d45126c93.jpg: 640x640 1 PepperBellBacterialSpot, 11.6ms\n",
      "image 272/726 /teamspace/studios/this_studio/Cleaned_without_cucumber/test/images/511f02b1-59f8-4730-917f-7a520b0f0729___YLCV_GCREC-2244_JPG.rf.f00d5f9f47bba3f13acadb7390ded245.jpg: 640x640 1 TomatoeYellowLeafCurlVirus, 11.0ms\n",
      "image 273/726 /teamspace/studios/this_studio/Cleaned_without_cucumber/test/images/514c77da-8edc-4ce5-948c-fbab6f3b2d96___RS_HL-0478_JPG.rf.558e6eeb98cbeafc09c9d762b47ffa92.jpg: 640x640 1 TomatoeHealthy, 9.2ms\n",
      "image 274/726 /teamspace/studios/this_studio/Cleaned_without_cucumber/test/images/517dac9f-61a6-4e5a-928e-b0009c2d6d47___GCREC_Bact-Sp-3516_JPG.rf.cc0b09bedd8a3429d2c837bc8396ebe6.jpg: 640x640 1 TomatoeBacterialSpot, 8.9ms\n",
      "image 275/726 /teamspace/studios/this_studio/Cleaned_without_cucumber/test/images/51ce2b94-a8c2-4656-bb2d-442ec0dbd780___GCREC_Bact-Sp-5957_JPG.rf.01b01e2c0891844b4d03d829c77f5f18.jpg: 640x640 1 TomatoeBacterialSpot, 8.9ms\n",
      "image 276/726 /teamspace/studios/this_studio/Cleaned_without_cucumber/test/images/51d6b8c9-bc02-4658-be7a-31ed36c173e4___JR_Sept-L-S-8460_JPG.rf.378bc299c32a4515c30019ce28637c06.jpg: 640x640 1 TomatoeSpiderMites, 10.3ms\n",
      "image 277/726 /teamspace/studios/this_studio/Cleaned_without_cucumber/test/images/51e8fd9d-6ef9-449a-b4a8-c092158e130c___YLCV_NREC-2864_JPG.rf.aae12c5e448428ba794952c471ce1753.jpg: 640x640 1 TomatoeYellowLeafCurlVirus, 12.9ms\n",
      "image 278/726 /teamspace/studios/this_studio/Cleaned_without_cucumber/test/images/52a96f34-2c0e-4a0c-a0b2-810419e8b7c4___UF-GRC_YLCV_Lab-01914_JPG.rf.7c8a1061a61baa2313b691753373999d.jpg: 640x640 1 TomatoeYellowLeafCurlVirus, 9.3ms\n",
      "image 279/726 /teamspace/studios/this_studio/Cleaned_without_cucumber/test/images/52edaa52-3129-44d4-9d3b-cfb9edf3e3fe___GHLB2-Leaf-8702_JPG.rf.66e213c76fe58e0f1177790eb41f7eaa.jpg: 640x640 1 TomatoeLateBlight, 8.7ms\n",
      "image 280/726 /teamspace/studios/this_studio/Cleaned_without_cucumber/test/images/52f626ea-d39a-4334-b9a9-591c536afde9___YLCV_GCREC-2759_JPG.rf.77c75e572b09d8604bdaa4d55b14ced7.jpg: 640x640 1 TomatoeYellowLeafCurlVirus, 8.6ms\n",
      "image 281/726 /teamspace/studios/this_studio/Cleaned_without_cucumber/test/images/52f9209f-48d2-4d2b-8c3a-fe03d217d581___Com-G_SpM_FL-8934_JPG.rf.94760a9d4e3e92232b213ce295721e9d.jpg: 640x640 1 TomatoeTargetSpot, 8.5ms\n",
      "image 282/726 /teamspace/studios/this_studio/Cleaned_without_cucumber/test/images/531f8d45-f21f-4e5e-ad6f-0f4e64440b58___Keller-St_CG-1899_JPG.rf.ba8d9e1e026a46003c6fb5155c7c2669.jpg: 640x640 1 TomatoeSpiderMites, 10.1ms\n",
      "image 283/726 /teamspace/studios/this_studio/Cleaned_without_cucumber/test/images/532c9cb3-3018-4217-b59c-c16b8473423d___JR_B-Spot-3339_JPG.rf.f949495d5861cb8c159ba4d44ff05713.jpg: 640x640 1 PepperBellBacterialSpot, 11.7ms\n",
      "image 284/726 /teamspace/studios/this_studio/Cleaned_without_cucumber/test/images/535c3c4f-c082-4dd7-a98b-2e16cb377d89___RS_Erly-B-7770_JPG.rf.6d7a4a00ad6fd0900041638d0a78e5d4.jpg: 640x640 1 TomatoeEarlyblight, 9.3ms\n",
      "image 285/726 /teamspace/studios/this_studio/Cleaned_without_cucumber/test/images/539b8a7d-f257-49ff-81b8-76f39b5ac752___NREC_B-Spot-1805_JPG.rf.79b8f86f97a3cf48fa215bb2757b915c.jpg: 640x640 1 PepperBellBacterialSpot, 8.7ms\n",
      "image 286/726 /teamspace/studios/this_studio/Cleaned_without_cucumber/test/images/53ea7721-f2ca-44d7-b4f7-ca1d897210f5___Com-G_TgS_FL-0014_JPG.rf.eb7ca5cbbb5348ecdea7e3a64a8d2263.jpg: 640x640 1 TomatoeMosaicVirus, 8.5ms\n",
      "image 287/726 /teamspace/studios/this_studio/Cleaned_without_cucumber/test/images/53f25aa8-630c-4fe7-8da8-13f81d1a0a5e___Com-G_SpM_FL-1304_JPG.rf.9b85e1223639af556c8d36e2fe32cbe4.jpg: 640x640 1 TomatoeTargetSpot, 10.7ms\n",
      "image 288/726 /teamspace/studios/this_studio/Cleaned_without_cucumber/test/images/546af1f7-3d4f-4024-88b1-f981fea7f2dd___RS_Erly-B-9455_JPG.rf.43222d83d25af7b51e4dc6256cfc9bca.jpg: 640x640 1 TomatoeEarlyblight, 11.2ms\n",
      "image 289/726 /teamspace/studios/this_studio/Cleaned_without_cucumber/test/images/54aacda6-8c9c-4112-891e-cc1612a7238d___Matt-S_CG-6290_JPG.rf.fc973cd5a5df49ba74066e8900ad721f.jpg: 640x640 1 TomatoeSpiderMites, 10.1ms\n",
      "image 290/726 /teamspace/studios/this_studio/Cleaned_without_cucumber/test/images/54ed602e-90ce-4d4a-ad50-525dffe24229___Matt-S_CG-7670_JPG.rf.774a4f7d6c79a0513f14838c8bab2eee.jpg: 640x640 1 TomatoeSpiderMites, 8.8ms\n",
      "image 291/726 /teamspace/studios/this_studio/Cleaned_without_cucumber/test/images/54f54619-e1a8-4e99-ac00-798a65bea648___JR_Sept-L-S-8462_JPG.rf.76c392f8c14b88e60454ae7a22f014d3.jpg: 640x640 1 TomatoeSpiderMites, 8.7ms\n",
      "image 292/726 /teamspace/studios/this_studio/Cleaned_without_cucumber/test/images/5576e4e0-56d8-4919-b5c3-dbde06afd143___JR_HL-7800_JPG.rf.ac6ae1695cf1a4fe7e7ad1b53905b055.jpg: 640x640 1 PepperBellHealthy, 8.6ms\n",
      "image 293/726 /teamspace/studios/this_studio/Cleaned_without_cucumber/test/images/55d4f7b2-17d3-4987-92fe-6aff1a8c4f3a___RS_Erly-B-7558_JPG.rf.d6aa9146d6abd61ad603eb63b09a608b.jpg: 640x640 1 TomatoeEarlyblight, 14.8ms\n",
      "image 294/726 /teamspace/studios/this_studio/Cleaned_without_cucumber/test/images/55e1ab24-e4bb-4228-8a3d-b8c6ebb9a527___UF-GRC_YLCV_Lab-01299_JPG.rf.338b51bd9256d53405ec0b81ba59062a.jpg: 640x640 1 TomatoeYellowLeafCurlVirus, 13.2ms\n",
      "image 295/726 /teamspace/studios/this_studio/Cleaned_without_cucumber/test/images/55f8b668-6288-4fb2-81f6-7adf029aa69a___JR_Sept-L-S-2527_JPG.rf.442f0d7b25bae4fb15a9cfa58af9a29b.jpg: 640x640 1 TomatoeSpiderMites, 9.2ms\n",
      "image 296/726 /teamspace/studios/this_studio/Cleaned_without_cucumber/test/images/561c1779-99be-42d0-8759-dd20091d2cbb___GCREC_Bact-Sp-5552_JPG.rf.ca3b6b8f37bcbff69cbb656d093278bd.jpg: 640x640 1 TomatoeBacterialSpot, 8.7ms\n",
      "image 297/726 /teamspace/studios/this_studio/Cleaned_without_cucumber/test/images/5640520e-087c-41ae-b462-c30d8aa51aab___JR_B-Spot-8914_JPG.rf.5aa078fa286c42331b761289a26b2ab1.jpg: 640x640 1 PepperBellBacterialSpot, 10.1ms\n",
      "image 298/726 /teamspace/studios/this_studio/Cleaned_without_cucumber/test/images/564dfbfe-d634-4cc0-b5fb-bee0c6a29b17___UF-GRC_YLCV_Lab-01336_JPG.rf.5578dcbc07ba0eb831cd54a1aaae1005.jpg: 640x640 1 TomatoeYellowLeafCurlVirus, 8.7ms\n",
      "image 299/726 /teamspace/studios/this_studio/Cleaned_without_cucumber/test/images/566f6d0f-e441-49a3-a7a1-a3210682b6e7___GHLB2-Leaf-8591_JPG.rf.8d2e3be41c81b7274ffef8e77e5c9e7f.jpg: 640x640 1 TomatoeLateBlight, 10.9ms\n",
      "image 300/726 /teamspace/studios/this_studio/Cleaned_without_cucumber/test/images/56a12dcc-cd88-47c3-97b2-8c3a33f7dba2___GH_HL-Leaf-370_JPG.rf.c6a07687636e922ef26a05c1db0ae0e9.jpg: 640x640 1 TomatoeHealthy, 9.8ms\n",
      "image 301/726 /teamspace/studios/this_studio/Cleaned_without_cucumber/test/images/56a71742-bb4c-4fde-8f21-5ebc5f37514d___GCREC_Bact-Sp-5738_JPG.rf.20554c75d11c7583633feabf9da73a88.jpg: 640x640 1 TomatoeBacterialSpot, 10.2ms\n",
      "image 302/726 /teamspace/studios/this_studio/Cleaned_without_cucumber/test/images/56b77f5c-f00a-433e-a9de-3d0e7cc628a6___JR_HL-5887_JPG.rf.16ef7a401bf4c44c6c21b0766cc1161a.jpg: 640x640 1 PepperBellHealthy, 9.2ms\n",
      "image 303/726 /teamspace/studios/this_studio/Cleaned_without_cucumber/test/images/56c7bdb1-9b7e-40fc-8ec5-97e20770426b___GHLB2-Leaf-8951_JPG.rf.7d49767d2a9a5e75c7873980694f4861.jpg: 640x640 1 TomatoeLateBlight, 8.6ms\n",
      "image 304/726 /teamspace/studios/this_studio/Cleaned_without_cucumber/test/images/56d9c252-fe48-4a39-8264-8bfce1f8ba2a___JR_Sept-L-S-2562_JPG.rf.8eb43b11dc0700cc3d4d6d18c61b9752.jpg: 640x640 1 TomatoeSpiderMites, 10.0ms\n",
      "image 305/726 /teamspace/studios/this_studio/Cleaned_without_cucumber/test/images/56fe6af0-1214-4771-8d15-8dbfa72cc4f5___YLCV_GCREC-2825_JPG.rf.6b413385bc980d7cf2f2432f00449ee4.jpg: 640x640 1 TomatoeYellowLeafCurlVirus, 11.5ms\n",
      "image 306/726 /teamspace/studios/this_studio/Cleaned_without_cucumber/test/images/572d35b1-881d-4d69-b902-58048b9f7b2a___JR_HL-8402_JPG.rf.8aacde8c2276604b78ba04ccf6a1faf9.jpg: 640x640 1 PepperBellHealthy, 13.1ms\n",
      "image 307/726 /teamspace/studios/this_studio/Cleaned_without_cucumber/test/images/57337b7c-f7b3-4ed0-a249-921df1351cf1___JR_B-Spot-3243_JPG.rf.a5626cdf222c45f0bd85f3cad8d106ca.jpg: 640x640 1 PepperBellBacterialSpot, 9.1ms\n",
      "image 308/726 /teamspace/studios/this_studio/Cleaned_without_cucumber/test/images/573be558-1fa3-4889-88d6-4c733f4c79d6___GHLB2-Leaf-8598_JPG.rf.9741e6e067d891e82957eef2dd8fd86a.jpg: 640x640 1 TomatoeLateBlight, 8.6ms\n",
      "image 309/726 /teamspace/studios/this_studio/Cleaned_without_cucumber/test/images/57cc95ac-1fae-4959-ba16-d65c3db753d1___RS_HL-0312_JPG.rf.0b4ffcc1cf0d883f2e81bfa43fd0a2ff.jpg: 640x640 1 TomatoeHealthy, 8.4ms\n",
      "image 310/726 /teamspace/studios/this_studio/Cleaned_without_cucumber/test/images/57d9d6f1-8f81-4b5b-8985-c82b136a6c4c___JR_B-Spot-8846_JPG.rf.0a375b61caa5c90310f8a85777ca6e86.jpg: 640x640 1 PepperBellBacterialSpot, 14.0ms\n",
      "image 311/726 /teamspace/studios/this_studio/Cleaned_without_cucumber/test/images/581cabbe-38dc-4694-8180-e7ffb4786102___GCREC_Bact-Sp-3691_JPG.rf.8755cbb4721e3030a532c72a95a9ede4.jpg: 640x640 1 TomatoeBacterialSpot, 14.7ms\n",
      "image 312/726 /teamspace/studios/this_studio/Cleaned_without_cucumber/test/images/58e87592-0ceb-48a0-9624-7791b6cb94f2___Matt-S_CG-2610_JPG.rf.c755f9f797ca646829465283808a4761.jpg: 640x640 1 TomatoeSpiderMites, 8.9ms\n",
      "image 313/726 /teamspace/studios/this_studio/Cleaned_without_cucumber/test/images/591a3693-c7a6-4435-8a83-2e7593771788___Com-G_SpM_FL-8949_JPG.rf.958a30ceb7e1f4c07a8108e33ebbbb83.jpg: 640x640 1 TomatoeTargetSpot, 8.6ms\n",
      "image 314/726 /teamspace/studios/this_studio/Cleaned_without_cucumber/test/images/592fd013-93fa-442e-9fe0-89a455544285___Com-G_TgS_FL-9701_JPG.rf.b2af23deb1fc238077ad67667013248f.jpg: 640x640 1 TomatoeMosaicVirus, 8.5ms\n",
      "image 315/726 /teamspace/studios/this_studio/Cleaned_without_cucumber/test/images/593c58eb-71d4-4626-89d4-de6f59964aa8___RS_HL-0106_JPG.rf.b813b6613b14b08ad8edc0f36891d5e9.jpg: 640x640 1 TomatoeHealthy, 8.4ms\n",
      "image 316/726 /teamspace/studios/this_studio/Cleaned_without_cucumber/test/images/595a0cc2-9889-4d21-a2a7-eebce965e141___Matt-S_CG-7400_JPG.rf.836d4207a11034aa07c93f0f4be73815.jpg: 640x640 1 TomatoeSpiderMites, 13.7ms\n",
      "image 317/726 /teamspace/studios/this_studio/Cleaned_without_cucumber/test/images/598ba6a8-8887-4d61-97b7-5a0814aa8e2f___Matt-S_CG-7637_JPG.rf.2fb9a889aa0580876eeb5ab07e3ff559.jpg: 640x640 1 TomatoeSpiderMites, 10.0ms\n",
      "image 318/726 /teamspace/studios/this_studio/Cleaned_without_cucumber/test/images/59fff478-8b46-4b5d-a924-fbe466cd4c95___Matt-S_CG-0961_JPG.rf.0a533ff59e23952bbe437fc1c658255a.jpg: 640x640 1 TomatoeSpiderMites, 9.0ms\n",
      "image 319/726 /teamspace/studios/this_studio/Cleaned_without_cucumber/test/images/5a05e4e9-74d1-40a8-aca2-dc3500ef5fbc___RS_Erly-B-9489_JPG.rf.6ddfa0421553a87023ec409e5e0a9070.jpg: 640x640 1 TomatoeEarlyblight, 8.6ms\n",
      "image 320/726 /teamspace/studios/this_studio/Cleaned_without_cucumber/test/images/5a084ee2-7a6d-445e-a269-a26e50bd8883___Com-G_TgS_FL-9673_JPG.rf.e1fdf19f84b7741167ec69a60794321d.jpg: 640x640 1 TomatoeMosaicVirus, 8.5ms\n",
      "image 321/726 /teamspace/studios/this_studio/Cleaned_without_cucumber/test/images/5a50d734-271b-43f8-991f-b6e6f264b686___RS_Erly-B-6488_JPG.rf.2031810c0eac80f7e776513361a5d5d2.jpg: 640x640 1 TomatoeEarlyblight, 10.4ms\n",
      "image 322/726 /teamspace/studios/this_studio/Cleaned_without_cucumber/test/images/5a5cd601-bff2-4815-88da-5f641928aa67___Com-G_SpM_FL-8706_JPG.rf.db8d77fcc6c3d90e6ddd32464eff1c3b.jpg: 640x640 1 TomatoeTargetSpot, 11.1ms\n",
      "image 323/726 /teamspace/studios/this_studio/Cleaned_without_cucumber/test/images/5ac54e63-40a4-4651-a900-fd3ab4d32bae___RS_Erly-B-7727_JPG.rf.b884adc17344e079c2dba2f9b8d3a652.jpg: 640x640 1 TomatoeEarlyblight, 12.1ms\n",
      "image 324/726 /teamspace/studios/this_studio/Cleaned_without_cucumber/test/images/5ad08690-9554-4978-a7b5-1a5cc0c1fb72___RS_Late-B-4988_JPG.rf.1a2ab4dea4d44eae2101afaba66f3694.jpg: 640x640 1 TomatoeLateBlight, 9.0ms\n",
      "image 325/726 /teamspace/studios/this_studio/Cleaned_without_cucumber/test/images/5b2457f5-96d5-4bcd-8025-dc55e666f660___RS_HL-0605_JPG.rf.329786b58603a6154b8caf9639a8113d.jpg: 640x640 1 TomatoeHealthy, 8.6ms\n",
      "image 326/726 /teamspace/studios/this_studio/Cleaned_without_cucumber/test/images/5b95aab7-c5be-42e3-afc8-c99f7c1c2c0c___GHLB2-Leaf-8658_JPG.rf.ab8daff751ac4049f33f552b488dee93.jpg: 640x640 1 TomatoeLateBlight, 8.7ms\n",
      "image 327/726 /teamspace/studios/this_studio/Cleaned_without_cucumber/test/images/5b9ca8f7-fe90-49f6-934e-b27c980065f3___Com-G_SpM_FL-8736_JPG.rf.5559d51ad0b6b94f25aa76f427df95b2.jpg: 640x640 1 TomatoeTargetSpot, 11.1ms\n",
      "image 328/726 /teamspace/studios/this_studio/Cleaned_without_cucumber/test/images/5b9d911c-97d2-4a47-99d1-356dd365e213___Com-G_TgS_FL-8073_JPG.rf.6fc284c72ebfc62c9a7afea325ffc3e3.jpg: 640x640 1 TomatoeMosaicVirus, 13.0ms\n",
      "image 329/726 /teamspace/studios/this_studio/Cleaned_without_cucumber/test/images/5bc8227b-796d-40cb-8f9e-dc5b5a0fc055___GCREC_Bact-Sp-5664_JPG.rf.c7d7b2e8f0ee86c1d097883b2f3f693e.jpg: 640x640 1 TomatoeBacterialSpot, 9.9ms\n",
      "image 330/726 /teamspace/studios/this_studio/Cleaned_without_cucumber/test/images/5bcce939-5b53-4f75-a02c-e9f947d49ce4___Com-G_SpM_FL-8898_JPG.rf.a23f1f4b498781e71f7599a6723c17de.jpg: 640x640 1 TomatoeTargetSpot, 9.1ms\n",
      "image 331/726 /teamspace/studios/this_studio/Cleaned_without_cucumber/test/images/5bddbf3f-9185-472d-a837-273990a74fba___Com-G_TgS_FL-8315_JPG.rf.87d3d5fa621b6daa82639f9fcbb3afb4.jpg: 640x640 1 TomatoeMosaicVirus, 8.6ms\n",
      "image 332/726 /teamspace/studios/this_studio/Cleaned_without_cucumber/test/images/5c0dc87a-f671-4085-93c5-1454ee859caf___RS_Late-B-6271_JPG.rf.38315fe5e570c1e40caad710b5f47775.jpg: 640x640 1 TomatoeLateBlight, 13.1ms\n",
      "image 333/726 /teamspace/studios/this_studio/Cleaned_without_cucumber/test/images/5c2ec1a6-59dc-444d-9f75-b4717229743f___Com-G_TgS_FL-7906_JPG.rf.a10c8c19dbc3bb0e7e74fe289f97e7e7.jpg: 640x640 1 TomatoeMosaicVirus, 12.3ms\n",
      "image 334/726 /teamspace/studios/this_studio/Cleaned_without_cucumber/test/images/5c5a2e9e-e460-403e-9d8a-f961b1f10935___RS_Late-B-5133_JPG.rf.aee1b4b0156eed4e1e3764cc316af8f6.jpg: 640x640 1 TomatoeLateBlight, 9.6ms\n",
      "image 335/726 /teamspace/studios/this_studio/Cleaned_without_cucumber/test/images/5d11b6ba-115c-46a3-9d23-b9984f822b61___Crnl_L-Mold-6678_JPG.rf.ca8fd6f3590e38b30484a204bf894fa5.jpg: 640x640 1 TomatoeLeafMold, 9.2ms\n",
      "image 336/726 /teamspace/studios/this_studio/Cleaned_without_cucumber/test/images/5d17a185-67fe-465f-81b9-35d936f24f99___JR_B-Spot-3181_JPG.rf.86446cb41ad5aa6500aa7de50d429dad.jpg: 640x640 1 PepperBellBacterialSpot, 8.7ms\n",
      "image 337/726 /teamspace/studios/this_studio/Cleaned_without_cucumber/test/images/5d1cc870-27d2-4442-bc2a-a8788543d326___JR_Sept-L-S-2578_JPG.rf.3427a6b76403bdbd7fe78fa0387d36e5.jpg: 640x640 1 TomatoeSpiderMites, 8.6ms\n",
      "image 338/726 /teamspace/studios/this_studio/Cleaned_without_cucumber/test/images/5d306c3a-6006-4508-b575-f3f6b83859e7___JR_HL-7677_JPG.rf.156bee7680cc4c058a25217bfa74100b.jpg: 640x640 1 PepperBellHealthy, 13.0ms\n",
      "image 339/726 /teamspace/studios/this_studio/Cleaned_without_cucumber/test/images/5d3d9d20-5a2e-4723-82ef-fa470a003d87___Com-G_SpM_FL-1582_JPG.rf.76c380c6d631aa86322b2179dc078c9b.jpg: 640x640 1 TomatoeTargetSpot, 10.0ms\n",
      "image 340/726 /teamspace/studios/this_studio/Cleaned_without_cucumber/test/images/5d49f9d4-e27e-4220-933a-3bef2f44c437___GH_HL-Leaf-502-3_JPG.rf.ec6fa55b8dbeff69a18819467e79f750.jpg: 640x640 1 TomatoeHealthy, 8.9ms\n",
      "image 341/726 /teamspace/studios/this_studio/Cleaned_without_cucumber/test/images/5d765559-4d4d-4afd-8b17-73abc109cb13___Com-G_SpM_FL-8800_JPG.rf.f66f45cb4bf6de2f2c9f829d0038edb0.jpg: 640x640 1 TomatoeTargetSpot, 8.7ms\n",
      "image 342/726 /teamspace/studios/this_studio/Cleaned_without_cucumber/test/images/5e276091-f62f-4eb4-9ba4-21e8892d2175___JR_HL-8101_JPG.rf.281d601ee20fad184840d252ed7db4cf.jpg: 640x640 1 PepperBellHealthy, 8.6ms\n",
      "image 343/726 /teamspace/studios/this_studio/Cleaned_without_cucumber/test/images/5e2ac986-e2a1-4649-8db6-3d87f46a3b65___Com-G_SpM_FL-9529_JPG.rf.0ad2ad5e69593e4836b2b1f4414b5141.jpg: 640x640 1 TomatoeTargetSpot, 9.1ms\n",
      "image 344/726 /teamspace/studios/this_studio/Cleaned_without_cucumber/test/images/5eceb9db-6355-445e-96b6-1644fab0dea7___Matt-S_CG-2774_JPG.rf.8e626c7b1235eeb7a25452eb8f317319.jpg: 640x640 1 TomatoeSpiderMites, 13.0ms\n",
      "image 345/726 /teamspace/studios/this_studio/Cleaned_without_cucumber/test/images/5ecf00da-161c-4e2f-a525-b9223adce0b6___GH_HL-Leaf-252-1_JPG.rf.1169998eb17cd397a04f74dc45d7024c.jpg: 640x640 1 TomatoeHealthy, 10.0ms\n",
      "image 346/726 /teamspace/studios/this_studio/Cleaned_without_cucumber/test/images/5f21282c-e2ef-4c4a-ace1-b5701fe7effc___GHLB2-Leaf-8999_JPG.rf.690fecc4aef20547ae15accaccc2b7db.jpg: 640x640 1 TomatoeLateBlight, 9.1ms\n",
      "image 347/726 /teamspace/studios/this_studio/Cleaned_without_cucumber/test/images/5f2b2f49-dc97-43ae-9213-5d8a19a0e61d___Matt-S_CG-7372_JPG.rf.fb9f70baf5932e5c1e9cd1d6f4b8c475.jpg: 640x640 1 TomatoeSpiderMites, 8.8ms\n",
      "image 348/726 /teamspace/studios/this_studio/Cleaned_without_cucumber/test/images/5f774121-b3b2-46fd-a67c-f4d8caf93e5a___GHLB2ES-Leaf-66-1_JPG.rf.6fc5da342aa0515d58df61d6a03b8641.jpg: 640x640 1 TomatoeLateBlight, 8.7ms\n",
      "image 349/726 /teamspace/studios/this_studio/Cleaned_without_cucumber/test/images/5f7e373c-1bcb-4730-b55d-d0caf375bb0b___JR_B-Spot-8948_JPG.rf.906a37d1c6a7688d5edb923bf1dc3b48.jpg: 640x640 1 PepperBellBacterialSpot, 11.4ms\n",
      "image 350/726 /teamspace/studios/this_studio/Cleaned_without_cucumber/test/images/5f96c793-8015-458b-b3fe-7e718b673b1b___RS_Erly-B-7813_JPG.rf.495fe2a501990c6a009ed6504551843c.jpg: 640x640 1 TomatoeEarlyblight, 13.0ms\n",
      "image 351/726 /teamspace/studios/this_studio/Cleaned_without_cucumber/test/images/6120353a-2ee2-46d3-80f1-6535ddfe7aab___JR_HL-8073_JPG.rf.d50d52a84697815087e49a38fcf7380c.jpg: 640x640 1 PepperBellHealthy, 9.6ms\n",
      "image 352/726 /teamspace/studios/this_studio/Cleaned_without_cucumber/test/images/619ccfba-56c4-4750-b920-7c7314f78b7c___Matt-S_CG-6908_JPG.rf.f6dbe7496c042648bcf22af8f5ae0884.jpg: 640x640 1 TomatoeSpiderMites, 8.8ms\n",
      "image 353/726 /teamspace/studios/this_studio/Cleaned_without_cucumber/test/images/621d2c81-5c1c-4ad1-b0a3-db1b74530f5a___Matt-S_CG-1073_JPG.rf.10b0a51980cc657a750c572317c9f1a0.jpg: 640x640 1 TomatoeSpiderMites, 8.8ms\n",
      "image 354/726 /teamspace/studios/this_studio/Cleaned_without_cucumber/test/images/62b56c32-fdd9-41c4-bf32-46b53d3c6ece___JR_Sept-L-S-2483_JPG.rf.a42f03c8df23e5bd14e8d4816105d4e9.jpg: 640x640 1 TomatoeSpiderMites, 8.7ms\n",
      "image 355/726 /teamspace/studios/this_studio/Cleaned_without_cucumber/test/images/634c3515-80da-4144-8cc8-9b8bb29134ec___RS_Late-B-5481_JPG.rf.40f47f6600b8a3f43b3815d071da1a81.jpg: 640x640 1 TomatoeLateBlight, 14.4ms\n",
      "image 356/726 /teamspace/studios/this_studio/Cleaned_without_cucumber/test/images/63861ca7-0af3-45f9-8c8e-346ee5934338___JR_HL-7693_JPG.rf.7d6ece99ce24b5260f9bb1ec4c524272.jpg: 640x640 1 PepperBellHealthy, 10.7ms\n",
      "image 357/726 /teamspace/studios/this_studio/Cleaned_without_cucumber/test/images/639ad6fc-8e42-4a84-ac80-a40d9661bbae___Com-G_SpM_FL-8466_JPG.rf.b03eee351dd9d8a061f68738462635e9.jpg: 640x640 1 TomatoeTargetSpot, 9.3ms\n",
      "image 358/726 /teamspace/studios/this_studio/Cleaned_without_cucumber/test/images/644b37d1-495a-40ef-9cff-163a97016d71___JR_B-Spot-3269_JPG.rf.6eee94a2e3a58f5257f4736b360b7219.jpg: 640x640 1 TomatoeSpiderMites, 1 PepperBellBacterialSpot, 8.8ms\n",
      "image 359/726 /teamspace/studios/this_studio/Cleaned_without_cucumber/test/images/644c29d3-1aa8-456e-9eb3-825ac4d6eead___Com-G_TgS_FL-0796_JPG.rf.b2676402c6238b77253612f35bf495c0.jpg: 640x640 1 TomatoeMosaicVirus, 8.7ms\n",
      "image 360/726 /teamspace/studios/this_studio/Cleaned_without_cucumber/test/images/654d6822-7309-4154-8662-2b3a2d38d49c___Matt-S_CG-7700_JPG.rf.4fa423ba2781535727f7ee8f7662974e.jpg: 640x640 1 TomatoeSpiderMites, 9.5ms\n",
      "image 361/726 /teamspace/studios/this_studio/Cleaned_without_cucumber/test/images/6565f5ba-8e68-4d1a-b267-b12bfd73f3ef___JR_B-Spot-3252_JPG.rf.ab385ce3c71d262d70c840ec09e556f2.jpg: 640x640 1 PepperBellBacterialSpot, 12.4ms\n",
      "image 362/726 /teamspace/studios/this_studio/Cleaned_without_cucumber/test/images/6595020a-7ea0-44e9-93e0-105d994c6505___JR_HL-7852_JPG.rf.64d782dde80fbd1ef2a076b5c297294d.jpg: 640x640 1 PepperBellHealthy, 11.8ms\n",
      "image 363/726 /teamspace/studios/this_studio/Cleaned_without_cucumber/test/images/65a8115c-7646-4226-adbb-c819baac010a___Crnl_L-Mold-6842_JPG.rf.4f8ec5f09b7d6429a2c20d8f03c4f63b.jpg: 640x640 1 TomatoeLeafMold, 11.3ms\n",
      "image 364/726 /teamspace/studios/this_studio/Cleaned_without_cucumber/test/images/65cf5c52-6078-44db-a971-b10da6d01ff0___Matt-S_CG-7514_JPG.rf.f7965ed2b07f4ccfde5ddf4e7372bbcc.jpg: 640x640 1 TomatoeSpiderMites, 9.0ms\n",
      "image 365/726 /teamspace/studios/this_studio/Cleaned_without_cucumber/test/images/666f07e1-b030-4ba4-8111-9a1024763a1b___RS_Late-B-6932_JPG.rf.7f97586095dcc4611649b79eca591c89.jpg: 640x640 1 TomatoeLateBlight, 8.6ms\n",
      "image 366/726 /teamspace/studios/this_studio/Cleaned_without_cucumber/test/images/669eda4d-aa2e-4d84-9146-c96b047eb70e___RS_Erly-B-6369_JPG.rf.90c3cef4dc9bcae61956867e7a4bb48f.jpg: 640x640 1 TomatoeEarlyblight, 15.1ms\n",
      "image 367/726 /teamspace/studios/this_studio/Cleaned_without_cucumber/test/images/66d4cd59-bc59-49cc-9a94-dafa07318fb4___JR_B-Spot-8975_JPG.rf.1fde05d0af3d3c865f1d55881f842a0b.jpg: 640x640 1 PepperBellBacterialSpot, 10.8ms\n",
      "image 368/726 /teamspace/studios/this_studio/Cleaned_without_cucumber/test/images/66d7e9de-a3e6-43bf-ae4c-21093164b3a9___UF-GRC_BS_Lab-Leaf-1143_JPG.rf.64d2540288901be993f4d6ef2d795916.jpg: 640x640 1 TomatoeBacterialSpot, 11.6ms\n",
      "image 369/726 /teamspace/studios/this_studio/Cleaned_without_cucumber/test/images/66fb848b-843a-469d-a2d2-80f0e0e7eda4___GH_HL-Leaf-371-1_JPG.rf.d617dde2ce8b73c8d4842dfb893711af.jpg: 640x640 1 TomatoeHealthy, 9.0ms\n",
      "image 370/726 /teamspace/studios/this_studio/Cleaned_without_cucumber/test/images/673a3d34-3bf8-4b65-a5e4-bf1f02a32961___JR_HL-7646_JPG.rf.fd3280757e85f551d1180792f733d62f.jpg: 640x640 1 PepperBellHealthy, 8.7ms\n",
      "image 371/726 /teamspace/studios/this_studio/Cleaned_without_cucumber/test/images/67b4c3a2-6d38-4db4-be3e-7655303ae13c___RS_Late-B-5051_JPG.rf.cbac145811394532ec1ea8b408ee0bce.jpg: 640x640 1 TomatoeLateBlight, 10.8ms\n",
      "image 372/726 /teamspace/studios/this_studio/Cleaned_without_cucumber/test/images/67bb7136-ae93-4839-853b-26e6cbf868f6___GHLB2-Leaf-105_JPG.rf.f45392f136d3f348b8b29ba7cd6db29a.jpg: 640x640 1 TomatoeLateBlight, 12.4ms\n",
      "image 373/726 /teamspace/studios/this_studio/Cleaned_without_cucumber/test/images/681d3ccb-7653-4f08-a483-f80e3d7724df___JR_HL-8688_JPG.rf.1540459b1cb195b2f4ea78add8a79b3b.jpg: 640x640 1 PepperBellHealthy, 10.5ms\n",
      "image 374/726 /teamspace/studios/this_studio/Cleaned_without_cucumber/test/images/68a97dc7-5cb3-4e41-8017-ae149e568d36___GCREC_Bact-Sp-5849_JPG.rf.a2d9b0b0aeeca782c25a5941f6b76068.jpg: 640x640 1 TomatoeBacterialSpot, 10.3ms\n",
      "image 375/726 /teamspace/studios/this_studio/Cleaned_without_cucumber/test/images/68b70241-b295-4f1b-b28b-b15cc3e997d3___UF-GRC_BS_Lab-Leaf-8601_JPG.rf.fa652b095d0a8a7faec063e4548ac765.jpg: 640x640 1 TomatoeBacterialSpot, 9.4ms\n",
      "image 376/726 /teamspace/studios/this_studio/Cleaned_without_cucumber/test/images/68ba455a-8f01-4433-96aa-32d8acb1a48d___JR_HL-7562_JPG.rf.f3612eb10ed38f7d6d4abe8cfd031264.jpg: 640x640 1 PepperBellHealthy, 8.7ms\n",
      "image 377/726 /teamspace/studios/this_studio/Cleaned_without_cucumber/test/images/68c2d48b-f91e-42a4-afeb-9061cb4c6c74___Com-G_SpM_FL-9271_JPG.rf.40f48022c8ac456ca344c62454e96e92.jpg: 640x640 1 TomatoeTargetSpot, 10.1ms\n",
      "image 378/726 /teamspace/studios/this_studio/Cleaned_without_cucumber/test/images/696b9ea7-6925-484c-a6d1-a9e00d8ee732___Com-G_SpM_FL-1407_JPG.rf.b9e6d7435c9f5262fec28452a7b1bb4e.jpg: 640x640 1 TomatoeTargetSpot, 9.7ms\n",
      "image 379/726 /teamspace/studios/this_studio/Cleaned_without_cucumber/test/images/697e19e9-b11b-4bc8-884b-e25d432b90f6___NREC_B-Spot-9206_JPG.rf.4b1abdac4e000b1e3ccf11bd2f9ef846.jpg: 640x640 1 PepperBellBacterialSpot, 9.8ms\n",
      "image 380/726 /teamspace/studios/this_studio/Cleaned_without_cucumber/test/images/698d4680-5dca-497c-a8c9-9978d8e0052a___GCREC_Bact-Sp-6246_JPG.rf.937252e14e2169e068bbe160ec161761.jpg: 640x640 1 TomatoeBacterialSpot, 9.1ms\n",
      "image 381/726 /teamspace/studios/this_studio/Cleaned_without_cucumber/test/images/69a7bc98-0c0d-4391-ad2f-2fa91a5d51ac___RS_Late-B-6986_JPG.rf.00feb65681cb4124e97c3e1f0226f5f6.jpg: 640x640 1 TomatoeLateBlight, 10.8ms\n",
      "image 382/726 /teamspace/studios/this_studio/Cleaned_without_cucumber/test/images/69cc6a36-f4c0-4c05-a0ab-cd3bb3ab2b50___Com-G_TgS_FL-8216_JPG.rf.66de4d230bbb847e9fd29e615121f9f5.jpg: 640x640 1 TomatoeMosaicVirus, 9.2ms\n",
      "image 383/726 /teamspace/studios/this_studio/Cleaned_without_cucumber/test/images/69d0f54b-059c-4a3a-97a9-43089e661cb0___Com-G_TgS_FL-9835_JPG.rf.b01e5a485120b089f0dff28dfbc0a44e.jpg: 640x640 1 TomatoeMosaicVirus, 12.8ms\n",
      "image 384/726 /teamspace/studios/this_studio/Cleaned_without_cucumber/test/images/6a3ae349-27f8-468c-a1ad-7ddfc31e3435___JR_Sept-L-S-2471_JPG.rf.003acc72235f8ed471636f046bb93ecf.jpg: 640x640 1 TomatoeSpiderMites, 10.8ms\n",
      "image 385/726 /teamspace/studios/this_studio/Cleaned_without_cucumber/test/images/6a43a558-3440-4a1b-b7b4-ea49dc9be6c6___Com-G_SpM_FL-8615_JPG.rf.d4d3fa461375f75f9b0e23afe5dca1f6.jpg: 640x640 1 TomatoeTargetSpot, 9.2ms\n",
      "image 386/726 /teamspace/studios/this_studio/Cleaned_without_cucumber/test/images/6a4518f8-37a5-4c96-ab5d-5cb75f6e24b2___JR_Sept-L-S-8444_JPG.rf.8d31dd3af1cf5bc342bbcaf73b9ba0f4.jpg: 640x640 1 TomatoeSpiderMites, 10.3ms\n",
      "image 387/726 /teamspace/studios/this_studio/Cleaned_without_cucumber/test/images/6a7ed25b-d34f-4f33-84ab-56efcd5eed15___GCREC_Bact-Sp-3830_JPG.rf.e5e84da736acb8f56b03ddbd9f986837.jpg: 640x640 1 TomatoeBacterialSpot, 1 TomatoeSpiderMites, 9.3ms\n",
      "image 388/726 /teamspace/studios/this_studio/Cleaned_without_cucumber/test/images/6aad1489-2ff3-4b26-a037-45e56f572ad7___JR_Sept-L-S-2690_JPG.rf.0538f13de6f9b1ffab70337342f40770.jpg: 640x640 1 TomatoeSpiderMites, 10.2ms\n",
      "image 389/726 /teamspace/studios/this_studio/Cleaned_without_cucumber/test/images/6acdfc27-7fc5-47c9-bbe9-153ac4a3b797___Com-G_SpM_FL-9014_JPG.rf.cc159e692cd7853046e049c3fa2fc033.jpg: 640x640 1 TomatoeTargetSpot, 9.5ms\n",
      "image 390/726 /teamspace/studios/this_studio/Cleaned_without_cucumber/test/images/6b52f204-547d-47aa-926c-b9508a5e6cbc___RS_Erly-B-7434_JPG.rf.67cc820c6feb0352d1737b043cbf6386.jpg: 640x640 1 TomatoeEarlyblight, 11.3ms\n",
      "image 391/726 /teamspace/studios/this_studio/Cleaned_without_cucumber/test/images/6b53630d-c9df-4e67-a490-b1835772d9a0___GH_HL-Leaf-450-2_JPG.rf.9b8cb418597c30620609b2efed242231.jpg: 640x640 1 TomatoeHealthy, 9.6ms\n",
      "image 392/726 /teamspace/studios/this_studio/Cleaned_without_cucumber/test/images/6c124f22-619b-44fc-a3d1-231286d4bfda___RS_Erly-B-6403_JPG.rf.3c796fb29c24bc004ba579b884839225.jpg: 640x640 1 TomatoeLateBlight, 14.6ms\n",
      "image 393/726 /teamspace/studios/this_studio/Cleaned_without_cucumber/test/images/6c4377ee-cf37-4ca9-a377-4e4cf7a221da___Matt-S_CG-7412_JPG.rf.ec722867f1acf67efe3ddc5a1d6a8de0.jpg: 640x640 1 TomatoeSpiderMites, 11.2ms\n",
      "image 394/726 /teamspace/studios/this_studio/Cleaned_without_cucumber/test/images/6c65f54e-41fe-4865-977a-524421d5fca3___Crnl_L-Mold-9040_JPG.rf.17c17a2d562f61fec448356b26ca235b.jpg: 640x640 1 TomatoeLeafMold, 11.8ms\n",
      "image 395/726 /teamspace/studios/this_studio/Cleaned_without_cucumber/test/images/6c9cd159-1f95-4459-a308-fde523b58c89___Matt-S_CG-7559_JPG.rf.c230b6e9a89ff7a78a462c46570872ae.jpg: 640x640 1 TomatoeSpiderMites, 9.4ms\n",
      "image 396/726 /teamspace/studios/this_studio/Cleaned_without_cucumber/test/images/6cabb19a-2a35-4897-a646-a13e3cf494c6___RS_HL-0591_JPG.rf.2c1dc660c83bcf624b9f6bf196e47c01.jpg: 640x640 1 TomatoeHealthy, 9.9ms\n",
      "image 397/726 /teamspace/studios/this_studio/Cleaned_without_cucumber/test/images/6cace5f6-3589-4fb9-bb64-bee6872b8467___UF-GRC_BS_Lab-Leaf-0299_JPG.rf.7c293ef7f43d8d45faf4953e41b379a7.jpg: 640x640 1 TomatoeBacterialSpot, 9.3ms\n",
      "image 398/726 /teamspace/studios/this_studio/Cleaned_without_cucumber/test/images/6cafca52-cbe9-46cb-aeeb-d588dd8c14af___Matt-S_CG-5982_JPG.rf.a466aeaf34072697704105c30b014e42.jpg: 640x640 1 TomatoeSpiderMites, 10.0ms\n",
      "image 399/726 /teamspace/studios/this_studio/Cleaned_without_cucumber/test/images/6ccc28d1-18a0-4b59-94a8-cd9fbd883555___Com-G_SpM_FL-8838_JPG.rf.3361c6e508991704b9829fdecc3dabfc.jpg: 640x640 1 TomatoeTargetSpot, 9.9ms\n",
      "image 400/726 /teamspace/studios/this_studio/Cleaned_without_cucumber/test/images/6cd7bfa5-f336-4227-b8cf-3461dedc3b43___RS_Erly-B-7346_JPG.rf.403a04bf54e3eda07478ed6f0006798c.jpg: 640x640 1 TomatoeEarlyblight, 12.0ms\n",
      "image 401/726 /teamspace/studios/this_studio/Cleaned_without_cucumber/test/images/6cf1c4d7-d99f-4f70-a003-37054e9f617a___GCREC_Bact-Sp-3417_JPG.rf.19c563f4fd1377e1b2bac5a53f0f703d.jpg: 640x640 1 TomatoeBacterialSpot, 9.6ms\n",
      "image 402/726 /teamspace/studios/this_studio/Cleaned_without_cucumber/test/images/6d223371-fa3d-496d-a583-cb521b7c203d___GCREC_Bact-Sp-3540_JPG.rf.d9d44cdcab6cc702b7726be82897bbde.jpg: 640x640 1 TomatoeBacterialSpot, 10.6ms\n",
      "image 403/726 /teamspace/studios/this_studio/Cleaned_without_cucumber/test/images/6d5932e3-485c-40c0-8236-94c771fa9154___GCREC_Bact-Sp-5981_JPG.rf.2524b930be8136b194ad9ea9251fa6c7.jpg: 640x640 1 TomatoeBacterialSpot, 9.4ms\n",
      "image 404/726 /teamspace/studios/this_studio/Cleaned_without_cucumber/test/images/6dbef77b-50b6-4d0f-970a-d86f9df2254e___RS_Late-B-6936_JPG.rf.1e1ef3e7bb0e3f090a6eeb92bdba0b4c.jpg: 640x640 1 TomatoeLateBlight, 10.8ms\n",
      "image 405/726 /teamspace/studios/this_studio/Cleaned_without_cucumber/test/images/6e179382-44e9-4032-b6cb-81c631134922___JR_Sept-L-S-8359_JPG.rf.c595b77c6bfd2d45a39bc2cae8323f17.jpg: 640x640 1 TomatoeSpiderMites, 9.5ms\n",
      "image 406/726 /teamspace/studios/this_studio/Cleaned_without_cucumber/test/images/6e1b52cd-29be-401b-b935-958bbca0f3fd___Com-G_SpM_FL-8694_JPG.rf.fae49d65826e0be84f9ae18a70450a0f.jpg: 640x640 1 TomatoeTargetSpot, 13.4ms\n",
      "image 407/726 /teamspace/studios/this_studio/Cleaned_without_cucumber/test/images/6e486f1a-2df2-4764-a95b-a964f6de15ca___Com-G_SpM_FL-8587_JPG.rf.ae0de32c495b6ceb67bf721118b1a59a.jpg: 640x640 1 TomatoeTargetSpot, 12.5ms\n",
      "image 408/726 /teamspace/studios/this_studio/Cleaned_without_cucumber/test/images/6e5b18bd-8144-40cd-ab73-56e2f6810d31___Com-G_SpM_FL-1460_JPG.rf.3b8bd7a8f216c10955c41e74f9073daf.jpg: 640x640 1 TomatoeTargetSpot, 9.6ms\n",
      "image 409/726 /teamspace/studios/this_studio/Cleaned_without_cucumber/test/images/6e9949e7-6036-4db1-a3a7-e9b78097146f___JR_HL-5964_JPG.rf.87a8c475167a921496f4d0c8eb199fb6.jpg: 640x640 1 PepperBellHealthy, 8.9ms\n",
      "image 410/726 /teamspace/studios/this_studio/Cleaned_without_cucumber/test/images/6ede0514-f306-48fd-ba90-efb0ac8f28dd___JR_HL-8195_JPG.rf.e4f66ce2d0df488678e8c9a9ac07968c.jpg: 640x640 1 PepperBellHealthy, 9.0ms\n",
      "image 411/726 /teamspace/studios/this_studio/Cleaned_without_cucumber/test/images/6edeac14-5ac4-4810-a3c0-ff35feb176fb___Com-G_TgS_FL-7911_JPG.rf.3a1b861d42367b09e8960ee5b36887f5.jpg: 640x640 1 TomatoeMosaicVirus, 10.3ms\n",
      "image 412/726 /teamspace/studios/this_studio/Cleaned_without_cucumber/test/images/6f13ae9f-a9e0-46e3-8e5a-445c4f16898a___JR_HL-8283_JPG.rf.fa89ed8c9f2f13bf8efb490342f946c8.jpg: 640x640 1 PepperBellHealthy, 9.2ms\n",
      "image 413/726 /teamspace/studios/this_studio/Cleaned_without_cucumber/test/images/6f564ce5-7595-469a-8db2-cfa8523ae647___Matt-S_CG-1546_JPG.rf.7709fdc70e64d9ba282bd91711d41e77.jpg: 640x640 1 TomatoeSpiderMites, 11.3ms\n",
      "image 414/726 /teamspace/studios/this_studio/Cleaned_without_cucumber/test/images/6f78a5ad-d4cf-4289-8369-29a69aa493b0___RS_Late-B-6129_JPG.rf.165f7d28892ec8dd7465cb392c08e341.jpg: 640x640 1 TomatoeLateBlight, 9.5ms\n",
      "image 415/726 /teamspace/studios/this_studio/Cleaned_without_cucumber/test/images/6f8046e5-2fc8-4243-a887-b4e99d16397d___RS_Erly-B-6471_JPG.rf.a929f61061c6969c4ecc4b3f0546b5fc.jpg: 640x640 1 TomatoeEarlyblight, 13.0ms\n",
      "image 416/726 /teamspace/studios/this_studio/Cleaned_without_cucumber/test/images/6f8ac19d-d97f-47ee-8ad4-bb53ab7984a0___RS_Erly-B-7786_JPG.rf.4dcb1498c645e96c5f7e645037497285.jpg: 640x640 1 TomatoeEarlyblight, 13.6ms\n",
      "image 417/726 /teamspace/studios/this_studio/Cleaned_without_cucumber/test/images/6fa01a78-0d8d-4ecf-b90f-4dbc2e89f2d9___RS_HL-0220_JPG.rf.2616db7ae10050bf59e0cd586585c63e.jpg: 640x640 1 TomatoeHealthy, 10.1ms\n",
      "image 418/726 /teamspace/studios/this_studio/Cleaned_without_cucumber/test/images/6fc860ea-46cd-4b40-8d53-27c1ebf95935___NREC_B-Spot-1836_JPG.rf.0632af58bcd48f39d7ee77a9270fba84.jpg: 640x640 1 PepperBellBacterialSpot, 9.8ms\n",
      "image 419/726 /teamspace/studios/this_studio/Cleaned_without_cucumber/test/images/702a5117-4fee-46b6-bd3b-980ad9496dea___Matt-S_CG-6094_JPG.rf.45e6273daa99e9ac63aabefdd417e246.jpg: 640x640 1 TomatoeSpiderMites, 10.6ms\n",
      "image 420/726 /teamspace/studios/this_studio/Cleaned_without_cucumber/test/images/707da75e-4924-4033-b141-e8a391f39741___JR_HL-5853_JPG.rf.273528827350878335d91da5955a4026.jpg: 640x640 1 PepperBellHealthy, 9.7ms\n",
      "image 421/726 /teamspace/studios/this_studio/Cleaned_without_cucumber/test/images/70a115b2-9402-4523-9510-9a932e784a3e___Matt-S_CG-1369_JPG.rf.0000a894ddb82cace844cde79fa61afe.jpg: 640x640 1 TomatoeSpiderMites, 9.1ms\n",
      "image 422/726 /teamspace/studios/this_studio/Cleaned_without_cucumber/test/images/70ed1559-2269-4ace-a69c-8fb255ccc2ba___GCREC_Bact-Sp-3030_JPG.rf.e16b7bb288579caf608d4d82b5306602.jpg: 640x640 1 TomatoeBacterialSpot, 9.7ms\n",
      "image 423/726 /teamspace/studios/this_studio/Cleaned_without_cucumber/test/images/717a4bbc-52b1-42c1-a718-ca94744ff52d___RS_HL-9726_JPG.rf.7c45a3018931d26d9a7f7686a315ea95.jpg: 640x640 1 TomatoeHealthy, 12.3ms\n",
      "image 424/726 /teamspace/studios/this_studio/Cleaned_without_cucumber/test/images/71da2612-0ab3-4b9b-981e-f82b41568fca___GCREC_Bact-Sp-6176_JPG.rf.2601bffca4f48102ab4b4d6ca9ee953c.jpg: 640x640 1 TomatoeBacterialSpot, 12.1ms\n",
      "image 425/726 /teamspace/studios/this_studio/Cleaned_without_cucumber/test/images/71dc2643-35ec-4660-99ba-e2dbb3b82229___GHLB2-Leaf-8983_JPG.rf.92cad6d06a27bce7ff1999a9dd6d2cce.jpg: 640x640 1 TomatoeLateBlight, 9.8ms\n",
      "image 426/726 /teamspace/studios/this_studio/Cleaned_without_cucumber/test/images/726a5ae7-e33b-4854-a872-71318ec3a493___RS_Late-B-5538_JPG.rf.261d52b5afa555ef3323bd6442f9d184.jpg: 640x640 1 TomatoeLateBlight, 9.0ms\n",
      "image 427/726 /teamspace/studios/this_studio/Cleaned_without_cucumber/test/images/7277c061-6c40-4c75-8af3-32bd4a284dc5___JR_HL-8728_JPG.rf.c3ab63f96d94f0492cc1b39cdaef5358.jpg: 640x640 1 PepperBellHealthy, 10.3ms\n",
      "image 428/726 /teamspace/studios/this_studio/Cleaned_without_cucumber/test/images/729cacbb-9389-4edb-bf97-97095262cf96___GCREC_Bact-Sp-3456_JPG.rf.82d57f81a45e2c038c8f428103c2ec4e.jpg: 640x640 1 TomatoeBacterialSpot, 9.2ms\n",
      "image 429/726 /teamspace/studios/this_studio/Cleaned_without_cucumber/test/images/72cf5a17-b827-4b73-aa6d-de3eae7584c3___Com-G_SpM_FL-8672_JPG.rf.58ed94b25edda7001511a918842788da.jpg: 640x640 1 TomatoeTargetSpot, 9.1ms\n",
      "image 430/726 /teamspace/studios/this_studio/Cleaned_without_cucumber/test/images/72cfc263-4e0a-4540-b7b3-dbd9bc81868c___Com-G_SpM_FL-8834_JPG.rf.f5b5459ab66b78c8d377db7595395855.jpg: 640x640 1 TomatoeTargetSpot, 10.6ms\n",
      "image 431/726 /teamspace/studios/this_studio/Cleaned_without_cucumber/test/images/73c2309a-22b8-44a5-99b5-f9997d60141e___Com-G_TgS_FL-0852_JPG.rf.aaa1d417282cc243b9e5e7c82a1f0a22.jpg: 640x640 1 TomatoeMosaicVirus, 10.2ms\n",
      "image 432/726 /teamspace/studios/this_studio/Cleaned_without_cucumber/test/images/73c99b2a-7b14-4d03-9fe5-70ec1a5c6e10___Com-G_TgS_FL-9989_JPG.rf.bd7bac95e5d3369088679c5eabd84c6a.jpg: 640x640 1 TomatoeMosaicVirus, 10.0ms\n",
      "image 433/726 /teamspace/studios/this_studio/Cleaned_without_cucumber/test/images/73e76ee2-93a2-4265-b4ca-ce419ad3cb35___Com-G_TgS_FL-8359_JPG.rf.73ba4606a4cc0ba56606a45f691c47c0.jpg: 640x640 1 TomatoeMosaicVirus, 9.4ms\n",
      "image 434/726 /teamspace/studios/this_studio/Cleaned_without_cucumber/test/images/73fea91d-3582-461b-8aec-236c78f6b1cd___Matt-S_CG-0799_JPG.rf.855758d6a176e29697a88c81b8e3fa78.jpg: 640x640 1 TomatoeSpiderMites, 9.2ms\n",
      "image 435/726 /teamspace/studios/this_studio/Cleaned_without_cucumber/test/images/742c5518-9886-4d9c-98fd-ec5d18fd0275___Com-G_TgS_FL-8356_JPG.rf.bc239c58c34104a94b362ab3483690df.jpg: 640x640 1 TomatoeMosaicVirus, 9.3ms\n",
      "image 436/726 /teamspace/studios/this_studio/Cleaned_without_cucumber/test/images/747bbf32-921a-4d75-af51-4aa544f70df8___RS_Late-B-5330_JPG.rf.2e482cf28bdd451fbef689c92f50031f.jpg: 640x640 1 TomatoeLateBlight, 12.8ms\n",
      "image 437/726 /teamspace/studios/this_studio/Cleaned_without_cucumber/test/images/74da2974-f193-47f3-8f3e-0818cd619b46___Matt-S_CG-0788_JPG.rf.f2daa46425a41aa106b099d4d3f073f7.jpg: 640x640 1 TomatoeSpiderMites, 10.8ms\n",
      "image 438/726 /teamspace/studios/this_studio/Cleaned_without_cucumber/test/images/74f16a00-dacc-42ae-ba07-ed3a22ba1ecc___Com-G_SpM_FL-8625_JPG.rf.ee6724d4952c9d27ca5fbeac2d11f30f.jpg: 640x640 1 TomatoeTargetSpot, 9.0ms\n",
      "image 439/726 /teamspace/studios/this_studio/Cleaned_without_cucumber/test/images/752de1b6-d4be-4741-9812-3681c6bd4b40___RS_Erly-B-8308_JPG.rf.0065a60dde03e15a59ce58e2bc4b261e.jpg: 640x640 1 TomatoeEarlyblight, 1 TomatoeLateBlight, 13.1ms\n",
      "image 440/726 /teamspace/studios/this_studio/Cleaned_without_cucumber/test/images/762a8298-be97-4967-b780-999e25e7ee5c___Matt-S_CG-7682_JPG.rf.a1f789b863ef1ad1e9d90f10630b4d7c.jpg: 640x640 1 TomatoeSpiderMites, 9.3ms\n",
      "image 441/726 /teamspace/studios/this_studio/Cleaned_without_cucumber/test/images/767eb77f-de18-4314-a465-4df8d442f468___GCREC_Bact-Sp-5951_JPG.rf.23247dda8be3c920f15fd23ee5129f3c.jpg: 640x640 1 TomatoeBacterialSpot, 9.1ms\n",
      "image 442/726 /teamspace/studios/this_studio/Cleaned_without_cucumber/test/images/76ec71bb-3411-4af3-9224-3180cb1ec4ea___Com-G_TgS_FL-8032_JPG.rf.fb3327b7b91ddca73270b1b2cec8404a.jpg: 640x640 1 TomatoeMosaicVirus, 9.6ms\n",
      "image 443/726 /teamspace/studios/this_studio/Cleaned_without_cucumber/test/images/77a7828d-7cef-4490-9bd3-3e05c523a2f4___Crnl_L-Mold-7056_JPG.rf.23a19b3f68db0ca0da9cc861e02d0d15.jpg: 640x640 1 TomatoeLeafMold, 9.2ms\n",
      "image 444/726 /teamspace/studios/this_studio/Cleaned_without_cucumber/test/images/77beaab6-09bf-4ea4-9107-4109d06b5412___Keller-St_CG-1829_JPG.rf.3ead00099a7a283ddb2d145faed7272a.jpg: 640x640 1 TomatoeSpiderMites, 9.7ms\n",
      "image 445/726 /teamspace/studios/this_studio/Cleaned_without_cucumber/test/images/77d77a2e-d24f-42d4-8d37-f36e6571b4f3___JR_HL-8632_JPG.rf.5b08fd03dd7859f08942d33adcfe48bc.jpg: 640x640 1 PepperBellHealthy, 9.6ms\n",
      "image 446/726 /teamspace/studios/this_studio/Cleaned_without_cucumber/test/images/785a6edb-1d68-4fce-aa9f-2c8dbed92044___NREC_B-Spot-1822_JPG.rf.6a4dd29c17afbd02fb7aeaf6c821bdd2.jpg: 640x640 1 PepperBellBacterialSpot, 9.3ms\n",
      "image 447/726 /teamspace/studios/this_studio/Cleaned_without_cucumber/test/images/78bbfa5e-89ae-45aa-b2af-8765587861c4___GCREC_Bact-Sp-6262_JPG.rf.21b64f1567a007c0e4114938db8d06e0.jpg: 640x640 1 TomatoeBacterialSpot, 9.1ms\n",
      "image 448/726 /teamspace/studios/this_studio/Cleaned_without_cucumber/test/images/78db5bcd-4272-465a-a9e5-9d6e4284dbbd___Matt-S_CG-2665_JPG.rf.5f80b304566cd3d2c6f037b2c1c79136.jpg: 640x640 1 TomatoeSpiderMites, 12.9ms\n",
      "image 449/726 /teamspace/studios/this_studio/Cleaned_without_cucumber/test/images/797b134d-3511-4e24-8372-2a61507095af___GCREC_Bact-Sp-3143_JPG.rf.a5d80d385a316e663a5b01f86d95cce0.jpg: 640x640 1 TomatoeBacterialSpot, 11.3ms\n",
      "image 450/726 /teamspace/studios/this_studio/Cleaned_without_cucumber/test/images/7a901ea0-0ebe-41fa-9585-f74f6ce49d17___JR_B-Spot-8859_JPG.rf.b2455a378983fdf8624da044b0190912.jpg: 640x640 1 PepperBellBacterialSpot, 9.5ms\n",
      "image 451/726 /teamspace/studios/this_studio/Cleaned_without_cucumber/test/images/7ae76b22-7563-4fd9-a859-50b7ad906f64___GHLB2-Leaf-86-1_JPG.rf.4f8390a23072cb6a5d11c2173f1824d2.jpg: 640x640 1 TomatoeLateBlight, 10.2ms\n",
      "image 452/726 /teamspace/studios/this_studio/Cleaned_without_cucumber/test/images/7b246e09-0a8c-4078-9e0a-6207de8dc804___RS_HL-9809_JPG.rf.46c85bdf1a2d498facbad2d68783a802.jpg: 640x640 1 TomatoeHealthy, 9.3ms\n",
      "image 453/726 /teamspace/studios/this_studio/Cleaned_without_cucumber/test/images/7b5194d6-e0cf-4bc3-bb97-a1c6568e9bdc___Keller-St_CG-1773_JPG.rf.1ffdcb52838f2bf27f80420d73081809.jpg: 640x640 1 TomatoeSpiderMites, 9.3ms\n",
      "image 454/726 /teamspace/studios/this_studio/Cleaned_without_cucumber/test/images/7b9df257-971c-4c49-953c-1fe7760f8be9___Com-G_SpM_FL-8603_JPG.rf.8a310bf0eea9da1d572b3b23ce847013.jpg: 640x640 1 TomatoeTargetSpot, 8.9ms\n",
      "image 455/726 /teamspace/studios/this_studio/Cleaned_without_cucumber/test/images/7bab9b53-f608-4f3f-8325-d730d846b3d9___RS_Erly-B-7695_JPG.rf.a02c6a2339e54ffb87231571fb2fad72.jpg: 640x640 1 TomatoeEarlyblight, 8.8ms\n",
      "image 456/726 /teamspace/studios/this_studio/Cleaned_without_cucumber/test/images/7bd80f73-7d7e-495e-a9c2-188d649744f7___GCREC_Bact-Sp-3859_JPG.rf.6040a9e37d615170dff7d3caaaa9f46b.jpg: 640x640 1 TomatoeBacterialSpot, 8.7ms\n",
      "image 457/726 /teamspace/studios/this_studio/Cleaned_without_cucumber/test/images/7bf1decf-376a-4ee7-836e-23f60aee5d46___RS_Late-B-6179_JPG.rf.722c14ae93e0965c704a974425f25631.jpg: 640x640 1 TomatoeLateBlight, 8.7ms\n",
      "image 458/726 /teamspace/studios/this_studio/Cleaned_without_cucumber/test/images/7bfa2366-1fd0-475b-aadf-d72055b6ec29___Com-G_TgS_FL-0850_JPG.rf.84217b0f3bf019fb2c961e05c0e48e77.jpg: 640x640 1 TomatoeMosaicVirus, 8.8ms\n",
      "image 459/726 /teamspace/studios/this_studio/Cleaned_without_cucumber/test/images/7c719504-0327-4be0-b898-b50760a26de6___JR_B-Spot-3310_JPG.rf.64714e98bbccca93b3972c40fb787888.jpg: 640x640 1 PepperBellBacterialSpot, 8.7ms\n",
      "image 460/726 /teamspace/studios/this_studio/Cleaned_without_cucumber/test/images/7c8a88f4-1182-4813-b6b8-4b69a862afaf___Com-G_SpM_FL-1301_JPG.rf.744a5ab5f784dfdb057c96757edc3ee1.jpg: 640x640 1 TomatoeTargetSpot, 9.6ms\n",
      "image 461/726 /teamspace/studios/this_studio/Cleaned_without_cucumber/test/images/7c95b0e8-b8df-4312-aca8-51d4731e7c1e___JR_HL-8899_JPG.rf.6a98b4823f28c1485aee3442f31cce5c.jpg: 640x640 1 PepperBellHealthy, 9.5ms\n",
      "image 462/726 /teamspace/studios/this_studio/Cleaned_without_cucumber/test/images/7cac5136-6213-4773-9803-4538751b8d54___Com-G_SpM_FL-9311_JPG.rf.4fb8603fa62edfe3611a748a235dd04b.jpg: 640x640 1 TomatoeTargetSpot, 9.0ms\n",
      "image 463/726 /teamspace/studios/this_studio/Cleaned_without_cucumber/test/images/7cb20744-6c1f-481a-aa39-6f502ba0bfc4___Keller-St_CG-1971_JPG.rf.fe0188097d8af80ba4af003979f509ad.jpg: 640x640 1 TomatoeSpiderMites, 9.0ms\n",
      "image 464/726 /teamspace/studios/this_studio/Cleaned_without_cucumber/test/images/7cbb0e2a-7b29-4f9d-9a1d-65e9f25a14fb___Com-G_SpM_FL-9548_JPG.rf.8dfc02e94dcf9be7429f2deed4f30fc1.jpg: 640x640 1 TomatoeTargetSpot, 8.8ms\n",
      "image 465/726 /teamspace/studios/this_studio/Cleaned_without_cucumber/test/images/7ce1f8c1-1542-4d7b-be27-11e29d572283___GH_HL-Leaf-508-2_JPG.rf.79c0fdcf35d444cf6736b1f5ceb738a6.jpg: 640x640 1 TomatoeHealthy, 10.8ms\n",
      "image 466/726 /teamspace/studios/this_studio/Cleaned_without_cucumber/test/images/7d097c24-0e8a-44c2-8ef5-722c26ad718f___Crnl_L-Mold-8964_JPG.rf.34a23f8adaef67538acd3180190c10c3.jpg: 640x640 1 TomatoeLeafMold, 9.2ms\n",
      "image 467/726 /teamspace/studios/this_studio/Cleaned_without_cucumber/test/images/7d9f4bd8-6a41-4c5e-816e-175f88e0be41___RS_Late-B-5488_JPG.rf.0d029ef791e1ca6db16a99140c46f160.jpg: 640x640 1 TomatoeLateBlight, 8.9ms\n",
      "image 468/726 /teamspace/studios/this_studio/Cleaned_without_cucumber/test/images/7de0d9b9-6d4f-4375-85c4-a64da65937d8___Crnl_L-Mold-7077_JPG.rf.23f08a437d8c85d31cf1ea803fea493d.jpg: 640x640 1 TomatoeLeafMold, 8.7ms\n",
      "image 469/726 /teamspace/studios/this_studio/Cleaned_without_cucumber/test/images/7e096966-bf6a-48c7-8e98-f5821b57e3a6___Com-G_TgS_FL-8182_JPG.rf.1de302328fcc021289247d0baae344e8.jpg: 640x640 1 TomatoeMosaicVirus, 10.7ms\n",
      "image 470/726 /teamspace/studios/this_studio/Cleaned_without_cucumber/test/images/7e0f5a39-e44e-40fe-8486-f369cb59895b___RS_HL-9790_JPG.rf.2c3c597b79441b0b1f2d0dbf19d8a2c0.jpg: 640x640 1 TomatoeHealthy, 9.0ms\n",
      "image 471/726 /teamspace/studios/this_studio/Cleaned_without_cucumber/test/images/7e431685-947c-4ab9-9107-e74f3a02cf83___Com-G_TgS_FL-9974_JPG.rf.2a2661ac1388322a6bd1715944f796e5.jpg: 640x640 1 TomatoeMosaicVirus, 9.5ms\n",
      "image 472/726 /teamspace/studios/this_studio/Cleaned_without_cucumber/test/images/7edf8e92-d212-46f4-843e-0c08bd263f73___GHLB2-Leaf-8944_JPG.rf.7781f65ae53451de95c0dcf09ce31acd.jpg: 640x640 1 TomatoeLateBlight, 9.9ms\n",
      "image 473/726 /teamspace/studios/this_studio/Cleaned_without_cucumber/test/images/7ef3d9a6-605d-400e-a87c-fcb8877d333b___JR_HL-8779_JPG.rf.b4a393bd0cb6a5157bc18d3b27fb58e6.jpg: 640x640 1 PepperBellHealthy, 9.0ms\n",
      "image 474/726 /teamspace/studios/this_studio/Cleaned_without_cucumber/test/images/7f3398ef-a359-4ec4-b295-998c2851dea3___Crnl_L-Mold-6585_JPG.rf.37cb4ae015911585c7ed31466a529803.jpg: 640x640 1 TomatoeLeafMold, 9.0ms\n",
      "image 475/726 /teamspace/studios/this_studio/Cleaned_without_cucumber/test/images/7f855210-f737-44d7-af52-1d78baac14a4___Crnl_L-Mold-8664_JPG.rf.0021fbb62e9f24d49070dab39a4c034f.jpg: 640x640 1 TomatoeLeafMold, 10.5ms\n",
      "image 476/726 /teamspace/studios/this_studio/Cleaned_without_cucumber/test/images/7f9588b9-0bdc-4c29-9d84-bddf86c9c453___Matt-S_CG-7383_JPG.rf.147edadd8a0b8aaac68c49b480bcd36c.jpg: 640x640 1 TomatoeSpiderMites, 9.8ms\n",
      "image 477/726 /teamspace/studios/this_studio/Cleaned_without_cucumber/test/images/7fa60228-7a59-48fc-aee4-035fb71c403c___Com-G_SpM_FL-9458_JPG.rf.0414677db7af4103d09efb9d695f2b72.jpg: 640x640 1 TomatoeTargetSpot, 9.8ms\n",
      "image 478/726 /teamspace/studios/this_studio/Cleaned_without_cucumber/test/images/7ff1632f-91e4-4dd3-801d-e31885af4c41___Matt-S_CG-7578_JPG.rf.6c7a6f13a03961545539ffc7eb5afe29.jpg: 640x640 1 TomatoeSpiderMites, 9.3ms\n",
      "image 479/726 /teamspace/studios/this_studio/Cleaned_without_cucumber/test/images/803dada3-6a01-491a-b743-b1bb21a9af6b___GCREC_Bact-Sp-6093_JPG.rf.362f2811542c01c1737a6545cead03e1.jpg: 640x640 1 TomatoeBacterialSpot, 9.0ms\n",
      "image 480/726 /teamspace/studios/this_studio/Cleaned_without_cucumber/test/images/808fed44-acfc-492e-b295-9711805936b1___Crnl_L-Mold-8678_JPG.rf.bbcee756f4326c31ce4ff4f46d2d02a1.jpg: 640x640 1 TomatoeLeafMold, 8.8ms\n",
      "image 481/726 /teamspace/studios/this_studio/Cleaned_without_cucumber/test/images/80d302d6-102c-4fe0-acf8-8ff5b796767e___JR_B-Spot-8898_JPG.rf.bc25443f2773264db7fed8afa4e4c936.jpg: 640x640 1 PepperBellBacterialSpot, 9.5ms\n",
      "image 482/726 /teamspace/studios/this_studio/Cleaned_without_cucumber/test/images/81ae49b5-40e6-41ac-add6-470a7b108f5b___Crnl_L-Mold-8794_JPG.rf.db82a035978b4cd1f8d7eb476a3251fc.jpg: 640x640 1 TomatoeSpiderMites, 8.8ms\n",
      "image 483/726 /teamspace/studios/this_studio/Cleaned_without_cucumber/test/images/81ba2ad9-db9d-452e-80bd-54aca04c7ca5___Com-G_SpM_FL-8731_JPG.rf.428b0204c48b38e8f50a3dc7c1fd9d51.jpg: 640x640 1 TomatoeTargetSpot, 8.7ms\n",
      "image 484/726 /teamspace/studios/this_studio/Cleaned_without_cucumber/test/images/821fa2f8-b221-472d-a789-f0c42923f52a___JR_B-Spot-9046_JPG.rf.4dd768af75ca5fc0568f573de2f44545.jpg: 640x640 1 PepperBellBacterialSpot, 9.5ms\n",
      "image 485/726 /teamspace/studios/this_studio/Cleaned_without_cucumber/test/images/8294cabb-990b-4e0b-9351-441c91fa9e28___NREC_B-Spot-1941_JPG.rf.3a8460a5bd639d282b86a6e608c0f6e3.jpg: 640x640 1 PepperBellBacterialSpot, 8.9ms\n",
      "image 486/726 /teamspace/studios/this_studio/Cleaned_without_cucumber/test/images/82a343d3-1a57-4190-b0d7-8e8c88e832a7___GH_HL-Leaf-306_JPG.rf.de859deede005ce18fdc394a2086a717.jpg: 640x640 1 TomatoeHealthy, 8.8ms\n",
      "image 487/726 /teamspace/studios/this_studio/Cleaned_without_cucumber/test/images/82de2fc1-0ff9-4711-a89d-35db440d2078___JR_Sept-L-S-8564_JPG.rf.6e5df9f4b21cb8f76fa10598b8132d73.jpg: 640x640 1 TomatoeSpiderMites, 9.4ms\n",
      "image 488/726 /teamspace/studios/this_studio/Cleaned_without_cucumber/test/images/82fbc047-1d50-4da4-9e1a-befe7ebfc42e___Com-G_SpM_FL-1604_JPG.rf.946ee3b3a02f05a98ec0c35a934c145a.jpg: 640x640 1 TomatoeTargetSpot, 8.9ms\n",
      "image 489/726 /teamspace/studios/this_studio/Cleaned_without_cucumber/test/images/835f4a10-45e2-4b7d-9b06-90318ea60082___Crnl_L-Mold-6960_JPG.rf.fa5d977c8ebf906109a9305846ff8a08.jpg: 640x640 1 TomatoeLeafMold, 8.7ms\n",
      "image 490/726 /teamspace/studios/this_studio/Cleaned_without_cucumber/test/images/83825263-0e8f-4e27-a6e2-b432323efe49___JR_HL-7593_JPG.rf.43d15776cdbc9454966fe8b1248f3cfa.jpg: 640x640 1 PepperBellHealthy, 9.5ms\n",
      "image 491/726 /teamspace/studios/this_studio/Cleaned_without_cucumber/test/images/839f0c78-eea2-4a82-a483-46f2e671e855___Com-G_TgS_FL-8217_JPG.rf.41b24b6329f46497b144178a161a92f5.jpg: 640x640 1 TomatoeMosaicVirus, 9.1ms\n",
      "image 492/726 /teamspace/studios/this_studio/Cleaned_without_cucumber/test/images/83cb3d8b-8d4b-4669-8331-0d6be2a6176f___Com-G_SpM_FL-8537_JPG.rf.475ea5eab99cccd15ae89659f06a7cab.jpg: 640x640 1 TomatoeTargetSpot, 8.9ms\n",
      "image 493/726 /teamspace/studios/this_studio/Cleaned_without_cucumber/test/images/83ec8584-a58a-407d-9f7a-5042b0bf1b8a___Crnl_L-Mold-8906_JPG.rf.8b87204300995dac3de8a61a3ebd499b.jpg: 640x640 1 TomatoeLeafMold, 9.6ms\n",
      "image 494/726 /teamspace/studios/this_studio/Cleaned_without_cucumber/test/images/841cd513-3d3b-4ba5-ba29-1b7bf5220f9c___GCREC_Bact-Sp-3595_JPG.rf.d6a2ac898fb845be13b366c3d89bf4dd.jpg: 640x640 1 TomatoeBacterialSpot, 9.0ms\n",
      "image 495/726 /teamspace/studios/this_studio/Cleaned_without_cucumber/test/images/845bb305-82c0-43d2-b227-c9cc0d4146d9___Com-G_TgS_FL-0891_JPG.rf.723c8d4fd10c7da6f61958598b7d7be2.jpg: 640x640 1 TomatoeMosaicVirus, 9.6ms\n",
      "image 496/726 /teamspace/studios/this_studio/Cleaned_without_cucumber/test/images/84acf9e0-37b0-4008-bf11-0063fec9ff05___Com-G_SpM_FL-8766_JPG.rf.d900e7692493f44886445067611be82c.jpg: 640x640 1 TomatoeTargetSpot, 9.4ms\n",
      "image 497/726 /teamspace/studios/this_studio/Cleaned_without_cucumber/test/images/84d5645b-619e-4882-a1d5-3a3abec47da3___RS_HL-0568_JPG.rf.e25dabe536ac53b1ca174d482a348d61.jpg: 640x640 1 TomatoeHealthy, 9.1ms\n",
      "image 498/726 /teamspace/studios/this_studio/Cleaned_without_cucumber/test/images/86a7487a-e9a1-413c-b8ad-6dfacf9c0b2a___GH_HL-Leaf-413-1_JPG.rf.438ba997410bb7aa2d0d053d4f9515a1.jpg: 640x640 1 TomatoeHealthy, 8.8ms\n",
      "image 499/726 /teamspace/studios/this_studio/Cleaned_without_cucumber/test/images/86a83826-1cb7-458c-8999-91455fb9b4b0___GHLB2-Leaf-96-1_JPG.rf.15c0fe6c015ffaa6c881c70f875a62ff.jpg: 640x640 1 TomatoeHealthy, 9.4ms\n",
      "image 500/726 /teamspace/studios/this_studio/Cleaned_without_cucumber/test/images/86ab9425-c1a6-41e5-b626-0e63d5fe1706___GCREC_Bact-Sp-3836_JPG.rf.e69df6ad536932e2de6fa6f29dd4c2a2.jpg: 640x640 1 TomatoeBacterialSpot, 8.8ms\n",
      "image 501/726 /teamspace/studios/this_studio/Cleaned_without_cucumber/test/images/86f57694-e1ee-490a-a8c0-433674828fb7___GCREC_Bact-Sp-5940_JPG.rf.ab5b721323c3b9fd701d3edc0577a852.jpg: 640x640 1 TomatoeBacterialSpot, 8.7ms\n",
      "image 502/726 /teamspace/studios/this_studio/Cleaned_without_cucumber/test/images/86f5ea7a-75c7-4732-a71a-c7bc0717f847___Matt-S_CG-7604_JPG.rf.d956ba930be648a2a2f9bef151676a63.jpg: 640x640 1 TomatoeSpiderMites, 9.9ms\n",
      "image 503/726 /teamspace/studios/this_studio/Cleaned_without_cucumber/test/images/876b7bac-c03b-468e-a7c8-67a3c2ba2526___Crnl_L-Mold-6646_JPG.rf.23d336eb7d810d3033efc77355ba8551.jpg: 640x640 1 TomatoeLeafMold, 9.1ms\n",
      "image 504/726 /teamspace/studios/this_studio/Cleaned_without_cucumber/test/images/87b6a20f-1b39-4696-a2a7-5fdcf5dbc4f5___Com-G_TgS_FL-1014_JPG.rf.84dc7b073748d80b44c4fe2075d69611.jpg: 640x640 1 TomatoeMosaicVirus, 9.1ms\n",
      "image 505/726 /teamspace/studios/this_studio/Cleaned_without_cucumber/test/images/87ba14ab-3b74-407b-977e-237258eb6947___Matt-S_CG-6787_JPG.rf.e39fcf924e0e0984b783978c4954d0a6.jpg: 640x640 1 TomatoeSpiderMites, 9.8ms\n",
      "image 506/726 /teamspace/studios/this_studio/Cleaned_without_cucumber/test/images/87bd85f0-649b-4f89-8f86-35d15460520f___Com-G_TgS_FL-7933_JPG.rf.41cc7985d62855737564e9b860219466.jpg: 640x640 1 TomatoeMosaicVirus, 9.0ms\n",
      "image 507/726 /teamspace/studios/this_studio/Cleaned_without_cucumber/test/images/87f47869-cd63-494b-813d-4355a11c01d5___RS_Late-B-6629_JPG.rf.398ce0f22f9d332ba70955af013a4a7d.jpg: 640x640 1 TomatoeLateBlight, 8.9ms\n",
      "image 508/726 /teamspace/studios/this_studio/Cleaned_without_cucumber/test/images/884c2da1-3b43-46aa-85bb-0f72ed25c266___JR_B-Spot-8906_JPG.rf.7c48c0b8b39a1cb3cb7c5f1a5197a127.jpg: 640x640 1 PepperBellBacterialSpot, 9.6ms\n",
      "image 509/726 /teamspace/studios/this_studio/Cleaned_without_cucumber/test/images/887eab5c-9475-46b7-81df-ea2c5190e7fe___GCREC_Bact-Sp-6026_JPG.rf.62d21eef5a72415ae9cd30d797bd8ab0.jpg: 640x640 1 TomatoeBacterialSpot, 9.0ms\n",
      "image 510/726 /teamspace/studios/this_studio/Cleaned_without_cucumber/test/images/88b7e7b3-a94a-449c-8a7b-ed96ec541690___Com-G_SpM_FL-8437_JPG.rf.7cb82e83be64baa26a554b4e122fb46a.jpg: 640x640 1 TomatoeTargetSpot, 9.0ms\n",
      "image 511/726 /teamspace/studios/this_studio/Cleaned_without_cucumber/test/images/88cb990c-385b-4d79-89f4-f1a8698a2845___GCREC_Bact-Sp-5576_JPG.rf.10512215daf15f7b249de588499fdde2.jpg: 640x640 1 TomatoeBacterialSpot, 9.8ms\n",
      "image 512/726 /teamspace/studios/this_studio/Cleaned_without_cucumber/test/images/88cc038d-6215-45de-a0e7-26cb701e96e2___GCREC_Bact-Sp-3494_JPG.rf.ba96243178556c39b2bd53fee4bcf7b2.jpg: 640x640 1 TomatoeBacterialSpot, 8.9ms\n",
      "image 513/726 /teamspace/studios/this_studio/Cleaned_without_cucumber/test/images/88edbc3c-7373-46fd-b08b-e99408ea58db___Com-G_SpM_FL-1569_JPG.rf.26843f5f0fbf2d7df9ba8004c2098d1a.jpg: 640x640 1 TomatoeTargetSpot, 8.9ms\n",
      "image 514/726 /teamspace/studios/this_studio/Cleaned_without_cucumber/test/images/898fbe14-3442-44ae-9638-471ce8efcc2f___GHLB2-Leaf-117-1_JPG.rf.9f046c6a33507c6b0ee3a569cfddc86b.jpg: 640x640 1 TomatoeLateBlight, 9.7ms\n",
      "image 515/726 /teamspace/studios/this_studio/Cleaned_without_cucumber/test/images/89e0c6b5-8812-4a16-92eb-e63401b50051___RS_Erly-B-9589_JPG.rf.65615504cc484567711eb99311205ada.jpg: 640x640 1 TomatoeEarlyblight, 8.9ms\n",
      "image 516/726 /teamspace/studios/this_studio/Cleaned_without_cucumber/test/images/89f4682e-96b6-4eba-a8ce-b485b42175ef___Com-G_SpM_FL-8541_JPG.rf.1ca9c2bbfb853668617c45ddb28a4124.jpg: 640x640 1 TomatoeTargetSpot, 9.0ms\n",
      "image 517/726 /teamspace/studios/this_studio/Cleaned_without_cucumber/test/images/8a1d3598-cd1d-4978-9e18-b5e205108540___RS_Erly-B-8315_JPG.rf.bffd474278c2f583bcef445737fe590b.jpg: 640x640 1 TomatoeEarlyblight, 10.0ms\n",
      "image 518/726 /teamspace/studios/this_studio/Cleaned_without_cucumber/test/images/8a2f5ea2-51e1-493d-93ff-61faa8221754___RS_Late-B-7069_JPG.rf.eaae5810c4c0ce3b57bfde1cc5793e45.jpg: 640x640 1 TomatoeLateBlight, 9.0ms\n",
      "image 519/726 /teamspace/studios/this_studio/Cleaned_without_cucumber/test/images/8a440254-30e5-4381-8294-e2513347d7c1___GCREC_Bact-Sp-5901_JPG.rf.1c137595f8abe4dbaf1afd8c3e1896f8.jpg: 640x640 1 TomatoeBacterialSpot, 9.0ms\n",
      "image 520/726 /teamspace/studios/this_studio/Cleaned_without_cucumber/test/images/8a585374-1af5-4577-ba37-d931d79b427a___Crnl_L-Mold-9066_JPG.rf.02bd04c658a5786d4e6c3c23590dccfe.jpg: 640x640 1 TomatoeLeafMold, 10.3ms\n",
      "image 521/726 /teamspace/studios/this_studio/Cleaned_without_cucumber/test/images/8a5ccd09-d957-4522-ae9e-54a101e569e8___JR_HL-8543_JPG.rf.ec4f7b6e9468f9e54a4ddca2056a6f84.jpg: 640x640 1 PepperBellHealthy, 10.0ms\n",
      "image 522/726 /teamspace/studios/this_studio/Cleaned_without_cucumber/test/images/8a71b39e-03c4-474d-a729-c6c5039c829c___Com-G_TgS_FL-0963_JPG.rf.110d447ae333c3dc4de1506cbaa3ad40.jpg: 640x640 1 TomatoeMosaicVirus, 9.2ms\n",
      "image 523/726 /teamspace/studios/this_studio/Cleaned_without_cucumber/test/images/8a7b0bc4-2641-4674-9ce7-6b69ab55f388___Matt-S_CG-6816_JPG.rf.4414503df32321e4ebfa3b0b759da126.jpg: 640x640 1 TomatoeSpiderMites, 13.6ms\n",
      "image 524/726 /teamspace/studios/this_studio/Cleaned_without_cucumber/test/images/8a7c99f2-32eb-4599-9160-c7541fe82b40___Com-G_SpM_FL-1233_JPG.rf.dc864410a4aeb8c85db30126b530eb09.jpg: 640x640 1 TomatoeTargetSpot, 10.3ms\n",
      "image 525/726 /teamspace/studios/this_studio/Cleaned_without_cucumber/test/images/8a9fbe5a-7158-4e10-bfdc-04138408a2f0___Com-G_SpM_FL-9470_JPG.rf.3a20d2a6fee0a6d9a24f791f44b0c625.jpg: 640x640 1 TomatoeTargetSpot, 11.8ms\n",
      "image 526/726 /teamspace/studios/this_studio/Cleaned_without_cucumber/test/images/8aa16ab8-dd90-4293-a577-88006fd26365___GCREC_Bact-Sp-3712_JPG.rf.2cc42109b09112cf29add1b2f6d10713.jpg: 640x640 1 TomatoeBacterialSpot, 13.9ms\n",
      "image 527/726 /teamspace/studios/this_studio/Cleaned_without_cucumber/test/images/8aad671a-ce18-4cdb-9744-63eb859d40b7___Matt-S_CG-7650_JPG.rf.6d0d7056e8e015837fb2f5f6c9cd8973.jpg: 640x640 1 TomatoeSpiderMites, 13.4ms\n",
      "image 528/726 /teamspace/studios/this_studio/Cleaned_without_cucumber/test/images/8acf0350-5233-4fdd-ae77-34d78943cc9a___JR_HL-8237_JPG.rf.274e19fda15afa8ef8004af812df41fe.jpg: 640x640 1 PepperBellHealthy, 9.6ms\n",
      "image 529/726 /teamspace/studios/this_studio/Cleaned_without_cucumber/test/images/8b006696-91e3-473a-844f-ceae651cdff8___Com-G_TgS_FL-0673_JPG.rf.7fe98e89f5570c628e0ff2a79e4efc4b.jpg: 640x640 1 TomatoeHealthy, 1 TomatoeMosaicVirus, 9.6ms\n",
      "image 530/726 /teamspace/studios/this_studio/Cleaned_without_cucumber/test/images/8b18cc78-f251-4249-a787-52d80a008df2___JR_HL-8322_JPG.rf.c148b958f393bd731ce82497a8c40894.jpg: 640x640 1 PepperBellHealthy, 9.0ms\n",
      "image 531/726 /teamspace/studios/this_studio/Cleaned_without_cucumber/test/images/8b1a6730-4e10-4864-bdfb-4f454f7ef87c___GCREC_Bact-Sp-3132_JPG.rf.415aa27ca14bcd515e0c0a42a59ce953.jpg: 640x640 1 TomatoeBacterialSpot, 12.3ms\n",
      "image 532/726 /teamspace/studios/this_studio/Cleaned_without_cucumber/test/images/8b1bc870-8cff-476f-b8cb-e17ab5e1e2d7___JR_HL-8845_JPG.rf.2a8fb9b6da2479de25102642c81d1094.jpg: 640x640 1 PepperBellHealthy, 12.2ms\n",
      "image 533/726 /teamspace/studios/this_studio/Cleaned_without_cucumber/test/images/8b4f1638-2795-4da0-8aa6-06792870bf86___GCREC_Bact-Sp-3591_JPG.rf.a0041ca92e80488c290a1ec8cc823320.jpg: 640x640 1 TomatoeBacterialSpot, 9.5ms\n",
      "image 534/726 /teamspace/studios/this_studio/Cleaned_without_cucumber/test/images/8ba4d183-e33e-4333-b839-2626bd0f450b___JR_HL-8049_JPG.rf.1b8a7855962d3208009a27ce0c8e4f59.jpg: 640x640 1 PepperBellHealthy, 8.7ms\n",
      "image 535/726 /teamspace/studios/this_studio/Cleaned_without_cucumber/test/images/8c1aeb64-c6e2-4d36-a664-1c28411edfa1___Com-G_SpM_FL-9394_JPG.rf.428e41e0e3e039368d22a038cf78c130.jpg: 640x640 1 TomatoeTargetSpot, 8.7ms\n",
      "image 536/726 /teamspace/studios/this_studio/Cleaned_without_cucumber/test/images/8c3a26fe-2c28-4f55-9a5b-3d8b2be54502___GCREC_Bact-Sp-3682_JPG.rf.04c4ec71adb20cae081b7f209a49905f.jpg: 640x640 1 TomatoeMosaicVirus, 8.6ms\n",
      "image 537/726 /teamspace/studios/this_studio/Cleaned_without_cucumber/test/images/8c849e11-f45e-4190-a5e7-d67a468a984c___Com-G_SpM_FL-9268_JPG.rf.0012122e27d519c4aa17914810e04bef.jpg: 640x640 1 TomatoeTargetSpot, 13.7ms\n",
      "image 538/726 /teamspace/studios/this_studio/Cleaned_without_cucumber/test/images/8cbf5a0d-8937-4f72-adf0-294fb7c947c1___RS_HL-0128_JPG.rf.9c8ebdf34dd5b20763bd1ed177e7c5a5.jpg: 640x640 1 TomatoeHealthy, 11.4ms\n",
      "image 539/726 /teamspace/studios/this_studio/Cleaned_without_cucumber/test/images/8d370ca1-f143-4298-bede-e495da068cc0___Matt-S_CG-1315_JPG.rf.8fd64e1a9159b4baf2472d0e92ad7b43.jpg: 640x640 1 TomatoeSpiderMites, 9.2ms\n",
      "image 540/726 /teamspace/studios/this_studio/Cleaned_without_cucumber/test/images/8d611dca-11e1-4970-9806-599173ed158d___RS_Late-B-5181_JPG.rf.8080f535b5f8ff90feb37de32de957f2.jpg: 640x640 1 TomatoeLateBlight, 8.9ms\n",
      "image 541/726 /teamspace/studios/this_studio/Cleaned_without_cucumber/test/images/8dd3f665-f683-427d-9435-2e62a2650cfd___Com-G_TgS_FL-9879_JPG.rf.5fb5a3eee7810ec148ce0ba9f8fb10e0.jpg: 640x640 1 TomatoeMosaicVirus, 8.7ms\n",
      "image 542/726 /teamspace/studios/this_studio/Cleaned_without_cucumber/test/images/8dea4cc9-85a5-412f-b16b-6bd339b9429d___GCREC_Bact-Sp-6069_JPG.rf.b046b9317e64d17484f20cd878f02cca.jpg: 640x640 1 TomatoeBacterialSpot, 8.8ms\n",
      "image 543/726 /teamspace/studios/this_studio/Cleaned_without_cucumber/test/images/8dff4125-96c2-44fc-bd3f-734fa57621ba___RS_Late-B-5025_JPG.rf.df903be42463bce4f3e4b67b777ccfc7.jpg: 640x640 1 TomatoeLateBlight, 13.4ms\n",
      "image 544/726 /teamspace/studios/this_studio/Cleaned_without_cucumber/test/images/8e4238dc-b4fd-46d0-8892-965e64dad7ab___RS_Erly-B-9404_JPG.rf.76b644be245a754fef1690549b7bd96a.jpg: 640x640 1 TomatoeEarlyblight, 10.0ms\n",
      "image 545/726 /teamspace/studios/this_studio/Cleaned_without_cucumber/test/images/8ea20132-2bfb-4beb-bda6-88f1f4bb8936___GCREC_Bact-Sp-3103_JPG.rf.cb76c50090b26c3d166a679bd7077d1f.jpg: 640x640 1 TomatoeBacterialSpot, 9.2ms\n",
      "image 546/726 /teamspace/studios/this_studio/Cleaned_without_cucumber/test/images/8ec82028-24e9-4bb8-8c36-31a42189790e___Crnl_L-Mold-8783_JPG.rf.3c7efaf272252f42a1f21339f064a8c1.jpg: 640x640 1 TomatoeLeafMold, 8.7ms\n",
      "image 547/726 /teamspace/studios/this_studio/Cleaned_without_cucumber/test/images/8eea255c-3cb6-49bf-938c-da2b85dfe40a___UF-GRC_BS_Lab-Leaf-0294_JPG.rf.42c684751be34918301dc89c94f5f892.jpg: 640x640 1 TomatoeBacterialSpot, 8.5ms\n",
      "image 548/726 /teamspace/studios/this_studio/Cleaned_without_cucumber/test/images/8f2c9096-f0af-4f68-a0cb-9343ac4eacb2___Matt-S_CG-1228_JPG.rf.af2c20f24e708e89da2a48834415dd34.jpg: 640x640 1 TomatoeSpiderMites, 8.9ms\n",
      "image 549/726 /teamspace/studios/this_studio/Cleaned_without_cucumber/test/images/8f901183-1af4-402b-87b7-d3838d598ce9___Crnl_L-Mold-9006_JPG.rf.ab0e4b977fe9f2fdb8a7ee37745b3ace.jpg: 640x640 1 TomatoeLeafMold, 13.6ms\n",
      "image 550/726 /teamspace/studios/this_studio/Cleaned_without_cucumber/test/images/8fa3a59d-3e37-4b30-bdf7-35979c324626___RS_Late-B-4907_JPG.rf.213a67a9f8f0d4f5520fb9aecca9602c.jpg: 640x640 1 TomatoeLateBlight, 10.2ms\n",
      "image 551/726 /teamspace/studios/this_studio/Cleaned_without_cucumber/test/images/8ff85c38-bc88-4bd3-872b-363316b27b5b___GCREC_Bact-Sp-5843_JPG.rf.f146749fe08cc41880ba84a950940680.jpg: 640x640 1 TomatoeBacterialSpot, 8.9ms\n",
      "image 552/726 /teamspace/studios/this_studio/Cleaned_without_cucumber/test/images/9023d324-f287-41ab-801b-27cc9a4ee9d5___JR_B-Spot-8981_JPG.rf.b5717bb12ef030cafd0a676b6426c0e6.jpg: 640x640 1 PepperBellBacterialSpot, 9.7ms\n",
      "image 553/726 /teamspace/studios/this_studio/Cleaned_without_cucumber/test/images/90aea036-5a0f-49da-b344-118c8b108c84___Matt-S_CG-7767_JPG.rf.5551e014dd7eb68dc15b6206df27072c.jpg: 640x640 1 TomatoeSpiderMites, 9.5ms\n",
      "image 554/726 /teamspace/studios/this_studio/Cleaned_without_cucumber/test/images/90c55e48-17d8-48fd-bf59-2ef16bf624a4___JR_HL-8453_JPG.rf.b1e214598d5593f7b4ffce249ae6154b.jpg: 640x640 1 PepperBellHealthy, 12.9ms\n",
      "image 555/726 /teamspace/studios/this_studio/Cleaned_without_cucumber/test/images/90e840e0-3b8c-4100-8340-ef0ed67e5972___JR_HL-8367_JPG.rf.3234af4f58ffad3698069d68026b29ff.jpg: 640x640 1 PepperBellHealthy, 11.4ms\n",
      "image 556/726 /teamspace/studios/this_studio/Cleaned_without_cucumber/test/images/90ef9a47-80a8-41ce-a673-37f393e24987___Com-G_SpM_FL-8864_JPG.rf.00d78f3ed57d468f2c9f14f3b1282ccf.jpg: 640x640 1 TomatoeTargetSpot, 8.8ms\n",
      "image 557/726 /teamspace/studios/this_studio/Cleaned_without_cucumber/test/images/90f8a11f-04f3-4d4d-a6c0-9b75e69ae66f___Com-G_TgS_FL-8048_JPG.rf.ce2a5c006bf973c64c00651f751f2c0e.jpg: 640x640 1 TomatoeMosaicVirus, 8.5ms\n",
      "image 558/726 /teamspace/studios/this_studio/Cleaned_without_cucumber/test/images/913a9ecb-2dad-4a37-8e5e-e97a1aa2b8a1___RS_Late-B-5327_JPG.rf.06fe0d39a4b86444b6cc54248cb6bf8d.jpg: 640x640 1 TomatoeLateBlight, 8.4ms\n",
      "image 559/726 /teamspace/studios/this_studio/Cleaned_without_cucumber/test/images/91e017a6-9d9e-4e53-9d45-fad0cb79b20d___GCREC_Bact-Sp-6014_JPG.rf.c616048bac0ff2c72839e9e86b072bd3.jpg: 640x640 1 TomatoeBacterialSpot, 8.4ms\n",
      "image 560/726 /teamspace/studios/this_studio/Cleaned_without_cucumber/test/images/91fca18d-8401-46d7-a173-cc549261b37f___Crnl_L-Mold-8662_JPG.rf.f34ec7340420f226ab2c6de74c54b61f.jpg: 640x640 1 TomatoeLeafMold, 13.7ms\n",
      "image 561/726 /teamspace/studios/this_studio/Cleaned_without_cucumber/test/images/922d8646-efa3-4101-b943-d3568c9760e9___RS_HL-0029_JPG.rf.6f31aeab0b1caed1b769c641aa74d84c.jpg: 640x640 1 TomatoeHealthy, 9.9ms\n",
      "image 562/726 /teamspace/studios/this_studio/Cleaned_without_cucumber/test/images/931d9484-8912-49c3-bc82-d849927c9a16___GCREC_Bact-Sp-3694_JPG.rf.50ab5cd9356cb19451491b7801bc30a7.jpg: 640x640 1 TomatoeBacterialSpot, 8.7ms\n",
      "image 563/726 /teamspace/studios/this_studio/Cleaned_without_cucumber/test/images/937cddd0-a34d-4b1d-8702-e96989c1bcf2___Com-G_SpM_FL-1186_JPG.rf.1190c5cfd1482297554fd4856b5eeacc.jpg: 640x640 1 TomatoeTargetSpot, 8.6ms\n",
      "image 564/726 /teamspace/studios/this_studio/Cleaned_without_cucumber/test/images/93c80433-e24f-4b39-9f44-10141243b588___GHLB2-Leaf-8940_JPG.rf.077bf79a680db042b8a490fcfbdd9bff.jpg: 640x640 1 TomatoeLateBlight, 8.5ms\n",
      "image 565/726 /teamspace/studios/this_studio/Cleaned_without_cucumber/test/images/93dd10f7-791e-4c52-a8d0-f9196cafaecb___RS_Erly-B-8284_JPG.rf.ec9fd668acffd0da9736de92958ccd46.jpg: 640x640 1 TomatoeEarlyblight, 1 TomatoeLateBlight, 10.6ms\n",
      "image 566/726 /teamspace/studios/this_studio/Cleaned_without_cucumber/test/images/94a7acd4-cd80-4d84-a837-0702cb946d52___JR_HL-8795_JPG.rf.9c4cfa822d7d53212719c7dfd12d5db3.jpg: 640x640 1 TomatoeHealthy, 1 PepperBellHealthy, 13.2ms\n",
      "image 567/726 /teamspace/studios/this_studio/Cleaned_without_cucumber/test/images/94cc1863-a527-4f26-9b08-2f3bc17ff93f___GHLB-Leaf-23-3-Day-13_JPG.rf.9404f403f340bed5afb1ae09a60a7385.jpg: 640x640 1 TomatoeLateBlight, 9.7ms\n",
      "image 568/726 /teamspace/studios/this_studio/Cleaned_without_cucumber/test/images/94d2930c-7f66-4900-90b5-4ea22d053320___JR_Sept-L-S-8377_JPG.rf.480bb94f17a6410a6c8de80a0ce6edff.jpg: 640x640 1 TomatoeSpiderMites, 8.7ms\n",
      "image 569/726 /teamspace/studios/this_studio/Cleaned_without_cucumber/test/images/952535f2-d337-434c-90e4-0be62ad20db9___JR_B-Spot-3348_JPG.rf.2c9ed828dff6e7ee3f0bf7622e4c4e28.jpg: 640x640 1 PepperBellBacterialSpot, 8.5ms\n",
      "image 570/726 /teamspace/studios/this_studio/Cleaned_without_cucumber/test/images/952f14ea-6697-4361-897f-a3123c69b7e4___Matt-S_CG-2790_JPG.rf.55a24b9e273d5db11534839abb1d4fda.jpg: 640x640 1 TomatoeSpiderMites, 8.5ms\n",
      "image 571/726 /teamspace/studios/this_studio/Cleaned_without_cucumber/test/images/953f355a-fd2c-433e-8292-a8c1908e000e___GHLB2-Leaf-8853_JPG.rf.8df1e526fe8b58ad203ec2494bb3f205.jpg: 640x640 1 TomatoeLateBlight, 13.4ms\n",
      "image 572/726 /teamspace/studios/this_studio/Cleaned_without_cucumber/test/images/954e415f-a2ae-42ba-ac21-fdd41da95ff2___GCREC_Bact-Sp-5935_JPG.rf.5ccfc257503cb88a2766e74577107cdf.jpg: 640x640 1 TomatoeBacterialSpot, 10.1ms\n",
      "image 573/726 /teamspace/studios/this_studio/Cleaned_without_cucumber/test/images/955a0b0a-915d-4f6b-b433-c365c8a4b9f6___Com-G_SpM_FL-9600_JPG.rf.62910b0bfd6628e428116a5deb99ba5b.jpg: 640x640 1 TomatoeTargetSpot, 8.9ms\n",
      "image 574/726 /teamspace/studios/this_studio/Cleaned_without_cucumber/test/images/955e9314-b03b-4f51-afdf-9b5f44e2edce___GHLB2-Leaf-9043_JPG.rf.4461a0b621f77c47ca404859374fe160.jpg: 640x640 1 TomatoeLateBlight, 8.5ms\n",
      "image 575/726 /teamspace/studios/this_studio/Cleaned_without_cucumber/test/images/95846c59-3b47-477f-93f1-4f857099be3d___NREC_B-Spot-9203_JPG.rf.80389ed32128f95b30241e11cb097dad.jpg: 640x640 1 PepperBellBacterialSpot, 8.4ms\n",
      "image 576/726 /teamspace/studios/this_studio/Cleaned_without_cucumber/test/images/95944721-a036-4912-b2ac-28b0014a029b___JR_HL-5807_JPG.rf.eb203bbc33f70bf3103ab952d7e9cfaf.jpg: 640x640 1 PepperBellHealthy, 8.4ms\n",
      "image 577/726 /teamspace/studios/this_studio/Cleaned_without_cucumber/test/images/95a89332-3fb0-49cd-98f4-3f1551ebcd6f___UF-GRC_BS_Lab-Leaf-0406_JPG.rf.2ef99554e7a5ee53b1c23982ae910cb0.jpg: 640x640 1 TomatoeBacterialSpot, 13.4ms\n",
      "image 578/726 /teamspace/studios/this_studio/Cleaned_without_cucumber/test/images/95de9f94-ddb1-4303-b3d9-a3ad2b430bbf___RS_Erly-B-9554_JPG.rf.e759d0c2f8032172e2f9670184a363f7.jpg: 640x640 1 TomatoeEarlyblight, 12.0ms\n",
      "image 579/726 /teamspace/studios/this_studio/Cleaned_without_cucumber/test/images/967bda4f-47e2-4182-8d6b-3cc5cb613166___JR_HL-8614_JPG.rf.cbb007c66d42637a74cc43eee89af836.jpg: 640x640 1 PepperBellHealthy, 8.9ms\n",
      "image 580/726 /teamspace/studios/this_studio/Cleaned_without_cucumber/test/images/970a299e-18bd-4bf6-83af-f0950cfe0272___Crnl_L-Mold-8668_JPG.rf.990162762714833b1f94211b8fe3087a.jpg: 640x640 1 TomatoeLeafMold, 8.7ms\n",
      "image 581/726 /teamspace/studios/this_studio/Cleaned_without_cucumber/test/images/970f1e35-eca5-4011-9d93-be6566f27389___GCREC_Bact-Sp-3525_JPG.rf.6e5287e2349c89440dec07bf29b26b2d.jpg: 640x640 1 TomatoeBacterialSpot, 8.5ms\n",
      "image 582/726 /teamspace/studios/this_studio/Cleaned_without_cucumber/test/images/973b8b82-cccd-433c-a868-5dee559b2dce___GHLB-Leaf-2-6-Day-12_JPG.rf.b17b6b7736b9a0172a49507fb68e674b.jpg: 640x640 1 TomatoeLateBlight, 8.5ms\n",
      "image 583/726 /teamspace/studios/this_studio/Cleaned_without_cucumber/test/images/973c9431-f521-462d-82fa-442196087ca8___GH_HL-Leaf-204-1_JPG.rf.d4069ee50ce54f2511cfaea03cf0f1f3.jpg: 640x640 1 TomatoeHealthy, 14.3ms\n",
      "image 584/726 /teamspace/studios/this_studio/Cleaned_without_cucumber/test/images/974b8791-d05c-42cf-91bf-4bd0684ecc28___JR_HL-7891_JPG.rf.fab2da64404055ba38077ef73d70c243.jpg: 640x640 1 PepperBellHealthy, 10.3ms\n",
      "image 585/726 /teamspace/studios/this_studio/Cleaned_without_cucumber/test/images/978258d9-3b2f-4368-80aa-3288d2e40b7f___JR_HL-7632_JPG.rf.0baa8bfc69a3d2c9a2d61991582dc868.jpg: 640x640 1 PepperBellHealthy, 9.0ms\n",
      "image 586/726 /teamspace/studios/this_studio/Cleaned_without_cucumber/test/images/97b1492e-13ef-44f3-aa9d-de01444499db___JR_B-Spot-3219_JPG.rf.cc0137fd3054b162caed6b6b5b4f0b42.jpg: 640x640 1 PepperBellBacterialSpot, 9.0ms\n",
      "image 587/726 /teamspace/studios/this_studio/Cleaned_without_cucumber/test/images/97e29df2-816f-4455-8ece-783d40f39de5___JR_HL-5886_JPG.rf.c91c6b9233762277b44df1e73a2ade46.jpg: 640x640 1 PepperBellHealthy, 8.8ms\n",
      "image 588/726 /teamspace/studios/this_studio/Cleaned_without_cucumber/test/images/989cea27-2233-441c-b2cc-f5166e3582f1___Com-G_SpM_FL-8846_JPG.rf.a660beb0747f78ad4c861b5e7796d23d.jpg: 640x640 1 TomatoeTargetSpot, 10.6ms\n",
      "image 589/726 /teamspace/studios/this_studio/Cleaned_without_cucumber/test/images/989dc406-c1db-4a9c-9cda-ae66f1288b9b___RS_HL-0032_JPG.rf.ecc1d9bacaf83ab4d61948c9e1d62e25.jpg: 640x640 1 TomatoeHealthy, 12.9ms\n",
      "image 590/726 /teamspace/studios/this_studio/Cleaned_without_cucumber/test/images/98d7bfb4-4200-453f-8ebb-98019900a55c___GCREC_Bact-Sp-6201_JPG.rf.55053c379d3215ee5d31d0339b335f12.jpg: 640x640 1 TomatoeBacterialSpot, 9.8ms\n",
      "image 591/726 /teamspace/studios/this_studio/Cleaned_without_cucumber/test/images/98e0a217-023f-45ad-a1b7-3719a5fdea49___GH_HL-Leaf-283_JPG.rf.48e547fb4f0d3c4cf288ceb399a2acb4.jpg: 640x640 1 TomatoeHealthy, 8.8ms\n",
      "image 592/726 /teamspace/studios/this_studio/Cleaned_without_cucumber/test/images/997f68ef-5b78-40e8-a2d2-a91f304cd9c5___RS_Late-B-4944_JPG.rf.ffd142386dbf68f2ee044702f44a7b92.jpg: 640x640 1 TomatoeLateBlight, 8.6ms\n",
      "image 593/726 /teamspace/studios/this_studio/Cleaned_without_cucumber/test/images/998dafd6-dac5-41f7-84d9-f96c9593dda3___RS_Late-B-7075_JPG.rf.8897750cbb78171d0ed2d2ffa2b86ac6.jpg: 640x640 1 TomatoeLateBlight, 8.7ms\n",
      "image 594/726 /teamspace/studios/this_studio/Cleaned_without_cucumber/test/images/99a07bbb-44a9-48b2-ae4e-306e4282802c___NREC_B-Spot-9064_JPG.rf.5f926b9fcc0dc31e844948a674fc13c6.jpg: 640x640 1 PepperBellBacterialSpot, 13.6ms\n",
      "image 595/726 /teamspace/studios/this_studio/Cleaned_without_cucumber/test/images/99c0eb04-8170-42e3-9dcf-392415815f44___Com-G_TgS_FL-8309_JPG.rf.e8895686cbef5de330dd3f19a0f25ada.jpg: 640x640 1 TomatoeMosaicVirus, 11.6ms\n",
      "image 596/726 /teamspace/studios/this_studio/Cleaned_without_cucumber/test/images/99f79576-bc7e-4f4d-a356-1c185855d29b___Com-G_TgS_FL-9794_JPG.rf.840778144def3962c328c96f1be4e67a.jpg: 640x640 1 TomatoeMosaicVirus, 9.3ms\n",
      "image 597/726 /teamspace/studios/this_studio/Cleaned_without_cucumber/test/images/9a1152b9-1550-48f3-afd6-4e5cc587807a___Com-G_SpM_FL-1639_JPG.rf.314bb248825eebe180b7a4e99ad214f4.jpg: 640x640 1 TomatoeTargetSpot, 8.9ms\n",
      "image 598/726 /teamspace/studios/this_studio/Cleaned_without_cucumber/test/images/9a124e24-d9d2-43f3-b2b9-968e4422744c___GCREC_Bact-Sp-5998_JPG.rf.b17e7f245798ee96e88c7749a9a63632.jpg: 640x640 1 TomatoeBacterialSpot, 8.7ms\n",
      "image 599/726 /teamspace/studios/this_studio/Cleaned_without_cucumber/test/images/9a6e4f1d-4c6d-4dab-8607-f914034d82d6___Com-G_SpM_FL-9619_JPG.rf.c1085f4a65c0c13f8823b4779d85c3f4.jpg: 640x640 1 TomatoeTargetSpot, 8.7ms\n",
      "image 600/726 /teamspace/studios/this_studio/Cleaned_without_cucumber/test/images/9aa2ced4-eedc-4e3e-97a2-d093a89530b3___JR_HL-5885_JPG.rf.22d7271b476e9d84001257c6e261dd59.jpg: 640x640 1 PepperBellHealthy, 12.1ms\n",
      "image 601/726 /teamspace/studios/this_studio/Cleaned_without_cucumber/test/images/9ab320dc-b7f4-42ef-82ed-77c6431d0468___Com-G_TgS_FL-0817_JPG.rf.c2c3f303604e66eeb52ea86468b9530f.jpg: 640x640 1 TomatoeMosaicVirus, 10.6ms\n",
      "image 602/726 /teamspace/studios/this_studio/Cleaned_without_cucumber/test/images/9abd1ec5-33f5-418d-8527-c894dd7739d7___JR_B-Spot-9064_JPG.rf.b4e4fd6c3025b07b78b669f63f8d8199.jpg: 640x640 1 PepperBellBacterialSpot, 9.1ms\n",
      "image 603/726 /teamspace/studios/this_studio/Cleaned_without_cucumber/test/images/9b18c916-ef3f-42e2-88f3-172b48bdc325___JR_Sept-L-S-2576_JPG.rf.c8deebd3d5816f8aa05592621e629785.jpg: 640x640 1 TomatoeSpiderMites, 9.1ms\n",
      "image 604/726 /teamspace/studios/this_studio/Cleaned_without_cucumber/test/images/9b2c3687-231d-456a-9b3a-df24481f9c12___Com-G_TgS_FL-8177_JPG.rf.66445f03df1b1708f4eb7357cad57ef9.jpg: 640x640 1 TomatoeMosaicVirus, 8.8ms\n",
      "image 605/726 /teamspace/studios/this_studio/Cleaned_without_cucumber/test/images/9b3e8e25-fd25-4757-b82f-11196ce2fd62___Keller-St_CG-1856_JPG.rf.51da63b2cd440204e389c9d5d59095ab.jpg: 640x640 1 TomatoeSpiderMites, 11.0ms\n",
      "image 606/726 /teamspace/studios/this_studio/Cleaned_without_cucumber/test/images/9b4de5ca-bdfe-40a5-ac89-99fd93483ce6___Com-G_TgS_FL-0719_JPG.rf.be1527e92d0a82eb2c79ba9130ff4814.jpg: 640x640 1 TomatoeMosaicVirus, 10.2ms\n",
      "image 607/726 /teamspace/studios/this_studio/Cleaned_without_cucumber/test/images/9b617d8b-b252-4a29-9af5-10ea563eb785___RS_Erly-B-7707_JPG.rf.2b4817cf161fb1544ea1fa6e2c98d6ef.jpg: 640x640 1 TomatoeEarlyblight, 1 TomatoeMosaicVirus, 10.5ms\n",
      "image 608/726 /teamspace/studios/this_studio/Cleaned_without_cucumber/test/images/9b663836-f45a-4049-a0f5-35a0b3225e42___Com-G_SpM_FL-9309_JPG.rf.d4ac3b96605dfa5ad2a1db7ad0a3b06b.jpg: 640x640 1 TomatoeTargetSpot, 8.9ms\n",
      "image 609/726 /teamspace/studios/this_studio/Cleaned_without_cucumber/test/images/9ba87e80-e0d5-4b50-8f7e-a0957c370320___RS_Erly-B-8324_JPG.rf.0c495ec4895c9e720f804b27f3f5485b.jpg: 640x640 1 TomatoeEarlyblight, 8.6ms\n",
      "image 610/726 /teamspace/studios/this_studio/Cleaned_without_cucumber/test/images/9be6504b-0be3-4169-80dd-139f579504a3___JR_B-Spot-8963_JPG.rf.3e464e505a3a59cd4934407cae2a8478.jpg: 640x640 1 PepperBellBacterialSpot, 8.5ms\n",
      "image 611/726 /teamspace/studios/this_studio/Cleaned_without_cucumber/test/images/9c02c389-6bdc-45d6-96ca-bce46283d2ab___GHLB2-Leaf-8660_JPG.rf.63dba92036a00d416b962356881012c2.jpg: 640x640 1 TomatoeLateBlight, 11.9ms\n",
      "image 612/726 /teamspace/studios/this_studio/Cleaned_without_cucumber/test/images/9c177d44-9a9a-42b3-8107-6ce88f258d28___JR_B-Spot-9043_JPG.rf.45d5601e33ca15874eb4cfa496bd7691.jpg: 640x640 1 PepperBellBacterialSpot, 10.1ms\n",
      "image 613/726 /teamspace/studios/this_studio/Cleaned_without_cucumber/test/images/9c922c85-b976-41ec-bc8a-65650a8a3f9a___Matt-S_CG-1504_JPG.rf.485897a8c385859dae9b41785fd8238b.jpg: 640x640 1 TomatoeSpiderMites, 9.9ms\n",
      "image 614/726 /teamspace/studios/this_studio/Cleaned_without_cucumber/test/images/9d10152c-26ee-453a-92db-33836cabdd4f___Keller-St_CG-1889_JPG.rf.a2b175a43eacd06728b27448d7bf2b4d.jpg: 640x640 1 TomatoeSpiderMites, 8.8ms\n",
      "image 615/726 /teamspace/studios/this_studio/Cleaned_without_cucumber/test/images/9d12ad8a-e252-48bc-bbeb-a198c1c9049b___Matt-S_CG-6367_JPG.rf.0436a0b35d0afe0ed79002b96ba6e667.jpg: 640x640 1 TomatoeSpiderMites, 8.5ms\n",
      "image 616/726 /teamspace/studios/this_studio/Cleaned_without_cucumber/test/images/9d66d62b-0bb3-414c-90b6-05f99cf7c341___JR_HL-8712_JPG.rf.187b91901608725d022a7c968fd293da.jpg: 640x640 1 PepperBellHealthy, 8.5ms\n",
      "image 617/726 /teamspace/studios/this_studio/Cleaned_without_cucumber/test/images/9d8d2581-16a2-4151-9434-8ab9df3f632b___Crnl_L-Mold-8737_JPG.rf.801186bac67afa9344ed34f4ca6a921d.jpg: 640x640 1 TomatoeLeafMold, 12.9ms\n",
      "image 618/726 /teamspace/studios/this_studio/Cleaned_without_cucumber/test/images/9d9c09bb-3998-4e4d-be42-ac5ff1742a74___Com-G_SpM_FL-8463_JPG.rf.0999c17c700a7bab4e3444286778d861.jpg: 640x640 1 TomatoeTargetSpot, 10.9ms\n",
      "image 619/726 /teamspace/studios/this_studio/Cleaned_without_cucumber/test/images/9e305064-4a83-45a7-be7b-d06c60cea4d2___Crnl_L-Mold-6658_JPG.rf.90f32a302180f937632638392e40d55b.jpg: 640x640 1 TomatoeLeafMold, 8.9ms\n",
      "image 620/726 /teamspace/studios/this_studio/Cleaned_without_cucumber/test/images/9e43d49b-abbe-4b9b-8566-42586a58a705___RS_HL-0462_JPG.rf.5a34e91c676aa340b9cdc1bf49734dad.jpg: 640x640 1 TomatoeHealthy, 8.5ms\n",
      "image 621/726 /teamspace/studios/this_studio/Cleaned_without_cucumber/test/images/9ec2ee25-8006-49f3-bde0-fb26f37a62f2___GCREC_Bact-Sp-3421_JPG.rf.4cce33303341dbe46b11dd1b8d3c6ab9.jpg: 640x640 1 TomatoeBacterialSpot, 8.5ms\n",
      "image 622/726 /teamspace/studios/this_studio/Cleaned_without_cucumber/test/images/9ed00c97-7867-4e6f-a274-f2bad77ecfaf___GH_HL-Leaf-515-1_JPG.rf.de5406e71a6a0bdc45b59e3098ed70b2.jpg: 640x640 1 TomatoeHealthy, 8.5ms\n",
      "image 623/726 /teamspace/studios/this_studio/Cleaned_without_cucumber/test/images/9ed81c17-da8d-453d-8277-b5babd50e74d___Com-G_SpM_FL-1273_JPG.rf.3783f96f8e1f3a1511b3779f931f66f5.jpg: 640x640 1 TomatoeTargetSpot, 15.6ms\n",
      "image 624/726 /teamspace/studios/this_studio/Cleaned_without_cucumber/test/images/9f25030c-39e2-4a62-a586-40e3c26f60bb___Crnl_L-Mold-6657_JPG.rf.9e6611b3c6f905b29146ce56bc085c94.jpg: 640x640 1 TomatoeLeafMold, 10.1ms\n",
      "image 625/726 /teamspace/studios/this_studio/Cleaned_without_cucumber/test/images/9f79bf03-7797-491c-98c8-e7fd2c49f435___RS_Late-B-5520_JPG.rf.b1ef2613ec67b05360c3716657af85e8.jpg: 640x640 1 TomatoeLateBlight, 8.6ms\n",
      "image 626/726 /teamspace/studios/this_studio/Cleaned_without_cucumber/test/images/9fc5d7ed-9906-479b-992f-13cf045a2e49___JR_HL-8001_JPG.rf.978d59cfc2d7af97f013629671f16ae2.jpg: 640x640 1 PepperBellHealthy, 8.4ms\n",
      "image 627/726 /teamspace/studios/this_studio/Cleaned_without_cucumber/test/images/a01006eb-885d-4882-87f3-5fe273f4b3cd___JR_HL-8696_JPG.rf.a8b6877a3a721f03a3af44cc49d4817b.jpg: 640x640 1 PepperBellHealthy, 8.4ms\n",
      "image 628/726 /teamspace/studios/this_studio/Cleaned_without_cucumber/test/images/a15291c3-e639-42d5-b22d-ed147c6453be___JR_B-Spot-3134_JPG.rf.9ede73a3b5896e3f4ddd2c06dceb586e.jpg: 640x640 1 PepperBellBacterialSpot, 9.5ms\n",
      "image 629/726 /teamspace/studios/this_studio/Cleaned_without_cucumber/test/images/a163c949-fc6a-4f51-94ea-18caf6930630___JR_B-Spot-3338_JPG.rf.c336b3a0968fedb386096cc3982aa2df.jpg: 640x640 1 PepperBellBacterialSpot, 12.1ms\n",
      "image 630/726 /teamspace/studios/this_studio/Cleaned_without_cucumber/test/images/a1e5160a-2a84-4b52-b765-4fbc507682a8___JR_B-Spot-3266_JPG.rf.1730748e688f9910e1775c8eb02f1d3f.jpg: 640x640 1 PepperBellBacterialSpot, 9.6ms\n",
      "image 631/726 /teamspace/studios/this_studio/Cleaned_without_cucumber/test/images/a1f59b7c-e4db-494f-a229-8ef66f4d842a___JR_HL-8477_JPG.rf.9d8134530b85ddba2ddb64d277990bea.jpg: 640x640 1 PepperBellHealthy, 8.7ms\n",
      "image 632/726 /teamspace/studios/this_studio/Cleaned_without_cucumber/test/images/a24c601d-1eb2-4a9b-ac22-30503b964349___NREC_B-Spot-1915_JPG.rf.7befc206733cf668c7d51b7be4311114.jpg: 640x640 1 PepperBellBacterialSpot, 8.5ms\n",
      "image 633/726 /teamspace/studios/this_studio/Cleaned_without_cucumber/test/images/a2fd33fc-3cd0-4724-9d77-afb84f5c95a4___JR_HL-8353_JPG.rf.48099ee33c35d4565da9b4df50c61be7.jpg: 640x640 1 PepperBellHealthy, 8.5ms\n",
      "image 634/726 /teamspace/studios/this_studio/Cleaned_without_cucumber/test/images/a3364e6c-34f8-4bcd-a9bf-c5644b89a60e___JR_B-Spot-8886_JPG.rf.3fa83dc6375d5bd4aba00b6a8fc5a141.jpg: 640x640 1 PepperBellBacterialSpot, 11.3ms\n",
      "image 635/726 /teamspace/studios/this_studio/Cleaned_without_cucumber/test/images/a47d3b9e-eda3-4de2-b8a9-f5505e28d309___JR_B-Spot-3118_JPG.rf.987532494fdfc8cc0d83746fb9b6e306.jpg: 640x640 1 PepperBellBacterialSpot, 12.9ms\n",
      "image 636/726 /teamspace/studios/this_studio/Cleaned_without_cucumber/test/images/a4c24951-a967-469c-8d14-0d2dc25cfc9d___JR_HL-5821_JPG.rf.0e390dd340689c716502d7d53bdefdfb.jpg: 640x640 1 PepperBellHealthy, 9.8ms\n",
      "image 637/726 /teamspace/studios/this_studio/Cleaned_without_cucumber/test/images/a53ba8f6-7a46-4d3b-b914-71c4d7d65f81___JR_HL-8314_JPG.rf.3ca888f4cbebb9d3025844e8e1cb3f4d.jpg: 640x640 1 PepperBellHealthy, 8.9ms\n",
      "image 638/726 /teamspace/studios/this_studio/Cleaned_without_cucumber/test/images/a580b949-8980-42cc-80dc-7dd33b0e5975___JR_HL-8487_JPG.rf.2f1dae3e9acfbf9bf125e49fd0de4f17.jpg: 640x640 1 PepperBellHealthy, 9.0ms\n",
      "image 639/726 /teamspace/studios/this_studio/Cleaned_without_cucumber/test/images/a58df0b5-76f7-4f63-957c-660ec21414b4___NREC_B-Spot-1943_JPG.rf.1798adc2118616758dd1cd399ebcb87e.jpg: 640x640 1 PepperBellBacterialSpot, 8.7ms\n",
      "image 640/726 /teamspace/studios/this_studio/Cleaned_without_cucumber/test/images/a605cb34-c2ee-4db0-a4dd-8d7ae492a494___JR_HL-7824_JPG.rf.73a957a4cc53680d6863159bdf6c3498.jpg: 640x640 1 PepperBellHealthy, 10.4ms\n",
      "image 641/726 /teamspace/studios/this_studio/Cleaned_without_cucumber/test/images/a72dbf23-65d1-40c6-a7bc-82caed00c6d3___JR_B-Spot-3333_JPG.rf.cf6e213fe2c9d1886e6d22df300d6b92.jpg: 640x640 1 PepperBellBacterialSpot, 11.2ms\n",
      "image 642/726 /teamspace/studios/this_studio/Cleaned_without_cucumber/test/images/a7427b19-b68c-4ca9-b175-6fca8174c4b0___JR_HL-8142_JPG.rf.1fe11728a9b99724843c08be5ef877b0.jpg: 640x640 1 PepperBellHealthy, 9.6ms\n",
      "image 643/726 /teamspace/studios/this_studio/Cleaned_without_cucumber/test/images/aac28257-984b-4663-b70b-0301cda09128___JR_HL-8184_JPG.rf.7b5afa6b41af479f5fe6798fa67ce9a6.jpg: 640x640 1 PepperBellHealthy, 9.0ms\n",
      "image 644/726 /teamspace/studios/this_studio/Cleaned_without_cucumber/test/images/aad5f483-16a2-4208-ab0b-00bd4df4a03b___JR_B-Spot-3326_JPG.rf.4f879e4c3789e1e02bd207c42411c0e3.jpg: 640x640 1 PepperBellBacterialSpot, 8.7ms\n",
      "image 645/726 /teamspace/studios/this_studio/Cleaned_without_cucumber/test/images/abc2d827-8c14-4a55-90d0-101d05624c5d___JR_HL-7839_JPG.rf.4823008cb918da80c537d9bf08946563.jpg: 640x640 1 PepperBellHealthy, 8.6ms\n",
      "image 646/726 /teamspace/studios/this_studio/Cleaned_without_cucumber/test/images/ac4d5f77-f965-4118-9608-3a2879d36f56___JR_B-Spot-3296_JPG.rf.2377123e3d639264b591544e67f5da5e.jpg: 640x640 1 PepperBellBacterialSpot, 12.4ms\n",
      "image 647/726 /teamspace/studios/this_studio/Cleaned_without_cucumber/test/images/acfdebad-66f9-4f9d-b302-55fd79345b2a___JR_HL-8672_JPG.rf.cbb71595a1136dd5334793ab4c5b7d4b.jpg: 640x640 1 PepperBellHealthy, 13.5ms\n",
      "image 648/726 /teamspace/studios/this_studio/Cleaned_without_cucumber/test/images/ad91f8c2-0505-4b62-8395-370d3ae23c68___NREC_B-Spot-9071_JPG.rf.a7211bdeab9e62f60d2c16f746d2f5d4.jpg: 640x640 1 PepperBellBacterialSpot, 9.4ms\n",
      "image 649/726 /teamspace/studios/this_studio/Cleaned_without_cucumber/test/images/ada9a8bc-c0a4-4adb-bedd-a6c6a5138ff0___JR_HL-5900_JPG.rf.30cb865e39662dcb362eb1dcd81e4eaa.jpg: 640x640 1 PepperBellHealthy, 8.8ms\n",
      "image 650/726 /teamspace/studios/this_studio/Cleaned_without_cucumber/test/images/ae172a8d-9d33-453e-b219-a300516bc06e___JR_HL-8313_JPG.rf.02760529ec2c3d3b4b8841c657808655.jpg: 640x640 1 PepperBellHealthy, 8.7ms\n",
      "image 651/726 /teamspace/studios/this_studio/Cleaned_without_cucumber/test/images/ae645b07-4c93-45d7-9ee6-83cbf1201e8b___NREC_B-Spot-9119_JPG.rf.ec7805edc144978fde3024a6a2045ef0.jpg: 640x640 1 PepperBellBacterialSpot, 10.4ms\n",
      "image 652/726 /teamspace/studios/this_studio/Cleaned_without_cucumber/test/images/b0ad5e4c-522c-4215-897e-39fec504c1a6___JR_B-Spot-8840_JPG.rf.5896065bd3c569a0e7547400eff22386.jpg: 640x640 1 PepperBellBacterialSpot, 14.3ms\n",
      "image 653/726 /teamspace/studios/this_studio/Cleaned_without_cucumber/test/images/b143a281-5395-4a2a-8308-f6b23a476505___JR_B-Spot-8854_JPG.rf.ece1eb8f0c20728cf421e03202ab3401.jpg: 640x640 1 PepperBellBacterialSpot, 10.0ms\n",
      "image 654/726 /teamspace/studios/this_studio/Cleaned_without_cucumber/test/images/b2df85c5-719c-4a97-aad5-51b3636edb91___NREC_B-Spot-9150_JPG.rf.f9e675451538b058a4ebffe849b8b728.jpg: 640x640 1 PepperBellBacterialSpot, 9.4ms\n",
      "image 655/726 /teamspace/studios/this_studio/Cleaned_without_cucumber/test/images/b5d5a42e-5d4f-4429-8923-aee42e0a0c5d___NREC_B-Spot-9189_JPG.rf.7a425b3c73b05abfd34f67e81c8416f7.jpg: 640x640 1 PepperBellBacterialSpot, 11.2ms\n",
      "image 656/726 /teamspace/studios/this_studio/Cleaned_without_cucumber/test/images/b6843d4e-85a6-4e1f-97a9-e892720406fe___JR_B-Spot-8974_JPG.rf.0b0185c296e969a4d7a97ff852579436.jpg: 640x640 1 PepperBellBacterialSpot, 10.1ms\n",
      "image 657/726 /teamspace/studios/this_studio/Cleaned_without_cucumber/test/images/b8ef1c18-2390-42d5-8b62-47ddca728b87___JR_HL-8753_JPG.rf.bc1e91fb5d9cdcdd953372d3f98b9cd8.jpg: 640x640 1 PepperBellHealthy, 12.7ms\n",
      "image 658/726 /teamspace/studios/this_studio/Cleaned_without_cucumber/test/images/ba527e73-8be2-4c53-9e5b-cafeab987bba___JR_HL-8037_JPG.rf.3ab9b717ff52ce841fb69eba6b80e4e2.jpg: 640x640 1 PepperBellHealthy, 10.9ms\n",
      "image 659/726 /teamspace/studios/this_studio/Cleaned_without_cucumber/test/images/baa2dfb9-ff6a-4f84-9036-243000982301___NREC_B-Spot-1880_JPG.rf.12daf212a2046c2e2d3b769104d41229.jpg: 640x640 1 PepperBellBacterialSpot, 9.3ms\n",
      "image 660/726 /teamspace/studios/this_studio/Cleaned_without_cucumber/test/images/bc26417b-5859-42cb-9d6a-4b96f3dfa9f9___JR_HL-8176_JPG.rf.7d740e2d06a2d7b6e2a6817b88a7cdff.jpg: 640x640 1 PepperBellHealthy, 8.7ms\n",
      "image 661/726 /teamspace/studios/this_studio/Cleaned_without_cucumber/test/images/bcf56f7d-d584-4fed-b42e-5cbf3b8707b7___JR_B-Spot-3197_JPG.rf.297ef4ab3dfbd83bb2e500640567f052.jpg: 640x640 1 PepperBellBacterialSpot, 8.7ms\n",
      "image 662/726 /teamspace/studios/this_studio/Cleaned_without_cucumber/test/images/bd73664d-d81e-426a-b25e-569c85869308___JR_HL-7638_JPG.rf.1f8a162e7b5d1ff89ada58597947b15d.jpg: 640x640 1 PepperBellHealthy, 11.9ms\n",
      "image 663/726 /teamspace/studios/this_studio/Cleaned_without_cucumber/test/images/bdb598d7-7b7a-45cb-921a-f37cf7105006___NREC_B-Spot-1908_JPG.rf.bd70aa2c0a8e0f35aea0b9ceaf40efa0.jpg: 640x640 1 PepperBellBacterialSpot, 9.9ms\n",
      "image 664/726 /teamspace/studios/this_studio/Cleaned_without_cucumber/test/images/bdd0091e-a52a-4a80-8676-526c4fe75433___JR_HL-8718_JPG.rf.8de494c83ece0b24d8ce40281b746e25.jpg: 640x640 1 PepperBellHealthy, 11.5ms\n",
      "image 665/726 /teamspace/studios/this_studio/Cleaned_without_cucumber/test/images/bde95d13-80fa-4993-a13e-6ca4f7f1c9ef___JR_B-Spot-8867_JPG.rf.7797ab17d4f1286b3d7d1c5c71635e41.jpg: 640x640 1 PepperBellBacterialSpot, 9.1ms\n",
      "image 666/726 /teamspace/studios/this_studio/Cleaned_without_cucumber/test/images/be7c775f-b1d7-4a56-b815-afac3d69bd9e___JR_HL-7818_JPG.rf.2f923432bedb080e31b9a691a1f417ba.jpg: 640x640 1 PepperBellHealthy, 8.7ms\n",
      "image 667/726 /teamspace/studios/this_studio/Cleaned_without_cucumber/test/images/c013ccc6-b716-4945-b256-ca39c5e9a201___JR_HL-8842_JPG.rf.d468521914eb6bd005dae11453590235.jpg: 640x640 1 PepperBellHealthy, 8.6ms\n",
      "image 668/726 /teamspace/studios/this_studio/Cleaned_without_cucumber/test/images/c02c082f-9827-4362-be48-e34c12c9d084___JR_HL-8334_JPG.rf.b4af903fcf85ef9e058abc261e98e2d4.jpg: 640x640 1 PepperBellHealthy, 13.4ms\n",
      "image 669/726 /teamspace/studios/this_studio/Cleaned_without_cucumber/test/images/c02e2bda-f235-4538-b630-7af68169c8be___JR_HL-8388_JPG.rf.2627f23de32856433d86653fcb2cc29d.jpg: 640x640 1 PepperBellHealthy, 10.5ms\n",
      "image 670/726 /teamspace/studios/this_studio/Cleaned_without_cucumber/test/images/c0f45b4c-fd37-4555-8e2f-4ab0f2622e6c___JR_HL-8546_JPG.rf.9b67e988b28ad12b9f4313e914db9582.jpg: 640x640 1 PepperBellHealthy, 9.5ms\n",
      "image 671/726 /teamspace/studios/this_studio/Cleaned_without_cucumber/test/images/c2bb8562-98b3-4364-87c6-39c80e3d5219___JR_HL-8185_JPG.rf.6f09418c3c07451a4f757b7852d300f4.jpg: 640x640 1 PepperBellHealthy, 9.0ms\n",
      "image 672/726 /teamspace/studios/this_studio/Cleaned_without_cucumber/test/images/c45e7f1e-c3cf-4615-ae58-2c7c9e69b37b___JR_HL-7970_JPG.rf.e78186d94cf5c98859a9b99e3beabc75.jpg: 640x640 1 PepperBellHealthy, 8.8ms\n",
      "image 673/726 /teamspace/studios/this_studio/Cleaned_without_cucumber/test/images/c58bfb5a-ed87-4ff7-85f6-b262cd2e77fc___JR_B-Spot-3224_JPG.rf.e0ee6017906b4a88e482ba16ed4ab9b2.jpg: 640x640 1 PepperBellBacterialSpot, 8.7ms\n",
      "image 674/726 /teamspace/studios/this_studio/Cleaned_without_cucumber/test/images/c84c6a2f-a674-4675-901c-84723b014de1___JR_HL-7788_JPG.rf.711446235f5a9472c8d2255fbd992ecd.jpg: 640x640 1 PepperBellHealthy, 13.2ms\n",
      "image 675/726 /teamspace/studios/this_studio/Cleaned_without_cucumber/test/images/ca1cc01b-2a40-4d7a-994c-307c8e82e745___JR_HL-8392_JPG.rf.be07be4d6a8909dda061e795be2de242.jpg: 640x640 1 PepperBellHealthy, 11.0ms\n",
      "image 676/726 /teamspace/studios/this_studio/Cleaned_without_cucumber/test/images/cb1e200a-8358-4f5a-a4a8-714edcc7df01___JR_HL-8123_JPG.rf.ac2310e447ca18884da742c8effcbfb5.jpg: 640x640 1 PepperBellHealthy, 9.6ms\n",
      "image 677/726 /teamspace/studios/this_studio/Cleaned_without_cucumber/test/images/ccf9bac1-454d-4e0e-b109-7236f285d8a2___JR_HL-8834_JPG.rf.0b747c1068a5054ae54c14890a461607.jpg: 640x640 1 PepperBellHealthy, 8.8ms\n",
      "image 678/726 /teamspace/studios/this_studio/Cleaned_without_cucumber/test/images/cebc8525-5beb-45d4-b42b-2e3b3f4fa59e___JR_HL-7673_JPG.rf.b13526a77a3d8de8eb86ceaba9a39183.jpg: 640x640 1 PepperBellHealthy, 8.7ms\n",
      "image 679/726 /teamspace/studios/this_studio/Cleaned_without_cucumber/test/images/cf99fb0b-98c4-442a-aa0f-dfaab6398e52___JR_B-Spot-3166_JPG.rf.e00afb27e168812637a6c49e41afcd5a.jpg: 640x640 1 PepperBellBacterialSpot, 9.5ms\n",
      "image 680/726 /teamspace/studios/this_studio/Cleaned_without_cucumber/test/images/cfdcaf03-185a-4d36-9bd6-3256171b7c75___JR_HL-7667_JPG.rf.ae3dc42d1a748f4964cba225e1bda773.jpg: 640x640 1 PepperBellHealthy, 10.5ms\n",
      "image 681/726 /teamspace/studios/this_studio/Cleaned_without_cucumber/test/images/d0bce877-53bf-4be0-b05d-6f403c5d4504___JR_HL-8838_JPG.rf.ab3f96dbd14aa9fba3d012fd8fff0ed5.jpg: 640x640 1 PepperBellHealthy, 10.4ms\n",
      "image 682/726 /teamspace/studios/this_studio/Cleaned_without_cucumber/test/images/d2fed0c2-a307-4390-b7a8-47fabfcf3590___JR_HL-8296_JPG.rf.03fec8c9acdcb0ff7e4b1b9e2350a987.jpg: 640x640 1 PepperBellHealthy, 9.3ms\n",
      "image 683/726 /teamspace/studios/this_studio/Cleaned_without_cucumber/test/images/d301e0ad-26ae-424e-ace7-d38996e15660___JR_B-Spot-8932_JPG.rf.09d5a94a621793328c58fe54fe3c513f.jpg: 640x640 1 PepperBellBacterialSpot, 8.7ms\n",
      "image 684/726 /teamspace/studios/this_studio/Cleaned_without_cucumber/test/images/d368d083-8244-490d-8220-7f3327e57e74___JR_HL-8624_JPG.rf.2ce731f540c1f44fb1ab765b8020b670.jpg: 640x640 1 PepperBellHealthy, 8.8ms\n",
      "image 685/726 /teamspace/studios/this_studio/Cleaned_without_cucumber/test/images/d46517ef-7359-469f-9dd3-c8669c6cd889___NREC_B-Spot-1902_JPG.rf.dae3ce9459221f16036909527569e5c4.jpg: 640x640 1 PepperBellBacterialSpot, 11.3ms\n",
      "image 686/726 /teamspace/studios/this_studio/Cleaned_without_cucumber/test/images/d4b0bcdd-7d56-4a4c-99f1-a4383bdda089___JR_HL-7557_JPG.rf.740fc933719bd4e0975543ab0e4abdb5.jpg: 640x640 1 PepperBellHealthy, 10.0ms\n",
      "image 687/726 /teamspace/studios/this_studio/Cleaned_without_cucumber/test/images/d81a234b-5eb3-42e3-b998-a7fb261178be___JR_HL-8007_JPG.rf.9e7d3ca09be0a978e2beb315858797e3.jpg: 640x640 1 PepperBellHealthy, 9.8ms\n",
      "image 688/726 /teamspace/studios/this_studio/Cleaned_without_cucumber/test/images/d890ffc6-e6c8-4ef6-bde4-980cf0a465e1___JR_B-Spot-8945_JPG.rf.d82d73773922468bd6b1b864f130b8ad.jpg: 640x640 1 PepperBellBacterialSpot, 9.0ms\n",
      "image 689/726 /teamspace/studios/this_studio/Cleaned_without_cucumber/test/images/d91c3b56-5777-46cb-bda2-1fca87e5cd82___JR_HL-8339_JPG.rf.3a4211ff311faf1e4069b80633b88307.jpg: 640x640 1 PepperBellHealthy, 8.7ms\n",
      "image 690/726 /teamspace/studios/this_studio/Cleaned_without_cucumber/test/images/d981e524-b82f-4e06-911f-01964192e36f___JR_HL-5914_JPG.rf.1accca8ca540549e4af72087aea7d8be.jpg: 640x640 1 PepperBellHealthy, 8.6ms\n",
      "image 691/726 /teamspace/studios/this_studio/Cleaned_without_cucumber/test/images/d9aa27e5-d9ea-4a43-80c5-add00101706f___JR_B-Spot-8893_JPG.rf.8be2e34ab4a352a182d37931ce216cac.jpg: 640x640 1 PepperBellBacterialSpot, 12.4ms\n",
      "image 692/726 /teamspace/studios/this_studio/Cleaned_without_cucumber/test/images/d9bc75ea-cbc2-4677-b8f8-8b7181c8292c___JR_B-Spot-8923_JPG.rf.4d9c16455a5d212a9f731117e34cc414.jpg: 640x640 1 PepperBellBacterialSpot, 11.3ms\n",
      "image 693/726 /teamspace/studios/this_studio/Cleaned_without_cucumber/test/images/da6be4a5-51ff-4bea-894e-9c5d1d3f699d___JR_HL-8205_JPG.rf.8e38944b0814f36fed4c55f5cb60c411.jpg: 640x640 1 PepperBellHealthy, 9.9ms\n",
      "image 694/726 /teamspace/studios/this_studio/Cleaned_without_cucumber/test/images/da84d53c-1306-4823-99b5-abfe3e184b7f___JR_HL-7691_JPG.rf.80b257d19281a2e8afd857a0fc7354ce.jpg: 640x640 1 PepperBellHealthy, 9.1ms\n",
      "image 695/726 /teamspace/studios/this_studio/Cleaned_without_cucumber/test/images/dab1cfaf-544d-48e0-bfe7-368d65761902___JR_B-Spot-8904_JPG.rf.262117ce63ec52f713f49bbe0e4a963e.jpg: 640x640 1 PepperBellBacterialSpot, 8.9ms\n",
      "image 696/726 /teamspace/studios/this_studio/Cleaned_without_cucumber/test/images/db858b36-753d-4f62-903b-07cbc2f59b15___JR_HL-8522_JPG.rf.77194fb269a93eff23cb5795aecb002a.jpg: 640x640 1 PepperBellHealthy, 8.7ms\n",
      "image 697/726 /teamspace/studios/this_studio/Cleaned_without_cucumber/test/images/dd7055a8-fe9e-4cc3-9b5f-79cc32e2f73d___JR_HL-8752_JPG.rf.38a12ca27c0b7142153254ff3166a0c7.jpg: 640x640 1 PepperBellHealthy, 10.2ms\n",
      "image 698/726 /teamspace/studios/this_studio/Cleaned_without_cucumber/test/images/dde55e95-3794-4046-aefd-685d2e8dafc9___JR_HL-8602_JPG.rf.870015a1f0fba83dfe812951c4ea7115.jpg: 640x640 1 PepperBellHealthy, 12.7ms\n",
      "image 699/726 /teamspace/studios/this_studio/Cleaned_without_cucumber/test/images/ddf09dc7-034d-45c1-9a55-c8e09f87e5ed___JR_HL-8416_JPG.rf.887de6d1c93420fd00e2f497170e2466.jpg: 640x640 1 PepperBellHealthy, 9.6ms\n",
      "image 700/726 /teamspace/studios/this_studio/Cleaned_without_cucumber/test/images/debfee6b-a167-480c-88dc-2b02279d7e93___JR_B-Spot-3158_JPG.rf.63a3a523f91fbaeb57c085e1ed2c2c95.jpg: 640x640 1 PepperBellBacterialSpot, 8.9ms\n",
      "image 701/726 /teamspace/studios/this_studio/Cleaned_without_cucumber/test/images/e05d9bf6-8d96-4fb5-8ea4-b9bab9e9bb8f___JR_B-Spot-3142_JPG.rf.ef9047415f7e1a904ef88c551dc9f97f.jpg: 640x640 1 PepperBellBacterialSpot, 9.1ms\n",
      "image 702/726 /teamspace/studios/this_studio/Cleaned_without_cucumber/test/images/e0b8d24b-c115-49d8-8e87-67f35681d181___JR_B-Spot-8877_JPG.rf.272142708a54314eace59d1e98a850f1.jpg: 640x640 1 PepperBellBacterialSpot, 10.5ms\n",
      "image 703/726 /teamspace/studios/this_studio/Cleaned_without_cucumber/test/images/e184272e-73aa-4b9c-a03b-1597c761de1f___JR_B-Spot-8938_JPG.rf.5399fa5f6df4838dad94a325d9a03b83.jpg: 640x640 1 PepperBellBacterialSpot, 12.6ms\n",
      "image 704/726 /teamspace/studios/this_studio/Cleaned_without_cucumber/test/images/e26d8f48-59aa-4261-ba5a-a4461ebba8d2___JR_B-Spot-3222_JPG.rf.3f017d3d2c5886b0e0b3a4b6fad47898.jpg: 640x640 1 PepperBellBacterialSpot, 13.7ms\n",
      "image 705/726 /teamspace/studios/this_studio/Cleaned_without_cucumber/test/images/e2895bd7-f8f5-46ea-86b1-d90fe9bc0800___JR_HL-8254_JPG.rf.0ebf107f8a916f521fbb63e10132d1f7.jpg: 640x640 1 PepperBellHealthy, 9.5ms\n",
      "image 706/726 /teamspace/studios/this_studio/Cleaned_without_cucumber/test/images/e2a0eacf-17a9-4bab-8d4d-fc0f3d1f6e87___JR_HL-8179_JPG.rf.6c131636625efb2c336edf260d592d64.jpg: 640x640 1 PepperBellHealthy, 9.6ms\n",
      "image 707/726 /teamspace/studios/this_studio/Cleaned_without_cucumber/test/images/e2aeb321-f217-43d9-bd13-d109949601d5___JR_HL-8548_JPG.rf.bf2333f37402bc09da0b7e1a679084ef.jpg: 640x640 1 PepperBellHealthy, 11.1ms\n",
      "image 708/726 /teamspace/studios/this_studio/Cleaned_without_cucumber/test/images/e3762d61-1481-4161-9577-bbbd69742711___JR_HL-8660_JPG.rf.6ea5db6eecca9134218493d971c49e1b.jpg: 640x640 1 PepperBellHealthy, 11.0ms\n",
      "image 709/726 /teamspace/studios/this_studio/Cleaned_without_cucumber/test/images/e4de6759-866e-4e6d-bd39-c3d5ccb76300___JR_B-Spot-3251_JPG.rf.4f026fe60117fe2294c2fed868d95410.jpg: 640x640 1 PepperBellBacterialSpot, 11.0ms\n",
      "image 710/726 /teamspace/studios/this_studio/Cleaned_without_cucumber/test/images/e64cc93e-5968-4cec-9ded-9dd9c0ae4ae1___JR_HL-8518_JPG.rf.f27b90abec641542613f48f018edf7db.jpg: 640x640 1 PepperBellHealthy, 9.0ms\n",
      "image 711/726 /teamspace/studios/this_studio/Cleaned_without_cucumber/test/images/e67a8a4a-e383-4eee-95e8-22443071ed6d___JR_B-Spot-9057_JPG.rf.127437dc814f6ab6f832341a2439255f.jpg: 640x640 1 PepperBellBacterialSpot, 8.8ms\n",
      "image 712/726 /teamspace/studios/this_studio/Cleaned_without_cucumber/test/images/e71b39c4-8007-46c0-a925-adaf30e71fd1___JR_B-Spot-9054_JPG.rf.af8346a89d44b5df08eb3adfa4063a4f.jpg: 640x640 1 PepperBellBacterialSpot, 8.6ms\n",
      "image 713/726 /teamspace/studios/this_studio/Cleaned_without_cucumber/test/images/e82b5cb6-796c-45cb-a2a7-89bf723ecb8a___NREC_B-Spot-1854_JPG.rf.97d8375883ed44d76579c008262aef31.jpg: 640x640 1 PepperBellBacterialSpot, 12.2ms\n",
      "image 714/726 /teamspace/studios/this_studio/Cleaned_without_cucumber/test/images/e82c0356-bcb1-4d19-9ce2-a9b9bf9ccb16___JR_HL-8668_JPG.rf.0c14ffcc6d7a9c3f4399cd50bec2f0c5.jpg: 640x640 1 PepperBellHealthy, 13.0ms\n",
      "image 715/726 /teamspace/studios/this_studio/Cleaned_without_cucumber/test/images/e8fc71b3-6ab8-4ca7-93c8-89fdc03ec004___JR_B-Spot-8990_JPG.rf.38483e398d90757306d1b17fd8fb7fb1.jpg: 640x640 1 PepperBellBacterialSpot, 9.4ms\n",
      "image 716/726 /teamspace/studios/this_studio/Cleaned_without_cucumber/test/images/e90ac690-4fbd-4ded-94f2-af7373479164___JR_B-Spot-8931_JPG.rf.65fd7889bfa42d663ae7404a7c809aae.jpg: 640x640 1 PepperBellBacterialSpot, 8.6ms\n",
      "image 717/726 /teamspace/studios/this_studio/Cleaned_without_cucumber/test/images/ea460c0a-532e-492b-93fa-5b9b936c7506___NREC_B-Spot-1810_JPG.rf.85b56f8f7b87944cc76b139cf59bc050.jpg: 640x640 1 PepperBellBacterialSpot, 8.5ms\n",
      "image 718/726 /teamspace/studios/this_studio/Cleaned_without_cucumber/test/images/eac1d76c-1faf-4abb-b3f6-a4b2fff350d2___JR_B-Spot-3119_JPG.rf.5315cecf9e1117d23242c7c8122a4169.jpg: 640x640 1 PepperBellBacterialSpot, 8.4ms\n",
      "image 719/726 /teamspace/studios/this_studio/Cleaned_without_cucumber/test/images/eaff2763-f80a-495c-b4b8-15ad0fdbe3bb___JR_HL-8100_JPG.rf.184c4e77d4dbfd1f2b60cd734b13ff1b.jpg: 640x640 1 PepperBellHealthy, 9.8ms\n",
      "image 720/726 /teamspace/studios/this_studio/Cleaned_without_cucumber/test/images/ef02f719-ca79-481f-9429-365fa1685a80___JR_B-Spot-9056_JPG.rf.f7811d47f7f89208c01bde584a76fea8.jpg: 640x640 1 PepperBellBacterialSpot, 13.8ms\n",
      "image 721/726 /teamspace/studios/this_studio/Cleaned_without_cucumber/test/images/f231ad19-e0c1-4ddc-9b8c-5415d2be9acd___NREC_B-Spot-9099_JPG.rf.e6c71489b96a87ebea32bed411acfc86.jpg: 640x640 1 PepperBellBacterialSpot, 9.7ms\n",
      "image 722/726 /teamspace/studios/this_studio/Cleaned_without_cucumber/test/images/f3fe3173-1b59-404a-b986-133e847f2090___NREC_B-Spot-9054_JPG.rf.ac8a3e3ca60e8e82dc43a8ed4fb0f249.jpg: 640x640 1 PepperBellBacterialSpot, 9.7ms\n",
      "image 723/726 /teamspace/studios/this_studio/Cleaned_without_cucumber/test/images/f69531dd-6acc-4af1-afb1-b6970e153b6a___NREC_B-Spot-9248_JPG.rf.75c63726985b031116d05135c6ff361c.jpg: 640x640 1 PepperBellBacterialSpot, 8.7ms\n",
      "image 724/726 /teamspace/studios/this_studio/Cleaned_without_cucumber/test/images/fa1c19f6-4e9e-4452-ad0d-99f65d5c9909___NREC_B-Spot-1960_JPG.rf.f1f7b7952a5212d12429311e1b7aee52.jpg: 640x640 1 PepperBellBacterialSpot, 8.7ms\n",
      "image 725/726 /teamspace/studios/this_studio/Cleaned_without_cucumber/test/images/fb3f399e-bc2f-418e-8b4e-a834b9f40c1b___JR_B-Spot-9097_JPG.rf.80928a373282af377444d4d4739c7f0c.jpg: 640x640 1 PepperBellBacterialSpot, 15.0ms\n",
      "image 726/726 /teamspace/studios/this_studio/Cleaned_without_cucumber/test/images/ff81e22a-09bf-49bd-b45a-c75606cd113b___NREC_B-Spot-1811_JPG.rf.4961637acdb8f68f7e9eb909d4a04f34.jpg: 640x640 1 PepperBellBacterialSpot, 9.6ms\n",
      "Speed: 1.4ms preprocess, 10.0ms inference, 1.0ms postprocess per image at shape (1, 3, 640, 640)\n",
      "Results saved to \u001b[1mruns/detect/predict1\u001b[0m\n"
     ]
    }
   ],
   "source": [
    "\n",
    "# Perform detection on the test images\n",
    "test_results = best_model.predict(source=\"/teamspace/studios/this_studio/Cleaned_without_cucumber/test/images\",save=True,\n",
    "    project=\"runs/detect\",\n",
    "    name=\"predict1\")"
   ]
  }
 ],
 "metadata": {
  "language_info": {
   "name": "python"
  }
 },
 "nbformat": 4,
 "nbformat_minor": 2
}
